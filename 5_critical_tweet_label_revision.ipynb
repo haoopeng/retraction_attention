{
 "cells": [
  {
   "cell_type": "code",
   "execution_count": 320,
   "metadata": {},
   "outputs": [],
   "source": [
    "import re\n",
    "import sys\n",
    "import math\n",
    "import time\n",
    "import json\n",
    "import csv\n",
    "import pickle\n",
    "import random\n",
    "import requests\n",
    "import pprint\n",
    "import numpy as np\n",
    "import pandas as pd\n",
    "import datetime as dt\n",
    "import string\n",
    "from itertools import combinations\n",
    "from sklearn.metrics import cohen_kappa_score\n",
    "from sklearn.metrics import confusion_matrix\n",
    "from langdetect import detect\n",
    "from datetime import datetime\n",
    "from sklearn import metrics\n",
    "import scipy.stats as stat\n",
    "import matplotlib.pyplot as plt\n",
    "import matplotlib.ticker as mtick\n",
    "import matplotlib.dates as mdates\n",
    "from scipy.stats import chisquare, ttest_ind\n",
    "from matplotlib.dates import DateFormatter\n",
    "from collections import defaultdict, Counter"
   ]
  },
  {
   "cell_type": "code",
   "execution_count": 321,
   "metadata": {},
   "outputs": [],
   "source": [
    "pd.set_option('mode.chained_assignment', None)\n",
    "pd.set_option('display.max_columns', None)"
   ]
  },
  {
   "cell_type": "code",
   "execution_count": 322,
   "metadata": {},
   "outputs": [],
   "source": [
    "data_root = '/home/haopeng/Data/Retraction/'\n",
    "altmetric_start_date = datetime.strptime('2011-06-10', '%Y-%m-%d')\n",
    "altmetric_end_date = datetime.strptime('2019-10-08', '%Y-%m-%d')\n",
    "CIs = {'90': 1.645, '95': 1.96, '99': 2.576}\n",
    "day = 24*3600"
   ]
  },
  {
   "cell_type": "code",
   "execution_count": 323,
   "metadata": {},
   "outputs": [],
   "source": [
    "blog_df = pd.read_csv(data_root + 'blog_mentions_correction.csv', header = 0)\n",
    "blog_set = set(blog_df.loc[~blog_df.maybe_news.isnull(), 'blog_name'])\n",
    "\n",
    "def correct_blogs(data, error_blogs):\n",
    "    for xid, paper in data.items():\n",
    "        if 'blogs' in paper['posts']:\n",
    "            blogs_li = paper['posts']['blogs']\n",
    "            news_li = []\n",
    "            if 'news' in paper['posts']:\n",
    "                news_li = paper['posts']['news']\n",
    "            blogs_li_new = []\n",
    "            for item in blogs_li:\n",
    "                try:\n",
    "                    if item['author']['name'] in error_blogs:\n",
    "                        news_li.append(item)\n",
    "                    else:\n",
    "                        blogs_li_new.append(item)\n",
    "                except:\n",
    "                    pass\n",
    "            paper['posts']['news'] = news_li\n",
    "            paper['posts']['blogs'] = blogs_li_new\n",
    "    return data"
   ]
  },
  {
   "cell_type": "markdown",
   "metadata": {},
   "source": [
    "### Load Alt data"
   ]
  },
  {
   "cell_type": "code",
   "execution_count": 324,
   "metadata": {},
   "outputs": [],
   "source": [
    "doi_alt_data = {}\n",
    "\n",
    "with open(data_root+\"retraction_altmetric.json\", 'r') as ffile:\n",
    "    for row in ffile:\n",
    "        record = json.loads(row)\n",
    "        doi = record['citation']['doi'].lower()\n",
    "        doi_alt_data[doi] = record\n",
    "\n",
    "doi_alt_data = correct_blogs(doi_alt_data, blog_set)"
   ]
  },
  {
   "cell_type": "code",
   "execution_count": 325,
   "metadata": {
    "scrolled": false
   },
   "outputs": [
    {
     "data": {
      "text/plain": [
       "6838"
      ]
     },
     "execution_count": 325,
     "metadata": {},
     "output_type": "execute_result"
    }
   ],
   "source": [
    "len(doi_alt_data)"
   ]
  },
  {
   "cell_type": "code",
   "execution_count": 326,
   "metadata": {},
   "outputs": [],
   "source": [
    "# many retracted papers have missing values on author/affil rank, thus no matches.\n",
    "doi_control_aids ={}\n",
    "\n",
    "with open(data_root+\"revision/doi_control_alt_ids_revision_v6.json\", 'r') as ffile:\n",
    "    for line in ffile:\n",
    "        line = json.loads(line)\n",
    "        doi_control_aids[line['doi']] = [str(x) for x in line['alt_ids']]"
   ]
  },
  {
   "cell_type": "code",
   "execution_count": 327,
   "metadata": {
    "scrolled": true
   },
   "outputs": [
    {
     "data": {
      "text/plain": [
       "3851"
      ]
     },
     "execution_count": 327,
     "metadata": {},
     "output_type": "execute_result"
    }
   ],
   "source": [
    "len(doi_control_aids)"
   ]
  },
  {
   "cell_type": "code",
   "execution_count": 328,
   "metadata": {},
   "outputs": [],
   "source": [
    "with open(data_root+'df_retract_clean.pickle', 'rb') as file:\n",
    "    retract_df = pickle.load(file)"
   ]
  },
  {
   "cell_type": "code",
   "execution_count": 329,
   "metadata": {
    "scrolled": true
   },
   "outputs": [
    {
     "data": {
      "text/plain": [
       "6680"
      ]
     },
     "execution_count": 329,
     "metadata": {},
     "output_type": "execute_result"
    }
   ],
   "source": [
    "len(retract_df)"
   ]
  },
  {
   "cell_type": "markdown",
   "metadata": {},
   "source": [
    "### Exclude papers before Alt launch date"
   ]
  },
  {
   "cell_type": "code",
   "execution_count": 330,
   "metadata": {
    "scrolled": true
   },
   "outputs": [],
   "source": [
    "retract_df = retract_df.loc[retract_df.pub_date_corrected.apply(lambda dttt: (dttt-altmetric_start_date).total_seconds() > 0)]\n",
    "retract_df.index = range(len(retract_df))"
   ]
  },
  {
   "cell_type": "code",
   "execution_count": 331,
   "metadata": {
    "scrolled": true
   },
   "outputs": [
    {
     "data": {
      "text/plain": [
       "4167"
      ]
     },
     "execution_count": 331,
     "metadata": {},
     "output_type": "execute_result"
    }
   ],
   "source": [
    "len(retract_df)"
   ]
  },
  {
   "cell_type": "code",
   "execution_count": 332,
   "metadata": {},
   "outputs": [],
   "source": [
    "retract_df = retract_df.loc[retract_df.OriginalPaperDOI.isin(doi_control_aids)]\n",
    "retract_df.index = range(len(retract_df))"
   ]
  },
  {
   "cell_type": "code",
   "execution_count": 333,
   "metadata": {
    "scrolled": true
   },
   "outputs": [
    {
     "data": {
      "text/plain": [
       "3659"
      ]
     },
     "execution_count": 333,
     "metadata": {},
     "output_type": "execute_result"
    }
   ],
   "source": [
    "len(retract_df)"
   ]
  },
  {
   "cell_type": "code",
   "execution_count": 334,
   "metadata": {},
   "outputs": [],
   "source": [
    "doi_ret_date = dict(zip(retract_df['OriginalPaperDOI'], retract_df['RetractionDate']))"
   ]
  },
  {
   "cell_type": "code",
   "execution_count": 335,
   "metadata": {},
   "outputs": [],
   "source": [
    "altid_data = {}\n",
    "\n",
    "with open(data_root+\"revision/control_alt_papers_revision_v6.json\", 'r') as ffile:\n",
    "    for row in ffile:\n",
    "        paper = json.loads(row)\n",
    "        altid = str(paper['altmetric_id'])\n",
    "        altid_data[altid] = paper\n",
    "        \n",
    "altid_data = correct_blogs(altid_data, blog_set)"
   ]
  },
  {
   "cell_type": "code",
   "execution_count": 336,
   "metadata": {},
   "outputs": [],
   "source": [
    "control_aid_doi = {}\n",
    "\n",
    "for doi in retract_df.OriginalPaperDOI:\n",
    "    for aid in doi_control_aids[doi]:\n",
    "        control_aid_doi[aid] = doi"
   ]
  },
  {
   "cell_type": "code",
   "execution_count": 337,
   "metadata": {
    "scrolled": false
   },
   "outputs": [
    {
     "data": {
      "text/plain": [
       "18295"
      ]
     },
     "execution_count": 337,
     "metadata": {},
     "output_type": "execute_result"
    }
   ],
   "source": [
    "len(control_aid_doi)"
   ]
  },
  {
   "cell_type": "markdown",
   "metadata": {},
   "source": [
    "### Load tweets"
   ]
  },
  {
   "cell_type": "code",
   "execution_count": 338,
   "metadata": {},
   "outputs": [],
   "source": [
    "with open(data_root + 'tweets_processed.pickle', 'rb') as ofile:\n",
    "    tid_date, tid_text, tid_author, tid_follow_cn, retweet_org_ids = pickle.load(ofile)"
   ]
  },
  {
   "cell_type": "code",
   "execution_count": 339,
   "metadata": {
    "scrolled": true
   },
   "outputs": [
    {
     "data": {
      "text/plain": [
       "159408"
      ]
     },
     "execution_count": 339,
     "metadata": {},
     "output_type": "execute_result"
    }
   ],
   "source": [
    "len(tid_date)"
   ]
  },
  {
   "cell_type": "code",
   "execution_count": 340,
   "metadata": {
    "scrolled": true
   },
   "outputs": [
    {
     "data": {
      "text/plain": [
       "159408"
      ]
     },
     "execution_count": 340,
     "metadata": {},
     "output_type": "execute_result"
    }
   ],
   "source": [
    "len(tid_text)"
   ]
  },
  {
   "cell_type": "code",
   "execution_count": 341,
   "metadata": {},
   "outputs": [
    {
     "data": {
      "text/plain": [
       "159408"
      ]
     },
     "execution_count": 341,
     "metadata": {},
     "output_type": "execute_result"
    }
   ],
   "source": [
    "len(tid_follow_cn)"
   ]
  },
  {
   "cell_type": "code",
   "execution_count": 342,
   "metadata": {
    "scrolled": false
   },
   "outputs": [
    {
     "data": {
      "text/plain": [
       "87670"
      ]
     },
     "execution_count": 342,
     "metadata": {},
     "output_type": "execute_result"
    }
   ],
   "source": [
    "len(retweet_org_ids)"
   ]
  },
  {
   "cell_type": "markdown",
   "metadata": {},
   "source": [
    "### Load tweets for new control papers "
   ]
  },
  {
   "cell_type": "code",
   "execution_count": 343,
   "metadata": {},
   "outputs": [],
   "source": [
    "tids_add = set()\n",
    "\n",
    "for aid in altid_data:\n",
    "    paper = altid_data[aid]\n",
    "    if 'posts' in paper and 'twitter' in paper['posts']:\n",
    "        for item in paper['posts']['twitter']:\n",
    "            tid = item['tweet_id']\n",
    "            if tid not in tid_date:\n",
    "                tids_add.add(tid)"
   ]
  },
  {
   "cell_type": "code",
   "execution_count": 344,
   "metadata": {
    "scrolled": true
   },
   "outputs": [
    {
     "data": {
      "text/plain": [
       "106798"
      ]
     },
     "execution_count": 344,
     "metadata": {},
     "output_type": "execute_result"
    }
   ],
   "source": [
    "len(tids_add)"
   ]
  },
  {
   "cell_type": "code",
   "execution_count": 265,
   "metadata": {},
   "outputs": [],
   "source": [
    "# get tweets from the full collection.\n",
    "\n",
    "tid_date_new = {}\n",
    "tid_text_new = {}\n",
    "tid_follow_cn_new = {}\n",
    "retweet_org_ids_new = {}\n",
    "\n",
    "with open(data_root+'second_match/tweets_clean.json', 'r') as ifile:\n",
    "    for line in ifile:\n",
    "        line = json.loads(line)\n",
    "        tid, tdate = line['id_str'], line['created_at']\n",
    "        if tid in tids_add:\n",
    "            re_status = False\n",
    "            text = \"\"\n",
    "            try:\n",
    "                text = line['retweeted_status']['text']\n",
    "                org_tid = line['retweeted_status']['id_str']\n",
    "                re_status = True\n",
    "            except:  # Not a Retweet\n",
    "                text = line['text']\n",
    "            try:\n",
    "                if detect(text) == 'en':\n",
    "                    tid_date_new[tid] = datetime.strptime(tdate, '%a %b %d %H:%M:%S +0000 %Y')\n",
    "                    tid_text_new[tid] = text\n",
    "                    tid_follow_cn_new[tid] = int(line['user']['followers_count'])\n",
    "                    if re_status:\n",
    "                        retweet_org_ids_new[tid] = org_tid\n",
    "            except:\n",
    "                pass"
   ]
  },
  {
   "cell_type": "code",
   "execution_count": 266,
   "metadata": {},
   "outputs": [
    {
     "data": {
      "text/plain": [
       "75393"
      ]
     },
     "execution_count": 266,
     "metadata": {},
     "output_type": "execute_result"
    }
   ],
   "source": [
    "len(tid_date_new)"
   ]
  },
  {
   "cell_type": "code",
   "execution_count": 267,
   "metadata": {},
   "outputs": [
    {
     "data": {
      "text/plain": [
       "75393"
      ]
     },
     "execution_count": 267,
     "metadata": {},
     "output_type": "execute_result"
    }
   ],
   "source": [
    "len(tid_text_new)"
   ]
  },
  {
   "cell_type": "code",
   "execution_count": 268,
   "metadata": {},
   "outputs": [
    {
     "data": {
      "text/plain": [
       "43175"
      ]
     },
     "execution_count": 268,
     "metadata": {},
     "output_type": "execute_result"
    }
   ],
   "source": [
    "len(retweet_org_ids_new)"
   ]
  },
  {
   "cell_type": "code",
   "execution_count": 269,
   "metadata": {},
   "outputs": [],
   "source": [
    "# with open(data_root + 'revision/tweets_processed_revision_v6.pickle', 'wb') as ofile:\n",
    "#     pickle.dump([tid_date_new, tid_text_new, tid_follow_cn_new, retweet_org_ids_new], ofile)"
   ]
  },
  {
   "cell_type": "code",
   "execution_count": 345,
   "metadata": {},
   "outputs": [],
   "source": [
    "with open(data_root + 'revision/tweets_processed_revision_v6.pickle', 'rb') as ofile:\n",
    "    tid_date_new, tid_text_new, tid_follow_cn_new, retweet_org_ids_new = pickle.load(ofile)"
   ]
  },
  {
   "cell_type": "code",
   "execution_count": 346,
   "metadata": {},
   "outputs": [],
   "source": [
    "for tid, val in tid_date_new.items():\n",
    "    tid_date[tid] = val\n",
    "    \n",
    "for tid, val in tid_text_new.items():\n",
    "    tid_text[tid] = val\n",
    "    \n",
    "for tid, val in tid_follow_cn_new.items():\n",
    "    tid_follow_cn[tid] = val\n",
    "\n",
    "for tid, val in retweet_org_ids_new.items():\n",
    "    retweet_org_ids[tid] = val"
   ]
  },
  {
   "cell_type": "code",
   "execution_count": 347,
   "metadata": {},
   "outputs": [],
   "source": [
    "del tid_date_new, tid_text_new, tid_follow_cn_new, retweet_org_ids_new"
   ]
  },
  {
   "cell_type": "code",
   "execution_count": 348,
   "metadata": {
    "scrolled": true
   },
   "outputs": [
    {
     "data": {
      "text/plain": [
       "243490"
      ]
     },
     "execution_count": 348,
     "metadata": {},
     "output_type": "execute_result"
    }
   ],
   "source": [
    "len(tid_date)"
   ]
  },
  {
   "cell_type": "markdown",
   "metadata": {},
   "source": [
    "### Get tweets prior retraction (after correcting date)"
   ]
  },
  {
   "cell_type": "code",
   "execution_count": 349,
   "metadata": {},
   "outputs": [],
   "source": [
    "cand_tids_ret = dict()\n",
    "cand_tids_control = dict()\n",
    "\n",
    "for doi, ret_date in doi_ret_date.items():\n",
    "    paper = doi_alt_data[doi]\n",
    "    cand_tids_ret[doi] = []\n",
    "    if 'posts' in paper and 'twitter' in paper['posts']:\n",
    "        for item in paper['posts']['twitter']:\n",
    "            tid = item['tweet_id']\n",
    "            # exclude retweets\n",
    "            if tid in tid_date and tid not in retweet_org_ids:\n",
    "                dttt = tid_date[tid]\n",
    "                if (ret_date - dttt).total_seconds() > 0:\n",
    "                    cand_tids_ret[doi].append(tid)\n",
    "                    \n",
    "for altid, matched_doi in control_aid_doi.items():\n",
    "    ret_date = doi_ret_date[matched_doi]\n",
    "    paper = altid_data[altid]\n",
    "    cand_tids_control[altid] = []\n",
    "    if 'posts' in paper and 'twitter' in paper['posts']:\n",
    "        for item in paper['posts']['twitter']:\n",
    "            tid = item['tweet_id']\n",
    "            if tid in tid_date and tid not in retweet_org_ids:\n",
    "                dttt = tid_date[tid]\n",
    "                if (ret_date - dttt).total_seconds() > 0:\n",
    "                    cand_tids_control[altid].append(tid)"
   ]
  },
  {
   "cell_type": "code",
   "execution_count": 350,
   "metadata": {
    "scrolled": false
   },
   "outputs": [
    {
     "data": {
      "text/plain": [
       "3659"
      ]
     },
     "execution_count": 350,
     "metadata": {},
     "output_type": "execute_result"
    }
   ],
   "source": [
    "len(cand_tids_ret)"
   ]
  },
  {
   "cell_type": "code",
   "execution_count": 351,
   "metadata": {
    "scrolled": false
   },
   "outputs": [
    {
     "data": {
      "text/plain": [
       "18295"
      ]
     },
     "execution_count": 351,
     "metadata": {},
     "output_type": "execute_result"
    }
   ],
   "source": [
    "len(cand_tids_control)"
   ]
  },
  {
   "cell_type": "code",
   "execution_count": 352,
   "metadata": {
    "scrolled": true
   },
   "outputs": [
    {
     "data": {
      "text/plain": [
       "14747"
      ]
     },
     "execution_count": 352,
     "metadata": {},
     "output_type": "execute_result"
    }
   ],
   "source": [
    "sum([len(v) for v in cand_tids_ret.values()])"
   ]
  },
  {
   "cell_type": "code",
   "execution_count": 353,
   "metadata": {
    "scrolled": false
   },
   "outputs": [
    {
     "data": {
      "text/plain": [
       "28042"
      ]
     },
     "execution_count": 353,
     "metadata": {},
     "output_type": "execute_result"
    }
   ],
   "source": [
    "sum([len(v) for v in cand_tids_control.values()])"
   ]
  },
  {
   "cell_type": "markdown",
   "metadata": {},
   "source": [
    "### Label uncertain tweets"
   ]
  },
  {
   "cell_type": "code",
   "execution_count": 354,
   "metadata": {},
   "outputs": [],
   "source": [
    "word_li = set()\n",
    "with open(data_root+'doubt_words.txt', 'r') as ifile:\n",
    "    for line in ifile:\n",
    "        w = line.strip()\n",
    "        if w not in word_li:\n",
    "            word_li.add(w)\n",
    "        else:\n",
    "            print(w)\n",
    "            \n",
    "# distrust, disbelief, doubt, concern, question, confusion, suspicion, credibility, uncertain, unsure, criticism\n",
    "def is_doubt(text):\n",
    "    text = text.lower()\n",
    "    for w in word_li:\n",
    "        if w in text:\n",
    "            return 1\n",
    "    return 0"
   ]
  },
  {
   "cell_type": "code",
   "execution_count": 355,
   "metadata": {
    "scrolled": true
   },
   "outputs": [
    {
     "data": {
      "text/plain": [
       "76"
      ]
     },
     "execution_count": 355,
     "metadata": {},
     "output_type": "execute_result"
    }
   ],
   "source": [
    "len(word_li)"
   ]
  },
  {
   "cell_type": "markdown",
   "metadata": {},
   "source": [
    "Manually label control tweets that meet the heuristic"
   ]
  },
  {
   "cell_type": "code",
   "execution_count": 356,
   "metadata": {},
   "outputs": [],
   "source": [
    "cand_tids = set()\n",
    "\n",
    "for doi, tids in cand_tids_ret.items():\n",
    "    for tid in tids:\n",
    "        if is_doubt(tid_text[tid]):\n",
    "            cand_tids.add(tid)"
   ]
  },
  {
   "cell_type": "code",
   "execution_count": 357,
   "metadata": {
    "scrolled": false
   },
   "outputs": [
    {
     "data": {
      "text/plain": [
       "3388"
      ]
     },
     "execution_count": 357,
     "metadata": {},
     "output_type": "execute_result"
    }
   ],
   "source": [
    "len(cand_tids)"
   ]
  },
  {
   "cell_type": "code",
   "execution_count": 358,
   "metadata": {},
   "outputs": [],
   "source": [
    "cand_tids = set()\n",
    "\n",
    "for altid, tids in cand_tids_control.items():\n",
    "    for tid in tids:\n",
    "        if is_doubt(tid_text[tid]):\n",
    "            cand_tids.add(tid)"
   ]
  },
  {
   "cell_type": "code",
   "execution_count": 359,
   "metadata": {
    "scrolled": false
   },
   "outputs": [
    {
     "data": {
      "text/plain": [
       "3870"
      ]
     },
     "execution_count": 359,
     "metadata": {},
     "output_type": "execute_result"
    }
   ],
   "source": [
    "len(cand_tids)"
   ]
  },
  {
   "cell_type": "markdown",
   "metadata": {},
   "source": [
    "Reuse already labelled ones"
   ]
  },
  {
   "cell_type": "code",
   "execution_count": 550,
   "metadata": {},
   "outputs": [],
   "source": [
    "final_df_old = pd.read_csv(data_root+'cand_uncertain_tweets_mvotes.csv', quoting=csv.QUOTE_ALL, header=0, dtype={'tid': 'str'})\n"
   ]
  },
  {
   "cell_type": "code",
   "execution_count": 551,
   "metadata": {},
   "outputs": [],
   "source": [
    "tids_done = set(final_df_old.tid.tolist())"
   ]
  },
  {
   "cell_type": "code",
   "execution_count": 552,
   "metadata": {
    "scrolled": true
   },
   "outputs": [
    {
     "data": {
      "text/plain": [
       "9789"
      ]
     },
     "execution_count": 552,
     "metadata": {},
     "output_type": "execute_result"
    }
   ],
   "source": [
    "len(tids_done)"
   ]
  },
  {
   "cell_type": "code",
   "execution_count": 363,
   "metadata": {},
   "outputs": [],
   "source": [
    "cand_tids = [tid for tid in cand_tids if tid not in tids_done]"
   ]
  },
  {
   "cell_type": "code",
   "execution_count": 364,
   "metadata": {
    "scrolled": true
   },
   "outputs": [
    {
     "data": {
      "text/plain": [
       "3782"
      ]
     },
     "execution_count": 364,
     "metadata": {},
     "output_type": "execute_result"
    }
   ],
   "source": [
    "len(cand_tids)"
   ]
  },
  {
   "cell_type": "code",
   "execution_count": 315,
   "metadata": {},
   "outputs": [],
   "source": [
    "cand_tweets_df = pd.DataFrame(cand_tids, columns=['tid'])\n",
    "cand_tweets_df['text'] = cand_tweets_df.tid.map(tid_text)\n",
    "cand_tweets_df['is_uncertain'] = ''\n",
    "cand_tweets_df['note'] = ''"
   ]
  },
  {
   "cell_type": "code",
   "execution_count": 316,
   "metadata": {},
   "outputs": [],
   "source": [
    "signal_words = []\n",
    "for text in cand_tweets_df.text:\n",
    "    text = text.lower()\n",
    "    for w in word_li:\n",
    "        if w in text:\n",
    "            signal_words.append(w)\n",
    "            break\n",
    "    else:\n",
    "        signal_words.append('')\n",
    "\n",
    "cand_tweets_df['signal_word'] = signal_words"
   ]
  },
  {
   "cell_type": "code",
   "execution_count": 317,
   "metadata": {},
   "outputs": [
    {
     "data": {
      "text/html": [
       "<div>\n",
       "<style scoped>\n",
       "    .dataframe tbody tr th:only-of-type {\n",
       "        vertical-align: middle;\n",
       "    }\n",
       "\n",
       "    .dataframe tbody tr th {\n",
       "        vertical-align: top;\n",
       "    }\n",
       "\n",
       "    .dataframe thead th {\n",
       "        text-align: right;\n",
       "    }\n",
       "</style>\n",
       "<table border=\"1\" class=\"dataframe\">\n",
       "  <thead>\n",
       "    <tr style=\"text-align: right;\">\n",
       "      <th></th>\n",
       "      <th>tid</th>\n",
       "      <th>text</th>\n",
       "      <th>is_uncertain</th>\n",
       "      <th>note</th>\n",
       "      <th>signal_word</th>\n",
       "    </tr>\n",
       "  </thead>\n",
       "  <tbody>\n",
       "    <tr>\n",
       "      <th>0</th>\n",
       "      <td>1064912008590606338</td>\n",
       "      <td>Tips on what to eat as munchies when you are r...</td>\n",
       "      <td></td>\n",
       "      <td></td>\n",
       "      <td>?</td>\n",
       "    </tr>\n",
       "    <tr>\n",
       "      <th>1</th>\n",
       "      <td>924192112077185024</td>\n",
       "      <td>I agree @SenAlexander Harming persons with com...</td>\n",
       "      <td></td>\n",
       "      <td></td>\n",
       "      <td>problem</td>\n",
       "    </tr>\n",
       "    <tr>\n",
       "      <th>2</th>\n",
       "      <td>735866904632397824</td>\n",
       "      <td>Nature ハイライト：ギャップ結合形成阻害剤による転移の減少 | Nature | Na...</td>\n",
       "      <td></td>\n",
       "      <td></td>\n",
       "      <td>publish</td>\n",
       "    </tr>\n",
       "    <tr>\n",
       "      <th>3</th>\n",
       "      <td>583761754079002625</td>\n",
       "      <td>One for you @FfitzP! @JAMAPeds: Why aren’t the...</td>\n",
       "      <td></td>\n",
       "      <td></td>\n",
       "      <td>?</td>\n",
       "    </tr>\n",
       "    <tr>\n",
       "      <th>4</th>\n",
       "      <td>777521309290991620</td>\n",
       "      <td>#CFS If HHV-6 really is a form of ASFV will it...</td>\n",
       "      <td></td>\n",
       "      <td></td>\n",
       "      <td>problem</td>\n",
       "    </tr>\n",
       "    <tr>\n",
       "      <th>5</th>\n",
       "      <td>478508111456509953</td>\n",
       "      <td>Are trial participants adequately safeguarded ...</td>\n",
       "      <td></td>\n",
       "      <td></td>\n",
       "      <td>?</td>\n",
       "    </tr>\n",
       "    <tr>\n",
       "      <th>6</th>\n",
       "      <td>159340156703354882</td>\n",
       "      <td>Physical activity is positively related to aca...</td>\n",
       "      <td></td>\n",
       "      <td></td>\n",
       "      <td>academic</td>\n",
       "    </tr>\n",
       "    <tr>\n",
       "      <th>7</th>\n",
       "      <td>661589514478084096</td>\n",
       "      <td>Does \"The Talk\" matter? New review of research...</td>\n",
       "      <td></td>\n",
       "      <td></td>\n",
       "      <td>?</td>\n",
       "    </tr>\n",
       "    <tr>\n",
       "      <th>8</th>\n",
       "      <td>1063456232399355904</td>\n",
       "      <td>Nevertheless, #USPSTF recently published in @J...</td>\n",
       "      <td></td>\n",
       "      <td></td>\n",
       "      <td>publish</td>\n",
       "    </tr>\n",
       "    <tr>\n",
       "      <th>9</th>\n",
       "      <td>634259593338580992</td>\n",
       "      <td>HLA Typing from 1000 Genomes Whole Genome and ...</td>\n",
       "      <td></td>\n",
       "      <td></td>\n",
       "      <td>data</td>\n",
       "    </tr>\n",
       "  </tbody>\n",
       "</table>\n",
       "</div>"
      ],
      "text/plain": [
       "                   tid                                               text  \\\n",
       "0  1064912008590606338  Tips on what to eat as munchies when you are r...   \n",
       "1   924192112077185024  I agree @SenAlexander Harming persons with com...   \n",
       "2   735866904632397824  Nature ハイライト：ギャップ結合形成阻害剤による転移の減少 | Nature | Na...   \n",
       "3   583761754079002625  One for you @FfitzP! @JAMAPeds: Why aren’t the...   \n",
       "4   777521309290991620  #CFS If HHV-6 really is a form of ASFV will it...   \n",
       "5   478508111456509953  Are trial participants adequately safeguarded ...   \n",
       "6   159340156703354882  Physical activity is positively related to aca...   \n",
       "7   661589514478084096  Does \"The Talk\" matter? New review of research...   \n",
       "8  1063456232399355904  Nevertheless, #USPSTF recently published in @J...   \n",
       "9   634259593338580992  HLA Typing from 1000 Genomes Whole Genome and ...   \n",
       "\n",
       "  is_uncertain note signal_word  \n",
       "0                             ?  \n",
       "1                       problem  \n",
       "2                       publish  \n",
       "3                             ?  \n",
       "4                       problem  \n",
       "5                             ?  \n",
       "6                      academic  \n",
       "7                             ?  \n",
       "8                       publish  \n",
       "9                          data  "
      ]
     },
     "execution_count": 317,
     "metadata": {},
     "output_type": "execute_result"
    }
   ],
   "source": [
    "cand_tweets_df.head(10)"
   ]
  },
  {
   "cell_type": "code",
   "execution_count": 318,
   "metadata": {},
   "outputs": [],
   "source": [
    "cand_tweets_df.to_csv(data_root+'revision/cand_uncertain_tweets_revision.csv', quoting=csv.QUOTE_ALL, header=True, index=False)"
   ]
  },
  {
   "cell_type": "markdown",
   "metadata": {},
   "source": [
    "Agreement (all tweets)"
   ]
  },
  {
   "cell_type": "code",
   "execution_count": 367,
   "metadata": {},
   "outputs": [],
   "source": [
    "hao_df = pd.read_csv(data_root+'revision/cand_uncertain_tweets_hao.csv', quoting=csv.QUOTE_ALL, dtype={'tid': str})"
   ]
  },
  {
   "cell_type": "code",
   "execution_count": 368,
   "metadata": {
    "scrolled": true
   },
   "outputs": [
    {
     "data": {
      "text/plain": [
       "3782"
      ]
     },
     "execution_count": 368,
     "metadata": {},
     "output_type": "execute_result"
    }
   ],
   "source": [
    "len(hao_df)"
   ]
  },
  {
   "cell_type": "code",
   "execution_count": 440,
   "metadata": {},
   "outputs": [],
   "source": [
    "rs = {}\n",
    "names = ['hao', 'henry', 'rod']\n",
    "for name in names:\n",
    "    r1 = pd.read_csv(data_root+'revision/cand_uncertain_tweets_%s.csv'%name, quoting=csv.QUOTE_ALL, dtype={'tid': str})\n",
    "    r1 = r1[['tid', 'text', 'is_uncertain']]\n",
    "    r1.loc[r1.text.apply(lambda x: 'True or false?' in x), 'is_uncertain'] = 1\n",
    "    r1 = r1.replace({np.NaN: 0})    \n",
    "    r1 = r1.astype({'is_uncertain': 'int64'})\n",
    "    r1 = r1.sort_values('tid')\n",
    "    r1.index = range(len(r1))\n",
    "    rs[name] = r1"
   ]
  },
  {
   "cell_type": "code",
   "execution_count": 441,
   "metadata": {
    "scrolled": true
   },
   "outputs": [
    {
     "name": "stdout",
     "output_type": "stream",
     "text": [
      "hao henry 0.7940209332046353\n",
      "hao rod 0.8429062180768174\n",
      "henry rod 0.7047505194278723\n"
     ]
    }
   ],
   "source": [
    "ks = []\n",
    "for n1, n2 in combinations(names, r=2):\n",
    "    r1 = rs[n1]\n",
    "    r2 = rs[n2]\n",
    "    kappa = cohen_kappa_score(r1['is_uncertain'], r2['is_uncertain'])\n",
    "    ks.append(kappa)\n",
    "    print(n1, n2, kappa)"
   ]
  },
  {
   "cell_type": "code",
   "execution_count": 442,
   "metadata": {
    "scrolled": true
   },
   "outputs": [
    {
     "data": {
      "text/plain": [
       "253"
      ]
     },
     "execution_count": 442,
     "metadata": {},
     "output_type": "execute_result"
    }
   ],
   "source": [
    "np.sum(rs['henry']['is_uncertain'])"
   ]
  },
  {
   "cell_type": "code",
   "execution_count": 443,
   "metadata": {},
   "outputs": [
    {
     "data": {
      "text/plain": [
       "357"
      ]
     },
     "execution_count": 443,
     "metadata": {},
     "output_type": "execute_result"
    }
   ],
   "source": [
    "np.sum(rs['rod']['is_uncertain'])"
   ]
  },
  {
   "cell_type": "code",
   "execution_count": 444,
   "metadata": {
    "scrolled": true
   },
   "outputs": [
    {
     "data": {
      "text/plain": [
       "274"
      ]
     },
     "execution_count": 444,
     "metadata": {},
     "output_type": "execute_result"
    }
   ],
   "source": [
    "np.sum(rs['hao']['is_uncertain'])"
   ]
  },
  {
   "cell_type": "code",
   "execution_count": 445,
   "metadata": {},
   "outputs": [
    {
     "data": {
      "text/plain": [
       "array([[3468,   40],\n",
       "       [  61,  213]])"
      ]
     },
     "execution_count": 445,
     "metadata": {},
     "output_type": "execute_result"
    }
   ],
   "source": [
    "confusion_matrix(rs['hao']['is_uncertain'], rs['henry']['is_uncertain'])"
   ]
  },
  {
   "cell_type": "code",
   "execution_count": 446,
   "metadata": {},
   "outputs": [
    {
     "data": {
      "text/plain": [
       "array([[3394,   31],\n",
       "       [ 135,  222]])"
      ]
     },
     "execution_count": 446,
     "metadata": {},
     "output_type": "execute_result"
    }
   ],
   "source": [
    "confusion_matrix(rs['rod']['is_uncertain'], rs['henry']['is_uncertain'])"
   ]
  },
  {
   "cell_type": "code",
   "execution_count": 447,
   "metadata": {},
   "outputs": [
    {
     "data": {
      "text/plain": [
       "array([[3421,   87],\n",
       "       [   4,  270]])"
      ]
     },
     "execution_count": 447,
     "metadata": {},
     "output_type": "execute_result"
    }
   ],
   "source": [
    "confusion_matrix(rs['hao']['is_uncertain'], rs['rod']['is_uncertain'])"
   ]
  },
  {
   "cell_type": "code",
   "execution_count": 448,
   "metadata": {},
   "outputs": [],
   "source": [
    "votes = np.array([rs[name]['is_uncertain'].values for name in names]).T\n",
    "votes = np.sum(votes, axis=1)"
   ]
  },
  {
   "cell_type": "code",
   "execution_count": 449,
   "metadata": {
    "scrolled": true
   },
   "outputs": [
    {
     "data": {
      "text/plain": [
       "(array([0, 1, 2, 3]), array([3391,  110,   69,  212]))"
      ]
     },
     "execution_count": 449,
     "metadata": {},
     "output_type": "execute_result"
    }
   ],
   "source": [
    "np.unique(votes, return_counts=True)"
   ]
  },
  {
   "cell_type": "code",
   "execution_count": 450,
   "metadata": {},
   "outputs": [],
   "source": [
    "tid_votes = dict(zip(rs['hao'].tid, votes))"
   ]
  },
  {
   "cell_type": "code",
   "execution_count": 451,
   "metadata": {},
   "outputs": [
    {
     "data": {
      "text/plain": [
       "3782"
      ]
     },
     "execution_count": 451,
     "metadata": {},
     "output_type": "execute_result"
    }
   ],
   "source": [
    "len(tid_votes)"
   ]
  },
  {
   "cell_type": "code",
   "execution_count": 452,
   "metadata": {},
   "outputs": [],
   "source": [
    "bad_ix = (votes == 1) | (votes == 2)"
   ]
  },
  {
   "cell_type": "code",
   "execution_count": 453,
   "metadata": {},
   "outputs": [],
   "source": [
    "bad_df = rs['hao'].loc[bad_ix, ['tid', 'text']]\n",
    "bad_df = bad_df.sample(frac = 1.0, random_state=10)\n",
    "bad_df.index = range(len(bad_df))"
   ]
  },
  {
   "cell_type": "code",
   "execution_count": 454,
   "metadata": {
    "scrolled": true
   },
   "outputs": [
    {
     "data": {
      "text/plain": [
       "179"
      ]
     },
     "execution_count": 454,
     "metadata": {},
     "output_type": "execute_result"
    }
   ],
   "source": [
    "len(bad_df)"
   ]
  },
  {
   "cell_type": "code",
   "execution_count": 456,
   "metadata": {},
   "outputs": [],
   "source": [
    "bad_df.to_csv(data_root+'revision/cand_uncertain_tweets_disagree.csv', quoting=csv.QUOTE_ALL, header=True, index=False)"
   ]
  },
  {
   "cell_type": "code",
   "execution_count": 496,
   "metadata": {},
   "outputs": [],
   "source": [
    "agnes = pd.read_csv(data_root+'revision/cand_uncertain_tweets_disagree_agnes.csv', quoting=csv.QUOTE_ALL, dtype={'tid': str})"
   ]
  },
  {
   "cell_type": "code",
   "execution_count": 497,
   "metadata": {
    "scrolled": false
   },
   "outputs": [
    {
     "data": {
      "text/plain": [
       "90"
      ]
     },
     "execution_count": 497,
     "metadata": {},
     "output_type": "execute_result"
    }
   ],
   "source": [
    "len(agnes)"
   ]
  },
  {
   "cell_type": "code",
   "execution_count": 498,
   "metadata": {},
   "outputs": [],
   "source": [
    "agnes['votes'] = agnes.tid.map(tid_votes)"
   ]
  },
  {
   "cell_type": "code",
   "execution_count": 499,
   "metadata": {},
   "outputs": [],
   "source": [
    "agnes['new_votes'] = agnes.apply(lambda row: row['is_uncertain'] + row['votes'], axis = 1)"
   ]
  },
  {
   "cell_type": "code",
   "execution_count": 500,
   "metadata": {
    "scrolled": true
   },
   "outputs": [
    {
     "data": {
      "text/html": [
       "<div>\n",
       "<style scoped>\n",
       "    .dataframe tbody tr th:only-of-type {\n",
       "        vertical-align: middle;\n",
       "    }\n",
       "\n",
       "    .dataframe tbody tr th {\n",
       "        vertical-align: top;\n",
       "    }\n",
       "\n",
       "    .dataframe thead th {\n",
       "        text-align: right;\n",
       "    }\n",
       "</style>\n",
       "<table border=\"1\" class=\"dataframe\">\n",
       "  <thead>\n",
       "    <tr style=\"text-align: right;\">\n",
       "      <th></th>\n",
       "      <th>tid</th>\n",
       "      <th>text</th>\n",
       "      <th>is_uncertain</th>\n",
       "      <th>Unnamed: 3</th>\n",
       "      <th>votes</th>\n",
       "      <th>new_votes</th>\n",
       "    </tr>\n",
       "  </thead>\n",
       "  <tbody>\n",
       "    <tr>\n",
       "      <th>2</th>\n",
       "      <td>461672468369776641</td>\n",
       "      <td>\" http://t.co/H9CqDQ7SHL\"  Why, why, why is th...</td>\n",
       "      <td>0</td>\n",
       "      <td>NaN</td>\n",
       "      <td>2</td>\n",
       "      <td>2</td>\n",
       "    </tr>\n",
       "    <tr>\n",
       "      <th>3</th>\n",
       "      <td>729975825143980033</td>\n",
       "      <td>Note of the methodological flaws in the paper ...</td>\n",
       "      <td>1</td>\n",
       "      <td>NaN</td>\n",
       "      <td>1</td>\n",
       "      <td>2</td>\n",
       "    </tr>\n",
       "    <tr>\n",
       "      <th>7</th>\n",
       "      <td>1049940115349524480</td>\n",
       "      <td>@iskander do you know wether Epi-Seq (https://...</td>\n",
       "      <td>0</td>\n",
       "      <td>NaN</td>\n",
       "      <td>2</td>\n",
       "      <td>2</td>\n",
       "    </tr>\n",
       "    <tr>\n",
       "      <th>8</th>\n",
       "      <td>824094729444855808</td>\n",
       "      <td>I cannot wait to hear with others think of thi...</td>\n",
       "      <td>0</td>\n",
       "      <td>NaN</td>\n",
       "      <td>2</td>\n",
       "      <td>2</td>\n",
       "    </tr>\n",
       "    <tr>\n",
       "      <th>10</th>\n",
       "      <td>339210198734475264</td>\n",
       "      <td>Conservative management of symptomatic knee os...</td>\n",
       "      <td>1</td>\n",
       "      <td>NaN</td>\n",
       "      <td>1</td>\n",
       "      <td>2</td>\n",
       "    </tr>\n",
       "    <tr>\n",
       "      <th>11</th>\n",
       "      <td>1093725516186689537</td>\n",
       "      <td>So there are millions, not trillions of *OTUs*...</td>\n",
       "      <td>0</td>\n",
       "      <td>NaN</td>\n",
       "      <td>2</td>\n",
       "      <td>2</td>\n",
       "    </tr>\n",
       "    <tr>\n",
       "      <th>12</th>\n",
       "      <td>518033505121755137</td>\n",
       "      <td>Poor sleep quality is associated with #suicide...</td>\n",
       "      <td>0</td>\n",
       "      <td>NaN</td>\n",
       "      <td>2</td>\n",
       "      <td>2</td>\n",
       "    </tr>\n",
       "    <tr>\n",
       "      <th>15</th>\n",
       "      <td>911508540665278464</td>\n",
       "      <td>#Retraction @CambridgeUP: COI &amp;amp; hidden com...</td>\n",
       "      <td>1</td>\n",
       "      <td>This shouldn't have contained the retraction f...</td>\n",
       "      <td>1</td>\n",
       "      <td>2</td>\n",
       "    </tr>\n",
       "    <tr>\n",
       "      <th>16</th>\n",
       "      <td>365143014668115969</td>\n",
       "      <td>New JAMA study says combat deployments NOT lin...</td>\n",
       "      <td>1</td>\n",
       "      <td>NaN</td>\n",
       "      <td>1</td>\n",
       "      <td>2</td>\n",
       "    </tr>\n",
       "    <tr>\n",
       "      <th>18</th>\n",
       "      <td>1092067869347721216</td>\n",
       "      <td>65% of US pregnant women take #TYLENOL \\n\\nIS ...</td>\n",
       "      <td>0</td>\n",
       "      <td>NaN</td>\n",
       "      <td>2</td>\n",
       "      <td>2</td>\n",
       "    </tr>\n",
       "    <tr>\n",
       "      <th>19</th>\n",
       "      <td>609369796703031296</td>\n",
       "      <td>I mean, seriously, wouldn't it be more notable...</td>\n",
       "      <td>1</td>\n",
       "      <td>NaN</td>\n",
       "      <td>1</td>\n",
       "      <td>2</td>\n",
       "    </tr>\n",
       "    <tr>\n",
       "      <th>20</th>\n",
       "      <td>726321297333035008</td>\n",
       "      <td>Painful Popper void: Which evidence would NOT ...</td>\n",
       "      <td>1</td>\n",
       "      <td>NaN</td>\n",
       "      <td>1</td>\n",
       "      <td>2</td>\n",
       "    </tr>\n",
       "    <tr>\n",
       "      <th>22</th>\n",
       "      <td>835570104100343808</td>\n",
       "      <td>This &amp;amp; @SouthAfricanASP #saasp17 data on l...</td>\n",
       "      <td>1</td>\n",
       "      <td>NaN</td>\n",
       "      <td>1</td>\n",
       "      <td>2</td>\n",
       "    </tr>\n",
       "    <tr>\n",
       "      <th>26</th>\n",
       "      <td>534302472396095488</td>\n",
       "      <td>Lovely detailed cranial osteology of Thescelos...</td>\n",
       "      <td>0</td>\n",
       "      <td>NaN</td>\n",
       "      <td>2</td>\n",
       "      <td>2</td>\n",
       "    </tr>\n",
       "    <tr>\n",
       "      <th>27</th>\n",
       "      <td>580353704915804161</td>\n",
       "      <td>What if someone is in their 90s, then what? @J...</td>\n",
       "      <td>0</td>\n",
       "      <td>NaN</td>\n",
       "      <td>2</td>\n",
       "      <td>2</td>\n",
       "    </tr>\n",
       "    <tr>\n",
       "      <th>29</th>\n",
       "      <td>370529825632428032</td>\n",
       "      <td>@AllenFrancesMD @GrahamCLDavey What do you mak...</td>\n",
       "      <td>1</td>\n",
       "      <td>NaN</td>\n",
       "      <td>1</td>\n",
       "      <td>2</td>\n",
       "    </tr>\n",
       "    <tr>\n",
       "      <th>31</th>\n",
       "      <td>767751982484295680</td>\n",
       "      <td>Economists are a weird bunch: \"Human sacrifice...</td>\n",
       "      <td>0</td>\n",
       "      <td>NaN</td>\n",
       "      <td>2</td>\n",
       "      <td>2</td>\n",
       "    </tr>\n",
       "    <tr>\n",
       "      <th>32</th>\n",
       "      <td>950143286676807681</td>\n",
       "      <td>But because of this, I was told that I needed ...</td>\n",
       "      <td>0</td>\n",
       "      <td>NaN</td>\n",
       "      <td>2</td>\n",
       "      <td>2</td>\n",
       "    </tr>\n",
       "    <tr>\n",
       "      <th>37</th>\n",
       "      <td>241263674310922240</td>\n",
       "      <td>I hope the \"interactions\" put into briogrid ar...</td>\n",
       "      <td>1</td>\n",
       "      <td>NaN</td>\n",
       "      <td>1</td>\n",
       "      <td>2</td>\n",
       "    </tr>\n",
       "    <tr>\n",
       "      <th>41</th>\n",
       "      <td>1117884944053751812</td>\n",
       "      <td>@fake_journals How do we draw a line between e...</td>\n",
       "      <td>0</td>\n",
       "      <td>NaN</td>\n",
       "      <td>2</td>\n",
       "      <td>2</td>\n",
       "    </tr>\n",
       "    <tr>\n",
       "      <th>44</th>\n",
       "      <td>1094988022465077248</td>\n",
       "      <td>What's this?\\n\\nAlt Med was right, again?\\n\\nT...</td>\n",
       "      <td>1</td>\n",
       "      <td>NaN</td>\n",
       "      <td>1</td>\n",
       "      <td>2</td>\n",
       "    </tr>\n",
       "    <tr>\n",
       "      <th>48</th>\n",
       "      <td>651442664055795712</td>\n",
       "      <td>TMEM16F. Scramblase or not? still not clear.\\n...</td>\n",
       "      <td>1</td>\n",
       "      <td>NaN</td>\n",
       "      <td>1</td>\n",
       "      <td>2</td>\n",
       "    </tr>\n",
       "    <tr>\n",
       "      <th>50</th>\n",
       "      <td>621851064657125376</td>\n",
       "      <td>Go home AHA, ur drunk. Yoga Class III? The sam...</td>\n",
       "      <td>0</td>\n",
       "      <td>NaN</td>\n",
       "      <td>2</td>\n",
       "      <td>2</td>\n",
       "    </tr>\n",
       "    <tr>\n",
       "      <th>54</th>\n",
       "      <td>673200175352008704</td>\n",
       "      <td>#RatlClinExam: No #opiates for kids w #appendi...</td>\n",
       "      <td>0</td>\n",
       "      <td>NaN</td>\n",
       "      <td>2</td>\n",
       "      <td>2</td>\n",
       "    </tr>\n",
       "    <tr>\n",
       "      <th>59</th>\n",
       "      <td>854296285201002496</td>\n",
       "      <td>What is the duration of an act of resistance?H...</td>\n",
       "      <td>0</td>\n",
       "      <td>NaN</td>\n",
       "      <td>2</td>\n",
       "      <td>2</td>\n",
       "    </tr>\n",
       "    <tr>\n",
       "      <th>62</th>\n",
       "      <td>619785413939453952</td>\n",
       "      <td>@cherylrofer Is this an updated version of the...</td>\n",
       "      <td>1</td>\n",
       "      <td>NaN</td>\n",
       "      <td>1</td>\n",
       "      <td>2</td>\n",
       "    </tr>\n",
       "    <tr>\n",
       "      <th>63</th>\n",
       "      <td>894902211565805568</td>\n",
       "      <td>Controversial #Ebola Vx trials in Ghana: thema...</td>\n",
       "      <td>0</td>\n",
       "      <td>NaN</td>\n",
       "      <td>2</td>\n",
       "      <td>2</td>\n",
       "    </tr>\n",
       "    <tr>\n",
       "      <th>64</th>\n",
       "      <td>240438824537300993</td>\n",
       "      <td>@StuartJRitchie A replication? In JPSP? What g...</td>\n",
       "      <td>0</td>\n",
       "      <td>NaN</td>\n",
       "      <td>2</td>\n",
       "      <td>2</td>\n",
       "    </tr>\n",
       "    <tr>\n",
       "      <th>65</th>\n",
       "      <td>973550563966275584</td>\n",
       "      <td>What testing platform do you use in your pract...</td>\n",
       "      <td>0</td>\n",
       "      <td>NaN</td>\n",
       "      <td>2</td>\n",
       "      <td>2</td>\n",
       "    </tr>\n",
       "    <tr>\n",
       "      <th>67</th>\n",
       "      <td>610259058721968128</td>\n",
       "      <td>Hey, you guys left your edits in red, I'm chec...</td>\n",
       "      <td>0</td>\n",
       "      <td>NaN</td>\n",
       "      <td>2</td>\n",
       "      <td>2</td>\n",
       "    </tr>\n",
       "    <tr>\n",
       "      <th>71</th>\n",
       "      <td>611478149101129728</td>\n",
       "      <td>Sitagliptin no worse than placebo for CV outco...</td>\n",
       "      <td>1</td>\n",
       "      <td>NaN</td>\n",
       "      <td>1</td>\n",
       "      <td>2</td>\n",
       "    </tr>\n",
       "    <tr>\n",
       "      <th>73</th>\n",
       "      <td>197629560576147456</td>\n",
       "      <td>Errrr, what? RT @cyberassemblage: The inter-sp...</td>\n",
       "      <td>1</td>\n",
       "      <td>NaN</td>\n",
       "      <td>1</td>\n",
       "      <td>2</td>\n",
       "    </tr>\n",
       "    <tr>\n",
       "      <th>79</th>\n",
       "      <td>1089381965382348800</td>\n",
       "      <td>@erinbiba Like nearly all other nutritional in...</td>\n",
       "      <td>0</td>\n",
       "      <td>NaN</td>\n",
       "      <td>2</td>\n",
       "      <td>2</td>\n",
       "    </tr>\n",
       "    <tr>\n",
       "      <th>85</th>\n",
       "      <td>1154719797671800832</td>\n",
       "      <td>“Among 176 first authors, 18 authors (10.2%) h...</td>\n",
       "      <td>1</td>\n",
       "      <td>NaN</td>\n",
       "      <td>1</td>\n",
       "      <td>2</td>\n",
       "    </tr>\n",
       "    <tr>\n",
       "      <th>89</th>\n",
       "      <td>948901315299676160</td>\n",
       "      <td>I am taking bets that this is an AGN and not a...</td>\n",
       "      <td>1</td>\n",
       "      <td>NaN</td>\n",
       "      <td>1</td>\n",
       "      <td>2</td>\n",
       "    </tr>\n",
       "  </tbody>\n",
       "</table>\n",
       "</div>"
      ],
      "text/plain": [
       "                    tid                                               text  \\\n",
       "2    461672468369776641  \" http://t.co/H9CqDQ7SHL\"  Why, why, why is th...   \n",
       "3    729975825143980033  Note of the methodological flaws in the paper ...   \n",
       "7   1049940115349524480  @iskander do you know wether Epi-Seq (https://...   \n",
       "8    824094729444855808  I cannot wait to hear with others think of thi...   \n",
       "10   339210198734475264  Conservative management of symptomatic knee os...   \n",
       "11  1093725516186689537  So there are millions, not trillions of *OTUs*...   \n",
       "12   518033505121755137  Poor sleep quality is associated with #suicide...   \n",
       "15   911508540665278464  #Retraction @CambridgeUP: COI &amp; hidden com...   \n",
       "16   365143014668115969  New JAMA study says combat deployments NOT lin...   \n",
       "18  1092067869347721216  65% of US pregnant women take #TYLENOL \\n\\nIS ...   \n",
       "19   609369796703031296  I mean, seriously, wouldn't it be more notable...   \n",
       "20   726321297333035008  Painful Popper void: Which evidence would NOT ...   \n",
       "22   835570104100343808  This &amp; @SouthAfricanASP #saasp17 data on l...   \n",
       "26   534302472396095488  Lovely detailed cranial osteology of Thescelos...   \n",
       "27   580353704915804161  What if someone is in their 90s, then what? @J...   \n",
       "29   370529825632428032  @AllenFrancesMD @GrahamCLDavey What do you mak...   \n",
       "31   767751982484295680  Economists are a weird bunch: \"Human sacrifice...   \n",
       "32   950143286676807681  But because of this, I was told that I needed ...   \n",
       "37   241263674310922240  I hope the \"interactions\" put into briogrid ar...   \n",
       "41  1117884944053751812  @fake_journals How do we draw a line between e...   \n",
       "44  1094988022465077248  What's this?\\n\\nAlt Med was right, again?\\n\\nT...   \n",
       "48   651442664055795712  TMEM16F. Scramblase or not? still not clear.\\n...   \n",
       "50   621851064657125376  Go home AHA, ur drunk. Yoga Class III? The sam...   \n",
       "54   673200175352008704  #RatlClinExam: No #opiates for kids w #appendi...   \n",
       "59   854296285201002496  What is the duration of an act of resistance?H...   \n",
       "62   619785413939453952  @cherylrofer Is this an updated version of the...   \n",
       "63   894902211565805568  Controversial #Ebola Vx trials in Ghana: thema...   \n",
       "64   240438824537300993  @StuartJRitchie A replication? In JPSP? What g...   \n",
       "65   973550563966275584  What testing platform do you use in your pract...   \n",
       "67   610259058721968128  Hey, you guys left your edits in red, I'm chec...   \n",
       "71   611478149101129728  Sitagliptin no worse than placebo for CV outco...   \n",
       "73   197629560576147456  Errrr, what? RT @cyberassemblage: The inter-sp...   \n",
       "79  1089381965382348800  @erinbiba Like nearly all other nutritional in...   \n",
       "85  1154719797671800832  “Among 176 first authors, 18 authors (10.2%) h...   \n",
       "89   948901315299676160  I am taking bets that this is an AGN and not a...   \n",
       "\n",
       "    is_uncertain                                         Unnamed: 3  votes  \\\n",
       "2              0                                                NaN      2   \n",
       "3              1                                                NaN      1   \n",
       "7              0                                                NaN      2   \n",
       "8              0                                                NaN      2   \n",
       "10             1                                                NaN      1   \n",
       "11             0                                                NaN      2   \n",
       "12             0                                                NaN      2   \n",
       "15             1  This shouldn't have contained the retraction f...      1   \n",
       "16             1                                                NaN      1   \n",
       "18             0                                                NaN      2   \n",
       "19             1                                                NaN      1   \n",
       "20             1                                                NaN      1   \n",
       "22             1                                                NaN      1   \n",
       "26             0                                                NaN      2   \n",
       "27             0                                                NaN      2   \n",
       "29             1                                                NaN      1   \n",
       "31             0                                                NaN      2   \n",
       "32             0                                                NaN      2   \n",
       "37             1                                                NaN      1   \n",
       "41             0                                                NaN      2   \n",
       "44             1                                                NaN      1   \n",
       "48             1                                                NaN      1   \n",
       "50             0                                                NaN      2   \n",
       "54             0                                                NaN      2   \n",
       "59             0                                                NaN      2   \n",
       "62             1                                                NaN      1   \n",
       "63             0                                                NaN      2   \n",
       "64             0                                                NaN      2   \n",
       "65             0                                                NaN      2   \n",
       "67             0                                                NaN      2   \n",
       "71             1                                                NaN      1   \n",
       "73             1                                                NaN      1   \n",
       "79             0                                                NaN      2   \n",
       "85             1                                                NaN      1   \n",
       "89             1                                                NaN      1   \n",
       "\n",
       "    new_votes  \n",
       "2           2  \n",
       "3           2  \n",
       "7           2  \n",
       "8           2  \n",
       "10          2  \n",
       "11          2  \n",
       "12          2  \n",
       "15          2  \n",
       "16          2  \n",
       "18          2  \n",
       "19          2  \n",
       "20          2  \n",
       "22          2  \n",
       "26          2  \n",
       "27          2  \n",
       "29          2  \n",
       "31          2  \n",
       "32          2  \n",
       "37          2  \n",
       "41          2  \n",
       "44          2  \n",
       "48          2  \n",
       "50          2  \n",
       "54          2  \n",
       "59          2  \n",
       "62          2  \n",
       "63          2  \n",
       "64          2  \n",
       "65          2  \n",
       "67          2  \n",
       "71          2  \n",
       "73          2  \n",
       "79          2  \n",
       "85          2  \n",
       "89          2  "
      ]
     },
     "execution_count": 500,
     "metadata": {},
     "output_type": "execute_result"
    }
   ],
   "source": [
    "agnes.loc[agnes.new_votes == 2]"
   ]
  },
  {
   "cell_type": "code",
   "execution_count": 501,
   "metadata": {},
   "outputs": [
    {
     "data": {
      "text/plain": [
       "1    37\n",
       "2    35\n",
       "3    18\n",
       "Name: new_votes, dtype: int64"
      ]
     },
     "execution_count": 501,
     "metadata": {},
     "output_type": "execute_result"
    }
   ],
   "source": [
    "agnes.new_votes.value_counts()"
   ]
  },
  {
   "cell_type": "code",
   "execution_count": 502,
   "metadata": {},
   "outputs": [],
   "source": [
    "tid_mvotes = tid_votes.copy()"
   ]
  },
  {
   "cell_type": "code",
   "execution_count": 503,
   "metadata": {},
   "outputs": [],
   "source": [
    "# treat three 1s as positive case\n",
    "for tid, mvote in tid_mvotes.items():\n",
    "    if mvote == 3:\n",
    "        tid_mvotes[tid] = 1"
   ]
  },
  {
   "cell_type": "code",
   "execution_count": 504,
   "metadata": {},
   "outputs": [],
   "source": [
    "# deal with one or two 1s, depending on their new total vote (four labels)\n",
    "for tid, nvote in zip(agnes.tid, agnes.new_votes):\n",
    "    if nvote == 1:\n",
    "        tid_mvotes[tid] = 0\n",
    "    elif nvote == 3:\n",
    "        tid_mvotes[tid] = 1\n",
    "    else:\n",
    "        del tid_mvotes[tid]"
   ]
  },
  {
   "cell_type": "code",
   "execution_count": 505,
   "metadata": {},
   "outputs": [],
   "source": [
    "daniel = pd.read_csv(data_root+'revision/cand_uncertain_tweets_disagree_daniel.csv', quoting=csv.QUOTE_ALL, dtype={'tid': str})"
   ]
  },
  {
   "cell_type": "code",
   "execution_count": 506,
   "metadata": {},
   "outputs": [
    {
     "data": {
      "text/plain": [
       "89"
      ]
     },
     "execution_count": 506,
     "metadata": {},
     "output_type": "execute_result"
    }
   ],
   "source": [
    "len(daniel)"
   ]
  },
  {
   "cell_type": "code",
   "execution_count": 507,
   "metadata": {},
   "outputs": [],
   "source": [
    "daniel['votes'] = daniel.tid.map(tid_votes)"
   ]
  },
  {
   "cell_type": "code",
   "execution_count": 508,
   "metadata": {},
   "outputs": [],
   "source": [
    "daniel['new_votes'] = daniel.apply(lambda row: row['is_uncertain'] + row['votes'], axis = 1)"
   ]
  },
  {
   "cell_type": "code",
   "execution_count": 509,
   "metadata": {
    "scrolled": true
   },
   "outputs": [
    {
     "data": {
      "text/html": [
       "<div>\n",
       "<style scoped>\n",
       "    .dataframe tbody tr th:only-of-type {\n",
       "        vertical-align: middle;\n",
       "    }\n",
       "\n",
       "    .dataframe tbody tr th {\n",
       "        vertical-align: top;\n",
       "    }\n",
       "\n",
       "    .dataframe thead th {\n",
       "        text-align: right;\n",
       "    }\n",
       "</style>\n",
       "<table border=\"1\" class=\"dataframe\">\n",
       "  <thead>\n",
       "    <tr style=\"text-align: right;\">\n",
       "      <th></th>\n",
       "      <th>tid</th>\n",
       "      <th>text</th>\n",
       "      <th>is_uncertain</th>\n",
       "      <th>votes</th>\n",
       "      <th>new_votes</th>\n",
       "    </tr>\n",
       "  </thead>\n",
       "  <tbody>\n",
       "    <tr>\n",
       "      <th>0</th>\n",
       "      <td>228618947816218624</td>\n",
       "      <td>\"Think before you stink.\" Seriously. http://t....</td>\n",
       "      <td>0</td>\n",
       "      <td>2</td>\n",
       "      <td>2</td>\n",
       "    </tr>\n",
       "    <tr>\n",
       "      <th>7</th>\n",
       "      <td>264051406586126338</td>\n",
       "      <td>http://t.co/QcuF95tU\\n\\nDopamine receptor anta...</td>\n",
       "      <td>0</td>\n",
       "      <td>2</td>\n",
       "      <td>2</td>\n",
       "    </tr>\n",
       "    <tr>\n",
       "      <th>9</th>\n",
       "      <td>864448422983737344</td>\n",
       "      <td>Nature biotech will not retract this obviously...</td>\n",
       "      <td>1</td>\n",
       "      <td>1</td>\n",
       "      <td>2</td>\n",
       "    </tr>\n",
       "    <tr>\n",
       "      <th>10</th>\n",
       "      <td>953758969000026114</td>\n",
       "      <td>What if in-person doctor visits were the 2nd, ...</td>\n",
       "      <td>0</td>\n",
       "      <td>2</td>\n",
       "      <td>2</td>\n",
       "    </tr>\n",
       "    <tr>\n",
       "      <th>11</th>\n",
       "      <td>750683971625771008</td>\n",
       "      <td>Issues cause your antibodies not specific enou...</td>\n",
       "      <td>0</td>\n",
       "      <td>2</td>\n",
       "      <td>2</td>\n",
       "    </tr>\n",
       "    <tr>\n",
       "      <th>15</th>\n",
       "      <td>1108890701742264321</td>\n",
       "      <td>You're right in that the CABANA Trial is an in...</td>\n",
       "      <td>0</td>\n",
       "      <td>2</td>\n",
       "      <td>2</td>\n",
       "    </tr>\n",
       "    <tr>\n",
       "      <th>16</th>\n",
       "      <td>534640895157870593</td>\n",
       "      <td>@sarabran @Lilydunnwriter an old idea + contro...</td>\n",
       "      <td>1</td>\n",
       "      <td>1</td>\n",
       "      <td>2</td>\n",
       "    </tr>\n",
       "    <tr>\n",
       "      <th>17</th>\n",
       "      <td>1041764078794858496</td>\n",
       "      <td>This is lie. Alcohol is the problem.\\n\\n\"3 yrs...</td>\n",
       "      <td>1</td>\n",
       "      <td>1</td>\n",
       "      <td>2</td>\n",
       "    </tr>\n",
       "    <tr>\n",
       "      <th>18</th>\n",
       "      <td>647392128474021888</td>\n",
       "      <td>Median follow-up was only 9 months.   Too shor...</td>\n",
       "      <td>1</td>\n",
       "      <td>1</td>\n",
       "      <td>2</td>\n",
       "    </tr>\n",
       "    <tr>\n",
       "      <th>19</th>\n",
       "      <td>697637442023727104</td>\n",
       "      <td>“Editorial Introduction to 'opportunity Makes ...</td>\n",
       "      <td>0</td>\n",
       "      <td>2</td>\n",
       "      <td>2</td>\n",
       "    </tr>\n",
       "    <tr>\n",
       "      <th>25</th>\n",
       "      <td>632776861072822272</td>\n",
       "      <td>@EmilyLHaddon @Squirrel5791 Also, it seems tha...</td>\n",
       "      <td>0</td>\n",
       "      <td>2</td>\n",
       "      <td>2</td>\n",
       "    </tr>\n",
       "    <tr>\n",
       "      <th>26</th>\n",
       "      <td>339797871278829568</td>\n",
       "      <td>Is Aurornis an avialan more basal than Archaeo...</td>\n",
       "      <td>1</td>\n",
       "      <td>1</td>\n",
       "      <td>2</td>\n",
       "    </tr>\n",
       "    <tr>\n",
       "      <th>32</th>\n",
       "      <td>327137210648387587</td>\n",
       "      <td>Encode encore @NatureMagazine DNA's workings s...</td>\n",
       "      <td>0</td>\n",
       "      <td>2</td>\n",
       "      <td>2</td>\n",
       "    </tr>\n",
       "    <tr>\n",
       "      <th>40</th>\n",
       "      <td>478508111456509953</td>\n",
       "      <td>Are trial participants adequately safeguarded ...</td>\n",
       "      <td>0</td>\n",
       "      <td>2</td>\n",
       "      <td>2</td>\n",
       "    </tr>\n",
       "    <tr>\n",
       "      <th>43</th>\n",
       "      <td>987812318183555072</td>\n",
       "      <td>Who will run this study w/a larger N? @womenal...</td>\n",
       "      <td>1</td>\n",
       "      <td>1</td>\n",
       "      <td>2</td>\n",
       "    </tr>\n",
       "    <tr>\n",
       "      <th>45</th>\n",
       "      <td>568949965613084672</td>\n",
       "      <td>@TOPublicHealth Not even Dr Gregory Poland, a ...</td>\n",
       "      <td>1</td>\n",
       "      <td>1</td>\n",
       "      <td>2</td>\n",
       "    </tr>\n",
       "    <tr>\n",
       "      <th>46</th>\n",
       "      <td>864669108004155393</td>\n",
       "      <td>😂Fake news is everywhere people. https://t.co/...</td>\n",
       "      <td>1</td>\n",
       "      <td>1</td>\n",
       "      <td>2</td>\n",
       "    </tr>\n",
       "    <tr>\n",
       "      <th>49</th>\n",
       "      <td>1145754746566918144</td>\n",
       "      <td>Was there any ...ANY ...tracking of the other ...</td>\n",
       "      <td>1</td>\n",
       "      <td>1</td>\n",
       "      <td>2</td>\n",
       "    </tr>\n",
       "    <tr>\n",
       "      <th>54</th>\n",
       "      <td>826850403522400265</td>\n",
       "      <td>Another counterintuitive empirical finding...?...</td>\n",
       "      <td>1</td>\n",
       "      <td>1</td>\n",
       "      <td>2</td>\n",
       "    </tr>\n",
       "    <tr>\n",
       "      <th>57</th>\n",
       "      <td>534727351930998784</td>\n",
       "      <td>Waiting to see a corrigendum to this retractio...</td>\n",
       "      <td>1</td>\n",
       "      <td>1</td>\n",
       "      <td>2</td>\n",
       "    </tr>\n",
       "    <tr>\n",
       "      <th>58</th>\n",
       "      <td>566017410499497985</td>\n",
       "      <td>Biomarkers of sleep restriction discovered!?\\n...</td>\n",
       "      <td>0</td>\n",
       "      <td>2</td>\n",
       "      <td>2</td>\n",
       "    </tr>\n",
       "    <tr>\n",
       "      <th>59</th>\n",
       "      <td>827919609961541633</td>\n",
       "      <td>biggest problem with this study, ping @EMNerd_...</td>\n",
       "      <td>1</td>\n",
       "      <td>1</td>\n",
       "      <td>2</td>\n",
       "    </tr>\n",
       "    <tr>\n",
       "      <th>62</th>\n",
       "      <td>506837767285112832</td>\n",
       "      <td>Silly that the we can't get the terminology st...</td>\n",
       "      <td>0</td>\n",
       "      <td>2</td>\n",
       "      <td>2</td>\n",
       "    </tr>\n",
       "    <tr>\n",
       "      <th>66</th>\n",
       "      <td>411400396075044864</td>\n",
       "      <td>This article claims that studies show that #ec...</td>\n",
       "      <td>0</td>\n",
       "      <td>2</td>\n",
       "      <td>2</td>\n",
       "    </tr>\n",
       "    <tr>\n",
       "      <th>69</th>\n",
       "      <td>555857993749655552</td>\n",
       "      <td>Ah yes. High dose amphetamine for \"binge eatin...</td>\n",
       "      <td>0</td>\n",
       "      <td>2</td>\n",
       "      <td>2</td>\n",
       "    </tr>\n",
       "    <tr>\n",
       "      <th>71</th>\n",
       "      <td>824330957465460736</td>\n",
       "      <td>Video vs Direct Laryngoscopy in ICU - Video wo...</td>\n",
       "      <td>0</td>\n",
       "      <td>2</td>\n",
       "      <td>2</td>\n",
       "    </tr>\n",
       "    <tr>\n",
       "      <th>74</th>\n",
       "      <td>674575847764848640</td>\n",
       "      <td>Thoughts? \\n\\nIV Oxygen paper (2012) – https:/...</td>\n",
       "      <td>0</td>\n",
       "      <td>2</td>\n",
       "      <td>2</td>\n",
       "    </tr>\n",
       "    <tr>\n",
       "      <th>76</th>\n",
       "      <td>254272744542306304</td>\n",
       "      <td>@mackinprof your data (http://t.co/U2LiNWZY)  ...</td>\n",
       "      <td>0</td>\n",
       "      <td>2</td>\n",
       "      <td>2</td>\n",
       "    </tr>\n",
       "    <tr>\n",
       "      <th>77</th>\n",
       "      <td>1001047682025127936</td>\n",
       "      <td>I love the testiness in this article, e.g.:\\n\\...</td>\n",
       "      <td>1</td>\n",
       "      <td>1</td>\n",
       "      <td>2</td>\n",
       "    </tr>\n",
       "    <tr>\n",
       "      <th>81</th>\n",
       "      <td>900846015569432576</td>\n",
       "      <td>Thoughts on this observational data? @uroegg @...</td>\n",
       "      <td>0</td>\n",
       "      <td>2</td>\n",
       "      <td>2</td>\n",
       "    </tr>\n",
       "    <tr>\n",
       "      <th>84</th>\n",
       "      <td>659823296901480448</td>\n",
       "      <td>I seriously hope this paper is about phosphate...</td>\n",
       "      <td>0</td>\n",
       "      <td>2</td>\n",
       "      <td>2</td>\n",
       "    </tr>\n",
       "    <tr>\n",
       "      <th>87</th>\n",
       "      <td>751506578101178368</td>\n",
       "      <td>(1) Another paper that suggests the need to ta...</td>\n",
       "      <td>0</td>\n",
       "      <td>2</td>\n",
       "      <td>2</td>\n",
       "    </tr>\n",
       "  </tbody>\n",
       "</table>\n",
       "</div>"
      ],
      "text/plain": [
       "                    tid                                               text  \\\n",
       "0    228618947816218624  \"Think before you stink.\" Seriously. http://t....   \n",
       "7    264051406586126338  http://t.co/QcuF95tU\\n\\nDopamine receptor anta...   \n",
       "9    864448422983737344  Nature biotech will not retract this obviously...   \n",
       "10   953758969000026114  What if in-person doctor visits were the 2nd, ...   \n",
       "11   750683971625771008  Issues cause your antibodies not specific enou...   \n",
       "15  1108890701742264321  You're right in that the CABANA Trial is an in...   \n",
       "16   534640895157870593  @sarabran @Lilydunnwriter an old idea + contro...   \n",
       "17  1041764078794858496  This is lie. Alcohol is the problem.\\n\\n\"3 yrs...   \n",
       "18   647392128474021888  Median follow-up was only 9 months.   Too shor...   \n",
       "19   697637442023727104  “Editorial Introduction to 'opportunity Makes ...   \n",
       "25   632776861072822272  @EmilyLHaddon @Squirrel5791 Also, it seems tha...   \n",
       "26   339797871278829568  Is Aurornis an avialan more basal than Archaeo...   \n",
       "32   327137210648387587  Encode encore @NatureMagazine DNA's workings s...   \n",
       "40   478508111456509953  Are trial participants adequately safeguarded ...   \n",
       "43   987812318183555072  Who will run this study w/a larger N? @womenal...   \n",
       "45   568949965613084672  @TOPublicHealth Not even Dr Gregory Poland, a ...   \n",
       "46   864669108004155393  😂Fake news is everywhere people. https://t.co/...   \n",
       "49  1145754746566918144  Was there any ...ANY ...tracking of the other ...   \n",
       "54   826850403522400265  Another counterintuitive empirical finding...?...   \n",
       "57   534727351930998784  Waiting to see a corrigendum to this retractio...   \n",
       "58   566017410499497985  Biomarkers of sleep restriction discovered!?\\n...   \n",
       "59   827919609961541633  biggest problem with this study, ping @EMNerd_...   \n",
       "62   506837767285112832  Silly that the we can't get the terminology st...   \n",
       "66   411400396075044864  This article claims that studies show that #ec...   \n",
       "69   555857993749655552  Ah yes. High dose amphetamine for \"binge eatin...   \n",
       "71   824330957465460736  Video vs Direct Laryngoscopy in ICU - Video wo...   \n",
       "74   674575847764848640  Thoughts? \\n\\nIV Oxygen paper (2012) – https:/...   \n",
       "76   254272744542306304  @mackinprof your data (http://t.co/U2LiNWZY)  ...   \n",
       "77  1001047682025127936  I love the testiness in this article, e.g.:\\n\\...   \n",
       "81   900846015569432576  Thoughts on this observational data? @uroegg @...   \n",
       "84   659823296901480448  I seriously hope this paper is about phosphate...   \n",
       "87   751506578101178368  (1) Another paper that suggests the need to ta...   \n",
       "\n",
       "    is_uncertain  votes  new_votes  \n",
       "0              0      2          2  \n",
       "7              0      2          2  \n",
       "9              1      1          2  \n",
       "10             0      2          2  \n",
       "11             0      2          2  \n",
       "15             0      2          2  \n",
       "16             1      1          2  \n",
       "17             1      1          2  \n",
       "18             1      1          2  \n",
       "19             0      2          2  \n",
       "25             0      2          2  \n",
       "26             1      1          2  \n",
       "32             0      2          2  \n",
       "40             0      2          2  \n",
       "43             1      1          2  \n",
       "45             1      1          2  \n",
       "46             1      1          2  \n",
       "49             1      1          2  \n",
       "54             1      1          2  \n",
       "57             1      1          2  \n",
       "58             0      2          2  \n",
       "59             1      1          2  \n",
       "62             0      2          2  \n",
       "66             0      2          2  \n",
       "69             0      2          2  \n",
       "71             0      2          2  \n",
       "74             0      2          2  \n",
       "76             0      2          2  \n",
       "77             1      1          2  \n",
       "81             0      2          2  \n",
       "84             0      2          2  \n",
       "87             0      2          2  "
      ]
     },
     "execution_count": 509,
     "metadata": {},
     "output_type": "execute_result"
    }
   ],
   "source": [
    "daniel.loc[daniel.new_votes == 2]"
   ]
  },
  {
   "cell_type": "code",
   "execution_count": 510,
   "metadata": {
    "scrolled": true
   },
   "outputs": [
    {
     "data": {
      "text/plain": [
       "1    44\n",
       "2    32\n",
       "3    13\n",
       "Name: new_votes, dtype: int64"
      ]
     },
     "execution_count": 510,
     "metadata": {},
     "output_type": "execute_result"
    }
   ],
   "source": [
    "daniel.new_votes.value_counts()"
   ]
  },
  {
   "cell_type": "code",
   "execution_count": 511,
   "metadata": {},
   "outputs": [],
   "source": [
    "# deal with one or two 1s, depending on their new total vote (four labels)\n",
    "for tid, nvote in zip(daniel.tid, daniel.new_votes):\n",
    "    if nvote == 1:\n",
    "        tid_mvotes[tid] = 0\n",
    "    elif nvote == 3:\n",
    "        tid_mvotes[tid] = 1\n",
    "    else:\n",
    "        del tid_mvotes[tid]"
   ]
  },
  {
   "cell_type": "code",
   "execution_count": 536,
   "metadata": {
    "scrolled": false
   },
   "outputs": [
    {
     "data": {
      "text/plain": [
       "3715"
      ]
     },
     "execution_count": 536,
     "metadata": {},
     "output_type": "execute_result"
    }
   ],
   "source": [
    "len(tid_mvotes)"
   ]
  },
  {
   "cell_type": "code",
   "execution_count": 543,
   "metadata": {},
   "outputs": [],
   "source": [
    "final_df = rs['hao'].copy()"
   ]
  },
  {
   "cell_type": "code",
   "execution_count": 544,
   "metadata": {},
   "outputs": [],
   "source": [
    "final_df = final_df.drop(columns=['is_uncertain'])"
   ]
  },
  {
   "cell_type": "code",
   "execution_count": 539,
   "metadata": {},
   "outputs": [],
   "source": [
    "# treat (0, 0, 1, 1) cases as negative\n",
    "final_df['majority_vote'] = final_df.tid.apply(lambda tid: tid_mvotes[tid] if tid in tid_mvotes else 0)"
   ]
  },
  {
   "cell_type": "code",
   "execution_count": 546,
   "metadata": {
    "scrolled": true
   },
   "outputs": [
    {
     "data": {
      "text/plain": [
       "3782"
      ]
     },
     "execution_count": 546,
     "metadata": {},
     "output_type": "execute_result"
    }
   ],
   "source": [
    "len(final_df)"
   ]
  },
  {
   "cell_type": "code",
   "execution_count": 547,
   "metadata": {},
   "outputs": [
    {
     "data": {
      "text/html": [
       "<div>\n",
       "<style scoped>\n",
       "    .dataframe tbody tr th:only-of-type {\n",
       "        vertical-align: middle;\n",
       "    }\n",
       "\n",
       "    .dataframe tbody tr th {\n",
       "        vertical-align: top;\n",
       "    }\n",
       "\n",
       "    .dataframe thead th {\n",
       "        text-align: right;\n",
       "    }\n",
       "</style>\n",
       "<table border=\"1\" class=\"dataframe\">\n",
       "  <thead>\n",
       "    <tr style=\"text-align: right;\">\n",
       "      <th></th>\n",
       "      <th>tid</th>\n",
       "      <th>text</th>\n",
       "      <th>majority_vote</th>\n",
       "    </tr>\n",
       "  </thead>\n",
       "  <tbody>\n",
       "    <tr>\n",
       "      <th>0</th>\n",
       "      <td>1000406217133608960</td>\n",
       "      <td>Results from National Cancer Database in men w...</td>\n",
       "      <td>0</td>\n",
       "    </tr>\n",
       "    <tr>\n",
       "      <th>1</th>\n",
       "      <td>1000876218974171137</td>\n",
       "      <td>Presentation Pet Peeves\\n\"As an academic gener...</td>\n",
       "      <td>0</td>\n",
       "    </tr>\n",
       "    <tr>\n",
       "      <th>2</th>\n",
       "      <td>1000890492501090304</td>\n",
       "      <td>I had the “Neurology stable: what does that me...</td>\n",
       "      <td>0</td>\n",
       "    </tr>\n",
       "    <tr>\n",
       "      <th>3</th>\n",
       "      <td>1001047682025127936</td>\n",
       "      <td>I love the testiness in this article, e.g.:\\n\\...</td>\n",
       "      <td>1</td>\n",
       "    </tr>\n",
       "    <tr>\n",
       "      <th>4</th>\n",
       "      <td>1001070522560667650</td>\n",
       "      <td>Vibrational and electrical properties of Cu2−x...</td>\n",
       "      <td>0</td>\n",
       "    </tr>\n",
       "  </tbody>\n",
       "</table>\n",
       "</div>"
      ],
      "text/plain": [
       "                   tid                                               text  \\\n",
       "0  1000406217133608960  Results from National Cancer Database in men w...   \n",
       "1  1000876218974171137  Presentation Pet Peeves\\n\"As an academic gener...   \n",
       "2  1000890492501090304  I had the “Neurology stable: what does that me...   \n",
       "3  1001047682025127936  I love the testiness in this article, e.g.:\\n\\...   \n",
       "4  1001070522560667650  Vibrational and electrical properties of Cu2−x...   \n",
       "\n",
       "   majority_vote  \n",
       "0              0  \n",
       "1              0  \n",
       "2              0  \n",
       "3              1  \n",
       "4              0  "
      ]
     },
     "execution_count": 547,
     "metadata": {},
     "output_type": "execute_result"
    }
   ],
   "source": [
    "final_df.head()"
   ]
  },
  {
   "cell_type": "code",
   "execution_count": 542,
   "metadata": {
    "scrolled": true
   },
   "outputs": [
    {
     "data": {
      "text/plain": [
       "0    3539\n",
       "1     243\n",
       "Name: majority_vote, dtype: int64"
      ]
     },
     "execution_count": 542,
     "metadata": {},
     "output_type": "execute_result"
    }
   ],
   "source": [
    "final_df.majority_vote.value_counts()"
   ]
  },
  {
   "cell_type": "code",
   "execution_count": 519,
   "metadata": {},
   "outputs": [],
   "source": [
    "final_df.to_csv(data_root+'revision/cand_uncertain_tweets_revision_mvotes.csv', quoting=csv.QUOTE_ALL, header=True, index=False)\n"
   ]
  },
  {
   "cell_type": "code",
   "execution_count": 545,
   "metadata": {},
   "outputs": [],
   "source": [
    "# treat (0, 0, 1, 1) cases as positive\n",
    "final_df['majority_vote'] = final_df.tid.apply(lambda tid: tid_mvotes[tid] if tid in tid_mvotes else 1)"
   ]
  },
  {
   "cell_type": "code",
   "execution_count": 548,
   "metadata": {
    "scrolled": true
   },
   "outputs": [
    {
     "data": {
      "text/plain": [
       "0    3472\n",
       "1     310\n",
       "Name: majority_vote, dtype: int64"
      ]
     },
     "execution_count": 548,
     "metadata": {},
     "output_type": "execute_result"
    }
   ],
   "source": [
    "final_df.majority_vote.value_counts()"
   ]
  },
  {
   "cell_type": "code",
   "execution_count": 549,
   "metadata": {},
   "outputs": [],
   "source": [
    "final_df.to_csv(data_root+'revision/cand_uncertain_tweets_revision_mvotes_bar.csv', quoting=csv.QUOTE_ALL, header=True, index=False)\n"
   ]
  },
  {
   "cell_type": "markdown",
   "metadata": {},
   "source": [
    "Prepare data for publishing"
   ]
  },
  {
   "cell_type": "code",
   "execution_count": 520,
   "metadata": {},
   "outputs": [],
   "source": [
    "final_df = pd.read_csv(data_root+'revision/cand_uncertain_tweets_revision_mvotes.csv', quoting=csv.QUOTE_ALL, header=0, dtype={'tid': 'str'})\n"
   ]
  },
  {
   "cell_type": "code",
   "execution_count": 521,
   "metadata": {},
   "outputs": [],
   "source": [
    "final_df['meet_heuristic'] = 1"
   ]
  },
  {
   "cell_type": "code",
   "execution_count": 522,
   "metadata": {},
   "outputs": [],
   "source": [
    "votes = np.array([rs[name]['is_uncertain'].values for name in names]).T"
   ]
  },
  {
   "cell_type": "code",
   "execution_count": 523,
   "metadata": {},
   "outputs": [],
   "source": [
    "tid_votes = dict(zip(rs['hao'].tid, votes))"
   ]
  },
  {
   "cell_type": "code",
   "execution_count": 524,
   "metadata": {},
   "outputs": [],
   "source": [
    "final_df['three_labels'] = final_df.tid.map(tid_votes)"
   ]
  },
  {
   "cell_type": "code",
   "execution_count": 525,
   "metadata": {},
   "outputs": [],
   "source": [
    "tem_df = agnes.append(daniel)\n",
    "tid_fourth = dict(zip(tem_df['tid'], tem_df['is_uncertain']))"
   ]
  },
  {
   "cell_type": "code",
   "execution_count": 526,
   "metadata": {},
   "outputs": [],
   "source": [
    "final_df['fourth_label'] = final_df.tid.map(tid_fourth)"
   ]
  },
  {
   "cell_type": "code",
   "execution_count": 527,
   "metadata": {},
   "outputs": [
    {
     "data": {
      "text/html": [
       "<div>\n",
       "<style scoped>\n",
       "    .dataframe tbody tr th:only-of-type {\n",
       "        vertical-align: middle;\n",
       "    }\n",
       "\n",
       "    .dataframe tbody tr th {\n",
       "        vertical-align: top;\n",
       "    }\n",
       "\n",
       "    .dataframe thead th {\n",
       "        text-align: right;\n",
       "    }\n",
       "</style>\n",
       "<table border=\"1\" class=\"dataframe\">\n",
       "  <thead>\n",
       "    <tr style=\"text-align: right;\">\n",
       "      <th></th>\n",
       "      <th>tid</th>\n",
       "      <th>text</th>\n",
       "      <th>majority_vote</th>\n",
       "      <th>meet_heuristic</th>\n",
       "      <th>three_labels</th>\n",
       "      <th>fourth_label</th>\n",
       "    </tr>\n",
       "  </thead>\n",
       "  <tbody>\n",
       "    <tr>\n",
       "      <th>0</th>\n",
       "      <td>1000406217133608960</td>\n",
       "      <td>Results from National Cancer Database in men w...</td>\n",
       "      <td>0</td>\n",
       "      <td>1</td>\n",
       "      <td>[0, 0, 0]</td>\n",
       "      <td>NaN</td>\n",
       "    </tr>\n",
       "    <tr>\n",
       "      <th>1</th>\n",
       "      <td>1000876218974171137</td>\n",
       "      <td>Presentation Pet Peeves\\n\"As an academic gener...</td>\n",
       "      <td>0</td>\n",
       "      <td>1</td>\n",
       "      <td>[0, 0, 0]</td>\n",
       "      <td>NaN</td>\n",
       "    </tr>\n",
       "    <tr>\n",
       "      <th>2</th>\n",
       "      <td>1000890492501090304</td>\n",
       "      <td>I had the “Neurology stable: what does that me...</td>\n",
       "      <td>0</td>\n",
       "      <td>1</td>\n",
       "      <td>[0, 0, 0]</td>\n",
       "      <td>NaN</td>\n",
       "    </tr>\n",
       "    <tr>\n",
       "      <th>3</th>\n",
       "      <td>1001047682025127936</td>\n",
       "      <td>I love the testiness in this article, e.g.:\\n\\...</td>\n",
       "      <td>0</td>\n",
       "      <td>1</td>\n",
       "      <td>[0, 0, 1]</td>\n",
       "      <td>1.0</td>\n",
       "    </tr>\n",
       "    <tr>\n",
       "      <th>4</th>\n",
       "      <td>1001070522560667650</td>\n",
       "      <td>Vibrational and electrical properties of Cu2−x...</td>\n",
       "      <td>0</td>\n",
       "      <td>1</td>\n",
       "      <td>[0, 0, 0]</td>\n",
       "      <td>NaN</td>\n",
       "    </tr>\n",
       "  </tbody>\n",
       "</table>\n",
       "</div>"
      ],
      "text/plain": [
       "                   tid                                               text  \\\n",
       "0  1000406217133608960  Results from National Cancer Database in men w...   \n",
       "1  1000876218974171137  Presentation Pet Peeves\\n\"As an academic gener...   \n",
       "2  1000890492501090304  I had the “Neurology stable: what does that me...   \n",
       "3  1001047682025127936  I love the testiness in this article, e.g.:\\n\\...   \n",
       "4  1001070522560667650  Vibrational and electrical properties of Cu2−x...   \n",
       "\n",
       "   majority_vote  meet_heuristic three_labels  fourth_label  \n",
       "0              0               1    [0, 0, 0]           NaN  \n",
       "1              0               1    [0, 0, 0]           NaN  \n",
       "2              0               1    [0, 0, 0]           NaN  \n",
       "3              0               1    [0, 0, 1]           1.0  \n",
       "4              0               1    [0, 0, 0]           NaN  "
      ]
     },
     "execution_count": 527,
     "metadata": {},
     "output_type": "execute_result"
    }
   ],
   "source": [
    "final_df.head()"
   ]
  },
  {
   "cell_type": "code",
   "execution_count": 528,
   "metadata": {},
   "outputs": [],
   "source": [
    "filter_df = []\n",
    "\n",
    "for altid, tids in cand_tids_control.items():\n",
    "    for tid in tids:\n",
    "        if not is_doubt(tid_text[tid]):\n",
    "            filter_df.append(tid)"
   ]
  },
  {
   "cell_type": "code",
   "execution_count": 529,
   "metadata": {},
   "outputs": [],
   "source": [
    "filter_df = pd.DataFrame(filter_df, columns=['tid'])"
   ]
  },
  {
   "cell_type": "code",
   "execution_count": 530,
   "metadata": {},
   "outputs": [],
   "source": [
    "filter_df['text'] = filter_df.tid.map(tid_text)"
   ]
  },
  {
   "cell_type": "code",
   "execution_count": 531,
   "metadata": {},
   "outputs": [],
   "source": [
    "filter_df['meet_heuristic'] = 0"
   ]
  },
  {
   "cell_type": "code",
   "execution_count": 532,
   "metadata": {},
   "outputs": [
    {
     "data": {
      "text/plain": [
       "24172"
      ]
     },
     "execution_count": 532,
     "metadata": {},
     "output_type": "execute_result"
    }
   ],
   "source": [
    "len(filter_df)"
   ]
  },
  {
   "cell_type": "code",
   "execution_count": 533,
   "metadata": {},
   "outputs": [],
   "source": [
    "all_df = final_df.append(filter_df)"
   ]
  },
  {
   "cell_type": "code",
   "execution_count": 534,
   "metadata": {},
   "outputs": [
    {
     "data": {
      "text/html": [
       "<div>\n",
       "<style scoped>\n",
       "    .dataframe tbody tr th:only-of-type {\n",
       "        vertical-align: middle;\n",
       "    }\n",
       "\n",
       "    .dataframe tbody tr th {\n",
       "        vertical-align: top;\n",
       "    }\n",
       "\n",
       "    .dataframe thead th {\n",
       "        text-align: right;\n",
       "    }\n",
       "</style>\n",
       "<table border=\"1\" class=\"dataframe\">\n",
       "  <thead>\n",
       "    <tr style=\"text-align: right;\">\n",
       "      <th></th>\n",
       "      <th>tid</th>\n",
       "      <th>text</th>\n",
       "      <th>majority_vote</th>\n",
       "      <th>meet_heuristic</th>\n",
       "      <th>three_labels</th>\n",
       "      <th>fourth_label</th>\n",
       "    </tr>\n",
       "  </thead>\n",
       "  <tbody>\n",
       "    <tr>\n",
       "      <th>0</th>\n",
       "      <td>1000406217133608960</td>\n",
       "      <td>Results from National Cancer Database in men w...</td>\n",
       "      <td>0.0</td>\n",
       "      <td>1</td>\n",
       "      <td>[0, 0, 0]</td>\n",
       "      <td>NaN</td>\n",
       "    </tr>\n",
       "    <tr>\n",
       "      <th>1</th>\n",
       "      <td>1000876218974171137</td>\n",
       "      <td>Presentation Pet Peeves\\n\"As an academic gener...</td>\n",
       "      <td>0.0</td>\n",
       "      <td>1</td>\n",
       "      <td>[0, 0, 0]</td>\n",
       "      <td>NaN</td>\n",
       "    </tr>\n",
       "    <tr>\n",
       "      <th>2</th>\n",
       "      <td>1000890492501090304</td>\n",
       "      <td>I had the “Neurology stable: what does that me...</td>\n",
       "      <td>0.0</td>\n",
       "      <td>1</td>\n",
       "      <td>[0, 0, 0]</td>\n",
       "      <td>NaN</td>\n",
       "    </tr>\n",
       "    <tr>\n",
       "      <th>3</th>\n",
       "      <td>1001047682025127936</td>\n",
       "      <td>I love the testiness in this article, e.g.:\\n\\...</td>\n",
       "      <td>0.0</td>\n",
       "      <td>1</td>\n",
       "      <td>[0, 0, 1]</td>\n",
       "      <td>1.0</td>\n",
       "    </tr>\n",
       "    <tr>\n",
       "      <th>4</th>\n",
       "      <td>1001070522560667650</td>\n",
       "      <td>Vibrational and electrical properties of Cu2−x...</td>\n",
       "      <td>0.0</td>\n",
       "      <td>1</td>\n",
       "      <td>[0, 0, 0]</td>\n",
       "      <td>NaN</td>\n",
       "    </tr>\n",
       "  </tbody>\n",
       "</table>\n",
       "</div>"
      ],
      "text/plain": [
       "                   tid                                               text  \\\n",
       "0  1000406217133608960  Results from National Cancer Database in men w...   \n",
       "1  1000876218974171137  Presentation Pet Peeves\\n\"As an academic gener...   \n",
       "2  1000890492501090304  I had the “Neurology stable: what does that me...   \n",
       "3  1001047682025127936  I love the testiness in this article, e.g.:\\n\\...   \n",
       "4  1001070522560667650  Vibrational and electrical properties of Cu2−x...   \n",
       "\n",
       "   majority_vote  meet_heuristic three_labels  fourth_label  \n",
       "0            0.0               1    [0, 0, 0]           NaN  \n",
       "1            0.0               1    [0, 0, 0]           NaN  \n",
       "2            0.0               1    [0, 0, 0]           NaN  \n",
       "3            0.0               1    [0, 0, 1]           1.0  \n",
       "4            0.0               1    [0, 0, 0]           NaN  "
      ]
     },
     "execution_count": 534,
     "metadata": {},
     "output_type": "execute_result"
    }
   ],
   "source": [
    "all_df.head(5)"
   ]
  },
  {
   "cell_type": "code",
   "execution_count": 554,
   "metadata": {},
   "outputs": [
    {
     "data": {
      "text/plain": [
       "27954"
      ]
     },
     "execution_count": 554,
     "metadata": {},
     "output_type": "execute_result"
    }
   ],
   "source": [
    "len(all_df)"
   ]
  },
  {
   "cell_type": "code",
   "execution_count": 535,
   "metadata": {},
   "outputs": [],
   "source": [
    "all_df.to_csv(data_root+'revision/tweets_uncertain_label_revision.csv', quoting=csv.QUOTE_ALL, header=True, index=False, \\\n",
    "             columns=['tid', 'text', 'meet_heuristic', 'three_labels', 'fourth_label', 'majority_vote'])"
   ]
  },
  {
   "cell_type": "code",
   "execution_count": 643,
   "metadata": {},
   "outputs": [],
   "source": [
    "all_df = pd.read_csv(data_root+'revision/tweets_uncertain_label_revision.csv', quoting=csv.QUOTE_ALL, header=0, dtype={'tid': 'str'})\n"
   ]
  },
  {
   "cell_type": "markdown",
   "metadata": {},
   "source": [
    "Combine previous data (tweets for retracted paper in the initial version) with new data (tweets for newly matched control papers in the revision)"
   ]
  },
  {
   "cell_type": "code",
   "execution_count": 644,
   "metadata": {},
   "outputs": [],
   "source": [
    "share_df_old = pd.read_csv(data_root+'tweets_uncertain_label.csv', quoting=csv.QUOTE_ALL, header=0, dtype={'tid': 'str'})\n"
   ]
  },
  {
   "cell_type": "code",
   "execution_count": 645,
   "metadata": {},
   "outputs": [
    {
     "data": {
      "text/plain": [
       "50158"
      ]
     },
     "execution_count": 645,
     "metadata": {},
     "output_type": "execute_result"
    }
   ],
   "source": [
    "len(share_df_old)"
   ]
  },
  {
   "cell_type": "code",
   "execution_count": 646,
   "metadata": {},
   "outputs": [],
   "source": [
    "tem_all = all_df.append(share_df_old)"
   ]
  },
  {
   "cell_type": "code",
   "execution_count": 647,
   "metadata": {
    "scrolled": true
   },
   "outputs": [
    {
     "data": {
      "text/html": [
       "<div>\n",
       "<style scoped>\n",
       "    .dataframe tbody tr th:only-of-type {\n",
       "        vertical-align: middle;\n",
       "    }\n",
       "\n",
       "    .dataframe tbody tr th {\n",
       "        vertical-align: top;\n",
       "    }\n",
       "\n",
       "    .dataframe thead th {\n",
       "        text-align: right;\n",
       "    }\n",
       "</style>\n",
       "<table border=\"1\" class=\"dataframe\">\n",
       "  <thead>\n",
       "    <tr style=\"text-align: right;\">\n",
       "      <th></th>\n",
       "      <th>tid</th>\n",
       "      <th>text</th>\n",
       "      <th>meet_heuristic</th>\n",
       "      <th>three_labels</th>\n",
       "      <th>fourth_label</th>\n",
       "      <th>majority_vote</th>\n",
       "    </tr>\n",
       "  </thead>\n",
       "  <tbody>\n",
       "    <tr>\n",
       "      <th>0</th>\n",
       "      <td>1000406217133608960</td>\n",
       "      <td>Results from National Cancer Database in men w...</td>\n",
       "      <td>1</td>\n",
       "      <td>[0 0 0]</td>\n",
       "      <td>NaN</td>\n",
       "      <td>0.0</td>\n",
       "    </tr>\n",
       "    <tr>\n",
       "      <th>1</th>\n",
       "      <td>1000876218974171137</td>\n",
       "      <td>Presentation Pet Peeves\\n\"As an academic gener...</td>\n",
       "      <td>1</td>\n",
       "      <td>[0 0 0]</td>\n",
       "      <td>NaN</td>\n",
       "      <td>0.0</td>\n",
       "    </tr>\n",
       "    <tr>\n",
       "      <th>2</th>\n",
       "      <td>1000890492501090304</td>\n",
       "      <td>I had the “Neurology stable: what does that me...</td>\n",
       "      <td>1</td>\n",
       "      <td>[0 0 0]</td>\n",
       "      <td>NaN</td>\n",
       "      <td>0.0</td>\n",
       "    </tr>\n",
       "    <tr>\n",
       "      <th>3</th>\n",
       "      <td>1001047682025127936</td>\n",
       "      <td>I love the testiness in this article, e.g.:\\n\\...</td>\n",
       "      <td>1</td>\n",
       "      <td>[0 0 1]</td>\n",
       "      <td>1.0</td>\n",
       "      <td>0.0</td>\n",
       "    </tr>\n",
       "    <tr>\n",
       "      <th>4</th>\n",
       "      <td>1001070522560667650</td>\n",
       "      <td>Vibrational and electrical properties of Cu2−x...</td>\n",
       "      <td>1</td>\n",
       "      <td>[0 0 0]</td>\n",
       "      <td>NaN</td>\n",
       "      <td>0.0</td>\n",
       "    </tr>\n",
       "  </tbody>\n",
       "</table>\n",
       "</div>"
      ],
      "text/plain": [
       "                   tid                                               text  \\\n",
       "0  1000406217133608960  Results from National Cancer Database in men w...   \n",
       "1  1000876218974171137  Presentation Pet Peeves\\n\"As an academic gener...   \n",
       "2  1000890492501090304  I had the “Neurology stable: what does that me...   \n",
       "3  1001047682025127936  I love the testiness in this article, e.g.:\\n\\...   \n",
       "4  1001070522560667650  Vibrational and electrical properties of Cu2−x...   \n",
       "\n",
       "   meet_heuristic three_labels  fourth_label  majority_vote  \n",
       "0               1      [0 0 0]           NaN            0.0  \n",
       "1               1      [0 0 0]           NaN            0.0  \n",
       "2               1      [0 0 0]           NaN            0.0  \n",
       "3               1      [0 0 1]           1.0            0.0  \n",
       "4               1      [0 0 0]           NaN            0.0  "
      ]
     },
     "execution_count": 647,
     "metadata": {},
     "output_type": "execute_result"
    }
   ],
   "source": [
    "tem_all.head()"
   ]
  },
  {
   "cell_type": "code",
   "execution_count": 648,
   "metadata": {},
   "outputs": [
    {
     "data": {
      "text/plain": [
       "78112"
      ]
     },
     "execution_count": 648,
     "metadata": {},
     "output_type": "execute_result"
    }
   ],
   "source": [
    "len(tem_all)"
   ]
  },
  {
   "cell_type": "code",
   "execution_count": 649,
   "metadata": {},
   "outputs": [],
   "source": [
    "tem_all = tem_all.drop_duplicates(subset=['tid'])\n",
    "tem_all.index = range(len(tem_all))"
   ]
  },
  {
   "cell_type": "code",
   "execution_count": 650,
   "metadata": {},
   "outputs": [
    {
     "data": {
      "text/plain": [
       "77514"
      ]
     },
     "execution_count": 650,
     "metadata": {},
     "output_type": "execute_result"
    }
   ],
   "source": [
    "len(tem_all)"
   ]
  },
  {
   "cell_type": "code",
   "execution_count": 651,
   "metadata": {},
   "outputs": [],
   "source": [
    "all_tids = set()\n",
    "\n",
    "for doi, tids in cand_tids_ret.items():\n",
    "    for tid in tids:\n",
    "        all_tids.add(tid)\n",
    "        \n",
    "for altid, tids in cand_tids_control.items():\n",
    "    for tid in tids:\n",
    "        all_tids.add(tid)"
   ]
  },
  {
   "cell_type": "code",
   "execution_count": 652,
   "metadata": {
    "scrolled": true
   },
   "outputs": [
    {
     "data": {
      "text/plain": [
       "42767"
      ]
     },
     "execution_count": 652,
     "metadata": {},
     "output_type": "execute_result"
    }
   ],
   "source": [
    "len(all_tids)"
   ]
  },
  {
   "cell_type": "code",
   "execution_count": 653,
   "metadata": {},
   "outputs": [],
   "source": [
    "tem_all = tem_all.loc[tem_all.tid.isin(all_tids)]\n",
    "tem_all.index = range(len(tem_all))"
   ]
  },
  {
   "cell_type": "code",
   "execution_count": 654,
   "metadata": {},
   "outputs": [
    {
     "data": {
      "text/html": [
       "<div>\n",
       "<style scoped>\n",
       "    .dataframe tbody tr th:only-of-type {\n",
       "        vertical-align: middle;\n",
       "    }\n",
       "\n",
       "    .dataframe tbody tr th {\n",
       "        vertical-align: top;\n",
       "    }\n",
       "\n",
       "    .dataframe thead th {\n",
       "        text-align: right;\n",
       "    }\n",
       "</style>\n",
       "<table border=\"1\" class=\"dataframe\">\n",
       "  <thead>\n",
       "    <tr style=\"text-align: right;\">\n",
       "      <th></th>\n",
       "      <th>tid</th>\n",
       "      <th>text</th>\n",
       "      <th>meet_heuristic</th>\n",
       "      <th>three_labels</th>\n",
       "      <th>fourth_label</th>\n",
       "      <th>majority_vote</th>\n",
       "    </tr>\n",
       "  </thead>\n",
       "  <tbody>\n",
       "    <tr>\n",
       "      <th>0</th>\n",
       "      <td>1000406217133608960</td>\n",
       "      <td>Results from National Cancer Database in men w...</td>\n",
       "      <td>1</td>\n",
       "      <td>[0 0 0]</td>\n",
       "      <td>NaN</td>\n",
       "      <td>0.0</td>\n",
       "    </tr>\n",
       "    <tr>\n",
       "      <th>1</th>\n",
       "      <td>1000876218974171137</td>\n",
       "      <td>Presentation Pet Peeves\\n\"As an academic gener...</td>\n",
       "      <td>1</td>\n",
       "      <td>[0 0 0]</td>\n",
       "      <td>NaN</td>\n",
       "      <td>0.0</td>\n",
       "    </tr>\n",
       "    <tr>\n",
       "      <th>2</th>\n",
       "      <td>1000890492501090304</td>\n",
       "      <td>I had the “Neurology stable: what does that me...</td>\n",
       "      <td>1</td>\n",
       "      <td>[0 0 0]</td>\n",
       "      <td>NaN</td>\n",
       "      <td>0.0</td>\n",
       "    </tr>\n",
       "    <tr>\n",
       "      <th>3</th>\n",
       "      <td>1001047682025127936</td>\n",
       "      <td>I love the testiness in this article, e.g.:\\n\\...</td>\n",
       "      <td>1</td>\n",
       "      <td>[0 0 1]</td>\n",
       "      <td>1.0</td>\n",
       "      <td>0.0</td>\n",
       "    </tr>\n",
       "    <tr>\n",
       "      <th>4</th>\n",
       "      <td>1001070522560667650</td>\n",
       "      <td>Vibrational and electrical properties of Cu2−x...</td>\n",
       "      <td>1</td>\n",
       "      <td>[0 0 0]</td>\n",
       "      <td>NaN</td>\n",
       "      <td>0.0</td>\n",
       "    </tr>\n",
       "  </tbody>\n",
       "</table>\n",
       "</div>"
      ],
      "text/plain": [
       "                   tid                                               text  \\\n",
       "0  1000406217133608960  Results from National Cancer Database in men w...   \n",
       "1  1000876218974171137  Presentation Pet Peeves\\n\"As an academic gener...   \n",
       "2  1000890492501090304  I had the “Neurology stable: what does that me...   \n",
       "3  1001047682025127936  I love the testiness in this article, e.g.:\\n\\...   \n",
       "4  1001070522560667650  Vibrational and electrical properties of Cu2−x...   \n",
       "\n",
       "   meet_heuristic three_labels  fourth_label  majority_vote  \n",
       "0               1      [0 0 0]           NaN            0.0  \n",
       "1               1      [0 0 0]           NaN            0.0  \n",
       "2               1      [0 0 0]           NaN            0.0  \n",
       "3               1      [0 0 1]           1.0            0.0  \n",
       "4               1      [0 0 0]           NaN            0.0  "
      ]
     },
     "execution_count": 654,
     "metadata": {},
     "output_type": "execute_result"
    }
   ],
   "source": [
    "tem_all.head()"
   ]
  },
  {
   "cell_type": "code",
   "execution_count": 655,
   "metadata": {},
   "outputs": [
    {
     "data": {
      "text/plain": [
       "42766"
      ]
     },
     "execution_count": 655,
     "metadata": {},
     "output_type": "execute_result"
    }
   ],
   "source": [
    "len(tem_all)"
   ]
  },
  {
   "cell_type": "code",
   "execution_count": 656,
   "metadata": {},
   "outputs": [
    {
     "data": {
      "text/plain": [
       "tid                object\n",
       "text               object\n",
       "meet_heuristic      int64\n",
       "three_labels       object\n",
       "fourth_label      float64\n",
       "majority_vote     float64\n",
       "dtype: object"
      ]
     },
     "execution_count": 656,
     "metadata": {},
     "output_type": "execute_result"
    }
   ],
   "source": [
    "tem_all.dtypes"
   ]
  },
  {
   "cell_type": "code",
   "execution_count": 657,
   "metadata": {},
   "outputs": [],
   "source": [
    "cand_label_df = tem_all.loc[tem_all.meet_heuristic==1]"
   ]
  },
  {
   "cell_type": "code",
   "execution_count": 658,
   "metadata": {},
   "outputs": [
    {
     "data": {
      "text/plain": [
       "7036"
      ]
     },
     "execution_count": 658,
     "metadata": {},
     "output_type": "execute_result"
    }
   ],
   "source": [
    "len(cand_label_df)"
   ]
  },
  {
   "cell_type": "code",
   "execution_count": 659,
   "metadata": {},
   "outputs": [
    {
     "data": {
      "text/plain": [
       "6201"
      ]
     },
     "execution_count": 659,
     "metadata": {},
     "output_type": "execute_result"
    }
   ],
   "source": [
    "len(cand_label_df.loc[cand_label_df.fourth_label.isna()])"
   ]
  },
  {
   "cell_type": "code",
   "execution_count": 660,
   "metadata": {},
   "outputs": [
    {
     "data": {
      "text/plain": [
       "0.0    5481\n",
       "1.0     720\n",
       "Name: majority_vote, dtype: int64"
      ]
     },
     "execution_count": 660,
     "metadata": {},
     "output_type": "execute_result"
    }
   ],
   "source": [
    "cand_label_df.loc[cand_label_df.fourth_label.isna()]['majority_vote'].value_counts()"
   ]
  },
  {
   "cell_type": "code",
   "execution_count": 661,
   "metadata": {},
   "outputs": [],
   "source": [
    "dis_df = cand_label_df.loc[~cand_label_df.fourth_label.isna()]"
   ]
  },
  {
   "cell_type": "code",
   "execution_count": 662,
   "metadata": {},
   "outputs": [
    {
     "data": {
      "text/plain": [
       "835"
      ]
     },
     "execution_count": 662,
     "metadata": {},
     "output_type": "execute_result"
    }
   ],
   "source": [
    "len(dis_df)"
   ]
  },
  {
   "cell_type": "code",
   "execution_count": 670,
   "metadata": {},
   "outputs": [],
   "source": [
    "# num of disambiguous ones (2 vs 2)\n",
    "\n",
    "cn = 0\n",
    "for lab, fourth in zip(dis_df['three_labels'], dis_df['fourth_label']):\n",
    "    if '.' in lab:\n",
    "        lab_li = [int(x) for x in lab[1:-2].split('. ')]\n",
    "    else:\n",
    "        lab_li = [int(x) for x in lab[1:-1].split(' ')]\n",
    "    if np.sum(lab_li) + fourth == 2:\n",
    "        cn += 1"
   ]
  },
  {
   "cell_type": "code",
   "execution_count": 671,
   "metadata": {},
   "outputs": [
    {
     "data": {
      "text/plain": [
       "359"
      ]
     },
     "execution_count": 671,
     "metadata": {},
     "output_type": "execute_result"
    }
   ],
   "source": [
    "cn"
   ]
  },
  {
   "cell_type": "code",
   "execution_count": 672,
   "metadata": {},
   "outputs": [
    {
     "data": {
      "text/plain": [
       "3782"
      ]
     },
     "execution_count": 672,
     "metadata": {},
     "output_type": "execute_result"
    }
   ],
   "source": [
    "# agreement for tweets labeled in the revision\n",
    "\n",
    "len(cand_label_df.loc[cand_label_df.tid.isin(final_df.tid)])\n",
    "\n",
    "# hao henry 0.7940209332046353\n",
    "# hao rod 0.8429062180768174\n",
    "# henry rod 0.7047505194278723\n",
    "\n",
    "# avg: 0.78"
   ]
  },
  {
   "cell_type": "code",
   "execution_count": 673,
   "metadata": {},
   "outputs": [],
   "source": [
    "# calculate agreement for tweets labeled in the initial submission\n",
    "\n",
    "cand_label_df_ini = cand_label_df.loc[~cand_label_df.tid.isin(final_df.tid)]"
   ]
  },
  {
   "cell_type": "code",
   "execution_count": 675,
   "metadata": {
    "scrolled": true
   },
   "outputs": [
    {
     "data": {
      "text/plain": [
       "3254"
      ]
     },
     "execution_count": 675,
     "metadata": {},
     "output_type": "execute_result"
    }
   ],
   "source": [
    "len(cand_label_df_ini)"
   ]
  },
  {
   "cell_type": "code",
   "execution_count": 676,
   "metadata": {},
   "outputs": [],
   "source": [
    "three_labs = []\n",
    "for lab in cand_label_df_ini.three_labels.tolist():\n",
    "    three_labs.append([int(x) for x in lab[1:-2].split('. ')])"
   ]
  },
  {
   "cell_type": "code",
   "execution_count": 677,
   "metadata": {},
   "outputs": [],
   "source": [
    "three_labs = np.array(three_labs)"
   ]
  },
  {
   "cell_type": "code",
   "execution_count": 678,
   "metadata": {},
   "outputs": [
    {
     "data": {
      "text/plain": [
       "(3254, 3)"
      ]
     },
     "execution_count": 678,
     "metadata": {},
     "output_type": "execute_result"
    }
   ],
   "source": [
    "three_labs.shape"
   ]
  },
  {
   "cell_type": "code",
   "execution_count": 679,
   "metadata": {},
   "outputs": [
    {
     "name": "stdout",
     "output_type": "stream",
     "text": [
      "0.7031831868019676\n",
      "0.6271233428256657\n",
      "0.6018313956009123\n"
     ]
    }
   ],
   "source": [
    "lii = []\n",
    "for x, y in combinations([0, 1, 2], r=2):\n",
    "    agg = cohen_kappa_score(three_labs[:, x], three_labs[:, y])\n",
    "    lii.append(agg)\n",
    "    print(agg)"
   ]
  },
  {
   "cell_type": "code",
   "execution_count": 680,
   "metadata": {},
   "outputs": [
    {
     "data": {
      "text/plain": [
       "0.6440459750761819"
      ]
     },
     "execution_count": 680,
     "metadata": {},
     "output_type": "execute_result"
    }
   ],
   "source": [
    "np.mean(lii)"
   ]
  },
  {
   "cell_type": "code",
   "execution_count": 681,
   "metadata": {},
   "outputs": [
    {
     "data": {
      "text/plain": [
       "0.7171028993746447"
      ]
     },
     "execution_count": 681,
     "metadata": {},
     "output_type": "execute_result"
    }
   ],
   "source": [
    "# weighted average agreement\n",
    "0.644 * len(cand_label_df_ini)/len(cand_label_df) + 0.78 * (1 - len(cand_label_df_ini)/len(cand_label_df))"
   ]
  },
  {
   "cell_type": "code",
   "execution_count": 682,
   "metadata": {},
   "outputs": [],
   "source": [
    "tem_all.to_csv(data_root+'revision/all_tweets_uncertain_label_revision_share.csv', quoting=csv.QUOTE_ALL, header=True, index=False, \\\n",
    "             columns=['tid', 'meet_heuristic', 'three_labels', 'fourth_label', 'majority_vote'])"
   ]
  },
  {
   "cell_type": "code",
   "execution_count": null,
   "metadata": {},
   "outputs": [],
   "source": []
  }
 ],
 "metadata": {
  "kernelspec": {
   "display_name": "Python 3 (ipykernel)",
   "language": "python",
   "name": "python3"
  },
  "language_info": {
   "codemirror_mode": {
    "name": "ipython",
    "version": 3
   },
   "file_extension": ".py",
   "mimetype": "text/x-python",
   "name": "python",
   "nbconvert_exporter": "python",
   "pygments_lexer": "ipython3",
   "version": "3.7.10"
  }
 },
 "nbformat": 4,
 "nbformat_minor": 2
}
