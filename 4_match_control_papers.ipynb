{
 "cells": [
  {
   "cell_type": "code",
   "execution_count": 2,
   "metadata": {},
   "outputs": [],
   "source": [
    "import re\n",
    "import csv\n",
    "import json\n",
    "import pickle\n",
    "import random\n",
    "import requests\n",
    "import pprint\n",
    "import numpy as np\n",
    "import pandas as pd\n",
    "from scipy import stats\n",
    "from langdetect import detect\n",
    "from datetime import datetime\n",
    "import matplotlib.pyplot as plt\n",
    "from scipy.stats import chisquare\n",
    "from collections import Counter, defaultdict"
   ]
  },
  {
   "cell_type": "code",
   "execution_count": 3,
   "metadata": {},
   "outputs": [],
   "source": [
    "data_root = '/home/haopeng/Data/Retraction/'\n",
    "altmetric_start_date = datetime.strptime('2011-06-10', '%Y-%m-%d')\n",
    "altmetric_end_date = datetime.strptime('2019-10-08', '%Y-%m-%d')\n",
    "CIs = {'90': 1.645, '95': 1.96, '99': 2.576}\n",
    "day = 24*3600"
   ]
  },
  {
   "cell_type": "code",
   "execution_count": 4,
   "metadata": {},
   "outputs": [],
   "source": [
    "blog_df = pd.read_csv(data_root + 'blog_mentions_correction.csv', header = 0)\n",
    "blog_set = set(blog_df.loc[~blog_df.maybe_news.isnull(), 'blog_name'])\n",
    "\n",
    "def correct_blogs(data, error_blogs):\n",
    "    for xid, paper in data.items():\n",
    "        if 'blogs' in paper['posts']:\n",
    "            blogs_li = paper['posts']['blogs']\n",
    "            news_li = []\n",
    "            if 'news' in paper['posts']:\n",
    "                news_li = paper['posts']['news']\n",
    "            blogs_li_new = []\n",
    "            for item in blogs_li:\n",
    "                try:\n",
    "                    if item['author']['name'] in error_blogs:\n",
    "                        news_li.append(item)\n",
    "                    else:\n",
    "                        blogs_li_new.append(item)\n",
    "                except:\n",
    "                    pass\n",
    "            paper['posts']['news'] = news_li\n",
    "            paper['posts']['blogs'] = blogs_li_new\n",
    "    return data"
   ]
  },
  {
   "cell_type": "markdown",
   "metadata": {},
   "source": [
    "### All candidate papers in Altmetric"
   ]
  },
  {
   "cell_type": "code",
   "execution_count": null,
   "metadata": {},
   "outputs": [],
   "source": [
    "type_cn = defaultdict(int,\n",
    "            {'article': 18266091,\n",
    "             'chapter': 6255269,\n",
    "             'book': 1490369,\n",
    "             'clinical_trial_study_record': 49758,\n",
    "             'news': 130360,\n",
    "             'dataset': 30883,\n",
    "             'Journal Article': 15,\n",
    "             'JOURNAL ARTICLE': 8,\n",
    "             'Editorial': 1})\n",
    "\n",
    "# example of a chapter\n",
    "{'altmetric_id': 40328044, 'counts': {'readers': {'mendeley': 0, 'citeulike': 0, 'connotea': 0}, 'total': {'posts_count': 0}}, 'citation': {'aggregated_in': [36052229], 'attribution': 'springer_nature', 'authors': ['David Spring'], 'book': {'title': 'Convex Integration Theory', 'isbns': ['9783034800594', '9783034800600'], 'attribution': 'springer_nature'}, 'doi': '10.1007/978-3-0348-0060-0_8', 'first_seen_on': '2018-05-01T07:53:03+00:00', 'issns': [], 'links': ['https://doi.org/10.1007/978-3-0348-0060-0_8'], 'ordinal_number': 8, 'pdf_url': 'https://link.springer.com/content/pdf/10.1007%2F978-3-0348-0060-0_8.pdf', 'pubdate': '1998-01-01T00:00:00+00:00', 'publisher': 'Springer, Basel', 'title': 'Ample Relations', 'type': 'chapter'}, 'altmetric_score': {'score': 0, 'score_history': {'1y': 0, '6m': 0, '3m': 0, '1m': 0, '1w': 0, '6d': 0, '5d': 0, '4d': 0, '3d': 0, '2d': 0, '1d': 0, 'at': 0}, 'context_for_score': None}, 'demographics': [], 'posts': []}"
   ]
  },
  {
   "cell_type": "code",
   "execution_count": 5,
   "metadata": {},
   "outputs": [],
   "source": [
    "article_types = {'JOURNAL ARTICLE', 'Journal Article', 'article'}"
   ]
  },
  {
   "cell_type": "code",
   "execution_count": 6,
   "metadata": {},
   "outputs": [],
   "source": [
    "def get_pub_year_alt(paper):\n",
    "    dt_li = []\n",
    "    if 'pubdate' in paper['citation']:\n",
    "        dt_li.append(int(paper['citation']['pubdate'][:4]))\n",
    "    if 'epubdate' in paper['citation']:\n",
    "        dt_li.append(int(paper['citation']['epubdate'][:4]))\n",
    "    if 'first_seen_on' in paper['citation']:\n",
    "        dt_li.append(int(paper['citation']['first_seen_on'][:4]))\n",
    "    if len(dt_li) == 0:\n",
    "        return 0\n",
    "    else:\n",
    "        return min(dt_li)"
   ]
  },
  {
   "cell_type": "code",
   "execution_count": 225,
   "metadata": {},
   "outputs": [
    {
     "name": "stdout",
     "output_type": "stream",
     "text": [
      "processed 5000000 records...\n",
      "processed 10000000 records...\n",
      "processed 15000000 records...\n",
      "processed 20000000 records...\n",
      "processed 25000000 records...\n"
     ]
    }
   ],
   "source": [
    "# before running this code: combine all individual files in `oct-8th-dump.tar.gz` into `merged.txt`.\n",
    "\n",
    "paper_li = []\n",
    "cn = 0\n",
    "type_cn = defaultdict(int)\n",
    "\n",
    "with open(data_root + 'merged.txt', 'r') as ofile:\n",
    "    for row in ofile:\n",
    "        # this way works for both good and bad lines.\n",
    "        row = row.replace('}{\"altmetric_id\"', '}\\n{\"altmetric_id\"')\n",
    "        records = row.split('\\n')\n",
    "        for record in records:\n",
    "            if record != '':\n",
    "                paper = json.loads(record)\n",
    "                cn += 1\n",
    "                if cn % 5000000 == 0:\n",
    "                    print('processed %d records...'%cn)\n",
    "                type_cn[paper['citation']['type']] += 1\n",
    "                # focus on research articles\n",
    "                if paper['citation']['type'] in article_types:\n",
    "                    alt_id = paper['altmetric_id']\n",
    "                    doi, journal = '', ''\n",
    "                    num_authors = 0\n",
    "                    pubyear = get_pub_year_alt(paper)\n",
    "                    if 'doi' in paper['citation']:\n",
    "                        doi = paper['citation']['doi'].lower()\n",
    "                    if 'journal' in paper['citation']:\n",
    "                        journal = paper['citation']['journal']\n",
    "                    if 'authors' in paper['citation']:\n",
    "                        num_authors = len(paper['citation']['authors'])\n",
    "                    paper_li.append([alt_id, doi, pubyear, journal, num_authors])"
   ]
  },
  {
   "cell_type": "code",
   "execution_count": 226,
   "metadata": {},
   "outputs": [
    {
     "data": {
      "text/plain": [
       "18266114"
      ]
     },
     "execution_count": 226,
     "metadata": {},
     "output_type": "execute_result"
    }
   ],
   "source": [
    "len(paper_li)"
   ]
  },
  {
   "cell_type": "code",
   "execution_count": 227,
   "metadata": {
    "scrolled": true
   },
   "outputs": [
    {
     "name": "stdout",
     "output_type": "stream",
     "text": [
      "num. of non articles: 7956640\n"
     ]
    }
   ],
   "source": [
    "print('num. of non articles: %d'%(cn-len(paper_li)))"
   ]
  },
  {
   "cell_type": "code",
   "execution_count": 230,
   "metadata": {},
   "outputs": [],
   "source": [
    "paper_df = pd.DataFrame(paper_li, columns=['altmetric_id', 'doi', 'pub_year', 'journal', 'num_authors'])\n",
    "del paper_li"
   ]
  },
  {
   "cell_type": "code",
   "execution_count": 231,
   "metadata": {},
   "outputs": [
    {
     "data": {
      "text/plain": [
       "18266114"
      ]
     },
     "execution_count": 231,
     "metadata": {},
     "output_type": "execute_result"
    }
   ],
   "source": [
    "len(paper_df)"
   ]
  },
  {
   "cell_type": "code",
   "execution_count": 237,
   "metadata": {},
   "outputs": [
    {
     "data": {
      "text/plain": [
       "140"
      ]
     },
     "execution_count": 237,
     "metadata": {},
     "output_type": "execute_result"
    }
   ],
   "source": [
    "# missing pub year\n",
    "len(paper_df.loc[paper_df.pub_year <= 0])"
   ]
  },
  {
   "cell_type": "code",
   "execution_count": 239,
   "metadata": {},
   "outputs": [
    {
     "data": {
      "text/plain": [
       "1958971"
      ]
     },
     "execution_count": 239,
     "metadata": {},
     "output_type": "execute_result"
    }
   ],
   "source": [
    "# missing journal \n",
    "len(paper_df.loc[paper_df.journal == ''])"
   ]
  },
  {
   "cell_type": "code",
   "execution_count": 238,
   "metadata": {},
   "outputs": [
    {
     "data": {
      "text/plain": [
       "730914"
      ]
     },
     "execution_count": 238,
     "metadata": {},
     "output_type": "execute_result"
    }
   ],
   "source": [
    "# missing author\n",
    "len(paper_df.loc[paper_df.num_authors <= 0])"
   ]
  },
  {
   "cell_type": "code",
   "execution_count": 249,
   "metadata": {},
   "outputs": [],
   "source": [
    "# filter by year and journal, since both info are required\n",
    "paper_df = paper_df.loc[(paper_df.journal != '') & (paper_df.pub_year > 0)]\n",
    "paper_df.index = range(len(paper_df))"
   ]
  },
  {
   "cell_type": "code",
   "execution_count": 18,
   "metadata": {},
   "outputs": [],
   "source": [
    "# paper_df.to_csv(data_root+'cand_papers.csv', index=False, header=True)\n",
    "paper_df = pd.read_csv(data_root+'cand_papers.csv', header=0)"
   ]
  },
  {
   "cell_type": "code",
   "execution_count": 19,
   "metadata": {},
   "outputs": [
    {
     "data": {
      "text/plain": [
       "16307030"
      ]
     },
     "execution_count": 19,
     "metadata": {},
     "output_type": "execute_result"
    }
   ],
   "source": [
    "len(paper_df)"
   ]
  },
  {
   "cell_type": "code",
   "execution_count": 20,
   "metadata": {},
   "outputs": [
    {
     "data": {
      "text/plain": [
       "altmetric_id     int64\n",
       "doi             object\n",
       "pub_year         int64\n",
       "journal         object\n",
       "num_authors      int64\n",
       "dtype: object"
      ]
     },
     "execution_count": 20,
     "metadata": {},
     "output_type": "execute_result"
    }
   ],
   "source": [
    "paper_df.dtypes"
   ]
  },
  {
   "cell_type": "code",
   "execution_count": 21,
   "metadata": {},
   "outputs": [
    {
     "data": {
      "text/html": [
       "<div>\n",
       "<style scoped>\n",
       "    .dataframe tbody tr th:only-of-type {\n",
       "        vertical-align: middle;\n",
       "    }\n",
       "\n",
       "    .dataframe tbody tr th {\n",
       "        vertical-align: top;\n",
       "    }\n",
       "\n",
       "    .dataframe thead th {\n",
       "        text-align: right;\n",
       "    }\n",
       "</style>\n",
       "<table border=\"1\" class=\"dataframe\">\n",
       "  <thead>\n",
       "    <tr style=\"text-align: right;\">\n",
       "      <th></th>\n",
       "      <th>altmetric_id</th>\n",
       "      <th>doi</th>\n",
       "      <th>pub_year</th>\n",
       "      <th>journal</th>\n",
       "      <th>num_authors</th>\n",
       "    </tr>\n",
       "  </thead>\n",
       "  <tbody>\n",
       "    <tr>\n",
       "      <th>0</th>\n",
       "      <td>54241359</td>\n",
       "      <td>10.1158/0008-5472.can-04-0760</td>\n",
       "      <td>2004</td>\n",
       "      <td>Cancer Research</td>\n",
       "      <td>5</td>\n",
       "    </tr>\n",
       "    <tr>\n",
       "      <th>1</th>\n",
       "      <td>14693950</td>\n",
       "      <td>10.4202/app.00261.2016</td>\n",
       "      <td>2016</td>\n",
       "      <td>Acta Palaeontologica Polonica</td>\n",
       "      <td>2</td>\n",
       "    </tr>\n",
       "    <tr>\n",
       "      <th>2</th>\n",
       "      <td>3267266</td>\n",
       "      <td>10.1098/rsbm.2004.0017</td>\n",
       "      <td>2004</td>\n",
       "      <td>Biographical Memoirs of Fellows of the Royal S...</td>\n",
       "      <td>2</td>\n",
       "    </tr>\n",
       "    <tr>\n",
       "      <th>3</th>\n",
       "      <td>1424904</td>\n",
       "      <td>10.1176/appi.ajp.2013.13020235</td>\n",
       "      <td>2013</td>\n",
       "      <td>American Journal of Psychiatry</td>\n",
       "      <td>2</td>\n",
       "    </tr>\n",
       "    <tr>\n",
       "      <th>4</th>\n",
       "      <td>781925</td>\n",
       "      <td>10.1007/s10461-012-0156-7</td>\n",
       "      <td>2012</td>\n",
       "      <td>AIDS &amp; Behavior</td>\n",
       "      <td>4</td>\n",
       "    </tr>\n",
       "  </tbody>\n",
       "</table>\n",
       "</div>"
      ],
      "text/plain": [
       "   altmetric_id                             doi  pub_year  \\\n",
       "0      54241359   10.1158/0008-5472.can-04-0760      2004   \n",
       "1      14693950          10.4202/app.00261.2016      2016   \n",
       "2       3267266          10.1098/rsbm.2004.0017      2004   \n",
       "3       1424904  10.1176/appi.ajp.2013.13020235      2013   \n",
       "4        781925       10.1007/s10461-012-0156-7      2012   \n",
       "\n",
       "                                             journal  num_authors  \n",
       "0                                    Cancer Research            5  \n",
       "1                      Acta Palaeontologica Polonica            2  \n",
       "2  Biographical Memoirs of Fellows of the Royal S...            2  \n",
       "3                     American Journal of Psychiatry            2  \n",
       "4                                    AIDS & Behavior            4  "
      ]
     },
     "execution_count": 21,
     "metadata": {},
     "output_type": "execute_result"
    }
   ],
   "source": [
    "paper_df.head()"
   ]
  },
  {
   "cell_type": "code",
   "execution_count": 22,
   "metadata": {},
   "outputs": [],
   "source": [
    "aid_doi = dict(zip(paper_df.altmetric_id, paper_df.doi))"
   ]
  },
  {
   "cell_type": "code",
   "execution_count": 23,
   "metadata": {},
   "outputs": [
    {
     "data": {
      "text/plain": [
       "0"
      ]
     },
     "execution_count": 23,
     "metadata": {},
     "output_type": "execute_result"
    }
   ],
   "source": [
    "# missing alt id\n",
    "np.sum(paper_df.altmetric_id.isnull())"
   ]
  },
  {
   "cell_type": "code",
   "execution_count": 24,
   "metadata": {},
   "outputs": [
    {
     "data": {
      "text/plain": [
       "344158"
      ]
     },
     "execution_count": 24,
     "metadata": {},
     "output_type": "execute_result"
    }
   ],
   "source": [
    "# missing author\n",
    "len(paper_df.loc[paper_df.num_authors <= 0])"
   ]
  },
  {
   "cell_type": "code",
   "execution_count": 25,
   "metadata": {
    "scrolled": true
   },
   "outputs": [
    {
     "data": {
      "text/plain": [
       "1807004"
      ]
     },
     "execution_count": 25,
     "metadata": {},
     "output_type": "execute_result"
    }
   ],
   "source": [
    "# missing doi\n",
    "np.sum(paper_df.doi.isnull())"
   ]
  },
  {
   "cell_type": "code",
   "execution_count": 26,
   "metadata": {},
   "outputs": [],
   "source": [
    "alt_journals = set(paper_df.journal.to_list())"
   ]
  },
  {
   "cell_type": "code",
   "execution_count": 27,
   "metadata": {
    "scrolled": false
   },
   "outputs": [
    {
     "data": {
      "text/plain": [
       "107933"
      ]
     },
     "execution_count": 27,
     "metadata": {},
     "output_type": "execute_result"
    }
   ],
   "source": [
    "len(alt_journals)"
   ]
  },
  {
   "cell_type": "markdown",
   "metadata": {},
   "source": [
    "### Linked retracted papers"
   ]
  },
  {
   "cell_type": "markdown",
   "metadata": {},
   "source": [
    "(1) load retracted papers found in Altmetric"
   ]
  },
  {
   "cell_type": "code",
   "execution_count": 7,
   "metadata": {},
   "outputs": [],
   "source": [
    "doi_alt_data = {}\n",
    "\n",
    "with open(data_root+\"retraction_altmetric.json\", 'r') as ffile:\n",
    "    for row in ffile:\n",
    "        record = json.loads(row)\n",
    "        doi = record['citation']['doi'].lower()\n",
    "        doi_alt_data[doi] = record\n",
    "\n",
    "doi_alt_data = correct_blogs(doi_alt_data, blog_set)"
   ]
  },
  {
   "cell_type": "code",
   "execution_count": 8,
   "metadata": {
    "scrolled": false
   },
   "outputs": [
    {
     "data": {
      "text/plain": [
       "6838"
      ]
     },
     "execution_count": 8,
     "metadata": {},
     "output_type": "execute_result"
    }
   ],
   "source": [
    "# there are 6766 articles (papers) among these.\n",
    "# among these articles:\n",
    "# all have pub date (using three fields)\n",
    "# 6738 have journal info\n",
    "# 6572 have author info\n",
    "\n",
    "len(doi_alt_data)"
   ]
  },
  {
   "cell_type": "markdown",
   "metadata": {},
   "source": [
    "(2) final set of retracted papers (cleaned pub date and retraction date; see `3_create_retract_dataframe.ipynb`)"
   ]
  },
  {
   "cell_type": "code",
   "execution_count": 9,
   "metadata": {},
   "outputs": [],
   "source": [
    "# 158 records are removed since their corrected pub date is no earlier than retraction date.\n",
    "with open(data_root+'df_retract_clean.pickle', 'rb') as file:\n",
    "    df_match = pickle.load(file)"
   ]
  },
  {
   "cell_type": "code",
   "execution_count": 10,
   "metadata": {
    "scrolled": true
   },
   "outputs": [
    {
     "data": {
      "text/plain": [
       "6680"
      ]
     },
     "execution_count": 10,
     "metadata": {},
     "output_type": "execute_result"
    }
   ],
   "source": [
    "len(df_match)"
   ]
  },
  {
   "cell_type": "code",
   "execution_count": 11,
   "metadata": {},
   "outputs": [],
   "source": [
    "doi_ret_date = dict(zip(df_match['OriginalPaperDOI'], df_match['RetractionDate']))"
   ]
  },
  {
   "cell_type": "code",
   "execution_count": 12,
   "metadata": {
    "scrolled": true
   },
   "outputs": [
    {
     "data": {
      "text/html": [
       "<div>\n",
       "<style scoped>\n",
       "    .dataframe tbody tr th:only-of-type {\n",
       "        vertical-align: middle;\n",
       "    }\n",
       "\n",
       "    .dataframe tbody tr th {\n",
       "        vertical-align: top;\n",
       "    }\n",
       "\n",
       "    .dataframe thead th {\n",
       "        text-align: right;\n",
       "    }\n",
       "</style>\n",
       "<table border=\"1\" class=\"dataframe\">\n",
       "  <thead>\n",
       "    <tr style=\"text-align: right;\">\n",
       "      <th></th>\n",
       "      <th>Record ID</th>\n",
       "      <th>Title</th>\n",
       "      <th>Subject</th>\n",
       "      <th>Institution</th>\n",
       "      <th>Journal</th>\n",
       "      <th>Publisher</th>\n",
       "      <th>Country</th>\n",
       "      <th>Author</th>\n",
       "      <th>URLS</th>\n",
       "      <th>ArticleType</th>\n",
       "      <th>...</th>\n",
       "      <th>altmetric_pub_date</th>\n",
       "      <th>pub_date_corrected</th>\n",
       "      <th>usable_days</th>\n",
       "      <th>news_media</th>\n",
       "      <th>social_media</th>\n",
       "      <th>blog</th>\n",
       "      <th>knowledge_repo</th>\n",
       "      <th>top_news</th>\n",
       "      <th>uncertainty</th>\n",
       "      <th>tweet_cn</th>\n",
       "    </tr>\n",
       "  </thead>\n",
       "  <tbody>\n",
       "    <tr>\n",
       "      <th>0</th>\n",
       "      <td>23542</td>\n",
       "      <td>Hospital Admission and Readmission Among Homel...</td>\n",
       "      <td>(HSC) Medicine - Neurology;(SOC) Psychology;</td>\n",
       "      <td>Department of Neurology and Weill Institute fo...</td>\n",
       "      <td>Neurology</td>\n",
       "      <td>American Academy of Neurology</td>\n",
       "      <td>United States</td>\n",
       "      <td>Nicole Rosendale;Elan L Guterman;John P Betjem...</td>\n",
       "      <td>NaN</td>\n",
       "      <td>Research Article;</td>\n",
       "      <td>...</td>\n",
       "      <td>2019-05-24</td>\n",
       "      <td>2019-05-24 00:00:00</td>\n",
       "      <td>137</td>\n",
       "      <td>[2019-05-28T15:33:34, 2019-05-28T18:38:39]</td>\n",
       "      <td>[2019-05-29T11:16:24, 2019-05-29T15:54:34, 201...</td>\n",
       "      <td>[]</td>\n",
       "      <td>[]</td>\n",
       "      <td>[]</td>\n",
       "      <td>[]</td>\n",
       "      <td>[2019-05-29T11:16:24, 2019-05-29T15:54:34, 201...</td>\n",
       "    </tr>\n",
       "  </tbody>\n",
       "</table>\n",
       "<p>1 rows × 31 columns</p>\n",
       "</div>"
      ],
      "text/plain": [
       "   Record ID                                              Title  \\\n",
       "0      23542  Hospital Admission and Readmission Among Homel...   \n",
       "\n",
       "                                        Subject  \\\n",
       "0  (HSC) Medicine - Neurology;(SOC) Psychology;   \n",
       "\n",
       "                                         Institution    Journal  \\\n",
       "0  Department of Neurology and Weill Institute fo...  Neurology   \n",
       "\n",
       "                       Publisher        Country  \\\n",
       "0  American Academy of Neurology  United States   \n",
       "\n",
       "                                              Author URLS        ArticleType  \\\n",
       "0  Nicole Rosendale;Elan L Guterman;John P Betjem...  NaN  Research Article;   \n",
       "\n",
       "   ... altmetric_pub_date   pub_date_corrected usable_days  \\\n",
       "0  ...         2019-05-24  2019-05-24 00:00:00         137   \n",
       "\n",
       "                                   news_media  \\\n",
       "0  [2019-05-28T15:33:34, 2019-05-28T18:38:39]   \n",
       "\n",
       "                                        social_media blog knowledge_repo  \\\n",
       "0  [2019-05-29T11:16:24, 2019-05-29T15:54:34, 201...   []             []   \n",
       "\n",
       "  top_news uncertainty                                           tweet_cn  \n",
       "0       []          []  [2019-05-29T11:16:24, 2019-05-29T15:54:34, 201...  \n",
       "\n",
       "[1 rows x 31 columns]"
      ]
     },
     "execution_count": 12,
     "metadata": {},
     "output_type": "execute_result"
    }
   ],
   "source": [
    "df_match.head(1)"
   ]
  },
  {
   "cell_type": "code",
   "execution_count": 13,
   "metadata": {
    "scrolled": true
   },
   "outputs": [
    {
     "data": {
      "text/plain": [
       "pub_date_corrected    0\n",
       "Journal               0\n",
       "Author                2\n",
       "dtype: int64"
      ]
     },
     "execution_count": 13,
     "metadata": {},
     "output_type": "execute_result"
    }
   ],
   "source": [
    "np.sum(df_match[['pub_date_corrected', 'Journal', 'Author']].isnull(), axis=0)"
   ]
  },
  {
   "cell_type": "code",
   "execution_count": 14,
   "metadata": {},
   "outputs": [],
   "source": [
    "good_mat_df = []\n",
    "\n",
    "# start from RetractionWatch data\n",
    "for doi in df_match.OriginalPaperDOI.tolist():\n",
    "    paper = doi_alt_data[doi]\n",
    "    # exclude non articles.\n",
    "    if paper['citation']['type'] == 'article':\n",
    "        pubdate, aut, watch_j = df_match.loc[df_match.OriginalPaperDOI == doi][['pub_date_corrected', 'Author', 'Journal']].values.flatten()\n",
    "        pub_year = int(str(pubdate)[:4])\n",
    "        num_authors = 0\n",
    "        if 'authors' in paper['citation']:\n",
    "            num_authors = len(paper['citation']['authors'])\n",
    "        if num_authors == 0 and type(aut) == str:\n",
    "            num_authors = len(aut.split(';'))\n",
    "        journal = ''\n",
    "        if 'journal' in paper['citation']:\n",
    "            journal = paper['citation']['journal']\n",
    "        # use info in Watch if missing in Alt.\n",
    "        if journal == '' and watch_j != '':\n",
    "            journal = watch_j\n",
    "        if journal != '' and num_authors > 0:\n",
    "            good_mat_df.append([doi, pub_year, journal, num_authors])"
   ]
  },
  {
   "cell_type": "code",
   "execution_count": 15,
   "metadata": {},
   "outputs": [],
   "source": [
    "good_mat_df = pd.DataFrame(good_mat_df, columns=['doi', 'pub_year', 'journal', 'num_authors'])"
   ]
  },
  {
   "cell_type": "code",
   "execution_count": 16,
   "metadata": {
    "scrolled": true
   },
   "outputs": [
    {
     "data": {
      "text/plain": [
       "6618"
      ]
     },
     "execution_count": 16,
     "metadata": {},
     "output_type": "execute_result"
    }
   ],
   "source": [
    "len(good_mat_df)"
   ]
  },
  {
   "cell_type": "code",
   "execution_count": 28,
   "metadata": {},
   "outputs": [
    {
     "data": {
      "text/html": [
       "<div>\n",
       "<style scoped>\n",
       "    .dataframe tbody tr th:only-of-type {\n",
       "        vertical-align: middle;\n",
       "    }\n",
       "\n",
       "    .dataframe tbody tr th {\n",
       "        vertical-align: top;\n",
       "    }\n",
       "\n",
       "    .dataframe thead th {\n",
       "        text-align: right;\n",
       "    }\n",
       "</style>\n",
       "<table border=\"1\" class=\"dataframe\">\n",
       "  <thead>\n",
       "    <tr style=\"text-align: right;\">\n",
       "      <th></th>\n",
       "      <th>doi</th>\n",
       "      <th>pub_year</th>\n",
       "      <th>journal</th>\n",
       "      <th>num_authors</th>\n",
       "    </tr>\n",
       "  </thead>\n",
       "  <tbody>\n",
       "    <tr>\n",
       "      <th>1123</th>\n",
       "      <td>10.31219/osf.io/q9xzj</td>\n",
       "      <td>2018</td>\n",
       "      <td>OSF Preprints</td>\n",
       "      <td>1</td>\n",
       "    </tr>\n",
       "    <tr>\n",
       "      <th>5873</th>\n",
       "      <td>10.1109/iceit.2010.5607537</td>\n",
       "      <td>2010</td>\n",
       "      <td>2010 International Conference on Educational a...</td>\n",
       "      <td>2</td>\n",
       "    </tr>\n",
       "    <tr>\n",
       "      <th>5890</th>\n",
       "      <td>10.1109/iccsit.2010.5565151</td>\n",
       "      <td>2010</td>\n",
       "      <td>2010 3rd Intl Conference on Computer Science a...</td>\n",
       "      <td>6</td>\n",
       "    </tr>\n",
       "    <tr>\n",
       "      <th>5892</th>\n",
       "      <td>10.1109/iccsit.2010.5564997</td>\n",
       "      <td>2010</td>\n",
       "      <td>2010 3rd Intl Conference on Computer Science a...</td>\n",
       "      <td>4</td>\n",
       "    </tr>\n",
       "    <tr>\n",
       "      <th>5900</th>\n",
       "      <td>10.1109/icams.2010.5553104</td>\n",
       "      <td>2010</td>\n",
       "      <td>2010 IEEE International Conference on Advanced...</td>\n",
       "      <td>4</td>\n",
       "    </tr>\n",
       "    <tr>\n",
       "      <th>5901</th>\n",
       "      <td>10.1109/icams.2010.5552829</td>\n",
       "      <td>2010</td>\n",
       "      <td>2010 IEEE International Conference on Advanced...</td>\n",
       "      <td>3</td>\n",
       "    </tr>\n",
       "    <tr>\n",
       "      <th>5902</th>\n",
       "      <td>10.1109/icams.2010.5553105</td>\n",
       "      <td>2010</td>\n",
       "      <td>2010 IEEE International Conference on Advanced...</td>\n",
       "      <td>4</td>\n",
       "    </tr>\n",
       "    <tr>\n",
       "      <th>5904</th>\n",
       "      <td>10.1109/icams.2010.5552962</td>\n",
       "      <td>2010</td>\n",
       "      <td>2010 IEEE International Conference on Advanced...</td>\n",
       "      <td>4</td>\n",
       "    </tr>\n",
       "    <tr>\n",
       "      <th>6263</th>\n",
       "      <td>10.1109/wicom.2007.1605</td>\n",
       "      <td>2007</td>\n",
       "      <td>2007 International Conference on Wireless Comm...</td>\n",
       "      <td>2</td>\n",
       "    </tr>\n",
       "    <tr>\n",
       "      <th>6264</th>\n",
       "      <td>10.1109/wicom.2007.1611</td>\n",
       "      <td>2007</td>\n",
       "      <td>2007 International Conference on Wireless Comm...</td>\n",
       "      <td>2</td>\n",
       "    </tr>\n",
       "  </tbody>\n",
       "</table>\n",
       "</div>"
      ],
      "text/plain": [
       "                              doi  pub_year  \\\n",
       "1123        10.31219/osf.io/q9xzj      2018   \n",
       "5873   10.1109/iceit.2010.5607537      2010   \n",
       "5890  10.1109/iccsit.2010.5565151      2010   \n",
       "5892  10.1109/iccsit.2010.5564997      2010   \n",
       "5900   10.1109/icams.2010.5553104      2010   \n",
       "5901   10.1109/icams.2010.5552829      2010   \n",
       "5902   10.1109/icams.2010.5553105      2010   \n",
       "5904   10.1109/icams.2010.5552962      2010   \n",
       "6263      10.1109/wicom.2007.1605      2007   \n",
       "6264      10.1109/wicom.2007.1611      2007   \n",
       "\n",
       "                                                journal  num_authors  \n",
       "1123                                      OSF Preprints            1  \n",
       "5873  2010 International Conference on Educational a...            2  \n",
       "5890  2010 3rd Intl Conference on Computer Science a...            6  \n",
       "5892  2010 3rd Intl Conference on Computer Science a...            4  \n",
       "5900  2010 IEEE International Conference on Advanced...            4  \n",
       "5901  2010 IEEE International Conference on Advanced...            3  \n",
       "5902  2010 IEEE International Conference on Advanced...            4  \n",
       "5904  2010 IEEE International Conference on Advanced...            4  \n",
       "6263  2007 International Conference on Wireless Comm...            2  \n",
       "6264  2007 International Conference on Wireless Comm...            2  "
      ]
     },
     "execution_count": 28,
     "metadata": {},
     "output_type": "execute_result"
    }
   ],
   "source": [
    "good_mat_df.loc[~good_mat_df.journal.isin(alt_journals)]"
   ]
  },
  {
   "cell_type": "code",
   "execution_count": 29,
   "metadata": {},
   "outputs": [],
   "source": [
    "good_mat_df = good_mat_df.loc[good_mat_df.journal.isin(alt_journals)]\n",
    "good_mat_df.index = range(len(good_mat_df))"
   ]
  },
  {
   "cell_type": "code",
   "execution_count": 30,
   "metadata": {},
   "outputs": [
    {
     "data": {
      "text/plain": [
       "6608"
      ]
     },
     "execution_count": 30,
     "metadata": {},
     "output_type": "execute_result"
    }
   ],
   "source": [
    "# no missing data in this df!\n",
    "len(good_mat_df)"
   ]
  },
  {
   "cell_type": "code",
   "execution_count": 31,
   "metadata": {},
   "outputs": [
    {
     "data": {
      "text/html": [
       "<div>\n",
       "<style scoped>\n",
       "    .dataframe tbody tr th:only-of-type {\n",
       "        vertical-align: middle;\n",
       "    }\n",
       "\n",
       "    .dataframe tbody tr th {\n",
       "        vertical-align: top;\n",
       "    }\n",
       "\n",
       "    .dataframe thead th {\n",
       "        text-align: right;\n",
       "    }\n",
       "</style>\n",
       "<table border=\"1\" class=\"dataframe\">\n",
       "  <thead>\n",
       "    <tr style=\"text-align: right;\">\n",
       "      <th></th>\n",
       "      <th>doi</th>\n",
       "      <th>pub_year</th>\n",
       "      <th>journal</th>\n",
       "      <th>num_authors</th>\n",
       "    </tr>\n",
       "  </thead>\n",
       "  <tbody>\n",
       "    <tr>\n",
       "      <th>0</th>\n",
       "      <td>10.1212/wnl.0000000000007645</td>\n",
       "      <td>2019</td>\n",
       "      <td>Neurology</td>\n",
       "      <td>5</td>\n",
       "    </tr>\n",
       "    <tr>\n",
       "      <th>1</th>\n",
       "      <td>10.1371/journal.pone.0039426</td>\n",
       "      <td>2012</td>\n",
       "      <td>PLoS ONE</td>\n",
       "      <td>5</td>\n",
       "    </tr>\n",
       "    <tr>\n",
       "      <th>2</th>\n",
       "      <td>10.1038/nature13375</td>\n",
       "      <td>2014</td>\n",
       "      <td>Nature</td>\n",
       "      <td>13</td>\n",
       "    </tr>\n",
       "    <tr>\n",
       "      <th>3</th>\n",
       "      <td>10.4103/1658-354x.168797</td>\n",
       "      <td>2015</td>\n",
       "      <td>Saudi Journal of Anaesthesia</td>\n",
       "      <td>8</td>\n",
       "    </tr>\n",
       "    <tr>\n",
       "      <th>4</th>\n",
       "      <td>10.4103/sja.sja_81_18</td>\n",
       "      <td>2018</td>\n",
       "      <td>Saudi Journal of Anaesthesia</td>\n",
       "      <td>8</td>\n",
       "    </tr>\n",
       "  </tbody>\n",
       "</table>\n",
       "</div>"
      ],
      "text/plain": [
       "                            doi  pub_year                       journal  \\\n",
       "0  10.1212/wnl.0000000000007645      2019                     Neurology   \n",
       "1  10.1371/journal.pone.0039426      2012                      PLoS ONE   \n",
       "2           10.1038/nature13375      2014                        Nature   \n",
       "3      10.4103/1658-354x.168797      2015  Saudi Journal of Anaesthesia   \n",
       "4         10.4103/sja.sja_81_18      2018  Saudi Journal of Anaesthesia   \n",
       "\n",
       "   num_authors  \n",
       "0            5  \n",
       "1            5  \n",
       "2           13  \n",
       "3            8  \n",
       "4            8  "
      ]
     },
     "execution_count": 31,
     "metadata": {},
     "output_type": "execute_result"
    }
   ],
   "source": [
    "good_mat_df.head()"
   ]
  },
  {
   "cell_type": "code",
   "execution_count": 32,
   "metadata": {
    "scrolled": true
   },
   "outputs": [
    {
     "data": {
      "text/plain": [
       "doi            object\n",
       "pub_year        int64\n",
       "journal        object\n",
       "num_authors     int64\n",
       "dtype: object"
      ]
     },
     "execution_count": 32,
     "metadata": {},
     "output_type": "execute_result"
    }
   ],
   "source": [
    "good_mat_df.dtypes"
   ]
  },
  {
   "cell_type": "markdown",
   "metadata": {},
   "source": [
    "## Matching control papers"
   ]
  },
  {
   "cell_type": "code",
   "execution_count": 34,
   "metadata": {
    "scrolled": true
   },
   "outputs": [
    {
     "name": "stdout",
     "output_type": "stream",
     "text": [
      "processed 100 papers...\n",
      "processed 200 papers...\n",
      "processed 300 papers...\n",
      "processed 400 papers...\n",
      "processed 500 papers...\n",
      "processed 600 papers...\n",
      "processed 700 papers...\n",
      "processed 800 papers...\n",
      "processed 900 papers...\n",
      "processed 1000 papers...\n",
      "processed 1100 papers...\n",
      "processed 1200 papers...\n",
      "processed 1300 papers...\n",
      "processed 1400 papers...\n",
      "processed 1500 papers...\n",
      "processed 1600 papers...\n",
      "processed 1700 papers...\n",
      "processed 1800 papers...\n",
      "processed 1900 papers...\n",
      "processed 2000 papers...\n",
      "processed 2100 papers...\n",
      "processed 2200 papers...\n",
      "processed 2300 papers...\n",
      "processed 2400 papers...\n",
      "processed 2500 papers...\n",
      "processed 2600 papers...\n",
      "processed 2700 papers...\n",
      "processed 2800 papers...\n",
      "processed 2900 papers...\n",
      "processed 3000 papers...\n",
      "processed 3100 papers...\n",
      "processed 3200 papers...\n",
      "processed 3300 papers...\n",
      "processed 3400 papers...\n",
      "processed 3500 papers...\n",
      "processed 3600 papers...\n",
      "processed 3700 papers...\n",
      "processed 3800 papers...\n",
      "processed 3900 papers...\n",
      "processed 4000 papers...\n",
      "processed 4100 papers...\n",
      "processed 4200 papers...\n",
      "processed 4300 papers...\n",
      "processed 4400 papers...\n",
      "processed 4500 papers...\n",
      "processed 4600 papers...\n",
      "processed 4700 papers...\n",
      "processed 4800 papers...\n",
      "processed 4900 papers...\n",
      "processed 5000 papers...\n",
      "processed 5100 papers...\n",
      "processed 5200 papers...\n",
      "processed 5300 papers...\n",
      "processed 5400 papers...\n",
      "processed 5500 papers...\n",
      "processed 5600 papers...\n",
      "processed 5700 papers...\n",
      "processed 5800 papers...\n",
      "processed 5900 papers...\n",
      "processed 6000 papers...\n",
      "processed 6100 papers...\n",
      "processed 6200 papers...\n",
      "processed 6300 papers...\n",
      "processed 6400 papers...\n",
      "processed 6500 papers...\n",
      "processed 6600 papers...\n"
     ]
    }
   ],
   "source": [
    "# first get all candidate papers in the same journal and year as each retracted paper.\n",
    "doi_control_aids_all = dict()\n",
    "\n",
    "for ix in range(len(good_mat_df)):\n",
    "    doi, pub_year, journal, num_authors = good_mat_df.loc[ix]\n",
    "    query_str = 'pub_year==%d & journal==\"%s\"'%(pub_year, journal)\n",
    "    sub_df = paper_df.query(query_str)\n",
    "    sub_aids = sub_df.altmetric_id.tolist()\n",
    "    if len(sub_aids) > 0:\n",
    "        doi_control_aids_all[doi] = sub_aids\n",
    "    if (ix+1)%100 == 0:\n",
    "        print('processed %d papers...'%(ix+1))"
   ]
  },
  {
   "cell_type": "code",
   "execution_count": 275,
   "metadata": {
    "scrolled": true
   },
   "outputs": [
    {
     "data": {
      "text/html": [
       "<div>\n",
       "<style scoped>\n",
       "    .dataframe tbody tr th:only-of-type {\n",
       "        vertical-align: middle;\n",
       "    }\n",
       "\n",
       "    .dataframe tbody tr th {\n",
       "        vertical-align: top;\n",
       "    }\n",
       "\n",
       "    .dataframe thead th {\n",
       "        text-align: right;\n",
       "    }\n",
       "</style>\n",
       "<table border=\"1\" class=\"dataframe\">\n",
       "  <thead>\n",
       "    <tr style=\"text-align: right;\">\n",
       "      <th></th>\n",
       "      <th>doi</th>\n",
       "      <th>pub_year</th>\n",
       "      <th>journal</th>\n",
       "      <th>num_authors</th>\n",
       "    </tr>\n",
       "  </thead>\n",
       "  <tbody>\n",
       "    <tr>\n",
       "      <th>2558</th>\n",
       "      <td>10.1097/00005537-199904000-00028</td>\n",
       "      <td>1999</td>\n",
       "      <td>The Laryngoscope</td>\n",
       "      <td>3</td>\n",
       "    </tr>\n",
       "    <tr>\n",
       "      <th>2560</th>\n",
       "      <td>10.1097/00005537-199912000-00017</td>\n",
       "      <td>1999</td>\n",
       "      <td>The Laryngoscope</td>\n",
       "      <td>3</td>\n",
       "    </tr>\n",
       "    <tr>\n",
       "      <th>2625</th>\n",
       "      <td>10.1002/14651858.cd004142.pub2</td>\n",
       "      <td>2010</td>\n",
       "      <td>Cochrane Database of Systematic Reviews</td>\n",
       "      <td>2</td>\n",
       "    </tr>\n",
       "    <tr>\n",
       "      <th>3712</th>\n",
       "      <td>10.1002/14651858.cd007025.pub2</td>\n",
       "      <td>2014</td>\n",
       "      <td>Cochrane Database of Systematic Reviews</td>\n",
       "      <td>5</td>\n",
       "    </tr>\n",
       "    <tr>\n",
       "      <th>3821</th>\n",
       "      <td>10.1002/14651858.cd009008.pub2</td>\n",
       "      <td>2013</td>\n",
       "      <td>Cochrane Database of Systematic Reviews</td>\n",
       "      <td>9</td>\n",
       "    </tr>\n",
       "    <tr>\n",
       "      <th>3978</th>\n",
       "      <td>10.1002/14651858.cd001364.pub4</td>\n",
       "      <td>2013</td>\n",
       "      <td>Cochrane Database of Systematic Reviews</td>\n",
       "      <td>2</td>\n",
       "    </tr>\n",
       "    <tr>\n",
       "      <th>4825</th>\n",
       "      <td>10.1136/bcr-2012-007666</td>\n",
       "      <td>2012</td>\n",
       "      <td>BMJ Case Reports</td>\n",
       "      <td>4</td>\n",
       "    </tr>\n",
       "    <tr>\n",
       "      <th>5807</th>\n",
       "      <td>10.1109/icise.2010.5688639</td>\n",
       "      <td>2010</td>\n",
       "      <td>The 2nd International Conference on Informatio...</td>\n",
       "      <td>4</td>\n",
       "    </tr>\n",
       "    <tr>\n",
       "      <th>5859</th>\n",
       "      <td>10.1109/iccasm.2010.5620213</td>\n",
       "      <td>2010</td>\n",
       "      <td>2010 International Conference on Computer Appl...</td>\n",
       "      <td>4</td>\n",
       "    </tr>\n",
       "    <tr>\n",
       "      <th>5871</th>\n",
       "      <td>10.1109/icife.2010.5609505</td>\n",
       "      <td>2010</td>\n",
       "      <td>2010 2nd IEEE International Conference on Info...</td>\n",
       "      <td>1</td>\n",
       "    </tr>\n",
       "    <tr>\n",
       "      <th>5921</th>\n",
       "      <td>10.1109/iccet.2010.5486136</td>\n",
       "      <td>2010</td>\n",
       "      <td>2010 2nd International Conference on Computer ...</td>\n",
       "      <td>3</td>\n",
       "    </tr>\n",
       "    <tr>\n",
       "      <th>5924</th>\n",
       "      <td>10.1109/iccet.2010.5485353</td>\n",
       "      <td>2010</td>\n",
       "      <td>2010 2nd International Conference on Computer ...</td>\n",
       "      <td>2</td>\n",
       "    </tr>\n",
       "    <tr>\n",
       "      <th>5925</th>\n",
       "      <td>10.1109/icacc.2010.5487046</td>\n",
       "      <td>2010</td>\n",
       "      <td>2010 2nd International Conference on Advanced ...</td>\n",
       "      <td>3</td>\n",
       "    </tr>\n",
       "    <tr>\n",
       "      <th>5926</th>\n",
       "      <td>10.1109/icacc.2010.5487247</td>\n",
       "      <td>2010</td>\n",
       "      <td>2010 2nd International Conference on Advanced ...</td>\n",
       "      <td>3</td>\n",
       "    </tr>\n",
       "    <tr>\n",
       "      <th>5941</th>\n",
       "      <td>10.1109/etcs.2010.562</td>\n",
       "      <td>2010</td>\n",
       "      <td>2010 Second International Workshop on Educatio...</td>\n",
       "      <td>2</td>\n",
       "    </tr>\n",
       "    <tr>\n",
       "      <th>5952</th>\n",
       "      <td>10.1109/appeec.2010.5448740</td>\n",
       "      <td>2010</td>\n",
       "      <td>2010 Asia-Pacific Power and Energy Engineering...</td>\n",
       "      <td>4</td>\n",
       "    </tr>\n",
       "    <tr>\n",
       "      <th>6049</th>\n",
       "      <td>10.1109/ifita.2009.76</td>\n",
       "      <td>2009</td>\n",
       "      <td>2009 International Forum on Information Techno...</td>\n",
       "      <td>3</td>\n",
       "    </tr>\n",
       "    <tr>\n",
       "      <th>6050</th>\n",
       "      <td>10.1109/ifita.2009.572</td>\n",
       "      <td>2009</td>\n",
       "      <td>2009 International Forum on Information Techno...</td>\n",
       "      <td>1</td>\n",
       "    </tr>\n",
       "  </tbody>\n",
       "</table>\n",
       "</div>"
      ],
      "text/plain": [
       "                                   doi  pub_year  \\\n",
       "2558  10.1097/00005537-199904000-00028      1999   \n",
       "2560  10.1097/00005537-199912000-00017      1999   \n",
       "2625    10.1002/14651858.cd004142.pub2      2010   \n",
       "3712    10.1002/14651858.cd007025.pub2      2014   \n",
       "3821    10.1002/14651858.cd009008.pub2      2013   \n",
       "3978    10.1002/14651858.cd001364.pub4      2013   \n",
       "4825           10.1136/bcr-2012-007666      2012   \n",
       "5807        10.1109/icise.2010.5688639      2010   \n",
       "5859       10.1109/iccasm.2010.5620213      2010   \n",
       "5871        10.1109/icife.2010.5609505      2010   \n",
       "5921        10.1109/iccet.2010.5486136      2010   \n",
       "5924        10.1109/iccet.2010.5485353      2010   \n",
       "5925        10.1109/icacc.2010.5487046      2010   \n",
       "5926        10.1109/icacc.2010.5487247      2010   \n",
       "5941             10.1109/etcs.2010.562      2010   \n",
       "5952       10.1109/appeec.2010.5448740      2010   \n",
       "6049             10.1109/ifita.2009.76      2009   \n",
       "6050            10.1109/ifita.2009.572      2009   \n",
       "\n",
       "                                                journal  num_authors  \n",
       "2558                                   The Laryngoscope            3  \n",
       "2560                                   The Laryngoscope            3  \n",
       "2625            Cochrane Database of Systematic Reviews            2  \n",
       "3712            Cochrane Database of Systematic Reviews            5  \n",
       "3821            Cochrane Database of Systematic Reviews            9  \n",
       "3978            Cochrane Database of Systematic Reviews            2  \n",
       "4825                                   BMJ Case Reports            4  \n",
       "5807  The 2nd International Conference on Informatio...            4  \n",
       "5859  2010 International Conference on Computer Appl...            4  \n",
       "5871  2010 2nd IEEE International Conference on Info...            1  \n",
       "5921  2010 2nd International Conference on Computer ...            3  \n",
       "5924  2010 2nd International Conference on Computer ...            2  \n",
       "5925  2010 2nd International Conference on Advanced ...            3  \n",
       "5926  2010 2nd International Conference on Advanced ...            3  \n",
       "5941  2010 Second International Workshop on Educatio...            2  \n",
       "5952  2010 Asia-Pacific Power and Energy Engineering...            4  \n",
       "6049  2009 International Forum on Information Techno...            3  \n",
       "6050  2009 International Forum on Information Techno...            1  "
      ]
     },
     "execution_count": 275,
     "metadata": {},
     "output_type": "execute_result"
    }
   ],
   "source": [
    "# e.g., if a retracted paper has only doi no pubdate in the Alt db, it won't be in paper_df, but it will be in good_mat_df with pubdate from RW db.\n",
    "good_mat_df.loc[~good_mat_df.doi.isin(paper_df.doi)]\n"
   ]
  },
  {
   "cell_type": "code",
   "execution_count": 271,
   "metadata": {},
   "outputs": [
    {
     "data": {
      "text/plain": [
       "6599"
      ]
     },
     "execution_count": 271,
     "metadata": {},
     "output_type": "execute_result"
    }
   ],
   "source": [
    "len(doi_control_aids_all)"
   ]
  },
  {
   "cell_type": "code",
   "execution_count": 301,
   "metadata": {},
   "outputs": [
    {
     "data": {
      "text/plain": [
       "0.9986380145278451"
      ]
     },
     "execution_count": 301,
     "metadata": {},
     "output_type": "execute_result"
    }
   ],
   "source": [
    "len(doi_control_aids_all)/len(good_mat_df)"
   ]
  },
  {
   "cell_type": "code",
   "execution_count": 299,
   "metadata": {},
   "outputs": [
    {
     "data": {
      "text/plain": [
       "['10.11532/structcivil.58a.250',\n",
       " '10.1299/mer.17-00374',\n",
       " '10.1002/14651858.cd004142.pub2',\n",
       " '10.1002/14651858.cd007025.pub2',\n",
       " '10.1002/14651858.cd009008.pub2',\n",
       " '10.1002/14651858.cd001364.pub4',\n",
       " '10.1016/j.bbagrm.2013.07.001',\n",
       " '10.5430/jnep.v2n4p145',\n",
       " '10.1016/s2211-9477(11)70001-2']"
      ]
     },
     "execution_count": 299,
     "metadata": {},
     "output_type": "execute_result"
    }
   ],
   "source": [
    "[doi for doi in good_mat_df.doi if doi not in doi_control_aids_all]"
   ]
  },
  {
   "cell_type": "code",
   "execution_count": 215,
   "metadata": {},
   "outputs": [],
   "source": [
    "# exclude retracted papers from control set.\n",
    "doi_control_aids_all = {doi: [aid for aid in aids if aid_doi[aid] not in doi_alt_data] for doi, aids in doi_control_aids_all.items()}"
   ]
  },
  {
   "cell_type": "code",
   "execution_count": 234,
   "metadata": {},
   "outputs": [],
   "source": [
    "doi_control_aids = {}\n",
    "aids_seen = set()\n",
    "num_c = 5\n",
    "\n",
    "for doi, aids in doi_control_aids_all.items():\n",
    "    dod = [aid for aid in aids if aid not in aids_seen]\n",
    "    if len(dod) >= num_c:\n",
    "        res = random.sample(dod, num_c)\n",
    "        doi_control_aids[doi] = res\n",
    "        for aid in res:\n",
    "            aids_seen.add(aid)"
   ]
  },
  {
   "cell_type": "code",
   "execution_count": 241,
   "metadata": {},
   "outputs": [],
   "source": [
    "with open(data_root+'doi_control_alt_ids.json', 'w') as ofile:\n",
    "    for doi, aids in doi_control_aids.items():\n",
    "        line = {'doi': doi, 'alt_ids': aids}\n",
    "        ofile.write(json.dumps(line) + '\\n')"
   ]
  },
  {
   "cell_type": "code",
   "execution_count": 242,
   "metadata": {},
   "outputs": [],
   "source": [
    "doi_control_aids ={}\n",
    "\n",
    "with open(data_root+\"doi_control_alt_ids.json\", 'r') as ffile:\n",
    "    for line in ffile:\n",
    "        line = json.loads(line)\n",
    "        doi_control_aids[line['doi']] = [int(x) for x in line['alt_ids']]"
   ]
  },
  {
   "cell_type": "code",
   "execution_count": 243,
   "metadata": {},
   "outputs": [
    {
     "data": {
      "text/plain": [
       "6367"
      ]
     },
     "execution_count": 243,
     "metadata": {},
     "output_type": "execute_result"
    }
   ],
   "source": [
    "len(doi_control_aids)"
   ]
  },
  {
   "cell_type": "code",
   "execution_count": 300,
   "metadata": {},
   "outputs": [
    {
     "data": {
      "text/plain": [
       "0.9635290556900726"
      ]
     },
     "execution_count": 300,
     "metadata": {},
     "output_type": "execute_result"
    }
   ],
   "source": [
    "len(doi_control_aids)/len(good_mat_df)"
   ]
  },
  {
   "cell_type": "markdown",
   "metadata": {},
   "source": [
    "Get control papers from Altmetric"
   ]
  },
  {
   "cell_type": "code",
   "execution_count": 236,
   "metadata": {},
   "outputs": [],
   "source": [
    "alt_ids = set()\n",
    "for doi, aids in doi_control_aids.items():\n",
    "    for aid in aids:\n",
    "        alt_ids.add(aid)"
   ]
  },
  {
   "cell_type": "code",
   "execution_count": 237,
   "metadata": {},
   "outputs": [
    {
     "data": {
      "text/plain": [
       "31835"
      ]
     },
     "execution_count": 237,
     "metadata": {},
     "output_type": "execute_result"
    }
   ],
   "source": [
    "len(alt_ids)"
   ]
  },
  {
   "cell_type": "code",
   "execution_count": 244,
   "metadata": {},
   "outputs": [
    {
     "name": "stdout",
     "output_type": "stream",
     "text": [
      "processed 5000000 records...\n",
      "processed 10000000 records...\n",
      "processed 15000000 records...\n",
      "processed 20000000 records...\n",
      "processed 25000000 records...\n"
     ]
    }
   ],
   "source": [
    "control_li = []\n",
    "cn = 0\n",
    "\n",
    "with open(data_root + 'merged.txt', 'r') as ofile:\n",
    "    for row in ofile:\n",
    "        row = row.replace('}{\"altmetric_id\"', '}\\n{\"altmetric_id\"')\n",
    "        # this way works for both good and bad lines.\n",
    "        records = row.split('\\n')\n",
    "        for record in records:\n",
    "            if record != '':\n",
    "                paper = json.loads(record)\n",
    "                cn += 1\n",
    "                if cn % 5000000 == 0:\n",
    "                    print('processed %d records...'%cn)\n",
    "                alt_id = paper['altmetric_id']\n",
    "                if alt_id in alt_ids:\n",
    "                    control_li.append(paper)"
   ]
  },
  {
   "cell_type": "code",
   "execution_count": 245,
   "metadata": {},
   "outputs": [
    {
     "data": {
      "text/plain": [
       "31835"
      ]
     },
     "execution_count": 245,
     "metadata": {},
     "output_type": "execute_result"
    }
   ],
   "source": [
    "len(control_li)"
   ]
  },
  {
   "cell_type": "code",
   "execution_count": 246,
   "metadata": {},
   "outputs": [],
   "source": [
    "with open(data_root+\"control_alt_papers.json\", 'w') as ffile:\n",
    "    for paper in control_li:\n",
    "        ffile.write(json.dumps(paper) + '\\n')"
   ]
  },
  {
   "cell_type": "markdown",
   "metadata": {},
   "source": [
    "Run `2_crawl_tweets.ipynb` to retrieve tweets for these control papers"
   ]
  },
  {
   "cell_type": "code",
   "execution_count": null,
   "metadata": {},
   "outputs": [],
   "source": []
  }
 ],
 "metadata": {
  "kernelspec": {
   "display_name": "Python 3 (ipykernel)",
   "language": "python",
   "name": "python3"
  },
  "language_info": {
   "codemirror_mode": {
    "name": "ipython",
    "version": 3
   },
   "file_extension": ".py",
   "mimetype": "text/x-python",
   "name": "python",
   "nbconvert_exporter": "python",
   "pygments_lexer": "ipython3",
   "version": "3.7.10"
  }
 },
 "nbformat": 4,
 "nbformat_minor": 4
}
