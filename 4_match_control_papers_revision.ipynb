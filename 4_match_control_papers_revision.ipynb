{
 "cells": [
  {
   "cell_type": "code",
   "execution_count": 1,
   "metadata": {},
   "outputs": [],
   "source": [
    "import re\n",
    "import csv\n",
    "import json\n",
    "import pickle\n",
    "import random\n",
    "import requests\n",
    "import pprint\n",
    "import numpy as np\n",
    "import pandas as pd\n",
    "from scipy import stats\n",
    "from langdetect import detect\n",
    "from datetime import datetime\n",
    "import matplotlib.pyplot as plt\n",
    "from scipy.stats import chisquare\n",
    "from collections import Counter, defaultdict"
   ]
  },
  {
   "cell_type": "code",
   "execution_count": 2,
   "metadata": {},
   "outputs": [],
   "source": [
    "data_root = '/home/haopeng/Data/Retraction/'\n",
    "altmetric_start_date = datetime.strptime('2011-06-10', '%Y-%m-%d')\n",
    "altmetric_end_date = datetime.strptime('2019-10-08', '%Y-%m-%d')\n",
    "CIs = {'90': 1.645, '95': 1.96, '99': 2.576}\n",
    "day = 24*3600"
   ]
  },
  {
   "cell_type": "code",
   "execution_count": 3,
   "metadata": {},
   "outputs": [],
   "source": [
    "blog_df = pd.read_csv(data_root + 'blog_mentions_correction.csv', header = 0)\n",
    "blog_set = set(blog_df.loc[~blog_df.maybe_news.isnull(), 'blog_name'])\n",
    "\n",
    "def correct_blogs(data, error_blogs):\n",
    "    for xid, paper in data.items():\n",
    "        if 'blogs' in paper['posts']:\n",
    "            blogs_li = paper['posts']['blogs']\n",
    "            news_li = []\n",
    "            if 'news' in paper['posts']:\n",
    "                news_li = paper['posts']['news']\n",
    "            blogs_li_new = []\n",
    "            for item in blogs_li:\n",
    "                try:\n",
    "                    if item['author']['name'] in error_blogs:\n",
    "                        news_li.append(item)\n",
    "                    else:\n",
    "                        blogs_li_new.append(item)\n",
    "                except:\n",
    "                    pass\n",
    "            paper['posts']['news'] = news_li\n",
    "            paper['posts']['blogs'] = blogs_li_new\n",
    "    return data"
   ]
  },
  {
   "cell_type": "markdown",
   "metadata": {},
   "source": [
    "### All candidate papers in Altmetric"
   ]
  },
  {
   "cell_type": "code",
   "execution_count": 4,
   "metadata": {},
   "outputs": [],
   "source": [
    "article_types = {'JOURNAL ARTICLE', 'Journal Article', 'article'}"
   ]
  },
  {
   "cell_type": "code",
   "execution_count": 126,
   "metadata": {},
   "outputs": [],
   "source": [
    "paper_df = pd.read_csv(data_root+'cand_papers.csv', header=0)"
   ]
  },
  {
   "cell_type": "code",
   "execution_count": 127,
   "metadata": {},
   "outputs": [
    {
     "data": {
      "text/plain": [
       "16307030"
      ]
     },
     "execution_count": 127,
     "metadata": {},
     "output_type": "execute_result"
    }
   ],
   "source": [
    "len(paper_df)"
   ]
  },
  {
   "cell_type": "code",
   "execution_count": 128,
   "metadata": {
    "scrolled": true
   },
   "outputs": [
    {
     "data": {
      "text/html": [
       "<div>\n",
       "<style scoped>\n",
       "    .dataframe tbody tr th:only-of-type {\n",
       "        vertical-align: middle;\n",
       "    }\n",
       "\n",
       "    .dataframe tbody tr th {\n",
       "        vertical-align: top;\n",
       "    }\n",
       "\n",
       "    .dataframe thead th {\n",
       "        text-align: right;\n",
       "    }\n",
       "</style>\n",
       "<table border=\"1\" class=\"dataframe\">\n",
       "  <thead>\n",
       "    <tr style=\"text-align: right;\">\n",
       "      <th></th>\n",
       "      <th>altmetric_id</th>\n",
       "      <th>doi</th>\n",
       "      <th>pub_year</th>\n",
       "      <th>journal</th>\n",
       "      <th>num_authors</th>\n",
       "    </tr>\n",
       "  </thead>\n",
       "  <tbody>\n",
       "    <tr>\n",
       "      <th>0</th>\n",
       "      <td>54241359</td>\n",
       "      <td>10.1158/0008-5472.can-04-0760</td>\n",
       "      <td>2004</td>\n",
       "      <td>Cancer Research</td>\n",
       "      <td>5</td>\n",
       "    </tr>\n",
       "    <tr>\n",
       "      <th>1</th>\n",
       "      <td>14693950</td>\n",
       "      <td>10.4202/app.00261.2016</td>\n",
       "      <td>2016</td>\n",
       "      <td>Acta Palaeontologica Polonica</td>\n",
       "      <td>2</td>\n",
       "    </tr>\n",
       "    <tr>\n",
       "      <th>2</th>\n",
       "      <td>3267266</td>\n",
       "      <td>10.1098/rsbm.2004.0017</td>\n",
       "      <td>2004</td>\n",
       "      <td>Biographical Memoirs of Fellows of the Royal S...</td>\n",
       "      <td>2</td>\n",
       "    </tr>\n",
       "    <tr>\n",
       "      <th>3</th>\n",
       "      <td>1424904</td>\n",
       "      <td>10.1176/appi.ajp.2013.13020235</td>\n",
       "      <td>2013</td>\n",
       "      <td>American Journal of Psychiatry</td>\n",
       "      <td>2</td>\n",
       "    </tr>\n",
       "    <tr>\n",
       "      <th>4</th>\n",
       "      <td>781925</td>\n",
       "      <td>10.1007/s10461-012-0156-7</td>\n",
       "      <td>2012</td>\n",
       "      <td>AIDS &amp; Behavior</td>\n",
       "      <td>4</td>\n",
       "    </tr>\n",
       "  </tbody>\n",
       "</table>\n",
       "</div>"
      ],
      "text/plain": [
       "   altmetric_id                             doi  pub_year  \\\n",
       "0      54241359   10.1158/0008-5472.can-04-0760      2004   \n",
       "1      14693950          10.4202/app.00261.2016      2016   \n",
       "2       3267266          10.1098/rsbm.2004.0017      2004   \n",
       "3       1424904  10.1176/appi.ajp.2013.13020235      2013   \n",
       "4        781925       10.1007/s10461-012-0156-7      2012   \n",
       "\n",
       "                                             journal  num_authors  \n",
       "0                                    Cancer Research            5  \n",
       "1                      Acta Palaeontologica Polonica            2  \n",
       "2  Biographical Memoirs of Fellows of the Royal S...            2  \n",
       "3                     American Journal of Psychiatry            2  \n",
       "4                                    AIDS & Behavior            4  "
      ]
     },
     "execution_count": 128,
     "metadata": {},
     "output_type": "execute_result"
    }
   ],
   "source": [
    "paper_df.head()"
   ]
  },
  {
   "cell_type": "code",
   "execution_count": 129,
   "metadata": {},
   "outputs": [],
   "source": [
    "alt_journals = set(paper_df.journal.to_list())"
   ]
  },
  {
   "cell_type": "code",
   "execution_count": 130,
   "metadata": {
    "scrolled": false
   },
   "outputs": [
    {
     "data": {
      "text/plain": [
       "107933"
      ]
     },
     "execution_count": 130,
     "metadata": {},
     "output_type": "execute_result"
    }
   ],
   "source": [
    "len(alt_journals)"
   ]
  },
  {
   "cell_type": "code",
   "execution_count": 131,
   "metadata": {
    "scrolled": true
   },
   "outputs": [
    {
     "data": {
      "text/plain": [
       "1807004"
      ]
     },
     "execution_count": 131,
     "metadata": {},
     "output_type": "execute_result"
    }
   ],
   "source": [
    "# missing doi\n",
    "np.sum(paper_df.doi.isnull())"
   ]
  },
  {
   "cell_type": "code",
   "execution_count": 132,
   "metadata": {},
   "outputs": [],
   "source": [
    "# no missing data in this set!\n",
    "paper_df = paper_df.loc[~paper_df.doi.isnull()]\n",
    "paper_df.index = range(len(paper_df))"
   ]
  },
  {
   "cell_type": "code",
   "execution_count": 133,
   "metadata": {},
   "outputs": [
    {
     "data": {
      "text/plain": [
       "14500026"
      ]
     },
     "execution_count": 133,
     "metadata": {},
     "output_type": "execute_result"
    }
   ],
   "source": [
    "len(paper_df)"
   ]
  },
  {
   "cell_type": "code",
   "execution_count": 134,
   "metadata": {},
   "outputs": [],
   "source": [
    "aid_doi = dict(zip(paper_df.altmetric_id, paper_df.doi))"
   ]
  },
  {
   "cell_type": "markdown",
   "metadata": {},
   "source": [
    "### Linked retracted papers"
   ]
  },
  {
   "cell_type": "markdown",
   "metadata": {},
   "source": [
    "(1) retracted papers found in Altmetric"
   ]
  },
  {
   "cell_type": "code",
   "execution_count": 139,
   "metadata": {},
   "outputs": [],
   "source": [
    "doi_alt_data = {}\n",
    "\n",
    "with open(data_root+\"retraction_altmetric.json\", 'r') as ffile:\n",
    "    for row in ffile:\n",
    "        record = json.loads(row)\n",
    "        doi = record['citation']['doi'].lower()\n",
    "        doi_alt_data[doi] = record\n",
    "\n",
    "doi_alt_data = correct_blogs(doi_alt_data, blog_set)"
   ]
  },
  {
   "cell_type": "code",
   "execution_count": 140,
   "metadata": {
    "scrolled": false
   },
   "outputs": [
    {
     "data": {
      "text/plain": [
       "6838"
      ]
     },
     "execution_count": 140,
     "metadata": {},
     "output_type": "execute_result"
    }
   ],
   "source": [
    "# there are 6766 articles (papers) among these.\n",
    "# among these articles:\n",
    "# all have pub date (using three fields)\n",
    "# 6738 have journal info\n",
    "# 6572 have author info\n",
    "\n",
    "len(doi_alt_data)"
   ]
  },
  {
   "cell_type": "markdown",
   "metadata": {},
   "source": [
    "(2) final set of retracted papers (cleaned pub date and retraction date)"
   ]
  },
  {
   "cell_type": "code",
   "execution_count": 141,
   "metadata": {},
   "outputs": [],
   "source": [
    "# 158 records are removed since their corrected pub date is no earlier than retraction date.\n",
    "# may contain non research articles.\n",
    "# also may have missing info for authors and journal etc.\n",
    "with open(data_root+'df_retract_clean.pickle', 'rb') as file:\n",
    "    df_match = pickle.load(file)"
   ]
  },
  {
   "cell_type": "code",
   "execution_count": 142,
   "metadata": {
    "scrolled": true
   },
   "outputs": [
    {
     "data": {
      "text/plain": [
       "6680"
      ]
     },
     "execution_count": 142,
     "metadata": {},
     "output_type": "execute_result"
    }
   ],
   "source": [
    "len(df_match)"
   ]
  },
  {
   "cell_type": "code",
   "execution_count": 143,
   "metadata": {},
   "outputs": [],
   "source": [
    "doi_ret_date = dict(zip(df_match['OriginalPaperDOI'], df_match['RetractionDate']))"
   ]
  },
  {
   "cell_type": "code",
   "execution_count": 144,
   "metadata": {
    "scrolled": false
   },
   "outputs": [
    {
     "data": {
      "text/html": [
       "<div>\n",
       "<style scoped>\n",
       "    .dataframe tbody tr th:only-of-type {\n",
       "        vertical-align: middle;\n",
       "    }\n",
       "\n",
       "    .dataframe tbody tr th {\n",
       "        vertical-align: top;\n",
       "    }\n",
       "\n",
       "    .dataframe thead th {\n",
       "        text-align: right;\n",
       "    }\n",
       "</style>\n",
       "<table border=\"1\" class=\"dataframe\">\n",
       "  <thead>\n",
       "    <tr style=\"text-align: right;\">\n",
       "      <th></th>\n",
       "      <th>Record ID</th>\n",
       "      <th>Title</th>\n",
       "      <th>Subject</th>\n",
       "      <th>Institution</th>\n",
       "      <th>Journal</th>\n",
       "      <th>Publisher</th>\n",
       "      <th>Country</th>\n",
       "      <th>Author</th>\n",
       "      <th>URLS</th>\n",
       "      <th>ArticleType</th>\n",
       "      <th>...</th>\n",
       "      <th>usable_days</th>\n",
       "      <th>tweet_ids</th>\n",
       "      <th>tw_date_sort</th>\n",
       "      <th>fcn_date_sort</th>\n",
       "      <th>uncertainty</th>\n",
       "      <th>news_media</th>\n",
       "      <th>social_media</th>\n",
       "      <th>blog</th>\n",
       "      <th>knowledge_repo</th>\n",
       "      <th>top_news</th>\n",
       "    </tr>\n",
       "  </thead>\n",
       "  <tbody>\n",
       "    <tr>\n",
       "      <th>0</th>\n",
       "      <td>23542</td>\n",
       "      <td>Hospital Admission and Readmission Among Homel...</td>\n",
       "      <td>(HSC) Medicine - Neurology;(SOC) Psychology;</td>\n",
       "      <td>Department of Neurology and Weill Institute fo...</td>\n",
       "      <td>Neurology</td>\n",
       "      <td>American Academy of Neurology</td>\n",
       "      <td>United States</td>\n",
       "      <td>Nicole Rosendale;Elan L Guterman;John P Betjem...</td>\n",
       "      <td>NaN</td>\n",
       "      <td>Research Article;</td>\n",
       "      <td>...</td>\n",
       "      <td>137</td>\n",
       "      <td>[1133693569737187329, 1133763571790127106, 113...</td>\n",
       "      <td>[2019-05-29T11:16:24, 2019-05-29T15:54:34, 201...</td>\n",
       "      <td>[506, 273, 4836, 1845, 48163, 181, 935, 1322, ...</td>\n",
       "      <td>[]</td>\n",
       "      <td>[2019-05-28T15:33:34, 2019-05-28T18:38:39]</td>\n",
       "      <td>[2019-05-29T11:16:24, 2019-05-29T15:54:34, 201...</td>\n",
       "      <td>[]</td>\n",
       "      <td>[]</td>\n",
       "      <td>[]</td>\n",
       "    </tr>\n",
       "  </tbody>\n",
       "</table>\n",
       "<p>1 rows × 33 columns</p>\n",
       "</div>"
      ],
      "text/plain": [
       "   Record ID                                              Title  \\\n",
       "0      23542  Hospital Admission and Readmission Among Homel...   \n",
       "\n",
       "                                        Subject  \\\n",
       "0  (HSC) Medicine - Neurology;(SOC) Psychology;   \n",
       "\n",
       "                                         Institution    Journal  \\\n",
       "0  Department of Neurology and Weill Institute fo...  Neurology   \n",
       "\n",
       "                       Publisher        Country  \\\n",
       "0  American Academy of Neurology  United States   \n",
       "\n",
       "                                              Author URLS        ArticleType  \\\n",
       "0  Nicole Rosendale;Elan L Guterman;John P Betjem...  NaN  Research Article;   \n",
       "\n",
       "   ... usable_days                                          tweet_ids  \\\n",
       "0  ...         137  [1133693569737187329, 1133763571790127106, 113...   \n",
       "\n",
       "                                        tw_date_sort  \\\n",
       "0  [2019-05-29T11:16:24, 2019-05-29T15:54:34, 201...   \n",
       "\n",
       "                                       fcn_date_sort uncertainty  \\\n",
       "0  [506, 273, 4836, 1845, 48163, 181, 935, 1322, ...          []   \n",
       "\n",
       "                                   news_media  \\\n",
       "0  [2019-05-28T15:33:34, 2019-05-28T18:38:39]   \n",
       "\n",
       "                                        social_media blog knowledge_repo  \\\n",
       "0  [2019-05-29T11:16:24, 2019-05-29T15:54:34, 201...   []             []   \n",
       "\n",
       "  top_news  \n",
       "0       []  \n",
       "\n",
       "[1 rows x 33 columns]"
      ]
     },
     "execution_count": 144,
     "metadata": {},
     "output_type": "execute_result"
    }
   ],
   "source": [
    "df_match.head(1)"
   ]
  },
  {
   "cell_type": "code",
   "execution_count": 145,
   "metadata": {
    "scrolled": true
   },
   "outputs": [
    {
     "data": {
      "text/plain": [
       "pub_date_corrected    0\n",
       "Journal               0\n",
       "Author                2\n",
       "dtype: int64"
      ]
     },
     "execution_count": 145,
     "metadata": {},
     "output_type": "execute_result"
    }
   ],
   "source": [
    "np.sum(df_match[['pub_date_corrected', 'Journal', 'Author']].isnull(), axis=0)"
   ]
  },
  {
   "cell_type": "code",
   "execution_count": 146,
   "metadata": {},
   "outputs": [],
   "source": [
    "good_mat_df = []\n",
    "\n",
    "# start from RW data\n",
    "for doi in df_match.OriginalPaperDOI.tolist():\n",
    "    paper = doi_alt_data[doi]\n",
    "    # exclude non articles.\n",
    "    if paper['citation']['type'] == 'article':\n",
    "        pubdate, aut, watch_j = df_match.loc[df_match.OriginalPaperDOI == doi][['pub_date_corrected', 'Author', 'Journal']].values.flatten()\n",
    "        pub_year = int(str(pubdate)[:4])\n",
    "        num_authors = 0\n",
    "        if 'authors' in paper['citation']:\n",
    "            num_authors = len(paper['citation']['authors'])\n",
    "        if num_authors == 0 and type(aut) == str:\n",
    "            num_authors = len(aut.split(';'))\n",
    "        journal = ''\n",
    "        if 'journal' in paper['citation']:\n",
    "            journal = paper['citation']['journal']\n",
    "        # use info in Watch if missing in Alt.\n",
    "        if journal == '' and watch_j != '':\n",
    "            journal = watch_j\n",
    "        if journal != '' and num_authors > 0:\n",
    "            good_mat_df.append([doi, pub_year, journal, num_authors])"
   ]
  },
  {
   "cell_type": "code",
   "execution_count": 147,
   "metadata": {},
   "outputs": [],
   "source": [
    "good_mat_df = pd.DataFrame(good_mat_df, columns=['doi', 'pub_year', 'journal', 'num_authors'])"
   ]
  },
  {
   "cell_type": "code",
   "execution_count": 148,
   "metadata": {
    "scrolled": true
   },
   "outputs": [
    {
     "data": {
      "text/plain": [
       "6618"
      ]
     },
     "execution_count": 148,
     "metadata": {},
     "output_type": "execute_result"
    }
   ],
   "source": [
    "len(good_mat_df)"
   ]
  },
  {
   "cell_type": "code",
   "execution_count": 149,
   "metadata": {},
   "outputs": [
    {
     "data": {
      "text/html": [
       "<div>\n",
       "<style scoped>\n",
       "    .dataframe tbody tr th:only-of-type {\n",
       "        vertical-align: middle;\n",
       "    }\n",
       "\n",
       "    .dataframe tbody tr th {\n",
       "        vertical-align: top;\n",
       "    }\n",
       "\n",
       "    .dataframe thead th {\n",
       "        text-align: right;\n",
       "    }\n",
       "</style>\n",
       "<table border=\"1\" class=\"dataframe\">\n",
       "  <thead>\n",
       "    <tr style=\"text-align: right;\">\n",
       "      <th></th>\n",
       "      <th>doi</th>\n",
       "      <th>pub_year</th>\n",
       "      <th>journal</th>\n",
       "      <th>num_authors</th>\n",
       "    </tr>\n",
       "  </thead>\n",
       "  <tbody>\n",
       "    <tr>\n",
       "      <th>1123</th>\n",
       "      <td>10.31219/osf.io/q9xzj</td>\n",
       "      <td>2018</td>\n",
       "      <td>OSF Preprints</td>\n",
       "      <td>1</td>\n",
       "    </tr>\n",
       "    <tr>\n",
       "      <th>5873</th>\n",
       "      <td>10.1109/iceit.2010.5607537</td>\n",
       "      <td>2010</td>\n",
       "      <td>2010 International Conference on Educational a...</td>\n",
       "      <td>2</td>\n",
       "    </tr>\n",
       "    <tr>\n",
       "      <th>5890</th>\n",
       "      <td>10.1109/iccsit.2010.5565151</td>\n",
       "      <td>2010</td>\n",
       "      <td>2010 3rd Intl Conference on Computer Science a...</td>\n",
       "      <td>6</td>\n",
       "    </tr>\n",
       "    <tr>\n",
       "      <th>5892</th>\n",
       "      <td>10.1109/iccsit.2010.5564997</td>\n",
       "      <td>2010</td>\n",
       "      <td>2010 3rd Intl Conference on Computer Science a...</td>\n",
       "      <td>4</td>\n",
       "    </tr>\n",
       "    <tr>\n",
       "      <th>5900</th>\n",
       "      <td>10.1109/icams.2010.5553104</td>\n",
       "      <td>2010</td>\n",
       "      <td>2010 IEEE International Conference on Advanced...</td>\n",
       "      <td>4</td>\n",
       "    </tr>\n",
       "    <tr>\n",
       "      <th>5901</th>\n",
       "      <td>10.1109/icams.2010.5552829</td>\n",
       "      <td>2010</td>\n",
       "      <td>2010 IEEE International Conference on Advanced...</td>\n",
       "      <td>3</td>\n",
       "    </tr>\n",
       "    <tr>\n",
       "      <th>5902</th>\n",
       "      <td>10.1109/icams.2010.5553105</td>\n",
       "      <td>2010</td>\n",
       "      <td>2010 IEEE International Conference on Advanced...</td>\n",
       "      <td>4</td>\n",
       "    </tr>\n",
       "    <tr>\n",
       "      <th>5904</th>\n",
       "      <td>10.1109/icams.2010.5552962</td>\n",
       "      <td>2010</td>\n",
       "      <td>2010 IEEE International Conference on Advanced...</td>\n",
       "      <td>4</td>\n",
       "    </tr>\n",
       "    <tr>\n",
       "      <th>6263</th>\n",
       "      <td>10.1109/wicom.2007.1605</td>\n",
       "      <td>2007</td>\n",
       "      <td>2007 International Conference on Wireless Comm...</td>\n",
       "      <td>2</td>\n",
       "    </tr>\n",
       "    <tr>\n",
       "      <th>6264</th>\n",
       "      <td>10.1109/wicom.2007.1611</td>\n",
       "      <td>2007</td>\n",
       "      <td>2007 International Conference on Wireless Comm...</td>\n",
       "      <td>2</td>\n",
       "    </tr>\n",
       "  </tbody>\n",
       "</table>\n",
       "</div>"
      ],
      "text/plain": [
       "                              doi  pub_year  \\\n",
       "1123        10.31219/osf.io/q9xzj      2018   \n",
       "5873   10.1109/iceit.2010.5607537      2010   \n",
       "5890  10.1109/iccsit.2010.5565151      2010   \n",
       "5892  10.1109/iccsit.2010.5564997      2010   \n",
       "5900   10.1109/icams.2010.5553104      2010   \n",
       "5901   10.1109/icams.2010.5552829      2010   \n",
       "5902   10.1109/icams.2010.5553105      2010   \n",
       "5904   10.1109/icams.2010.5552962      2010   \n",
       "6263      10.1109/wicom.2007.1605      2007   \n",
       "6264      10.1109/wicom.2007.1611      2007   \n",
       "\n",
       "                                                journal  num_authors  \n",
       "1123                                      OSF Preprints            1  \n",
       "5873  2010 International Conference on Educational a...            2  \n",
       "5890  2010 3rd Intl Conference on Computer Science a...            6  \n",
       "5892  2010 3rd Intl Conference on Computer Science a...            4  \n",
       "5900  2010 IEEE International Conference on Advanced...            4  \n",
       "5901  2010 IEEE International Conference on Advanced...            3  \n",
       "5902  2010 IEEE International Conference on Advanced...            4  \n",
       "5904  2010 IEEE International Conference on Advanced...            4  \n",
       "6263  2007 International Conference on Wireless Comm...            2  \n",
       "6264  2007 International Conference on Wireless Comm...            2  "
      ]
     },
     "execution_count": 149,
     "metadata": {},
     "output_type": "execute_result"
    }
   ],
   "source": [
    "good_mat_df.loc[~good_mat_df.journal.isin(alt_journals)]"
   ]
  },
  {
   "cell_type": "code",
   "execution_count": 150,
   "metadata": {},
   "outputs": [],
   "source": [
    "good_mat_df = good_mat_df.loc[good_mat_df.journal.isin(alt_journals)]\n",
    "good_mat_df.index = range(len(good_mat_df))"
   ]
  },
  {
   "cell_type": "code",
   "execution_count": 151,
   "metadata": {},
   "outputs": [
    {
     "data": {
      "text/plain": [
       "6608"
      ]
     },
     "execution_count": 151,
     "metadata": {},
     "output_type": "execute_result"
    }
   ],
   "source": [
    "# no missing data in this df!\n",
    "len(good_mat_df)"
   ]
  },
  {
   "cell_type": "code",
   "execution_count": 152,
   "metadata": {},
   "outputs": [
    {
     "data": {
      "text/html": [
       "<div>\n",
       "<style scoped>\n",
       "    .dataframe tbody tr th:only-of-type {\n",
       "        vertical-align: middle;\n",
       "    }\n",
       "\n",
       "    .dataframe tbody tr th {\n",
       "        vertical-align: top;\n",
       "    }\n",
       "\n",
       "    .dataframe thead th {\n",
       "        text-align: right;\n",
       "    }\n",
       "</style>\n",
       "<table border=\"1\" class=\"dataframe\">\n",
       "  <thead>\n",
       "    <tr style=\"text-align: right;\">\n",
       "      <th></th>\n",
       "      <th>doi</th>\n",
       "      <th>pub_year</th>\n",
       "      <th>journal</th>\n",
       "      <th>num_authors</th>\n",
       "    </tr>\n",
       "  </thead>\n",
       "  <tbody>\n",
       "    <tr>\n",
       "      <th>0</th>\n",
       "      <td>10.1212/wnl.0000000000007645</td>\n",
       "      <td>2019</td>\n",
       "      <td>Neurology</td>\n",
       "      <td>5</td>\n",
       "    </tr>\n",
       "    <tr>\n",
       "      <th>1</th>\n",
       "      <td>10.1371/journal.pone.0039426</td>\n",
       "      <td>2012</td>\n",
       "      <td>PLoS ONE</td>\n",
       "      <td>5</td>\n",
       "    </tr>\n",
       "    <tr>\n",
       "      <th>2</th>\n",
       "      <td>10.1038/nature13375</td>\n",
       "      <td>2014</td>\n",
       "      <td>Nature</td>\n",
       "      <td>13</td>\n",
       "    </tr>\n",
       "    <tr>\n",
       "      <th>3</th>\n",
       "      <td>10.4103/1658-354x.168797</td>\n",
       "      <td>2015</td>\n",
       "      <td>Saudi Journal of Anaesthesia</td>\n",
       "      <td>8</td>\n",
       "    </tr>\n",
       "    <tr>\n",
       "      <th>4</th>\n",
       "      <td>10.4103/sja.sja_81_18</td>\n",
       "      <td>2018</td>\n",
       "      <td>Saudi Journal of Anaesthesia</td>\n",
       "      <td>8</td>\n",
       "    </tr>\n",
       "  </tbody>\n",
       "</table>\n",
       "</div>"
      ],
      "text/plain": [
       "                            doi  pub_year                       journal  \\\n",
       "0  10.1212/wnl.0000000000007645      2019                     Neurology   \n",
       "1  10.1371/journal.pone.0039426      2012                      PLoS ONE   \n",
       "2           10.1038/nature13375      2014                        Nature   \n",
       "3      10.4103/1658-354x.168797      2015  Saudi Journal of Anaesthesia   \n",
       "4         10.4103/sja.sja_81_18      2018  Saudi Journal of Anaesthesia   \n",
       "\n",
       "   num_authors  \n",
       "0            5  \n",
       "1            5  \n",
       "2           13  \n",
       "3            8  \n",
       "4            8  "
      ]
     },
     "execution_count": 152,
     "metadata": {},
     "output_type": "execute_result"
    }
   ],
   "source": [
    "good_mat_df.head()"
   ]
  },
  {
   "cell_type": "code",
   "execution_count": 153,
   "metadata": {},
   "outputs": [],
   "source": [
    "# later on in the analysis (`6_retract_vs_control_revision.ipynb`), we further filter based on Alt database start month, day, year.\n",
    "good_mat_df = good_mat_df.loc[good_mat_df.pub_year >= 2011]\n",
    "good_mat_df.index = range(len(good_mat_df))"
   ]
  },
  {
   "cell_type": "code",
   "execution_count": 154,
   "metadata": {
    "scrolled": true
   },
   "outputs": [
    {
     "data": {
      "text/plain": [
       "4343"
      ]
     },
     "execution_count": 154,
     "metadata": {},
     "output_type": "execute_result"
    }
   ],
   "source": [
    "len(good_mat_df)"
   ]
  },
  {
   "cell_type": "code",
   "execution_count": 155,
   "metadata": {},
   "outputs": [],
   "source": [
    "paper_df = paper_df.loc[paper_df.pub_year >= 2011]\n",
    "paper_df.index = range(len(paper_df))"
   ]
  },
  {
   "cell_type": "code",
   "execution_count": 156,
   "metadata": {
    "scrolled": true
   },
   "outputs": [
    {
     "data": {
      "text/plain": [
       "8571057"
      ]
     },
     "execution_count": 156,
     "metadata": {},
     "output_type": "execute_result"
    }
   ],
   "source": [
    "len(paper_df)"
   ]
  },
  {
   "cell_type": "code",
   "execution_count": 157,
   "metadata": {
    "scrolled": true
   },
   "outputs": [
    {
     "data": {
      "text/plain": [
       "2019"
      ]
     },
     "execution_count": 157,
     "metadata": {},
     "output_type": "execute_result"
    }
   ],
   "source": [
    "np.max(good_mat_df.pub_year)"
   ]
  },
  {
   "cell_type": "code",
   "execution_count": 158,
   "metadata": {},
   "outputs": [
    {
     "data": {
      "text/plain": [
       "2019"
      ]
     },
     "execution_count": 158,
     "metadata": {},
     "output_type": "execute_result"
    }
   ],
   "source": [
    "np.max(paper_df.pub_year)"
   ]
  },
  {
   "cell_type": "markdown",
   "metadata": {},
   "source": [
    "### Combine dois (to get info in MAG)"
   ]
  },
  {
   "cell_type": "code",
   "execution_count": 37,
   "metadata": {},
   "outputs": [],
   "source": [
    "dois = set()\n",
    "\n",
    "for doi in paper_df.doi:\n",
    "    dois.add(doi.lower())\n",
    "for doi in good_mat_df.doi:\n",
    "    dois.add(doi.lower())"
   ]
  },
  {
   "cell_type": "code",
   "execution_count": 38,
   "metadata": {
    "scrolled": true
   },
   "outputs": [
    {
     "data": {
      "text/plain": [
       "8569168"
      ]
     },
     "execution_count": 38,
     "metadata": {},
     "output_type": "execute_result"
    }
   ],
   "source": [
    "len(dois)"
   ]
  },
  {
   "cell_type": "code",
   "execution_count": 268,
   "metadata": {},
   "outputs": [],
   "source": [
    "# Run `mag.ipynb` to obtain paper metadata for these papers from MAG\n",
    "with open(data_root+'revision/alt_dois.pickle', 'wb') as ofile:\n",
    "    pickle.dump(dois, ofile)"
   ]
  },
  {
   "cell_type": "markdown",
   "metadata": {},
   "source": [
    "### Add more controls before matching"
   ]
  },
  {
   "cell_type": "code",
   "execution_count": 94,
   "metadata": {},
   "outputs": [],
   "source": [
    "def yield_one_line(filename, delimiter = '\\t', quote = csv.QUOTE_NONE):\n",
    "    '''a generator which produce one line of a given file'''\n",
    "    with open(filename, 'r') as file:\n",
    "        print('processing %s...' %(filename))\n",
    "        reader = csv.reader(file, delimiter=delimiter, quoting=quote)\n",
    "        for row in reader:\n",
    "            yield row"
   ]
  },
  {
   "cell_type": "code",
   "execution_count": 205,
   "metadata": {
    "scrolled": false
   },
   "outputs": [
    {
     "name": "stdout",
     "output_type": "stream",
     "text": [
      "processing /home/haopeng/Data/Retraction/revision/Affiliations.txt...\n"
     ]
    }
   ],
   "source": [
    "affi_rank = {}\n",
    "\n",
    "# Affiliations.txt comes from MAG\n",
    "for line in yield_one_line(data_root+'revision/Affiliations.txt'):\n",
    "    affi_id, rank, dname, lat, lon = line[0], line[1], line[3], line[9], line[10]\n",
    "    affi_rank[affi_id] = int(rank)"
   ]
  },
  {
   "cell_type": "code",
   "execution_count": 206,
   "metadata": {
    "scrolled": true
   },
   "outputs": [
    {
     "data": {
      "text/plain": [
       "19238"
      ]
     },
     "execution_count": 206,
     "metadata": {},
     "output_type": "execute_result"
    }
   ],
   "source": [
    "affi_rank['2913133470']"
   ]
  },
  {
   "cell_type": "code",
   "execution_count": 42,
   "metadata": {},
   "outputs": [],
   "source": [
    "doi_author_list = {}\n",
    "\n",
    "with open(data_root+'revision/dois_authors_mag.json', 'r') as ofile:\n",
    "    for row in ofile:\n",
    "        row = json.loads(row)\n",
    "        doi, authors = row['doi'], row['authors']\n",
    "        doi_author_list[doi] = authors"
   ]
  },
  {
   "cell_type": "code",
   "execution_count": 123,
   "metadata": {},
   "outputs": [
    {
     "data": {
      "text/plain": [
       "8725412"
      ]
     },
     "execution_count": 123,
     "metadata": {},
     "output_type": "execute_result"
    }
   ],
   "source": [
    "len(doi_author_list)"
   ]
  },
  {
   "cell_type": "code",
   "execution_count": 45,
   "metadata": {},
   "outputs": [],
   "source": [
    "aid_year_citation_count = {}\n",
    "\n",
    "with open(data_root+'revision/aid_year_citation_count.json', 'r') as ofile:\n",
    "    for row in ofile:\n",
    "        row = json.loads(row)\n",
    "        aid, metric = row['aid'], row['citations']\n",
    "        metric = {int(year): cn for year, cn in metric.items() if int(year) >= 2010}\n",
    "        aid_year_citation_count[aid] = metric"
   ]
  },
  {
   "cell_type": "code",
   "execution_count": 122,
   "metadata": {
    "scrolled": true
   },
   "outputs": [
    {
     "data": {
      "text/plain": [
       "10170753"
      ]
     },
     "execution_count": 122,
     "metadata": {},
     "output_type": "execute_result"
    }
   ],
   "source": [
    "len(aid_year_citation_count)"
   ]
  },
  {
   "cell_type": "code",
   "execution_count": 202,
   "metadata": {},
   "outputs": [],
   "source": [
    "def get_doi_max_author_cite(row):\n",
    "    doi, year = row['doi'], int(row['pub_year'])\n",
    "    if doi in doi_author_list:\n",
    "        cites = []\n",
    "        for aid, affi_id, seq, name in doi_author_list[doi]:\n",
    "            if aid in aid_year_citation_count:\n",
    "                if (year-1) in aid_year_citation_count[aid]:\n",
    "                    cites.append(aid_year_citation_count[aid][year-1])\n",
    "                else:\n",
    "                    cites.append(0)\n",
    "        if len(cites) > 0:\n",
    "            return max(cites)\n",
    "        else:\n",
    "            return 0\n",
    "    else:\n",
    "        return np.NaN\n",
    "    \n",
    "def get_doi_max_affi_rank(doi):\n",
    "    if doi in doi_author_list:\n",
    "        ranks = []\n",
    "        # an author can have multiple affi_ids\n",
    "        for aid, affi_id, seq, name in doi_author_list[doi]:\n",
    "            if affi_id in affi_rank:\n",
    "                ranks.append(affi_rank[affi_id])\n",
    "        if len(ranks) > 0:\n",
    "            return min(ranks)\n",
    "        else:\n",
    "            return np.NaN\n",
    "    else:\n",
    "        return np.NaN"
   ]
  },
  {
   "cell_type": "code",
   "execution_count": 207,
   "metadata": {},
   "outputs": [],
   "source": [
    "good_mat_df['top_author_cite'] = good_mat_df.apply(get_doi_max_author_cite, axis=1)\n",
    "good_mat_df['top_affiliation_rank'] = good_mat_df['doi'].apply(get_doi_max_affi_rank)"
   ]
  },
  {
   "cell_type": "code",
   "execution_count": 208,
   "metadata": {
    "scrolled": false
   },
   "outputs": [
    {
     "data": {
      "text/plain": [
       "364"
      ]
     },
     "execution_count": 208,
     "metadata": {},
     "output_type": "execute_result"
    }
   ],
   "source": [
    "len(good_mat_df.loc[~good_mat_df.doi.isin(doi_author_list)])"
   ]
  },
  {
   "cell_type": "code",
   "execution_count": 209,
   "metadata": {
    "scrolled": true
   },
   "outputs": [
    {
     "data": {
      "text/plain": [
       "364"
      ]
     },
     "execution_count": 209,
     "metadata": {},
     "output_type": "execute_result"
    }
   ],
   "source": [
    "len(good_mat_df.loc[good_mat_df.top_author_cite.isna()])"
   ]
  },
  {
   "cell_type": "code",
   "execution_count": 210,
   "metadata": {},
   "outputs": [
    {
     "data": {
      "text/html": [
       "<div>\n",
       "<style scoped>\n",
       "    .dataframe tbody tr th:only-of-type {\n",
       "        vertical-align: middle;\n",
       "    }\n",
       "\n",
       "    .dataframe tbody tr th {\n",
       "        vertical-align: top;\n",
       "    }\n",
       "\n",
       "    .dataframe thead th {\n",
       "        text-align: right;\n",
       "    }\n",
       "</style>\n",
       "<table border=\"1\" class=\"dataframe\">\n",
       "  <thead>\n",
       "    <tr style=\"text-align: right;\">\n",
       "      <th></th>\n",
       "      <th>doi</th>\n",
       "      <th>pub_year</th>\n",
       "      <th>journal</th>\n",
       "      <th>num_authors</th>\n",
       "      <th>top_author_cite</th>\n",
       "      <th>top_affiliation_rank</th>\n",
       "    </tr>\n",
       "  </thead>\n",
       "  <tbody>\n",
       "    <tr>\n",
       "      <th>10</th>\n",
       "      <td>10.1007/s11274-015-1821-6</td>\n",
       "      <td>2015</td>\n",
       "      <td>World Journal of Microbiology &amp; Biotechnology</td>\n",
       "      <td>4</td>\n",
       "      <td>27.0</td>\n",
       "      <td>NaN</td>\n",
       "    </tr>\n",
       "    <tr>\n",
       "      <th>12</th>\n",
       "      <td>10.1038/cgt.2015.6</td>\n",
       "      <td>2015</td>\n",
       "      <td>Cancer Gene Therapy</td>\n",
       "      <td>5</td>\n",
       "      <td>0.0</td>\n",
       "      <td>NaN</td>\n",
       "    </tr>\n",
       "    <tr>\n",
       "      <th>15</th>\n",
       "      <td>10.1016/j.scr.2018.07.008</td>\n",
       "      <td>2018</td>\n",
       "      <td>Stem Cell Research</td>\n",
       "      <td>10</td>\n",
       "      <td>26890.0</td>\n",
       "      <td>NaN</td>\n",
       "    </tr>\n",
       "    <tr>\n",
       "      <th>16</th>\n",
       "      <td>10.1002/jcp.29146</td>\n",
       "      <td>2019</td>\n",
       "      <td>Journal of Cellular Physiology</td>\n",
       "      <td>3</td>\n",
       "      <td>NaN</td>\n",
       "      <td>NaN</td>\n",
       "    </tr>\n",
       "    <tr>\n",
       "      <th>22</th>\n",
       "      <td>10.1186/s40425-019-0637-6</td>\n",
       "      <td>2019</td>\n",
       "      <td>Journal for Immunotherapy of Cancer</td>\n",
       "      <td>5</td>\n",
       "      <td>NaN</td>\n",
       "      <td>NaN</td>\n",
       "    </tr>\n",
       "    <tr>\n",
       "      <th>...</th>\n",
       "      <td>...</td>\n",
       "      <td>...</td>\n",
       "      <td>...</td>\n",
       "      <td>...</td>\n",
       "      <td>...</td>\n",
       "      <td>...</td>\n",
       "    </tr>\n",
       "    <tr>\n",
       "      <th>4326</th>\n",
       "      <td>10.1109/icbmei.2011.5917937</td>\n",
       "      <td>2011</td>\n",
       "      <td>2011 International Conference on Business Mana...</td>\n",
       "      <td>2</td>\n",
       "      <td>0.0</td>\n",
       "      <td>NaN</td>\n",
       "    </tr>\n",
       "    <tr>\n",
       "      <th>4330</th>\n",
       "      <td>10.1016/j.proeng.2011.04.229</td>\n",
       "      <td>2011</td>\n",
       "      <td>Procedia Engineering</td>\n",
       "      <td>3</td>\n",
       "      <td>0.0</td>\n",
       "      <td>NaN</td>\n",
       "    </tr>\n",
       "    <tr>\n",
       "      <th>4334</th>\n",
       "      <td>10.1016/j.ces.2011.02.014</td>\n",
       "      <td>2011</td>\n",
       "      <td>Chemical Engineering Science</td>\n",
       "      <td>5</td>\n",
       "      <td>NaN</td>\n",
       "      <td>NaN</td>\n",
       "    </tr>\n",
       "    <tr>\n",
       "      <th>4335</th>\n",
       "      <td>10.3109/09537104.2010.547958</td>\n",
       "      <td>2011</td>\n",
       "      <td>Platelets</td>\n",
       "      <td>3</td>\n",
       "      <td>84.0</td>\n",
       "      <td>NaN</td>\n",
       "    </tr>\n",
       "    <tr>\n",
       "      <th>4342</th>\n",
       "      <td>10.1002/cbic.201000254</td>\n",
       "      <td>2011</td>\n",
       "      <td>ChemBioChem</td>\n",
       "      <td>7</td>\n",
       "      <td>9976.0</td>\n",
       "      <td>NaN</td>\n",
       "    </tr>\n",
       "  </tbody>\n",
       "</table>\n",
       "<p>1487 rows × 6 columns</p>\n",
       "</div>"
      ],
      "text/plain": [
       "                               doi  pub_year  \\\n",
       "10       10.1007/s11274-015-1821-6      2015   \n",
       "12              10.1038/cgt.2015.6      2015   \n",
       "15       10.1016/j.scr.2018.07.008      2018   \n",
       "16               10.1002/jcp.29146      2019   \n",
       "22       10.1186/s40425-019-0637-6      2019   \n",
       "...                            ...       ...   \n",
       "4326   10.1109/icbmei.2011.5917937      2011   \n",
       "4330  10.1016/j.proeng.2011.04.229      2011   \n",
       "4334     10.1016/j.ces.2011.02.014      2011   \n",
       "4335  10.3109/09537104.2010.547958      2011   \n",
       "4342        10.1002/cbic.201000254      2011   \n",
       "\n",
       "                                                journal  num_authors  \\\n",
       "10        World Journal of Microbiology & Biotechnology            4   \n",
       "12                                  Cancer Gene Therapy            5   \n",
       "15                                   Stem Cell Research           10   \n",
       "16                       Journal of Cellular Physiology            3   \n",
       "22                  Journal for Immunotherapy of Cancer            5   \n",
       "...                                                 ...          ...   \n",
       "4326  2011 International Conference on Business Mana...            2   \n",
       "4330                               Procedia Engineering            3   \n",
       "4334                       Chemical Engineering Science            5   \n",
       "4335                                          Platelets            3   \n",
       "4342                                        ChemBioChem            7   \n",
       "\n",
       "      top_author_cite  top_affiliation_rank  \n",
       "10               27.0                   NaN  \n",
       "12                0.0                   NaN  \n",
       "15            26890.0                   NaN  \n",
       "16                NaN                   NaN  \n",
       "22                NaN                   NaN  \n",
       "...               ...                   ...  \n",
       "4326              0.0                   NaN  \n",
       "4330              0.0                   NaN  \n",
       "4334              NaN                   NaN  \n",
       "4335             84.0                   NaN  \n",
       "4342           9976.0                   NaN  \n",
       "\n",
       "[1487 rows x 6 columns]"
      ]
     },
     "execution_count": 210,
     "metadata": {},
     "output_type": "execute_result"
    }
   ],
   "source": [
    "# pd.set_option('display.max_rows', 2000)\n",
    "good_mat_df.loc[good_mat_df.top_affiliation_rank.isna()]"
   ]
  },
  {
   "cell_type": "code",
   "execution_count": 126,
   "metadata": {},
   "outputs": [
    {
     "data": {
      "text/plain": [
       "[['1923040749', '', '2', 'E. Tiourin'],\n",
       " ['2047678383', '', '4', 'D. Y. Paik'],\n",
       " ['2118413852', '', '6', 'M. Pellegrini'],\n",
       " ['2311268613', '', '1', 'D. M. Janzen'],\n",
       " ['2342135843', '', '5', 'J. Lu'],\n",
       " ['2475107784', '', '7', 'S. Memarzadeh'],\n",
       " ['2639235885', '', '3', 'J. A. Salehi']]"
      ]
     },
     "execution_count": 126,
     "metadata": {},
     "output_type": "execute_result"
    }
   ],
   "source": [
    "doi_author_list['10.1038/ncomms8956']"
   ]
  },
  {
   "cell_type": "code",
   "execution_count": 211,
   "metadata": {},
   "outputs": [],
   "source": [
    "good_mat_df = good_mat_df[['doi', 'pub_year', 'journal', 'num_authors', 'top_author_cite']]\n",
    "good_mat_df = good_mat_df.dropna(axis=0)\n",
    "good_mat_df.index = range(len(good_mat_df))"
   ]
  },
  {
   "cell_type": "code",
   "execution_count": 212,
   "metadata": {
    "scrolled": false
   },
   "outputs": [
    {
     "data": {
      "text/plain": [
       "3979"
      ]
     },
     "execution_count": 212,
     "metadata": {},
     "output_type": "execute_result"
    }
   ],
   "source": [
    "len(good_mat_df)"
   ]
  },
  {
   "cell_type": "code",
   "execution_count": 213,
   "metadata": {
    "scrolled": false
   },
   "outputs": [
    {
     "data": {
      "text/html": [
       "<div>\n",
       "<style scoped>\n",
       "    .dataframe tbody tr th:only-of-type {\n",
       "        vertical-align: middle;\n",
       "    }\n",
       "\n",
       "    .dataframe tbody tr th {\n",
       "        vertical-align: top;\n",
       "    }\n",
       "\n",
       "    .dataframe thead th {\n",
       "        text-align: right;\n",
       "    }\n",
       "</style>\n",
       "<table border=\"1\" class=\"dataframe\">\n",
       "  <thead>\n",
       "    <tr style=\"text-align: right;\">\n",
       "      <th></th>\n",
       "      <th>doi</th>\n",
       "      <th>pub_year</th>\n",
       "      <th>journal</th>\n",
       "      <th>num_authors</th>\n",
       "      <th>top_author_cite</th>\n",
       "    </tr>\n",
       "  </thead>\n",
       "  <tbody>\n",
       "    <tr>\n",
       "      <th>0</th>\n",
       "      <td>10.1212/wnl.0000000000007645</td>\n",
       "      <td>2019</td>\n",
       "      <td>Neurology</td>\n",
       "      <td>5</td>\n",
       "      <td>2106.0</td>\n",
       "    </tr>\n",
       "    <tr>\n",
       "      <th>1</th>\n",
       "      <td>10.1371/journal.pone.0039426</td>\n",
       "      <td>2012</td>\n",
       "      <td>PLoS ONE</td>\n",
       "      <td>5</td>\n",
       "      <td>393.0</td>\n",
       "    </tr>\n",
       "    <tr>\n",
       "      <th>2</th>\n",
       "      <td>10.1038/nature13375</td>\n",
       "      <td>2014</td>\n",
       "      <td>Nature</td>\n",
       "      <td>13</td>\n",
       "      <td>12339.0</td>\n",
       "    </tr>\n",
       "    <tr>\n",
       "      <th>3</th>\n",
       "      <td>10.4103/1658-354x.168797</td>\n",
       "      <td>2015</td>\n",
       "      <td>Saudi Journal of Anaesthesia</td>\n",
       "      <td>8</td>\n",
       "      <td>20.0</td>\n",
       "    </tr>\n",
       "    <tr>\n",
       "      <th>4</th>\n",
       "      <td>10.4103/sja.sja_81_18</td>\n",
       "      <td>2018</td>\n",
       "      <td>Saudi Journal of Anaesthesia</td>\n",
       "      <td>8</td>\n",
       "      <td>126.0</td>\n",
       "    </tr>\n",
       "  </tbody>\n",
       "</table>\n",
       "</div>"
      ],
      "text/plain": [
       "                            doi  pub_year                       journal  \\\n",
       "0  10.1212/wnl.0000000000007645      2019                     Neurology   \n",
       "1  10.1371/journal.pone.0039426      2012                      PLoS ONE   \n",
       "2           10.1038/nature13375      2014                        Nature   \n",
       "3      10.4103/1658-354x.168797      2015  Saudi Journal of Anaesthesia   \n",
       "4         10.4103/sja.sja_81_18      2018  Saudi Journal of Anaesthesia   \n",
       "\n",
       "   num_authors  top_author_cite  \n",
       "0            5           2106.0  \n",
       "1            5            393.0  \n",
       "2           13          12339.0  \n",
       "3            8             20.0  \n",
       "4            8            126.0  "
      ]
     },
     "execution_count": 213,
     "metadata": {},
     "output_type": "execute_result"
    }
   ],
   "source": [
    "good_mat_df.head()"
   ]
  },
  {
   "cell_type": "code",
   "execution_count": 221,
   "metadata": {},
   "outputs": [],
   "source": [
    "paper_df['top_author_cite'] = paper_df.apply(get_doi_max_author_cite, axis=1)"
   ]
  },
  {
   "cell_type": "code",
   "execution_count": 219,
   "metadata": {
    "scrolled": true
   },
   "outputs": [
    {
     "data": {
      "text/plain": [
       "8571057"
      ]
     },
     "execution_count": 219,
     "metadata": {},
     "output_type": "execute_result"
    }
   ],
   "source": [
    "len(paper_df)"
   ]
  },
  {
   "cell_type": "code",
   "execution_count": 220,
   "metadata": {
    "scrolled": true
   },
   "outputs": [
    {
     "data": {
      "text/html": [
       "<div>\n",
       "<style scoped>\n",
       "    .dataframe tbody tr th:only-of-type {\n",
       "        vertical-align: middle;\n",
       "    }\n",
       "\n",
       "    .dataframe tbody tr th {\n",
       "        vertical-align: top;\n",
       "    }\n",
       "\n",
       "    .dataframe thead th {\n",
       "        text-align: right;\n",
       "    }\n",
       "</style>\n",
       "<table border=\"1\" class=\"dataframe\">\n",
       "  <thead>\n",
       "    <tr style=\"text-align: right;\">\n",
       "      <th></th>\n",
       "      <th>altmetric_id</th>\n",
       "      <th>doi</th>\n",
       "      <th>pub_year</th>\n",
       "      <th>journal</th>\n",
       "      <th>num_authors</th>\n",
       "      <th>top_author_cite</th>\n",
       "    </tr>\n",
       "  </thead>\n",
       "  <tbody>\n",
       "    <tr>\n",
       "      <th>0</th>\n",
       "      <td>14693950</td>\n",
       "      <td>10.4202/app.00261.2016</td>\n",
       "      <td>2016</td>\n",
       "      <td>Acta Palaeontologica Polonica</td>\n",
       "      <td>2</td>\n",
       "      <td>592.0</td>\n",
       "    </tr>\n",
       "    <tr>\n",
       "      <th>1</th>\n",
       "      <td>1424904</td>\n",
       "      <td>10.1176/appi.ajp.2013.13020235</td>\n",
       "      <td>2013</td>\n",
       "      <td>American Journal of Psychiatry</td>\n",
       "      <td>2</td>\n",
       "      <td>5586.0</td>\n",
       "    </tr>\n",
       "    <tr>\n",
       "      <th>2</th>\n",
       "      <td>781925</td>\n",
       "      <td>10.1007/s10461-012-0156-7</td>\n",
       "      <td>2012</td>\n",
       "      <td>AIDS &amp; Behavior</td>\n",
       "      <td>4</td>\n",
       "      <td>1815.0</td>\n",
       "    </tr>\n",
       "    <tr>\n",
       "      <th>3</th>\n",
       "      <td>3721487</td>\n",
       "      <td>10.1056/nejm-jw.na35186</td>\n",
       "      <td>2014</td>\n",
       "      <td>Journal Watch</td>\n",
       "      <td>1</td>\n",
       "      <td>678.0</td>\n",
       "    </tr>\n",
       "    <tr>\n",
       "      <th>4</th>\n",
       "      <td>15338148</td>\n",
       "      <td>10.1021/acs.jctc.6b01085</td>\n",
       "      <td>2017</td>\n",
       "      <td>Journal of Chemical Theory and Computation</td>\n",
       "      <td>2</td>\n",
       "      <td>4274.0</td>\n",
       "    </tr>\n",
       "  </tbody>\n",
       "</table>\n",
       "</div>"
      ],
      "text/plain": [
       "   altmetric_id                             doi  pub_year  \\\n",
       "0      14693950          10.4202/app.00261.2016      2016   \n",
       "1       1424904  10.1176/appi.ajp.2013.13020235      2013   \n",
       "2        781925       10.1007/s10461-012-0156-7      2012   \n",
       "3       3721487         10.1056/nejm-jw.na35186      2014   \n",
       "4      15338148        10.1021/acs.jctc.6b01085      2017   \n",
       "\n",
       "                                      journal  num_authors  top_author_cite  \n",
       "0               Acta Palaeontologica Polonica            2            592.0  \n",
       "1              American Journal of Psychiatry            2           5586.0  \n",
       "2                             AIDS & Behavior            4           1815.0  \n",
       "3                               Journal Watch            1            678.0  \n",
       "4  Journal of Chemical Theory and Computation            2           4274.0  "
      ]
     },
     "execution_count": 220,
     "metadata": {},
     "output_type": "execute_result"
    }
   ],
   "source": [
    "paper_df.head()"
   ]
  },
  {
   "cell_type": "code",
   "execution_count": 222,
   "metadata": {},
   "outputs": [],
   "source": [
    "paper_df = paper_df.dropna(axis=0)\n",
    "paper_df.index = range(len(paper_df))"
   ]
  },
  {
   "cell_type": "code",
   "execution_count": 223,
   "metadata": {
    "scrolled": true
   },
   "outputs": [
    {
     "data": {
      "text/plain": [
       "7864302"
      ]
     },
     "execution_count": 223,
     "metadata": {},
     "output_type": "execute_result"
    }
   ],
   "source": [
    "len(paper_df)"
   ]
  },
  {
   "cell_type": "code",
   "execution_count": 227,
   "metadata": {},
   "outputs": [],
   "source": [
    "paper_df['top_author_cite_perc'] = paper_df['top_author_cite'].rank(pct=True)"
   ]
  },
  {
   "cell_type": "code",
   "execution_count": 225,
   "metadata": {
    "scrolled": true
   },
   "outputs": [
    {
     "data": {
      "text/html": [
       "<div>\n",
       "<style scoped>\n",
       "    .dataframe tbody tr th:only-of-type {\n",
       "        vertical-align: middle;\n",
       "    }\n",
       "\n",
       "    .dataframe tbody tr th {\n",
       "        vertical-align: top;\n",
       "    }\n",
       "\n",
       "    .dataframe thead th {\n",
       "        text-align: right;\n",
       "    }\n",
       "</style>\n",
       "<table border=\"1\" class=\"dataframe\">\n",
       "  <thead>\n",
       "    <tr style=\"text-align: right;\">\n",
       "      <th></th>\n",
       "      <th>altmetric_id</th>\n",
       "      <th>doi</th>\n",
       "      <th>pub_year</th>\n",
       "      <th>journal</th>\n",
       "      <th>num_authors</th>\n",
       "      <th>top_author_cite</th>\n",
       "      <th>top_author_cite_perc</th>\n",
       "    </tr>\n",
       "  </thead>\n",
       "  <tbody>\n",
       "    <tr>\n",
       "      <th>0</th>\n",
       "      <td>14693950</td>\n",
       "      <td>10.4202/app.00261.2016</td>\n",
       "      <td>2016</td>\n",
       "      <td>Acta Palaeontologica Polonica</td>\n",
       "      <td>2</td>\n",
       "      <td>592.0</td>\n",
       "      <td>0.352438</td>\n",
       "    </tr>\n",
       "    <tr>\n",
       "      <th>1</th>\n",
       "      <td>1424904</td>\n",
       "      <td>10.1176/appi.ajp.2013.13020235</td>\n",
       "      <td>2013</td>\n",
       "      <td>American Journal of Psychiatry</td>\n",
       "      <td>2</td>\n",
       "      <td>5586.0</td>\n",
       "      <td>0.767297</td>\n",
       "    </tr>\n",
       "    <tr>\n",
       "      <th>2</th>\n",
       "      <td>781925</td>\n",
       "      <td>10.1007/s10461-012-0156-7</td>\n",
       "      <td>2012</td>\n",
       "      <td>AIDS &amp; Behavior</td>\n",
       "      <td>4</td>\n",
       "      <td>1815.0</td>\n",
       "      <td>0.539324</td>\n",
       "    </tr>\n",
       "    <tr>\n",
       "      <th>3</th>\n",
       "      <td>3721487</td>\n",
       "      <td>10.1056/nejm-jw.na35186</td>\n",
       "      <td>2014</td>\n",
       "      <td>Journal Watch</td>\n",
       "      <td>1</td>\n",
       "      <td>678.0</td>\n",
       "      <td>0.370974</td>\n",
       "    </tr>\n",
       "    <tr>\n",
       "      <th>4</th>\n",
       "      <td>15338148</td>\n",
       "      <td>10.1021/acs.jctc.6b01085</td>\n",
       "      <td>2017</td>\n",
       "      <td>Journal of Chemical Theory and Computation</td>\n",
       "      <td>2</td>\n",
       "      <td>4274.0</td>\n",
       "      <td>0.714708</td>\n",
       "    </tr>\n",
       "  </tbody>\n",
       "</table>\n",
       "</div>"
      ],
      "text/plain": [
       "   altmetric_id                             doi  pub_year  \\\n",
       "0      14693950          10.4202/app.00261.2016      2016   \n",
       "1       1424904  10.1176/appi.ajp.2013.13020235      2013   \n",
       "2        781925       10.1007/s10461-012-0156-7      2012   \n",
       "3       3721487         10.1056/nejm-jw.na35186      2014   \n",
       "4      15338148        10.1021/acs.jctc.6b01085      2017   \n",
       "\n",
       "                                      journal  num_authors  top_author_cite  \\\n",
       "0               Acta Palaeontologica Polonica            2            592.0   \n",
       "1              American Journal of Psychiatry            2           5586.0   \n",
       "2                             AIDS & Behavior            4           1815.0   \n",
       "3                               Journal Watch            1            678.0   \n",
       "4  Journal of Chemical Theory and Computation            2           4274.0   \n",
       "\n",
       "   top_author_cite_perc  \n",
       "0              0.352438  \n",
       "1              0.767297  \n",
       "2              0.539324  \n",
       "3              0.370974  \n",
       "4              0.714708  "
      ]
     },
     "execution_count": 225,
     "metadata": {},
     "output_type": "execute_result"
    }
   ],
   "source": [
    "paper_df.head()"
   ]
  },
  {
   "cell_type": "code",
   "execution_count": 226,
   "metadata": {},
   "outputs": [],
   "source": [
    "top_author_cite_perc_dict = dict(zip(paper_df['top_author_cite'], paper_df['top_author_cite_perc']))"
   ]
  },
  {
   "cell_type": "markdown",
   "metadata": {},
   "source": [
    "## (v6) Find matches (journal, year, num of authors, author citation)"
   ]
  },
  {
   "cell_type": "code",
   "execution_count": 108,
   "metadata": {
    "scrolled": true
   },
   "outputs": [
    {
     "name": "stdout",
     "output_type": "stream",
     "text": [
      "processed 100 papers...\n",
      "processed 200 papers...\n",
      "processed 300 papers...\n",
      "processed 400 papers...\n",
      "processed 500 papers...\n",
      "processed 600 papers...\n",
      "processed 700 papers...\n",
      "processed 800 papers...\n",
      "processed 900 papers...\n",
      "processed 1000 papers...\n",
      "processed 1100 papers...\n",
      "processed 1200 papers...\n",
      "processed 1300 papers...\n",
      "processed 1400 papers...\n",
      "processed 1500 papers...\n",
      "processed 1600 papers...\n",
      "processed 1700 papers...\n",
      "processed 1800 papers...\n",
      "processed 1900 papers...\n",
      "processed 2000 papers...\n",
      "processed 2100 papers...\n",
      "processed 2200 papers...\n",
      "processed 2300 papers...\n",
      "processed 2400 papers...\n",
      "processed 2500 papers...\n",
      "processed 2600 papers...\n",
      "processed 2700 papers...\n",
      "processed 2800 papers...\n"
     ]
    }
   ],
   "source": [
    "# first get all candidate papers\n",
    "doi_control_aids_all = dict()\n",
    "\n",
    "for ix in range(len(good_mat_df)):\n",
    "    doi, pub_year, journal, num_authors, author_cite, affi_rank = good_mat_df.loc[ix]\n",
    "    author_cite_p = top_author_cite_perc_dict[author_cite]\n",
    "    query_str = 'journal==\"%s\" & pub_year>=%d & pub_year<=%d & num_authors>=%d & num_authors<=%d & top_author_cite_perc>=%f & top_author_cite_perc<=%f'%(journal, pub_year-2, pub_year+2, num_authors-2, num_authors+2, author_cite_p-0.2, author_cite_p+0.2)\n",
    "    sub_df = paper_df.query(query_str)\n",
    "    sub_aids = sub_df.altmetric_id.tolist()\n",
    "    if len(sub_aids) > 0:\n",
    "        doi_control_aids_all[doi] = sub_aids\n",
    "    if (ix+1)%100 == 0:\n",
    "        print('processed %d papers...'%(ix+1))"
   ]
  },
  {
   "cell_type": "markdown",
   "metadata": {},
   "source": [
    "## (v7) Find matches (additionally considering affiliation rank)"
   ]
  },
  {
   "cell_type": "code",
   "execution_count": 108,
   "metadata": {
    "scrolled": true
   },
   "outputs": [
    {
     "name": "stdout",
     "output_type": "stream",
     "text": [
      "processed 100 papers...\n",
      "processed 200 papers...\n",
      "processed 300 papers...\n",
      "processed 400 papers...\n",
      "processed 500 papers...\n",
      "processed 600 papers...\n",
      "processed 700 papers...\n",
      "processed 800 papers...\n",
      "processed 900 papers...\n",
      "processed 1000 papers...\n",
      "processed 1100 papers...\n",
      "processed 1200 papers...\n",
      "processed 1300 papers...\n",
      "processed 1400 papers...\n",
      "processed 1500 papers...\n",
      "processed 1600 papers...\n",
      "processed 1700 papers...\n",
      "processed 1800 papers...\n",
      "processed 1900 papers...\n",
      "processed 2000 papers...\n",
      "processed 2100 papers...\n",
      "processed 2200 papers...\n",
      "processed 2300 papers...\n",
      "processed 2400 papers...\n",
      "processed 2500 papers...\n",
      "processed 2600 papers...\n",
      "processed 2700 papers...\n",
      "processed 2800 papers...\n"
     ]
    }
   ],
   "source": [
    "# first get all candidate papers\n",
    "doi_control_aids_all = dict()\n",
    "\n",
    "for ix in range(len(good_mat_df)):\n",
    "    doi, pub_year, journal, num_authors, author_cite, affi_rank = good_mat_df.loc[ix]\n",
    "    author_cite_p = top_author_cite_perc_dict[author_cite]\n",
    "    affi_rank_p = top_affi_rank_perc_dict[affi_rank]\n",
    "    query_str = 'journal==\"%s\" & pub_year>=%d & pub_year<=%d & num_authors>=%d & num_authors<=%d & top_author_cite_perc>=%f & top_author_cite_perc<=%f & top_affiliation_rank_perc>=%f & top_affiliation_rank_perc<=%f'%(journal, pub_year-2, pub_year+2, num_authors-2, num_authors+2, author_cite_p-0.2, author_cite_p+0.2, affi_rank_p-0.2, affi_rank_p+0.2)\n",
    "    sub_df = paper_df.query(query_str)\n",
    "    sub_aids = sub_df.altmetric_id.tolist()\n",
    "    if len(sub_aids) > 0:\n",
    "        doi_control_aids_all[doi] = sub_aids\n",
    "    if (ix+1)%100 == 0:\n",
    "        print('processed %d papers...'%(ix+1))"
   ]
  },
  {
   "cell_type": "code",
   "execution_count": 109,
   "metadata": {},
   "outputs": [],
   "source": [
    "# exclude retracted papers from control set.\n",
    "doi_control_aids_all = {doi: [aid for aid in aids if aid_doi[aid] not in doi_alt_data] for doi, aids in doi_control_aids_all.items()}\n",
    "\n",
    "for doi in list(doi_control_aids_all.keys()):\n",
    "    if len(doi_control_aids_all[doi]) == 0:\n",
    "        del doi_control_aids_all[doi]"
   ]
  },
  {
   "cell_type": "code",
   "execution_count": 110,
   "metadata": {
    "scrolled": false
   },
   "outputs": [
    {
     "data": {
      "text/plain": [
       "2828"
      ]
     },
     "execution_count": 110,
     "metadata": {},
     "output_type": "execute_result"
    }
   ],
   "source": [
    "len(doi_control_aids_all)"
   ]
  },
  {
   "cell_type": "code",
   "execution_count": 111,
   "metadata": {
    "scrolled": false
   },
   "outputs": [
    {
     "data": {
      "text/plain": [
       "0.9901960784313726"
      ]
     },
     "execution_count": 111,
     "metadata": {},
     "output_type": "execute_result"
    }
   ],
   "source": [
    "len(doi_control_aids_all)/len(good_mat_df)"
   ]
  },
  {
   "cell_type": "code",
   "execution_count": 112,
   "metadata": {},
   "outputs": [],
   "source": [
    "doi_control_aids = {}\n",
    "aids_seen = set()\n",
    "num_c = 5\n",
    "\n",
    "for doi, aids in doi_control_aids_all.items():\n",
    "    dod = [aid for aid in aids if aid not in aids_seen]\n",
    "    if len(dod) >= num_c:\n",
    "        res = random.sample(dod, num_c)\n",
    "        doi_control_aids[doi] = res\n",
    "        for aid in res:\n",
    "            aids_seen.add(aid)"
   ]
  },
  {
   "cell_type": "code",
   "execution_count": 113,
   "metadata": {
    "scrolled": false
   },
   "outputs": [
    {
     "data": {
      "text/plain": [
       "2630"
      ]
     },
     "execution_count": 113,
     "metadata": {},
     "output_type": "execute_result"
    }
   ],
   "source": [
    "len(doi_control_aids)"
   ]
  },
  {
   "cell_type": "code",
   "execution_count": 114,
   "metadata": {
    "scrolled": true
   },
   "outputs": [
    {
     "data": {
      "text/plain": [
       "0.9208683473389355"
      ]
     },
     "execution_count": 114,
     "metadata": {},
     "output_type": "execute_result"
    }
   ],
   "source": [
    "len(doi_control_aids)/len(good_mat_df)"
   ]
  },
  {
   "cell_type": "code",
   "execution_count": 115,
   "metadata": {},
   "outputs": [],
   "source": [
    "with open(data_root+'revision/doi_control_alt_ids_revision_v7.json', 'w') as ofile:\n",
    "    for doi, aids in doi_control_aids.items():\n",
    "        line = {'doi': doi, 'alt_ids': aids}\n",
    "        ofile.write(json.dumps(line) + '\\n')"
   ]
  },
  {
   "cell_type": "markdown",
   "metadata": {},
   "source": [
    "Get control papers from Altmetric"
   ]
  },
  {
   "cell_type": "code",
   "execution_count": 116,
   "metadata": {},
   "outputs": [],
   "source": [
    "alt_ids = set()\n",
    "for doi, aids in doi_control_aids.items():\n",
    "    for aid in aids:\n",
    "        alt_ids.add(aid)"
   ]
  },
  {
   "cell_type": "code",
   "execution_count": 117,
   "metadata": {
    "scrolled": true
   },
   "outputs": [
    {
     "data": {
      "text/plain": [
       "13150"
      ]
     },
     "execution_count": 117,
     "metadata": {},
     "output_type": "execute_result"
    }
   ],
   "source": [
    "len(alt_ids)"
   ]
  },
  {
   "cell_type": "code",
   "execution_count": 118,
   "metadata": {},
   "outputs": [
    {
     "name": "stdout",
     "output_type": "stream",
     "text": [
      "processed 5000000 records...\n",
      "processed 10000000 records...\n",
      "processed 15000000 records...\n",
      "processed 20000000 records...\n",
      "processed 25000000 records...\n"
     ]
    }
   ],
   "source": [
    "control_li = []\n",
    "cn = 0\n",
    "\n",
    "with open(data_root + 'merged.txt', 'r') as ofile:\n",
    "    for row in ofile:\n",
    "        row = row.replace('}{\"altmetric_id\"', '}\\n{\"altmetric_id\"')\n",
    "        # this way works for both good and bad lines.\n",
    "        records = row.split('\\n')\n",
    "        for record in records:\n",
    "            if record != '':\n",
    "                paper = json.loads(record)\n",
    "                cn += 1\n",
    "                if cn % 5000000 == 0:\n",
    "                    print('processed %d records...'%cn)\n",
    "                alt_id = paper['altmetric_id']\n",
    "                if alt_id in alt_ids:\n",
    "                    control_li.append(paper)"
   ]
  },
  {
   "cell_type": "code",
   "execution_count": 119,
   "metadata": {
    "scrolled": true
   },
   "outputs": [
    {
     "data": {
      "text/plain": [
       "13150"
      ]
     },
     "execution_count": 119,
     "metadata": {},
     "output_type": "execute_result"
    }
   ],
   "source": [
    "len(control_li)"
   ]
  },
  {
   "cell_type": "code",
   "execution_count": null,
   "metadata": {},
   "outputs": [],
   "source": [
    "with open(data_root+\"revision/control_alt_papers_revision_v7.json\", 'w') as ffile:\n",
    "    for paper in control_li:\n",
    "        ffile.write(json.dumps(paper) + '\\n')"
   ]
  },
  {
   "cell_type": "markdown",
   "metadata": {},
   "source": [
    "## (v6) Get the top author's citation count for each paper (at pub year)"
   ]
  },
  {
   "cell_type": "markdown",
   "metadata": {},
   "source": [
    "This data will be used in the regression analysis that controls for author's log citations"
   ]
  },
  {
   "cell_type": "code",
   "execution_count": 124,
   "metadata": {},
   "outputs": [],
   "source": [
    "doi_control_aids ={}\n",
    "\n",
    "with open(data_root+\"revision/doi_control_alt_ids_revision_v6.json\", 'r') as ffile:\n",
    "    for line in ffile:\n",
    "        line = json.loads(line)\n",
    "        doi_control_aids[line['doi']] = [int(x) for x in line['alt_ids']]"
   ]
  },
  {
   "cell_type": "code",
   "execution_count": 125,
   "metadata": {},
   "outputs": [
    {
     "data": {
      "text/plain": [
       "3851"
      ]
     },
     "execution_count": 125,
     "metadata": {},
     "output_type": "execute_result"
    }
   ],
   "source": [
    "len(doi_control_aids)"
   ]
  },
  {
   "cell_type": "code",
   "execution_count": 175,
   "metadata": {},
   "outputs": [],
   "source": [
    "tem = good_mat_df.loc[good_mat_df.doi.isin(doi_control_aids)].copy()\n",
    "tem.index = range(len(tem))\n",
    "tem['top_author_cite'] = tem.apply(get_doi_max_author_cite, axis=1)"
   ]
  },
  {
   "cell_type": "code",
   "execution_count": 176,
   "metadata": {},
   "outputs": [
    {
     "data": {
      "text/html": [
       "<div>\n",
       "<style scoped>\n",
       "    .dataframe tbody tr th:only-of-type {\n",
       "        vertical-align: middle;\n",
       "    }\n",
       "\n",
       "    .dataframe tbody tr th {\n",
       "        vertical-align: top;\n",
       "    }\n",
       "\n",
       "    .dataframe thead th {\n",
       "        text-align: right;\n",
       "    }\n",
       "</style>\n",
       "<table border=\"1\" class=\"dataframe\">\n",
       "  <thead>\n",
       "    <tr style=\"text-align: right;\">\n",
       "      <th></th>\n",
       "      <th>doi</th>\n",
       "      <th>pub_year</th>\n",
       "      <th>journal</th>\n",
       "      <th>num_authors</th>\n",
       "      <th>top_author_cite</th>\n",
       "    </tr>\n",
       "  </thead>\n",
       "  <tbody>\n",
       "    <tr>\n",
       "      <th>0</th>\n",
       "      <td>10.1212/wnl.0000000000007645</td>\n",
       "      <td>2019</td>\n",
       "      <td>Neurology</td>\n",
       "      <td>5</td>\n",
       "      <td>2106</td>\n",
       "    </tr>\n",
       "    <tr>\n",
       "      <th>1</th>\n",
       "      <td>10.1371/journal.pone.0039426</td>\n",
       "      <td>2012</td>\n",
       "      <td>PLoS ONE</td>\n",
       "      <td>5</td>\n",
       "      <td>393</td>\n",
       "    </tr>\n",
       "    <tr>\n",
       "      <th>2</th>\n",
       "      <td>10.1038/nature13375</td>\n",
       "      <td>2014</td>\n",
       "      <td>Nature</td>\n",
       "      <td>13</td>\n",
       "      <td>12339</td>\n",
       "    </tr>\n",
       "    <tr>\n",
       "      <th>3</th>\n",
       "      <td>10.4103/1658-354x.168797</td>\n",
       "      <td>2015</td>\n",
       "      <td>Saudi Journal of Anaesthesia</td>\n",
       "      <td>8</td>\n",
       "      <td>20</td>\n",
       "    </tr>\n",
       "    <tr>\n",
       "      <th>4</th>\n",
       "      <td>10.4103/sja.sja_81_18</td>\n",
       "      <td>2018</td>\n",
       "      <td>Saudi Journal of Anaesthesia</td>\n",
       "      <td>8</td>\n",
       "      <td>126</td>\n",
       "    </tr>\n",
       "    <tr>\n",
       "      <th>...</th>\n",
       "      <td>...</td>\n",
       "      <td>...</td>\n",
       "      <td>...</td>\n",
       "      <td>...</td>\n",
       "      <td>...</td>\n",
       "    </tr>\n",
       "    <tr>\n",
       "      <th>3846</th>\n",
       "      <td>10.1016/j.aml.2011.01.019</td>\n",
       "      <td>2011</td>\n",
       "      <td>Applied Mathematics Letters</td>\n",
       "      <td>1</td>\n",
       "      <td>303</td>\n",
       "    </tr>\n",
       "    <tr>\n",
       "      <th>3847</th>\n",
       "      <td>10.1016/j.procs.2010.12.074</td>\n",
       "      <td>2011</td>\n",
       "      <td>Procedia Computer Science</td>\n",
       "      <td>2</td>\n",
       "      <td>0</td>\n",
       "    </tr>\n",
       "    <tr>\n",
       "      <th>3848</th>\n",
       "      <td>10.1016/j.amc.2011.02.038</td>\n",
       "      <td>2011</td>\n",
       "      <td>Applied Mathematics &amp; Computation</td>\n",
       "      <td>4</td>\n",
       "      <td>17</td>\n",
       "    </tr>\n",
       "    <tr>\n",
       "      <th>3849</th>\n",
       "      <td>10.1371/journal.pone.0016011</td>\n",
       "      <td>2011</td>\n",
       "      <td>PLoS ONE</td>\n",
       "      <td>3</td>\n",
       "      <td>1069</td>\n",
       "    </tr>\n",
       "    <tr>\n",
       "      <th>3850</th>\n",
       "      <td>10.1002/cbic.201000254</td>\n",
       "      <td>2011</td>\n",
       "      <td>ChemBioChem</td>\n",
       "      <td>7</td>\n",
       "      <td>9976</td>\n",
       "    </tr>\n",
       "  </tbody>\n",
       "</table>\n",
       "<p>3851 rows × 5 columns</p>\n",
       "</div>"
      ],
      "text/plain": [
       "                               doi  pub_year  \\\n",
       "0     10.1212/wnl.0000000000007645      2019   \n",
       "1     10.1371/journal.pone.0039426      2012   \n",
       "2              10.1038/nature13375      2014   \n",
       "3         10.4103/1658-354x.168797      2015   \n",
       "4            10.4103/sja.sja_81_18      2018   \n",
       "...                            ...       ...   \n",
       "3846     10.1016/j.aml.2011.01.019      2011   \n",
       "3847   10.1016/j.procs.2010.12.074      2011   \n",
       "3848     10.1016/j.amc.2011.02.038      2011   \n",
       "3849  10.1371/journal.pone.0016011      2011   \n",
       "3850        10.1002/cbic.201000254      2011   \n",
       "\n",
       "                                journal  num_authors  top_author_cite  \n",
       "0                             Neurology            5             2106  \n",
       "1                              PLoS ONE            5              393  \n",
       "2                                Nature           13            12339  \n",
       "3          Saudi Journal of Anaesthesia            8               20  \n",
       "4          Saudi Journal of Anaesthesia            8              126  \n",
       "...                                 ...          ...              ...  \n",
       "3846        Applied Mathematics Letters            1              303  \n",
       "3847          Procedia Computer Science            2                0  \n",
       "3848  Applied Mathematics & Computation            4               17  \n",
       "3849                           PLoS ONE            3             1069  \n",
       "3850                        ChemBioChem            7             9976  \n",
       "\n",
       "[3851 rows x 5 columns]"
      ]
     },
     "execution_count": 176,
     "metadata": {},
     "output_type": "execute_result"
    }
   ],
   "source": [
    "tem"
   ]
  },
  {
   "cell_type": "code",
   "execution_count": 166,
   "metadata": {},
   "outputs": [],
   "source": [
    "tem_aids = set()\n",
    "for doi, aids in doi_control_aids.items():\n",
    "    for aid in aids:\n",
    "        tem_aids.add(aid)"
   ]
  },
  {
   "cell_type": "code",
   "execution_count": 167,
   "metadata": {},
   "outputs": [
    {
     "data": {
      "text/plain": [
       "19255"
      ]
     },
     "execution_count": 167,
     "metadata": {},
     "output_type": "execute_result"
    }
   ],
   "source": [
    "len(tem_aids)"
   ]
  },
  {
   "cell_type": "code",
   "execution_count": 169,
   "metadata": {},
   "outputs": [],
   "source": [
    "tem_1 = paper_df.loc[paper_df.altmetric_id.isin(tem_aids)].copy()\n",
    "tem_1.index = range(len(tem_1))\n",
    "tem_1['top_author_cite'] = tem_1.apply(get_doi_max_author_cite, axis=1)"
   ]
  },
  {
   "cell_type": "code",
   "execution_count": 173,
   "metadata": {},
   "outputs": [
    {
     "data": {
      "text/html": [
       "<div>\n",
       "<style scoped>\n",
       "    .dataframe tbody tr th:only-of-type {\n",
       "        vertical-align: middle;\n",
       "    }\n",
       "\n",
       "    .dataframe tbody tr th {\n",
       "        vertical-align: top;\n",
       "    }\n",
       "\n",
       "    .dataframe thead th {\n",
       "        text-align: right;\n",
       "    }\n",
       "</style>\n",
       "<table border=\"1\" class=\"dataframe\">\n",
       "  <thead>\n",
       "    <tr style=\"text-align: right;\">\n",
       "      <th></th>\n",
       "      <th>altmetric_id</th>\n",
       "      <th>doi</th>\n",
       "      <th>pub_year</th>\n",
       "      <th>journal</th>\n",
       "      <th>num_authors</th>\n",
       "      <th>top_author_cite</th>\n",
       "    </tr>\n",
       "  </thead>\n",
       "  <tbody>\n",
       "    <tr>\n",
       "      <th>0</th>\n",
       "      <td>21408520</td>\n",
       "      <td>10.1111/1440-1681.12806</td>\n",
       "      <td>2017</td>\n",
       "      <td>Clinical &amp; Experimental Pharmacology &amp; Physiology</td>\n",
       "      <td>3</td>\n",
       "      <td>0</td>\n",
       "    </tr>\n",
       "    <tr>\n",
       "      <th>1</th>\n",
       "      <td>4471406</td>\n",
       "      <td>10.1186/s40478-015-0232-0</td>\n",
       "      <td>2015</td>\n",
       "      <td>Acta Neuropathologica Communications</td>\n",
       "      <td>15</td>\n",
       "      <td>31182</td>\n",
       "    </tr>\n",
       "    <tr>\n",
       "      <th>2</th>\n",
       "      <td>4658129</td>\n",
       "      <td>10.1186/s40001-014-0068-2</td>\n",
       "      <td>2014</td>\n",
       "      <td>European Journal of Medical Research</td>\n",
       "      <td>6</td>\n",
       "      <td>22</td>\n",
       "    </tr>\n",
       "    <tr>\n",
       "      <th>3</th>\n",
       "      <td>33378280</td>\n",
       "      <td>10.1155/2013/353270</td>\n",
       "      <td>2013</td>\n",
       "      <td>BioMed Research International</td>\n",
       "      <td>5</td>\n",
       "      <td>2626</td>\n",
       "    </tr>\n",
       "    <tr>\n",
       "      <th>4</th>\n",
       "      <td>10860533</td>\n",
       "      <td>10.1111/phor.12153</td>\n",
       "      <td>2016</td>\n",
       "      <td>Photogrammetric Record</td>\n",
       "      <td>3</td>\n",
       "      <td>170</td>\n",
       "    </tr>\n",
       "    <tr>\n",
       "      <th>...</th>\n",
       "      <td>...</td>\n",
       "      <td>...</td>\n",
       "      <td>...</td>\n",
       "      <td>...</td>\n",
       "      <td>...</td>\n",
       "      <td>...</td>\n",
       "    </tr>\n",
       "    <tr>\n",
       "      <th>19250</th>\n",
       "      <td>2577967</td>\n",
       "      <td>10.1139/bcb-2013-0127</td>\n",
       "      <td>2014</td>\n",
       "      <td>Biochemistry and Cell Biology</td>\n",
       "      <td>2</td>\n",
       "      <td>0</td>\n",
       "    </tr>\n",
       "    <tr>\n",
       "      <th>19251</th>\n",
       "      <td>6122978</td>\n",
       "      <td>10.1007/s12035-016-9754-0</td>\n",
       "      <td>2016</td>\n",
       "      <td>Molecular Neurobiology</td>\n",
       "      <td>7</td>\n",
       "      <td>88</td>\n",
       "    </tr>\n",
       "    <tr>\n",
       "      <th>19252</th>\n",
       "      <td>6705886</td>\n",
       "      <td>10.1021/acs.oprd.5b00139</td>\n",
       "      <td>2015</td>\n",
       "      <td>Organic Process Research &amp; Development</td>\n",
       "      <td>6</td>\n",
       "      <td>784</td>\n",
       "    </tr>\n",
       "    <tr>\n",
       "      <th>19253</th>\n",
       "      <td>52445630</td>\n",
       "      <td>10.1002/mbo3.764</td>\n",
       "      <td>2018</td>\n",
       "      <td>MicrobiologyOpen</td>\n",
       "      <td>6</td>\n",
       "      <td>13367</td>\n",
       "    </tr>\n",
       "    <tr>\n",
       "      <th>19254</th>\n",
       "      <td>4622258</td>\n",
       "      <td>10.1098/rsob.150070</td>\n",
       "      <td>2015</td>\n",
       "      <td>Open Biology</td>\n",
       "      <td>7</td>\n",
       "      <td>620</td>\n",
       "    </tr>\n",
       "  </tbody>\n",
       "</table>\n",
       "<p>19255 rows × 6 columns</p>\n",
       "</div>"
      ],
      "text/plain": [
       "       altmetric_id                        doi  pub_year  \\\n",
       "0          21408520    10.1111/1440-1681.12806      2017   \n",
       "1           4471406  10.1186/s40478-015-0232-0      2015   \n",
       "2           4658129  10.1186/s40001-014-0068-2      2014   \n",
       "3          33378280        10.1155/2013/353270      2013   \n",
       "4          10860533         10.1111/phor.12153      2016   \n",
       "...             ...                        ...       ...   \n",
       "19250       2577967      10.1139/bcb-2013-0127      2014   \n",
       "19251       6122978  10.1007/s12035-016-9754-0      2016   \n",
       "19252       6705886   10.1021/acs.oprd.5b00139      2015   \n",
       "19253      52445630           10.1002/mbo3.764      2018   \n",
       "19254       4622258        10.1098/rsob.150070      2015   \n",
       "\n",
       "                                                 journal  num_authors  \\\n",
       "0      Clinical & Experimental Pharmacology & Physiology            3   \n",
       "1                   Acta Neuropathologica Communications           15   \n",
       "2                   European Journal of Medical Research            6   \n",
       "3                          BioMed Research International            5   \n",
       "4                                 Photogrammetric Record            3   \n",
       "...                                                  ...          ...   \n",
       "19250                      Biochemistry and Cell Biology            2   \n",
       "19251                             Molecular Neurobiology            7   \n",
       "19252             Organic Process Research & Development            6   \n",
       "19253                                   MicrobiologyOpen            6   \n",
       "19254                                       Open Biology            7   \n",
       "\n",
       "       top_author_cite  \n",
       "0                    0  \n",
       "1                31182  \n",
       "2                   22  \n",
       "3                 2626  \n",
       "4                  170  \n",
       "...                ...  \n",
       "19250                0  \n",
       "19251               88  \n",
       "19252              784  \n",
       "19253            13367  \n",
       "19254              620  \n",
       "\n",
       "[19255 rows x 6 columns]"
      ]
     },
     "execution_count": 173,
     "metadata": {},
     "output_type": "execute_result"
    }
   ],
   "source": [
    "tem_1"
   ]
  },
  {
   "cell_type": "code",
   "execution_count": 179,
   "metadata": {},
   "outputs": [],
   "source": [
    "tem_comb = pd.concat([tem[['doi', 'top_author_cite']], tem_1[['doi', 'top_author_cite']]])"
   ]
  },
  {
   "cell_type": "code",
   "execution_count": 180,
   "metadata": {},
   "outputs": [
    {
     "data": {
      "text/plain": [
       "23106"
      ]
     },
     "execution_count": 180,
     "metadata": {},
     "output_type": "execute_result"
    }
   ],
   "source": [
    "len(tem_comb)"
   ]
  },
  {
   "cell_type": "code",
   "execution_count": 181,
   "metadata": {},
   "outputs": [],
   "source": [
    "doi_top_author_cite_upon_pub = dict(zip(tem_comb.doi, tem_comb.top_author_cite))"
   ]
  },
  {
   "cell_type": "code",
   "execution_count": 182,
   "metadata": {},
   "outputs": [
    {
     "data": {
      "text/plain": [
       "23105"
      ]
     },
     "execution_count": 182,
     "metadata": {},
     "output_type": "execute_result"
    }
   ],
   "source": [
    "len(doi_top_author_cite_upon_pub)"
   ]
  },
  {
   "cell_type": "code",
   "execution_count": 183,
   "metadata": {},
   "outputs": [],
   "source": [
    "with open(data_root+'revision/doi_top_author_cite_upon_pub.json', 'w') as ofile:\n",
    "    for doi, cite in doi_top_author_cite_upon_pub.items():\n",
    "        row = {'doi': doi, 'top_author_cite': cite}\n",
    "        ofile.write(json.dumps(row) + '\\n')"
   ]
  },
  {
   "cell_type": "code",
   "execution_count": null,
   "metadata": {},
   "outputs": [],
   "source": []
  }
 ],
 "metadata": {
  "kernelspec": {
   "display_name": "Python 3 (ipykernel)",
   "language": "python",
   "name": "python3"
  },
  "language_info": {
   "codemirror_mode": {
    "name": "ipython",
    "version": 3
   },
   "file_extension": ".py",
   "mimetype": "text/x-python",
   "name": "python",
   "nbconvert_exporter": "python",
   "pygments_lexer": "ipython3",
   "version": "3.7.10"
  }
 },
 "nbformat": 4,
 "nbformat_minor": 4
}
