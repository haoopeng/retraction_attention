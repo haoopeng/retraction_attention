{
 "cells": [
  {
   "cell_type": "code",
   "execution_count": 1,
   "metadata": {},
   "outputs": [],
   "source": [
    "import re\n",
    "import sys\n",
    "import math\n",
    "import time\n",
    "import json\n",
    "import csv\n",
    "import pickle\n",
    "import random\n",
    "import requests\n",
    "import pprint\n",
    "import numpy as np\n",
    "import pandas as pd\n",
    "import datetime as dt\n",
    "from datetime import datetime\n",
    "import scipy.stats as stat\n",
    "from patsy import dmatrices\n",
    "from langdetect import detect\n",
    "import matplotlib.pyplot as plt\n",
    "import matplotlib.ticker as mtick\n",
    "import matplotlib.dates as mdates\n",
    "import statsmodels.api as sm\n",
    "import statsmodels.formula.api as smf\n",
    "from scipy.stats.stats import pearsonr\n",
    "from matplotlib.dates import DateFormatter\n",
    "from collections import defaultdict, Counter\n",
    "from sklearn.preprocessing import MinMaxScaler\n",
    "from matplotlib.ticker import FormatStrFormatter\n",
    "from scipy.stats import chisquare, ttest_ind, ttest_rel, ttest_1samp\n",
    "from statsmodels.stats.outliers_influence import variance_inflation_factor"
   ]
  },
  {
   "cell_type": "code",
   "execution_count": 2,
   "metadata": {},
   "outputs": [],
   "source": [
    "pd.set_option('mode.chained_assignment', None)\n",
    "pd.set_option('display.max_columns', None)"
   ]
  },
  {
   "cell_type": "code",
   "execution_count": 3,
   "metadata": {},
   "outputs": [],
   "source": [
    "data_root = '/home/haopeng/Data/Retraction/'\n",
    "altmetric_start_date = datetime.strptime('2011-06-10', '%Y-%m-%d')\n",
    "altmetric_end_date = datetime.strptime('2019-10-08', '%Y-%m-%d')\n",
    "CIs = {'90': 1.645, '95': 1.96, '99': 2.576}\n",
    "day = 24*3600"
   ]
  },
  {
   "cell_type": "code",
   "execution_count": 4,
   "metadata": {},
   "outputs": [],
   "source": [
    "blog_df = pd.read_csv(data_root + 'blog_mentions_correction.csv', header = 0)\n",
    "blog_set = set(blog_df.loc[~blog_df.maybe_news.isnull(), 'blog_name'])\n",
    "\n",
    "def correct_blogs(data, error_blogs):\n",
    "    for xid, paper in data.items():\n",
    "        if 'blogs' in paper['posts']:\n",
    "            blogs_li = paper['posts']['blogs']\n",
    "            news_li = []\n",
    "            if 'news' in paper['posts']:\n",
    "                news_li = paper['posts']['news']\n",
    "            blogs_li_new = []\n",
    "            for item in blogs_li:\n",
    "                try:\n",
    "                    if item['author']['name'] in error_blogs:\n",
    "                        news_li.append(item)\n",
    "                    else:\n",
    "                        blogs_li_new.append(item)\n",
    "                except:\n",
    "                    pass\n",
    "            paper['posts']['news'] = news_li\n",
    "            paper['posts']['blogs'] = blogs_li_new\n",
    "    return data"
   ]
  },
  {
   "cell_type": "code",
   "execution_count": 5,
   "metadata": {},
   "outputs": [],
   "source": [
    "outlets = pd.read_csv(data_root+'all_news_sources.csv', header=0)\n",
    "top_outlets = set(outlets.loc[outlets.Include == 'y', 'Mention source'])"
   ]
  },
  {
   "cell_type": "code",
   "execution_count": 6,
   "metadata": {
    "scrolled": true
   },
   "outputs": [
    {
     "data": {
      "text/plain": [
       "27"
      ]
     },
     "execution_count": 6,
     "metadata": {},
     "output_type": "execute_result"
    }
   ],
   "source": [
    "len(top_outlets)"
   ]
  },
  {
   "cell_type": "markdown",
   "metadata": {},
   "source": [
    "### Load tweets"
   ]
  },
  {
   "cell_type": "code",
   "execution_count": 7,
   "metadata": {},
   "outputs": [],
   "source": [
    "with open(data_root + 'tweets_processed.pickle', 'rb') as ofile:\n",
    "    tid_date, tid_text, _, tid_follow_cn, retweet_org_ids = pickle.load(ofile)"
   ]
  },
  {
   "cell_type": "code",
   "execution_count": 8,
   "metadata": {
    "scrolled": false
   },
   "outputs": [
    {
     "data": {
      "text/plain": [
       "159408"
      ]
     },
     "execution_count": 8,
     "metadata": {},
     "output_type": "execute_result"
    }
   ],
   "source": [
    "len(tid_date)"
   ]
  },
  {
   "cell_type": "code",
   "execution_count": 9,
   "metadata": {
    "scrolled": true
   },
   "outputs": [
    {
     "data": {
      "text/plain": [
       "159408"
      ]
     },
     "execution_count": 9,
     "metadata": {},
     "output_type": "execute_result"
    }
   ],
   "source": [
    "len(tid_text)"
   ]
  },
  {
   "cell_type": "code",
   "execution_count": 10,
   "metadata": {},
   "outputs": [
    {
     "data": {
      "text/plain": [
       "159408"
      ]
     },
     "execution_count": 10,
     "metadata": {},
     "output_type": "execute_result"
    }
   ],
   "source": [
    "len(tid_follow_cn)"
   ]
  },
  {
   "cell_type": "code",
   "execution_count": 11,
   "metadata": {
    "scrolled": true
   },
   "outputs": [
    {
     "data": {
      "text/plain": [
       "87670"
      ]
     },
     "execution_count": 11,
     "metadata": {},
     "output_type": "execute_result"
    }
   ],
   "source": [
    "len(retweet_org_ids)"
   ]
  },
  {
   "cell_type": "markdown",
   "metadata": {},
   "source": [
    "### Load tweets for new control papers "
   ]
  },
  {
   "cell_type": "code",
   "execution_count": 12,
   "metadata": {},
   "outputs": [],
   "source": [
    "# run `5_critical_tweet_label_revision.ipynb` to get these tweets first.\n",
    "\n",
    "with open(data_root + 'revision/tweets_processed_revision_v6.pickle', 'rb') as ofile:\n",
    "    tid_date_new, tid_text_new, tid_follow_cn_new, retweet_org_ids_new = pickle.load(ofile)"
   ]
  },
  {
   "cell_type": "code",
   "execution_count": 13,
   "metadata": {},
   "outputs": [],
   "source": [
    "for tid, val in tid_date_new.items():\n",
    "    tid_date[tid] = val\n",
    "    \n",
    "for tid, val in tid_text_new.items():\n",
    "    tid_text[tid] = val\n",
    "    \n",
    "for tid, val in tid_follow_cn_new.items():\n",
    "    tid_follow_cn[tid] = val\n",
    "\n",
    "for tid, val in retweet_org_ids_new.items():\n",
    "    retweet_org_ids[tid] = val"
   ]
  },
  {
   "cell_type": "code",
   "execution_count": 14,
   "metadata": {},
   "outputs": [],
   "source": [
    "del tid_date_new, tid_text_new, tid_follow_cn_new, retweet_org_ids_new"
   ]
  },
  {
   "cell_type": "code",
   "execution_count": 15,
   "metadata": {},
   "outputs": [
    {
     "data": {
      "text/plain": [
       "243490"
      ]
     },
     "execution_count": 15,
     "metadata": {},
     "output_type": "execute_result"
    }
   ],
   "source": [
    "len(tid_date)"
   ]
  },
  {
   "cell_type": "markdown",
   "metadata": {},
   "source": [
    "### Change date format to string"
   ]
  },
  {
   "cell_type": "code",
   "execution_count": 16,
   "metadata": {
    "scrolled": true
   },
   "outputs": [
    {
     "data": {
      "text/plain": [
       "datetime.datetime(2019, 2, 25, 11, 56, 33)"
      ]
     },
     "execution_count": 16,
     "metadata": {},
     "output_type": "execute_result"
    }
   ],
   "source": [
    "tid_date['1100001600121098241']"
   ]
  },
  {
   "cell_type": "code",
   "execution_count": 17,
   "metadata": {},
   "outputs": [],
   "source": [
    "# change tweet date format to str to keep it the same pattern as date on other platforms.\n",
    "for tid, tdate in tid_date.items():\n",
    "    tdate = tdate.strftime(\"%Y-%m-%dT%H:%M:%S\")\n",
    "    tid_date[tid] = tdate"
   ]
  },
  {
   "cell_type": "code",
   "execution_count": 18,
   "metadata": {},
   "outputs": [
    {
     "data": {
      "text/plain": [
       "'2019-02-25T11:56:33'"
      ]
     },
     "execution_count": 18,
     "metadata": {},
     "output_type": "execute_result"
    }
   ],
   "source": [
    "tid_date['1100001600121098241']"
   ]
  },
  {
   "cell_type": "markdown",
   "metadata": {},
   "source": [
    "### Load uncertainty tweets"
   ]
  },
  {
   "cell_type": "code",
   "execution_count": 639,
   "metadata": {},
   "outputs": [],
   "source": [
    "all_tweets_df = pd.read_csv(data_root + 'revision/all_tweets_uncertain_label_revision_share.csv', quoting=csv.QUOTE_ALL, header=0, dtype={'tid': 'str'})\n"
   ]
  },
  {
   "cell_type": "code",
   "execution_count": 628,
   "metadata": {},
   "outputs": [],
   "source": [
    "uncertain_tids = all_tweets_df.loc[all_tweets_df.majority_vote == 1, 'tid'].tolist()"
   ]
  },
  {
   "cell_type": "code",
   "execution_count": 629,
   "metadata": {
    "scrolled": true
   },
   "outputs": [
    {
     "data": {
      "text/plain": [
       "916"
      ]
     },
     "execution_count": 629,
     "metadata": {},
     "output_type": "execute_result"
    }
   ],
   "source": [
    "len(uncertain_tids)"
   ]
  },
  {
   "cell_type": "markdown",
   "metadata": {},
   "source": [
    "### (SI) Load critical tweets (treat umbiguous tweets as critical ones)"
   ]
  },
  {
   "cell_type": "code",
   "execution_count": 654,
   "metadata": {},
   "outputs": [],
   "source": [
    "uncertain_tids = []\n",
    "\n",
    "for tid, mh, lab, fourth, mv in zip(all_tweets_df['tid'], all_tweets_df['meet_heuristic'], all_tweets_df['three_labels'], all_tweets_df['fourth_label'], all_tweets_df['majority_vote']):\n",
    "    if mh == 1:\n",
    "        # must have three labels\n",
    "        if '.' in lab:\n",
    "            lab_li = [int(x) for x in lab[1:-2].split('. ')]\n",
    "        else:\n",
    "            lab_li = [int(x) for x in lab[1:-1].split(' ')]\n",
    "        if ~np.isnan(fourth):\n",
    "            # 001 0\n",
    "            # 001 1\n",
    "            # --\n",
    "            # 011 0\n",
    "            # 011 1\n",
    "            if np.sum(lab_li) + fourth > 1:\n",
    "                uncertain_tids.append(tid)\n",
    "        else:\n",
    "            if np.sum(lab_li) == 3:\n",
    "                uncertain_tids.append(tid)"
   ]
  },
  {
   "cell_type": "code",
   "execution_count": 655,
   "metadata": {},
   "outputs": [
    {
     "data": {
      "text/plain": [
       "1275"
      ]
     },
     "execution_count": 655,
     "metadata": {},
     "output_type": "execute_result"
    }
   ],
   "source": [
    "len(uncertain_tids)"
   ]
  },
  {
   "cell_type": "markdown",
   "metadata": {},
   "source": [
    "### Prepare data for control papers"
   ]
  },
  {
   "cell_type": "code",
   "execution_count": 23,
   "metadata": {},
   "outputs": [],
   "source": [
    "altid_data = {}\n",
    "\n",
    "with open(data_root+\"revision/control_alt_papers_revision_v6.json\", 'r') as ffile:\n",
    "    for row in ffile:\n",
    "        paper = json.loads(row)\n",
    "        altid = str(paper['altmetric_id'])\n",
    "        altid_data[altid] = paper\n",
    "        \n",
    "altid_data = correct_blogs(altid_data, blog_set)"
   ]
  },
  {
   "cell_type": "code",
   "execution_count": 24,
   "metadata": {
    "scrolled": false
   },
   "outputs": [
    {
     "data": {
      "text/plain": [
       "19255"
      ]
     },
     "execution_count": 24,
     "metadata": {},
     "output_type": "execute_result"
    }
   ],
   "source": [
    "len(altid_data)"
   ]
  },
  {
   "cell_type": "code",
   "execution_count": 25,
   "metadata": {},
   "outputs": [],
   "source": [
    "doi_control_aids ={}\n",
    "\n",
    "with open(data_root+\"revision/doi_control_alt_ids_revision_v6.json\", 'r') as ffile:\n",
    "    for line in ffile:\n",
    "        line = json.loads(line)\n",
    "        doi_control_aids[line['doi']] = [str(x) for x in line['alt_ids']]"
   ]
  },
  {
   "cell_type": "code",
   "execution_count": 26,
   "metadata": {
    "scrolled": true
   },
   "outputs": [
    {
     "data": {
      "text/plain": [
       "3851"
      ]
     },
     "execution_count": 26,
     "metadata": {},
     "output_type": "execute_result"
    }
   ],
   "source": [
    "len(doi_control_aids)"
   ]
  },
  {
   "cell_type": "code",
   "execution_count": 27,
   "metadata": {},
   "outputs": [],
   "source": [
    "control_aid_doi = {}\n",
    "for doi, ids in doi_control_aids.items():\n",
    "    for alt_id in ids:\n",
    "        control_aid_doi[alt_id] = doi"
   ]
  },
  {
   "cell_type": "code",
   "execution_count": 28,
   "metadata": {},
   "outputs": [],
   "source": [
    "def get_doi(altid):\n",
    "    paper = altid_data[altid]\n",
    "    if 'doi' in paper['citation']:\n",
    "        return paper['citation']['doi'].lower()\n",
    "    else:\n",
    "        return ''\n",
    "\n",
    "def get_title(altid):\n",
    "    paper = altid_data[altid]\n",
    "    if 'title' in paper['citation']:\n",
    "        return paper['citation']['title']\n",
    "    else:\n",
    "        return ''\n",
    "\n",
    "def get_abs(altid):\n",
    "    paper = altid_data[altid]\n",
    "    if 'abstract' in paper['citation']:\n",
    "        return paper['citation']['abstract']\n",
    "    else:\n",
    "        return ''\n",
    "\n",
    "def get_pub_date_alt(altid):\n",
    "    paper = altid_data[altid]\n",
    "    dt_li = []\n",
    "    if 'pubdate' in paper['citation']:\n",
    "        dt_li.append(datetime.strptime(paper['citation']['pubdate'][:10], '%Y-%m-%d'))\n",
    "    if 'epubdate' in paper['citation']:\n",
    "        dt_li.append(datetime.strptime(paper['citation']['epubdate'][:10], '%Y-%m-%d'))\n",
    "    if 'first_seen_on' in paper['citation']:\n",
    "        dt_li.append(datetime.strptime(paper['citation']['first_seen_on'][:10], '%Y-%m-%d'))\n",
    "    return min(dt_li)\n",
    "\n",
    "def get_journal(altid):\n",
    "    paper = altid_data[altid]\n",
    "    return paper['citation']['journal']\n",
    "\n",
    "def get_author(altid):\n",
    "    paper = altid_data[altid]\n",
    "    if 'authors' in paper['citation']:\n",
    "        return ';'.join(paper['citation']['authors'])\n",
    "    else:\n",
    "        return ''\n",
    "    \n",
    "def get_subs(altid):\n",
    "    paper = altid_data[altid]\n",
    "    if 'scopus_subjects' in paper['citation']:\n",
    "        return ';'.join(paper['citation']['scopus_subjects'])\n",
    "    else:\n",
    "        return ''\n",
    "    \n",
    "def check_usable_days(pub_date):\n",
    "    if pub_date < altmetric_end_date:\n",
    "        return int((altmetric_end_date - pub_date).total_seconds()/day)\n",
    "    else:\n",
    "        return -1"
   ]
  },
  {
   "cell_type": "code",
   "execution_count": 29,
   "metadata": {},
   "outputs": [],
   "source": [
    "control_df = pd.DataFrame(altid_data.keys(), columns=['altmetric_id'])"
   ]
  },
  {
   "cell_type": "code",
   "execution_count": 30,
   "metadata": {},
   "outputs": [],
   "source": [
    "control_df['matched_retract_doi'] = control_df.altmetric_id.map(control_aid_doi)"
   ]
  },
  {
   "cell_type": "code",
   "execution_count": 31,
   "metadata": {},
   "outputs": [],
   "source": [
    "control_df['doi'] = control_df.altmetric_id.apply(get_doi)\n",
    "control_df['title'] = control_df.altmetric_id.apply(get_title)\n",
    "control_df['abstract'] = control_df.altmetric_id.apply(get_abs)\n",
    "control_df['altmetric_pub_date'] = control_df.altmetric_id.apply(get_pub_date_alt)\n",
    "control_df['journal'] = control_df.altmetric_id.apply(get_journal)\n",
    "control_df['authors'] = control_df.altmetric_id.apply(get_author)\n",
    "control_df['scopus_subjects'] = control_df.altmetric_id.apply(get_subs)\n",
    "control_df['altmetric_score'] = control_df.altmetric_id.apply(lambda aid: altid_data[aid]['altmetric_score']['score'])"
   ]
  },
  {
   "cell_type": "code",
   "execution_count": 32,
   "metadata": {},
   "outputs": [],
   "source": [
    "control_df['usable_days'] = control_df.altmetric_pub_date.apply(check_usable_days)"
   ]
  },
  {
   "cell_type": "code",
   "execution_count": 33,
   "metadata": {
    "scrolled": false
   },
   "outputs": [
    {
     "data": {
      "text/plain": [
       "19255"
      ]
     },
     "execution_count": 33,
     "metadata": {},
     "output_type": "execute_result"
    }
   ],
   "source": [
    "len(control_df)"
   ]
  },
  {
   "cell_type": "markdown",
   "metadata": {},
   "source": [
    "Build time series feats"
   ]
  },
  {
   "cell_type": "code",
   "execution_count": 34,
   "metadata": {},
   "outputs": [],
   "source": [
    "plat_cate = {\n",
    " 'blogs': 'blog',\n",
    " 'news': 'news_media',\n",
    " 'patent': 'knowledge_repo',\n",
    " 'f1000': 'knowledge_repo',\n",
    " 'peer_reviews': 'knowledge_repo',\n",
    " 'wikipedia': 'knowledge_repo',\n",
    " 'q&a': 'knowledge_repo',\n",
    " 'facebook': 'social_media',\n",
    " 'googleplus': 'social_media',\n",
    " 'linkedin': 'social_media',\n",
    " 'pinterest': 'social_media',\n",
    " 'reddit': 'social_media',\n",
    " 'twitter': 'social_media',\n",
    " 'video': 'social_media'\n",
    "}"
   ]
  },
  {
   "cell_type": "code",
   "execution_count": 35,
   "metadata": {},
   "outputs": [],
   "source": [
    "def get_time_series_list(altid, category, altid_data):\n",
    "    paper = altid_data[altid]\n",
    "    time_li = []\n",
    "    if 'posts' in paper:\n",
    "        for plat in paper['posts']:\n",
    "            # ignore misc.\n",
    "            if plat in plat_cate and plat_cate[plat] == category:\n",
    "                for item in paper['posts'][plat]:\n",
    "                    if plat == 'twitter':\n",
    "                        tid = item['tweet_id']\n",
    "                        if tid in tid_date:\n",
    "                            time_li.append(tid_date[tid])\n",
    "                    else:\n",
    "                        if 'posted_on' in item:\n",
    "                            tdate = item['posted_on'][:19]\n",
    "                            text = ''\n",
    "                            if 'title' in item and item['title']:\n",
    "                                text += item['title']\n",
    "                            if 'summary' in item and item['summary']:\n",
    "                                text = text + ' ' + item['summary']\n",
    "                            try:\n",
    "                                if detect(text) == 'en':\n",
    "                                    time_li.append(tdate)\n",
    "                            except:\n",
    "                                pass\n",
    "    return sorted(time_li)\n",
    "\n",
    "def get_top_news_time_series_list(altid, altid_data):\n",
    "    paper = altid_data[altid]\n",
    "    time_li = []\n",
    "    if 'posts' in paper and 'news' in paper['posts']:\n",
    "        for item in paper['posts']['news']:\n",
    "            if 'posted_on' in item:\n",
    "                tdate = item['posted_on'][:19]\n",
    "                name = item['author']['name']\n",
    "                # these top outlets are English language outlets, so we don't need to filter here.\n",
    "                if name in top_outlets:\n",
    "                    time_li.append(tdate)\n",
    "    return sorted(time_li)\n",
    "\n",
    "def get_uncertain_time_series_list(altid, altid_data):\n",
    "    paper = altid_data[altid]\n",
    "    time_li = []\n",
    "    if 'posts' in paper and 'twitter' in paper['posts']:\n",
    "        for item in paper['posts']['twitter']:\n",
    "            tid = item['tweet_id']\n",
    "            if tid in uncertain_tids: # non retweet\n",
    "                if tid in tid_date:\n",
    "                    time_li.append(tid_date[tid])\n",
    "            else: # might be retweet or original tweet but is normal tweet\n",
    "                if tid in retweet_org_ids:\n",
    "                    org_id = retweet_org_ids[tid]\n",
    "                    if org_id in uncertain_tids and tid in tid_date:\n",
    "                        time_li.append(tid_date[tid])\n",
    "    return sorted(time_li)\n",
    "\n",
    "def get_tweet_ids(altid, altid_data):\n",
    "    paper = altid_data[altid]\n",
    "    tids_li = []\n",
    "    if 'posts' in paper and 'twitter' in paper['posts']:\n",
    "        for item in paper['posts']['twitter']:\n",
    "            tid = item['tweet_id']\n",
    "            if tid in tid_date:\n",
    "                tids_li.append(tid)\n",
    "    return tids_li\n",
    "\n",
    "def get_tw_follow_sort_date(tids):\n",
    "    lii = []\n",
    "    for tid in tids:\n",
    "        lii.append((tid_date[tid], tid_follow_cn[tid]))\n",
    "    return sorted(lii, key=lambda x: x[0])\n",
    "\n",
    "def get_tw_date_sort(lli):\n",
    "    return [dtt for (dtt, fcn) in lli]\n",
    "\n",
    "def get_tw_fcn_date_sort(lli):\n",
    "    return [fcn for (dtt, fcn) in lli]"
   ]
  },
  {
   "cell_type": "code",
   "execution_count": 36,
   "metadata": {},
   "outputs": [],
   "source": [
    "control_df['news_media'] = control_df.altmetric_id.apply(get_time_series_list, args=['news_media', altid_data])\n",
    "control_df['social_media'] = control_df.altmetric_id.apply(get_time_series_list, args=['social_media', altid_data])\n",
    "control_df['blog'] = control_df.altmetric_id.apply(get_time_series_list, args=['blog', altid_data])\n",
    "control_df['knowledge_repo'] = control_df.altmetric_id.apply(get_time_series_list, args=['knowledge_repo', altid_data])\n",
    "control_df['top_news'] = control_df.altmetric_id.apply(get_top_news_time_series_list, args=[altid_data])"
   ]
  },
  {
   "cell_type": "code",
   "execution_count": 37,
   "metadata": {},
   "outputs": [],
   "source": [
    "control_df['tweet_ids'] = control_df.altmetric_id.apply(get_tweet_ids, args=[altid_data])\n",
    "control_df['date_tweet_fcn'] = control_df.tweet_ids.apply(get_tw_follow_sort_date)\n",
    "control_df['tw_date_sort'] = control_df.date_tweet_fcn.apply(get_tw_date_sort)\n",
    "control_df['fcn_date_sort'] = control_df.date_tweet_fcn.apply(get_tw_fcn_date_sort)\n",
    "control_df = control_df.drop(columns=['date_tweet_fcn'])"
   ]
  },
  {
   "cell_type": "code",
   "execution_count": 529,
   "metadata": {},
   "outputs": [],
   "source": [
    "control_df['uncertainty'] = control_df.altmetric_id.apply(get_uncertain_time_series_list, args=[altid_data])"
   ]
  },
  {
   "cell_type": "code",
   "execution_count": 493,
   "metadata": {},
   "outputs": [],
   "source": [
    "# SI: treat umbiguous ones as positives\n",
    "# control_df['uncertainty'] = control_df.altmetric_id.apply(get_uncertain_time_series_list, args=[altid_data])"
   ]
  },
  {
   "cell_type": "code",
   "execution_count": 39,
   "metadata": {
    "scrolled": true
   },
   "outputs": [
    {
     "data": {
      "text/plain": [
       "19255"
      ]
     },
     "execution_count": 39,
     "metadata": {},
     "output_type": "execute_result"
    }
   ],
   "source": [
    "len(control_df)"
   ]
  },
  {
   "cell_type": "code",
   "execution_count": 40,
   "metadata": {
    "scrolled": true
   },
   "outputs": [
    {
     "data": {
      "text/html": [
       "<div>\n",
       "<style scoped>\n",
       "    .dataframe tbody tr th:only-of-type {\n",
       "        vertical-align: middle;\n",
       "    }\n",
       "\n",
       "    .dataframe tbody tr th {\n",
       "        vertical-align: top;\n",
       "    }\n",
       "\n",
       "    .dataframe thead th {\n",
       "        text-align: right;\n",
       "    }\n",
       "</style>\n",
       "<table border=\"1\" class=\"dataframe\">\n",
       "  <thead>\n",
       "    <tr style=\"text-align: right;\">\n",
       "      <th></th>\n",
       "      <th>altmetric_id</th>\n",
       "      <th>matched_retract_doi</th>\n",
       "      <th>doi</th>\n",
       "      <th>title</th>\n",
       "      <th>abstract</th>\n",
       "      <th>altmetric_pub_date</th>\n",
       "      <th>journal</th>\n",
       "      <th>authors</th>\n",
       "      <th>scopus_subjects</th>\n",
       "      <th>altmetric_score</th>\n",
       "      <th>usable_days</th>\n",
       "      <th>news_media</th>\n",
       "      <th>social_media</th>\n",
       "      <th>blog</th>\n",
       "      <th>knowledge_repo</th>\n",
       "      <th>top_news</th>\n",
       "      <th>tweet_ids</th>\n",
       "      <th>tw_date_sort</th>\n",
       "      <th>fcn_date_sort</th>\n",
       "      <th>uncertainty</th>\n",
       "    </tr>\n",
       "  </thead>\n",
       "  <tbody>\n",
       "    <tr>\n",
       "      <th>0</th>\n",
       "      <td>21408520</td>\n",
       "      <td>10.1111/1440-1681.12374</td>\n",
       "      <td>10.1111/1440-1681.12806</td>\n",
       "      <td>Salinomycin overcomes acquired tamoxifen resis...</td>\n",
       "      <td>Salinomycin is a monocarboxylic polyether iono...</td>\n",
       "      <td>2017-06-29</td>\n",
       "      <td>Clinical &amp; Experimental Pharmacology &amp; Physiology</td>\n",
       "      <td>Suwisit Manmuan;Nithidol Sakunrangsit;Wannaras...</td>\n",
       "      <td>Biochemistry, Genetics and Molecular Biology;H...</td>\n",
       "      <td>0.25</td>\n",
       "      <td>831</td>\n",
       "      <td>[]</td>\n",
       "      <td>[2017-06-29T10:07:10]</td>\n",
       "      <td>[]</td>\n",
       "      <td>[]</td>\n",
       "      <td>[]</td>\n",
       "      <td>[880367027793178625]</td>\n",
       "      <td>[2017-06-29T10:07:10]</td>\n",
       "      <td>[826]</td>\n",
       "      <td>[]</td>\n",
       "    </tr>\n",
       "  </tbody>\n",
       "</table>\n",
       "</div>"
      ],
      "text/plain": [
       "  altmetric_id      matched_retract_doi                      doi  \\\n",
       "0     21408520  10.1111/1440-1681.12374  10.1111/1440-1681.12806   \n",
       "\n",
       "                                               title  \\\n",
       "0  Salinomycin overcomes acquired tamoxifen resis...   \n",
       "\n",
       "                                            abstract altmetric_pub_date  \\\n",
       "0  Salinomycin is a monocarboxylic polyether iono...         2017-06-29   \n",
       "\n",
       "                                             journal  \\\n",
       "0  Clinical & Experimental Pharmacology & Physiology   \n",
       "\n",
       "                                             authors  \\\n",
       "0  Suwisit Manmuan;Nithidol Sakunrangsit;Wannaras...   \n",
       "\n",
       "                                     scopus_subjects  altmetric_score  \\\n",
       "0  Biochemistry, Genetics and Molecular Biology;H...             0.25   \n",
       "\n",
       "   usable_days news_media           social_media blog knowledge_repo top_news  \\\n",
       "0          831         []  [2017-06-29T10:07:10]   []             []       []   \n",
       "\n",
       "              tweet_ids           tw_date_sort fcn_date_sort uncertainty  \n",
       "0  [880367027793178625]  [2017-06-29T10:07:10]         [826]          []  "
      ]
     },
     "execution_count": 40,
     "metadata": {},
     "output_type": "execute_result"
    }
   ],
   "source": [
    "control_df.head(1)"
   ]
  },
  {
   "cell_type": "markdown",
   "metadata": {},
   "source": [
    "### Compare with retracted papers"
   ]
  },
  {
   "cell_type": "code",
   "execution_count": 41,
   "metadata": {},
   "outputs": [],
   "source": [
    "doi_alt_data = {}\n",
    "\n",
    "with open(data_root+\"retraction_altmetric.json\", 'r') as ffile:\n",
    "    for row in ffile:\n",
    "        record = json.loads(row)\n",
    "        doi = record['citation']['doi'].lower()\n",
    "        doi_alt_data[doi] = record\n",
    "        \n",
    "doi_alt_data = correct_blogs(doi_alt_data, blog_set)"
   ]
  },
  {
   "cell_type": "code",
   "execution_count": 511,
   "metadata": {},
   "outputs": [],
   "source": [
    "with open(data_root+'df_retract_clean.pickle', 'rb') as file:\n",
    "    retract_df = pickle.load(file)"
   ]
  },
  {
   "cell_type": "code",
   "execution_count": 512,
   "metadata": {
    "scrolled": false
   },
   "outputs": [
    {
     "data": {
      "text/plain": [
       "6680"
      ]
     },
     "execution_count": 512,
     "metadata": {},
     "output_type": "execute_result"
    }
   ],
   "source": [
    "len(retract_df)"
   ]
  },
  {
   "cell_type": "code",
   "execution_count": 510,
   "metadata": {},
   "outputs": [],
   "source": [
    "# if want to treat ambiguous critical tweets as positives, run the following code:\n",
    "# retract_df['uncertainty'] = retract_df.OriginalPaperDOI.apply(get_uncertain_time_series_list, args=[doi_alt_data])"
   ]
  },
  {
   "cell_type": "markdown",
   "metadata": {},
   "source": [
    "### Focus on papers published after Alt db start date"
   ]
  },
  {
   "cell_type": "code",
   "execution_count": 513,
   "metadata": {
    "scrolled": true
   },
   "outputs": [],
   "source": [
    "retract_df = retract_df.loc[retract_df.pub_date_corrected.apply(lambda dttt: (dttt-altmetric_start_date).total_seconds() > 0)]\n",
    "retract_df.index = range(len(retract_df))"
   ]
  },
  {
   "cell_type": "code",
   "execution_count": 514,
   "metadata": {},
   "outputs": [],
   "source": [
    "retract_df = retract_df.loc[retract_df.OriginalPaperDOI.isin(doi_control_aids)]\n",
    "retract_df.index = range(len(retract_df))"
   ]
  },
  {
   "cell_type": "code",
   "execution_count": 515,
   "metadata": {
    "scrolled": true
   },
   "outputs": [
    {
     "data": {
      "text/plain": [
       "3659"
      ]
     },
     "execution_count": 515,
     "metadata": {},
     "output_type": "execute_result"
    }
   ],
   "source": [
    "len(retract_df)"
   ]
  },
  {
   "cell_type": "code",
   "execution_count": 516,
   "metadata": {},
   "outputs": [],
   "source": [
    "doi_ret_date = dict(zip(retract_df['OriginalPaperDOI'], retract_df['RetractionDate']))"
   ]
  },
  {
   "cell_type": "code",
   "execution_count": 517,
   "metadata": {},
   "outputs": [],
   "source": [
    "# num of matched controls papers for retracted papers after Alt start date.\n",
    "control_df = control_df.loc[control_df['matched_retract_doi'].isin(doi_ret_date)]\n",
    "control_df.index = range(len(control_df))"
   ]
  },
  {
   "cell_type": "code",
   "execution_count": 50,
   "metadata": {
    "scrolled": true
   },
   "outputs": [],
   "source": [
    "# num of matched controls papers after Alt start date.\n",
    "control_df = control_df.loc[control_df.altmetric_pub_date.apply(lambda dttt: (dttt-altmetric_start_date).total_seconds() > 0)]\n",
    "control_df.index = range(len(control_df))"
   ]
  },
  {
   "cell_type": "code",
   "execution_count": 51,
   "metadata": {
    "scrolled": true
   },
   "outputs": [
    {
     "data": {
      "text/plain": [
       "17782"
      ]
     },
     "execution_count": 51,
     "metadata": {},
     "output_type": "execute_result"
    }
   ],
   "source": [
    "len(control_df)"
   ]
  },
  {
   "cell_type": "code",
   "execution_count": 52,
   "metadata": {},
   "outputs": [],
   "source": [
    "with open(data_root+'revision/df_control_revision_v6.pickle', 'wb') as file:\n",
    "    pickle.dump(control_df, file)"
   ]
  },
  {
   "cell_type": "code",
   "execution_count": 53,
   "metadata": {},
   "outputs": [],
   "source": [
    "# with open(data_root+'revision/df_control_revision_v6.pickle', 'rb') as file:\n",
    "#     control_df = pickle.load(file)"
   ]
  },
  {
   "cell_type": "markdown",
   "metadata": {},
   "source": [
    "### (SI) Exclude general journals"
   ]
  },
  {
   "cell_type": "code",
   "execution_count": 807,
   "metadata": {},
   "outputs": [],
   "source": [
    "# https://en.wikipedia.org/wiki/List_of_scientific_journals#General_and_multidisciplinary_science\n",
    "\n",
    "general_J = {\n",
    "'Nature',\n",
    "'Nature Communications',\n",
    "'Philosophical Transactions of the Royal Society A',\n",
    "'PLoS One',\n",
    "'PNAS: Proceedings of the National Academy of Sciences of the United States of America',\n",
    "'Proceedings of the Royal Society A: Mathematics, Physical and Engineering Sciences',\n",
    "'Science',\n",
    "'Science Advances',\n",
    "'Scientific Reports'}"
   ]
  },
  {
   "cell_type": "code",
   "execution_count": 808,
   "metadata": {
    "scrolled": true
   },
   "outputs": [],
   "source": [
    "retract_df = retract_df.loc[~retract_df.Journal.isin(general_J)]\n",
    "retract_df.index = range(len(retract_df))"
   ]
  },
  {
   "cell_type": "code",
   "execution_count": 809,
   "metadata": {
    "scrolled": true
   },
   "outputs": [
    {
     "data": {
      "text/plain": [
       "3378"
      ]
     },
     "execution_count": 809,
     "metadata": {},
     "output_type": "execute_result"
    }
   ],
   "source": [
    "len(retract_df)"
   ]
  },
  {
   "cell_type": "code",
   "execution_count": 810,
   "metadata": {
    "scrolled": true
   },
   "outputs": [],
   "source": [
    "control_df = control_df.loc[~control_df.journal.isin(general_J)]\n",
    "control_df.index = range(len(control_df))"
   ]
  },
  {
   "cell_type": "code",
   "execution_count": 811,
   "metadata": {
    "scrolled": true
   },
   "outputs": [
    {
     "data": {
      "text/plain": [
       "17350"
      ]
     },
     "execution_count": 811,
     "metadata": {},
     "output_type": "execute_result"
    }
   ],
   "source": [
    "len(control_df)"
   ]
  },
  {
   "cell_type": "markdown",
   "metadata": {},
   "source": [
    "### (SI) Audience analysis"
   ]
  },
  {
   "cell_type": "code",
   "execution_count": 393,
   "metadata": {
    "scrolled": true
   },
   "outputs": [
    {
     "data": {
      "text/plain": [
       "3659"
      ]
     },
     "execution_count": 393,
     "metadata": {},
     "output_type": "execute_result"
    }
   ],
   "source": [
    "len(retract_df)"
   ]
  },
  {
   "cell_type": "code",
   "execution_count": 587,
   "metadata": {
    "scrolled": true
   },
   "outputs": [
    {
     "data": {
      "text/plain": [
       "{'Members of the public': 8,\n",
       " 'Practitioners (doctors, other healthcare professionals)': 2,\n",
       " 'Scientists': 2}"
      ]
     },
     "execution_count": 587,
     "metadata": {},
     "output_type": "execute_result"
    }
   ],
   "source": [
    "doi_alt_data['10.1038/nature13375']['demographics']['users']['twitter']['cohorts']"
   ]
  },
  {
   "cell_type": "code",
   "execution_count": 591,
   "metadata": {},
   "outputs": [],
   "source": [
    "utype_cn = defaultdict(int)\n",
    "\n",
    "for doi in retract_df.OriginalPaperDOI:\n",
    "    if 'poster_types' in doi_alt_data[doi]['demographics']:\n",
    "        for utype, cn in doi_alt_data[doi]['demographics']['poster_types'].items():\n",
    "            utype_cn[utype] += cn"
   ]
  },
  {
   "cell_type": "code",
   "execution_count": 592,
   "metadata": {},
   "outputs": [
    {
     "data": {
      "text/plain": [
       "defaultdict(int,\n",
       "            {'member_of_the_public': 44289,\n",
       "             'researcher': 8474,\n",
       "             'practitioner': 3798,\n",
       "             'science_communicator': 1624})"
      ]
     },
     "execution_count": 592,
     "metadata": {},
     "output_type": "execute_result"
    }
   ],
   "source": [
    "utype_cn"
   ]
  },
  {
   "cell_type": "code",
   "execution_count": 601,
   "metadata": {},
   "outputs": [
    {
     "data": {
      "image/png": "[encoded data removed]",
      "text/plain": [
       "<Figure size 259.2x180 with 1 Axes>"
      ]
     },
     "metadata": {
      "needs_background": "light"
     },
     "output_type": "display_data"
    }
   ],
   "source": [
    "fig, ax = plt.subplots(figsize = (3.6, 2.5))\n",
    "\n",
    "utypes, cns = [], []\n",
    "for utype, cn in utype_cn.items():\n",
    "    utypes.append(utype)\n",
    "    cns.append(cn)\n",
    "\n",
    "ax.barh(y=utypes, width = cns, height=0.7,  alpha = 0.6, capsize = 3, color='blue')\n",
    "# legend = ax.legend(loc=[0.45, 0.7], numpoints=1, labelspacing = 0.15, shadow=False, frameon = True)\n",
    "# ax.set_yticks()\n",
    "# ax.set_yticklabels([name_pos[pos] for pos in aut_pos], rotation=0, ha='right')\n",
    "ax.set_xlabel('Number of users')\n",
    "ax.set_xscale('log')\n",
    "ax.set_xlim([0, 5e4])\n",
    "ax.set_xticks([100, 1000, 10000])\n",
    "ax.set_yticklabels(['Member of the public', 'Researcher', 'Practitioner', 'Science communicator'])\n",
    "plt.tight_layout()\n",
    "plt.show()\n",
    "fig.savefig('./audience_freq.pdf', bbox_inches='tight', pad_inches=0.02)"
   ]
  },
  {
   "cell_type": "markdown",
   "metadata": {},
   "source": [
    "### (SI) Distribution of tweet mentions of retracted papers"
   ]
  },
  {
   "cell_type": "code",
   "execution_count": 545,
   "metadata": {},
   "outputs": [],
   "source": [
    "num_tweets = []\n",
    "\n",
    "for doi in retract_df.OriginalPaperDOI:\n",
    "    try:\n",
    "        num_tweets.append(len(doi_alt_data[doi]['posts']['twitter']))\n",
    "    except:\n",
    "        pass"
   ]
  },
  {
   "cell_type": "code",
   "execution_count": 551,
   "metadata": {
    "scrolled": false
   },
   "outputs": [
    {
     "data": {
      "image/png": "[encoded data removed]",
      "text/plain": [
       "<Figure size 216x180 with 1 Axes>"
      ]
     },
     "metadata": {
      "needs_background": "light"
     },
     "output_type": "display_data"
    }
   ],
   "source": [
    "fig, ax = plt.subplots(figsize=(3, 2.5))\n",
    "ax.hist(num_tweets, bins = 1000, facecolor='blue', alpha=1, color = 'black', histtype='step')\n",
    "ax.set_yscale('log')\n",
    "ax.set_xscale('log')\n",
    "# ax.set_xlim(0, 2000)\n",
    "ax.set_xlabel('Number of tweet mentions')\n",
    "ax.set_ylabel('Number of retracted papers')\n",
    "plt.show()\n",
    "fig.savefig('ret_tweets_dist.pdf', bbox_inches='tight', pad_inches=0.01)"
   ]
  },
  {
   "cell_type": "markdown",
   "metadata": {},
   "source": [
    "### Histogram of the time difference between pub and retraction date"
   ]
  },
  {
   "cell_type": "code",
   "execution_count": 54,
   "metadata": {},
   "outputs": [],
   "source": [
    "gap_days = retract_df.apply(lambda row: int((row['RetractionDate'] - row['pub_date_corrected']).total_seconds()/day), axis = 1).tolist()"
   ]
  },
  {
   "cell_type": "code",
   "execution_count": 55,
   "metadata": {},
   "outputs": [
    {
     "data": {
      "text/plain": [
       "3659"
      ]
     },
     "execution_count": 55,
     "metadata": {},
     "output_type": "execute_result"
    }
   ],
   "source": [
    "len(gap_days)"
   ]
  },
  {
   "cell_type": "code",
   "execution_count": 56,
   "metadata": {},
   "outputs": [
    {
     "data": {
      "text/plain": [
       "480.0"
      ]
     },
     "execution_count": 56,
     "metadata": {},
     "output_type": "execute_result"
    }
   ],
   "source": [
    "np.median(gap_days)"
   ]
  },
  {
   "cell_type": "code",
   "execution_count": 57,
   "metadata": {},
   "outputs": [
    {
     "data": {
      "text/plain": [
       "697.9721235310194"
      ]
     },
     "execution_count": 57,
     "metadata": {},
     "output_type": "execute_result"
    }
   ],
   "source": [
    "np.mean(gap_days)"
   ]
  },
  {
   "cell_type": "code",
   "execution_count": 58,
   "metadata": {},
   "outputs": [
    {
     "data": {
      "image/png": "[encoded data removed]",
      "text/plain": [
       "<Figure size 216x180 with 1 Axes>"
      ]
     },
     "metadata": {
      "needs_background": "light"
     },
     "output_type": "display_data"
    }
   ],
   "source": [
    "fig, ax = plt.subplots(figsize=(3, 2.5))\n",
    "ax.hist(gap_days, bins = 50, facecolor='blue', alpha=1, color = 'black', histtype='step')\n",
    "# ax.set_yscale('log')\n",
    "ax.set_xscale('log')\n",
    "# ax.set_xlim(0, 2000)\n",
    "ax.set_xlabel('Number of days to retraction')\n",
    "ax.set_ylabel('Number of retracted papers')\n",
    "plt.show()\n",
    "fig.savefig('pub_ret_gap_days.pdf', bbox_inches='tight', pad_inches=0.01)"
   ]
  },
  {
   "cell_type": "markdown",
   "metadata": {},
   "source": [
    "### Build control df for after retraction analysis (removing posts with keyword \"retract\")"
   ]
  },
  {
   "cell_type": "code",
   "execution_count": 59,
   "metadata": {},
   "outputs": [],
   "source": [
    "altid_data_filter = {}\n",
    "\n",
    "for aid in control_df.altmetric_id.to_list():\n",
    "    paper = altid_data[aid]\n",
    "    altid_data_filter[aid] = paper.copy()\n",
    "    if 'posts' in paper:\n",
    "        temp = defaultdict(list)\n",
    "        for plat in paper['posts']:\n",
    "            if plat in plat_cate:\n",
    "                for item in paper['posts'][plat]:\n",
    "                    if plat == 'twitter':\n",
    "                        tid = item['tweet_id']\n",
    "                        if tid in tid_date:\n",
    "                            tdate = tid_date[tid]\n",
    "                            tdate = datetime.strptime(tdate, '%Y-%m-%dT%H:%M:%S')\n",
    "                            text = tid_text[tid]\n",
    "                            if 'retract' not in text.lower():\n",
    "                                temp[plat].append(item)\n",
    "                    else:\n",
    "                        if 'posted_on' in item:\n",
    "                            tdate = item['posted_on'][:19]\n",
    "                            tdate = datetime.strptime(tdate, '%Y-%m-%dT%H:%M:%S')\n",
    "                            text = ''\n",
    "                            if 'title' in item and item['title']:\n",
    "                                text += item['title']\n",
    "                            if 'summary' in item and item['summary']:\n",
    "                                text = text + ' ' + item['summary']\n",
    "                            if 'retract' not in text.lower():\n",
    "                                temp[plat].append(item)\n",
    "        altid_data_filter[aid]['posts'] = temp"
   ]
  },
  {
   "cell_type": "code",
   "execution_count": 60,
   "metadata": {},
   "outputs": [],
   "source": [
    "control_df_filter = control_df.copy()"
   ]
  },
  {
   "cell_type": "code",
   "execution_count": 61,
   "metadata": {},
   "outputs": [],
   "source": [
    "control_df_filter['news_media'] = control_df_filter.altmetric_id.apply(get_time_series_list, args=['news_media', altid_data_filter])\n",
    "control_df_filter['social_media'] = control_df_filter.altmetric_id.apply(get_time_series_list, args=['social_media', altid_data_filter])\n",
    "control_df_filter['blog'] = control_df_filter.altmetric_id.apply(get_time_series_list, args=['blog', altid_data_filter])\n",
    "control_df_filter['knowledge_repo'] = control_df_filter.altmetric_id.apply(get_time_series_list, args=['knowledge_repo', altid_data_filter])\n",
    "control_df_filter['top_news'] = control_df_filter.altmetric_id.apply(get_top_news_time_series_list, args=[altid_data_filter])\n"
   ]
  },
  {
   "cell_type": "code",
   "execution_count": 62,
   "metadata": {},
   "outputs": [],
   "source": [
    "control_df_filter['tweet_ids'] = control_df_filter.altmetric_id.apply(get_tweet_ids, args=[altid_data_filter])\n",
    "control_df_filter['date_tweet_fcn'] = control_df_filter.tweet_ids.apply(get_tw_follow_sort_date)\n",
    "control_df_filter['tw_date_sort'] = control_df_filter.date_tweet_fcn.apply(get_tw_date_sort)\n",
    "control_df_filter['fcn_date_sort'] = control_df_filter.date_tweet_fcn.apply(get_tw_fcn_date_sort)\n",
    "control_df_filter = control_df_filter.drop(columns=['date_tweet_fcn'])"
   ]
  },
  {
   "cell_type": "code",
   "execution_count": 63,
   "metadata": {},
   "outputs": [],
   "source": [
    "control_df_filter['uncertainty'] = control_df_filter.altmetric_id.apply(get_uncertain_time_series_list, args=[altid_data_filter])"
   ]
  },
  {
   "cell_type": "code",
   "execution_count": 64,
   "metadata": {
    "scrolled": true
   },
   "outputs": [
    {
     "data": {
      "text/plain": [
       "17782"
      ]
     },
     "execution_count": 64,
     "metadata": {},
     "output_type": "execute_result"
    }
   ],
   "source": [
    "len(control_df_filter)"
   ]
  },
  {
   "cell_type": "markdown",
   "metadata": {},
   "source": [
    "### Build retraction df for post retraction analysis (removing retraction-discussion posts)"
   ]
  },
  {
   "cell_type": "code",
   "execution_count": 65,
   "metadata": {},
   "outputs": [],
   "source": [
    "# this file is processed in `6_retract_vs_control.ipynb` in the initial submission (before revision).\n",
    "\n",
    "with open(data_root+'df_retract_clean_filter.pickle', 'rb') as file:\n",
    "    retract_df_filter = pickle.load(file)"
   ]
  },
  {
   "cell_type": "code",
   "execution_count": 66,
   "metadata": {
    "scrolled": true
   },
   "outputs": [],
   "source": [
    "retract_df_filter = retract_df_filter.loc[retract_df_filter['Record ID'].isin(retract_df['Record ID'])]\n",
    "retract_df_filter.index = range(len(retract_df_filter))"
   ]
  },
  {
   "cell_type": "code",
   "execution_count": 67,
   "metadata": {},
   "outputs": [],
   "source": [
    "def get_time_seg(start, end, sliding):\n",
    "    num = int(math.ceil((end - start).total_seconds()/(sliding*day)))\n",
    "    if num <= 1:\n",
    "        return [[start, end]]\n",
    "    else:\n",
    "        time_segments = []\n",
    "        for i in range(0, num):\n",
    "            begin = start + i * dt.timedelta(days = sliding)\n",
    "            stop = begin + dt.timedelta(days = sliding)\n",
    "            if stop <= end:\n",
    "                time_segments.append([begin, stop])\n",
    "        if time_segments[-1][1] < end:\n",
    "            time_segments.append([time_segments[-1][1], end])\n",
    "    return time_segments\n",
    "\n",
    "def time_freq_helper(date_li, sdate, sliding, length, time_type):\n",
    "    if time_type == 'early' or time_type == 'after_retract':\n",
    "        time_segments = get_time_seg(sdate, sdate + dt.timedelta(days = length), sliding)\n",
    "    if time_type == 'late':\n",
    "        time_segments = get_time_seg(sdate - dt.timedelta(days = length), sdate, sliding)\n",
    "    freqs = [0] * len(time_segments)\n",
    "    date_index = 0\n",
    "    begin, stop = time_segments[date_index]\n",
    "    for dtt in date_li:\n",
    "        if date_index < len(time_segments):\n",
    "            arrived = False\n",
    "            while not arrived:\n",
    "                if (dtt - begin).total_seconds() >= 0:\n",
    "                    if (stop - dtt).total_seconds() > 0:\n",
    "                        arrived = True\n",
    "                    else:\n",
    "                        date_index += 1\n",
    "                        if date_index == len(time_segments):\n",
    "                            break\n",
    "                        begin, stop = time_segments[date_index]\n",
    "                else:\n",
    "                    break\n",
    "            if arrived and date_index < len(time_segments):\n",
    "                freqs[date_index] += 1\n",
    "    return freqs\n",
    "\n",
    "def all_cate(row, sdate, sliding, length, time_type):\n",
    "    matrix = []\n",
    "    for date_li in row[cates].values.flatten():\n",
    "        date_li = [datetime.strptime(dtt, '%Y-%m-%dT%H:%M:%S') for dtt in date_li]\n",
    "        freqs = time_freq_helper(date_li, sdate, sliding, length, time_type)\n",
    "        matrix.append(freqs)\n",
    "    return matrix\n",
    "            \n",
    "\n",
    "def get_time_freq(row, key_col, sliding, length, length_type, time_type):\n",
    "    # first x months after pub_date\n",
    "    if time_type == 'early':\n",
    "        if key_col == 'doi':\n",
    "            # retract usable_days is from pub_date to min(retract_date, alt_end_date).\n",
    "            pub_date, usable_days = row[['pub_date_corrected', 'usable_days']]\n",
    "        else:\n",
    "            # control usable_days is from pub_date to alt_end_date.\n",
    "            pub_date, usable_days = row[['altmetric_pub_date', 'usable_days']]\n",
    "        if usable_days >= length:\n",
    "            return all_cate(row, pub_date, sliding, length, time_type)\n",
    "        else:\n",
    "            return []\n",
    "                \n",
    "    # last x months before retract_date\n",
    "    if time_type == 'late':\n",
    "        if key_col == 'doi':\n",
    "            retract_date, usable_days = row[['RetractionDate', 'usable_days']]\n",
    "            # retract_date has to be before alt_end_date\n",
    "            if retract_date <= altmetric_end_date:\n",
    "                if length_type == 'minimum':\n",
    "                    if usable_days >= length:\n",
    "                        return all_cate(row, retract_date, sliding, length, time_type)\n",
    "                    else:\n",
    "                        return []\n",
    "                if length_type == 'exact_months':\n",
    "                    if length < 55 * 30:\n",
    "                        if usable_days >= length and usable_days < (length + sliding*6):\n",
    "                            return all_cate(row, retract_date, sliding, length, time_type)\n",
    "                        else:\n",
    "                            return []\n",
    "                    else:\n",
    "                        if usable_days >= length:\n",
    "                            return all_cate(row, retract_date, sliding, length, time_type)\n",
    "                        else:\n",
    "                            return []\n",
    "            else:\n",
    "                return []\n",
    "        else:\n",
    "            alt_id, pub_date, retract_doi = row[['altmetric_id', 'altmetric_pub_date', 'matched_retract_doi']]\n",
    "            fake_retract_date = doi_ret_date[retract_doi]\n",
    "            if fake_retract_date <= altmetric_end_date:\n",
    "                usable_days = int((fake_retract_date - pub_date).total_seconds()/day)\n",
    "                if usable_days >= length:\n",
    "                    return all_cate(row, fake_retract_date, sliding, length, time_type)\n",
    "                else:\n",
    "                    return []\n",
    "            else:\n",
    "                return []\n",
    "                    \n",
    "    if time_type == 'after_retract':\n",
    "        if key_col == 'doi':\n",
    "            retract_date = row['RetractionDate']\n",
    "            if int((altmetric_end_date - retract_date).total_seconds()/day) >= length:\n",
    "                return all_cate(row, retract_date, sliding, length, time_type)\n",
    "            else:\n",
    "                return []\n",
    "        else:\n",
    "            alt_id, retract_doi = row[['altmetric_id', 'matched_retract_doi']]\n",
    "            fake_retract_date = doi_ret_date[retract_doi]\n",
    "            if int((altmetric_end_date - fake_retract_date).total_seconds()/day) >= length:\n",
    "                return all_cate(row, fake_retract_date, sliding, length, time_type)\n",
    "            else:\n",
    "                return []\n",
    "\n",
    "def process_df(df, key_col, sliding = 30, length = 180, length_type = 'minimum', time_type = 'early'):\n",
    "    series_data = []\n",
    "    keys = []\n",
    "    for ix, row in df.iterrows():\n",
    "        if key_col == 'doi':\n",
    "            key = row['OriginalPaperDOI']\n",
    "        if key_col == 'altid':\n",
    "            key = row['altmetric_id']\n",
    "        mat = get_time_freq(row, key_col, sliding, length, length_type, time_type)\n",
    "        if mat != []:\n",
    "            series_data.append(mat)\n",
    "            keys.append(key)\n",
    "    return keys, np.array(series_data)"
   ]
  },
  {
   "cell_type": "code",
   "execution_count": 68,
   "metadata": {},
   "outputs": [],
   "source": [
    "def U_test(cate, series_data_control, series_data_retract):\n",
    "    x_control = np.sum(series_data_control, axis = 1)\n",
    "    x_retract = np.sum(series_data_retract, axis = 1)\n",
    "    _, p_t = ttest_ind(x_control, x_retract)\n",
    "    _, p_u = stat.mannwhitneyu(x_control, x_retract, alternative='two-sided')\n",
    "    print('avg. total mentions (Retract vs. Control): %.3f vs. %.3f (p = %.3f); U-test: p = %.3f (%s)'%(np.mean(x_retract), np.mean(x_control), p_t, p_u, cate))\n",
    "\n",
    "def plot(ax, cate, series_data_control, series_data_retract, how = 'per_window', time_type = 'early'):\n",
    "    # series_data_control = np.log(series_data_control + 1)\n",
    "    # series_data_retract = np.log(series_data_retract + 1)\n",
    "    if how == 'cumulative':\n",
    "        if time_type == 'late':\n",
    "            series_data_control = np.cumsum(series_data_control[..., ::-1], axis = 1)[..., ::-1]\n",
    "            series_data_retract = np.cumsum(series_data_retract[..., ::-1], axis = 1)[..., ::-1]\n",
    "        else:\n",
    "            series_data_control = np.cumsum(series_data_control, axis = 1)\n",
    "            series_data_retract = np.cumsum(series_data_retract, axis = 1)\n",
    "    if how == 'per_window':\n",
    "        if time_type == 'late':\n",
    "            series_data_control = series_data_control[..., ::-1]\n",
    "            series_data_retract = series_data_retract[..., ::-1]\n",
    "    ys_1 = np.mean(series_data_control, axis=0)\n",
    "    std_1 = np.std(series_data_control, axis=0)\n",
    "    ys_2 = np.mean(series_data_retract, axis=0)\n",
    "    std_2 = np.std(series_data_retract, axis=0)\n",
    "    xs = np.arange(len(ys_1)) + 1\n",
    "    col1 = 'k' #'#0057e7'\n",
    "    col2 = '#ffa500' #'#d62d20'\n",
    "    ax.errorbar(xs, ys_1, yerr=CIs['95']*(std_1/np.sqrt(len(series_data_control))), color=col1, fmt='-o', markersize=4, capsize=3, label='control')\n",
    "    ax.errorbar(xs, ys_2, yerr=CIs['95']*(std_2/np.sqrt(len(series_data_retract))), color=col2, fmt='-o', markersize=4, capsize=3, label='retracted')\n",
    "    # ax.set_xlabel(xlab)\n",
    "    if cate != '':\n",
    "        ax.set_title(cate)\n",
    "    # ax.tick_params(axis='y', labelcolor = col1, direction='in')\n",
    "    # ax.ticklabel_format(axis='y', style='sci', scilimits=(0,0))\n",
    "    # ax.set_ylim([0, 6e-4])\n",
    "\n",
    "def boot_perc(series_data_control, p = 95, rep = 1000):\n",
    "    percs = []\n",
    "    confs = []\n",
    "    n = series_data_control.shape[0]\n",
    "    for i in range(series_data_control.shape[1]):\n",
    "        disc = []\n",
    "        for j in range(rep):\n",
    "            re_sam = np.random.choice(series_data_control[:, i], size=n, replace=True)\n",
    "            disc.append(np.percentile(re_sam, q=p))\n",
    "        mu = np.mean(disc)\n",
    "        percs.append(mu)\n",
    "        lci, uci = np.percentile(disc, q=[2.5, 97.5])\n",
    "        confs.append([mu-lci, uci-mu])\n",
    "    return (np.array(percs), np.array(confs).T)\n",
    "\n",
    "def plot_percentile(ax, cate, series_data_control, series_data_retract, p = 0.95, how = 'per_window', time_type = 'early'):\n",
    "    # series_data_control = np.log(series_data_control + 1)\n",
    "    # series_data_retract = np.log(series_data_retract + 1)\n",
    "    if how == 'cumulative':\n",
    "        if time_type == 'late':\n",
    "            series_data_control = np.cumsum(series_data_control[..., ::-1], axis = 1)[..., ::-1]\n",
    "            series_data_retract = np.cumsum(series_data_retract[..., ::-1], axis = 1)[..., ::-1]\n",
    "        else:\n",
    "            series_data_control = np.cumsum(series_data_control, axis = 1)\n",
    "            series_data_retract = np.cumsum(series_data_retract, axis = 1)\n",
    "    ys_1, confs_1 = boot_perc(series_data_control, p)\n",
    "    ys_2, confs_2 = boot_perc(series_data_retract, p)\n",
    "    if time_type == 'late':\n",
    "        xs = np.arange(len(ys_1)*-1, 0)\n",
    "    else:\n",
    "        xs = np.arange(len(ys_1)) + 1\n",
    "    # fig, ax = plt.subplots(figsize = (3, 2.5))\n",
    "    col1 = 'k' #'#0057e7'\n",
    "    col2 = '#ffa500' #'#d62d20'\n",
    "    ax.errorbar(xs, ys_1, yerr=confs_1, color=col1, fmt='-o', markersize=4, capsize=3, label='control')\n",
    "    ax.errorbar(xs, ys_2, yerr=confs_2, color=col2, fmt='-o', markersize=4, capsize=3, label='retracted')\n",
    "    # ax.set_xlabel(xlab)\n",
    "    if cate != '':\n",
    "        ax.set_title(cate)\n",
    "\n",
    "def plot_after(ax, cate, series_data_control, series_data_retract, series_data_retract_filter, plot_filter=True, how=\"cumulative\"):\n",
    "    if how==\"cumulative\":\n",
    "        series_data_control = np.cumsum(series_data_control, axis = 1)\n",
    "        series_data_retract = np.cumsum(series_data_retract, axis = 1)\n",
    "        series_data_retract_filter = np.cumsum(series_data_retract_filter, axis = 1)\n",
    "    ys_1 = np.mean(series_data_control, axis=0)\n",
    "    std_1 = np.std(series_data_control, axis=0)\n",
    "    ys_2 = np.mean(series_data_retract, axis=0)\n",
    "    std_2 = np.std(series_data_retract, axis=0)\n",
    "    ys_3 = np.mean(series_data_retract_filter, axis=0)\n",
    "    std_3 = np.std(series_data_retract_filter, axis=0)\n",
    "    xs = np.arange(len(ys_1)) + 1\n",
    "    col1 = 'k' #'#0057e7'\n",
    "    col2 = '#ffa500' #'#d62d20'\n",
    "    ax.errorbar(xs, ys_1, yerr=CIs['95']*(std_1/np.sqrt(len(series_data_control))), color=col1, fmt='--o', markersize=4, capsize=3, label='control (filtered)')\n",
    "    ax.errorbar(xs, ys_2, yerr=CIs['95']*(std_2/np.sqrt(len(series_data_retract))), color=col2, fmt='-o', markersize=4, capsize=3, label='retracted')\n",
    "    if plot_filter:\n",
    "        ax.errorbar(xs, ys_3, yerr=CIs['95']*(std_3/np.sqrt(len(series_data_retract_filter))), color=col2, fmt='--o', markersize=4, capsize=3, label='retracted (filtered)')\n",
    "    # ax.set_xlabel(xlab)\n",
    "    ax.set_title(cate)\n",
    "\n",
    "def plot_hist(cate, series_data_control, series_data_retract, xlab = 'Week number', time_type = 'early'):\n",
    "    series_data_control = np.cumsum(series_data_control, axis = 1)\n",
    "    series_data_retract = np.cumsum(series_data_retract, axis = 1)\n",
    "    data_li_1 = list(series_data_control.T)\n",
    "    data_li_2 = list(series_data_retract.T)\n",
    "    print(np.mean(data_li_2[5]), np.mean(data_li_1[5]))\n",
    "    print(np.median(data_li_2[5]), np.median(data_li_1[5]))\n",
    "    print(np.percentile(data_li_2[5], [25, 75]), np.percentile(data_li_1[5], [25, 75]))\n",
    "    if time_type != 'late':\n",
    "        xs = np.arange(len(data_li_1)) + 1\n",
    "    else:\n",
    "        xs = np.arange(len(data_li_1)*-1, 0)\n",
    "    fig, ax = plt.subplots(figsize = (3, 2.5))\n",
    "    col1 = '#0057e7'\n",
    "    col2 = '#d62d20'\n",
    "    print(len(data_li_2[5]), len(data_li_1[5]))\n",
    "    ax.hist(data_li_1[5], bins = 50, facecolor=col1, alpha=0.6, label='control')\n",
    "    ax.hist(data_li_2[5], bins = 50, facecolor=col2, alpha=0.6, label='retract')\n",
    "    ax.set_ylabel('Num. of papers')\n",
    "    ax.set_xlabel(xlab)\n",
    "    ax.set_title(cate)\n",
    "    ax.set_yscale('log')\n",
    "    # ax.set_xlim([0, 1000])\n",
    "    legend = ax.legend(loc=[0.55, 0.7], numpoints=2, labelspacing = 0.15, shadow=False, frameon = False)\n",
    "    plt.show()\n",
    "    fig.savefig('%s_%s.pdf'%(time_type, cate), bbox_inches='tight', pad_inches=0.01)"
   ]
  },
  {
   "cell_type": "code",
   "execution_count": 69,
   "metadata": {},
   "outputs": [],
   "source": [
    "def cal_exc_uncertain(series_control_early, how = 'cumulative'):\n",
    "    uncertain = np.array([ts[0] for ts in series_control_early])\n",
    "    total = np.array([ts[1] for ts in series_control_early])\n",
    "    result = total - uncertain\n",
    "    if how == 'cumulative':\n",
    "        result = np.cumsum(result, axis = 1)\n",
    "    return result\n",
    "\n",
    "def cal_frac(series_control_early, how = 'cumulative'):\n",
    "    nume = np.array([ts[0] for ts in series_control_early])\n",
    "    deno = np.array([ts[1] for ts in series_control_early])\n",
    "    if how == 'cumulative':\n",
    "        nume = np.cumsum(nume, axis = 1)\n",
    "        deno = np.cumsum(deno, axis = 1)\n",
    "    fracs = []\n",
    "    for i in range(nume.shape[1]):\n",
    "        frac = []\n",
    "        for a, b in zip(nume[:, i], deno[:, i]):\n",
    "            if b > 0:\n",
    "                frac.append(a/b)\n",
    "        fracs.append(frac)\n",
    "    return fracs"
   ]
  },
  {
   "cell_type": "markdown",
   "metadata": {},
   "source": [
    "## Trajectory"
   ]
  },
  {
   "cell_type": "markdown",
   "metadata": {},
   "source": [
    "### After publication"
   ]
  },
  {
   "cell_type": "code",
   "execution_count": 78,
   "metadata": {},
   "outputs": [],
   "source": [
    "slide = 30\n",
    "length = 180"
   ]
  },
  {
   "cell_type": "code",
   "execution_count": 78,
   "metadata": {},
   "outputs": [],
   "source": [
    "# slide = 30\n",
    "# length = 90"
   ]
  },
  {
   "cell_type": "code",
   "execution_count": 79,
   "metadata": {},
   "outputs": [],
   "source": [
    "cates = ['social_media', 'blog', 'knowledge_repo', 'news_media', 'top_news']\n",
    "cates_names = ['Social Media', 'Blogs', 'Knowledge Repositories', 'News Media', 'Top News']"
   ]
  },
  {
   "cell_type": "code",
   "execution_count": 618,
   "metadata": {
    "scrolled": true
   },
   "outputs": [],
   "source": [
    "keys_2, series_retract_early = process_df(retract_df, key_col='doi', sliding=slide, length=length)\n",
    "# exclude control papers for excluded retracted ones.\n",
    "control_tem = control_df.loc[control_df['matched_retract_doi'].isin(keys_2)]\n",
    "control_tem.index = range(len(control_tem))\n",
    "keys_1, series_control_early = process_df(control_tem, key_col='altid', sliding=slide, length=length)\n",
    "\n",
    "ixx = []\n",
    "for i, doi in enumerate(keys_2):\n",
    "    keep = False\n",
    "    for altid in doi_control_aids[doi]:\n",
    "        if altid in keys_1:\n",
    "            keep = True\n",
    "            break\n",
    "    if keep:\n",
    "        ixx.append(i)\n",
    "        \n",
    "keys_2 = [keys_2[i] for i in ixx]\n",
    "series_retract_early = series_retract_early[ixx]"
   ]
  },
  {
   "cell_type": "code",
   "execution_count": 73,
   "metadata": {
    "scrolled": false
   },
   "outputs": [
    {
     "data": {
      "text/plain": [
       "2830"
      ]
     },
     "execution_count": 73,
     "metadata": {},
     "output_type": "execute_result"
    }
   ],
   "source": [
    "len(series_retract_early)"
   ]
  },
  {
   "cell_type": "code",
   "execution_count": 74,
   "metadata": {
    "scrolled": false
   },
   "outputs": [
    {
     "data": {
      "text/plain": [
       "13599"
      ]
     },
     "execution_count": 74,
     "metadata": {},
     "output_type": "execute_result"
    }
   ],
   "source": [
    "len(series_control_early)"
   ]
  },
  {
   "cell_type": "code",
   "execution_count": 75,
   "metadata": {
    "scrolled": true
   },
   "outputs": [],
   "source": [
    "# ratio of mean\n",
    "# only resample retracted papers each time.\n",
    "plat_ratios_boot = defaultdict(list)\n",
    "for i, cate in enumerate(cates_names):\n",
    "    series_data_control = {aid: sum(ts[i]) for aid, ts in zip(keys_1, series_control_early)}\n",
    "    series_data_retract = {doi: sum(ts[i]) for doi, ts in zip(keys_2, series_retract_early)}\n",
    "    for j in range(5000):\n",
    "        sam_dois = np.random.choice(keys_2, size=len(keys_2), replace=True)\n",
    "        sam_aids = []\n",
    "        for doi in sam_dois:\n",
    "            sam_aids.extend([aid for aid in doi_control_aids[doi] if aid in series_data_control])\n",
    "        sam_retract = [series_data_retract[doi] for doi in sam_dois]\n",
    "        sam_control = [series_data_control[aid] for aid in sam_aids]\n",
    "        plat_ratios_boot[cate].append(np.mean(sam_retract)/np.mean(sam_control))"
   ]
  },
  {
   "cell_type": "code",
   "execution_count": 76,
   "metadata": {
    "scrolled": true
   },
   "outputs": [
    {
     "data": {
      "image/png": "[encoded data removed]",
      "text/plain": [
       "<Figure size 201.6x144 with 1 Axes>"
      ]
     },
     "metadata": {
      "needs_background": "light"
     },
     "output_type": "display_data"
    }
   ],
   "source": [
    "fig, ax = plt.subplots(figsize = (2.8, 2), nrows=1, ncols=1)\n",
    "\n",
    "xs, ys, confs = [], [], []\n",
    "for cate, ratios in plat_ratios_boot.items():\n",
    "    ys.append(cate)\n",
    "    mu = np.mean(ratios)\n",
    "    xs.append(mu)\n",
    "    lci, uci = np.percentile(ratios, q=[2.5, 97.5])\n",
    "    confs.append([mu - lci, uci - mu])\n",
    "#     std = np.std(ratios)\n",
    "#     confs.append(CIs['95']*(std/np.sqrt(len(ratios))))\n",
    "    \n",
    "ax.errorbar(xs, ys, xerr=np.array(confs).T, color='k', fmt='o', markersize=5, capsize=2, linewidth=2)\n",
    "# ax.errorbar(xs, ys, xerr=confs, color='k', fmt='o', markersize=5, capsize=2, linewidth=2)\n",
    "\n",
    "ax.set_xlabel('Ratio of avg. num. mentions \\n(retracted vs. control papers)')\n",
    "# fig.text(0.29, -0.06, 'Ratio of avg. num. mentions (retracted vs. control)', ha='center', va='center')\n",
    "ax.set_xticks([0, 1, 2, 3, 4, 5, 6])\n",
    "plt.show()\n",
    "fig.savefig('plat_ratio.pdf', bbox_inches='tight', pad_inches=0.01)"
   ]
  },
  {
   "cell_type": "code",
   "execution_count": 620,
   "metadata": {
    "scrolled": false
   },
   "outputs": [
    {
     "name": "stdout",
     "output_type": "stream",
     "text": [
      "avg. total mentions (Retract vs. Control): 7.180 vs. 4.011 (p = 0.000); U-test: p = 0.000 (Social Media)\n",
      "avg. total mentions (Retract vs. Control): 0.160 vs. 0.073 (p = 0.000); U-test: p = 0.004 (Blogs)\n",
      "avg. total mentions (Retract vs. Control): 0.088 vs. 0.029 (p = 0.000); U-test: p = 0.000 (Knowledge Repositories)\n",
      "avg. total mentions (Retract vs. Control): 0.845 vs. 0.335 (p = 0.000); U-test: p = 0.673 (News Media)\n",
      "avg. total mentions (Retract vs. Control): 0.046 vs. 0.012 (p = 0.000); U-test: p = 0.000 (Top News)\n"
     ]
    },
    {
     "data": {
      "image/png": "[encoded data removed]",
      "text/plain": [
       "<Figure size 720x432 with 6 Axes>"
      ]
     },
     "metadata": {
      "needs_background": "light"
     },
     "output_type": "display_data"
    }
   ],
   "source": [
    "fig, axes = plt.subplots(figsize = (10, 6), nrows=2, ncols=3)\n",
    "\n",
    "for i, cate in enumerate(cates_names):\n",
    "    ax = axes[i//3, i%3]\n",
    "    series_data_control = np.array([ts[i] for ts in series_control_early])\n",
    "    series_data_retract = np.array([ts[i] for ts in series_retract_early])\n",
    "    U_test(cate, series_data_control, series_data_retract)\n",
    "    plot(ax, cate, series_data_control, series_data_retract, how='cumulative', time_type='early')\n",
    "    if i == 2 or i == 1:\n",
    "        ax.yaxis.set_major_formatter(FormatStrFormatter('%.2f'))\n",
    "\n",
    "# get uncertainty data\n",
    "ax = axes[1, 2]\n",
    "cates = ['uncertainty', 'tw_date_sort']\n",
    "keys_2, series_retract_early_ = process_df(retract_df, key_col='doi', sliding=slide, length=length)\n",
    "# exclude control papers for excluded retracted ones.\n",
    "control_tem = control_df.loc[control_df['matched_retract_doi'].isin(keys_2)]\n",
    "control_tem.index = range(len(control_tem))\n",
    "keys_1, series_control_early_ = process_df(control_tem, key_col='altid', sliding=slide, length=length)\n",
    "ixx = []\n",
    "for i, doi in enumerate(keys_2):\n",
    "    keep = False\n",
    "    for altid in doi_control_aids[doi]:\n",
    "        if altid in keys_1:\n",
    "            keep = True\n",
    "            break\n",
    "    if keep:\n",
    "        ixx.append(i)\n",
    "keys_2 = [keys_2[i] for i in ixx]\n",
    "series_retract_early_ = series_retract_early_[ixx]\n",
    "series_data_control = cal_exc_uncertain(series_control_early_)\n",
    "series_data_retract = cal_exc_uncertain(series_retract_early_)\n",
    "# data is already cumulative.\n",
    "plot(ax, 'Excluding critical tweets', series_data_control, series_data_retract, how='normal', time_type='early')\n",
    "ax.set_ylabel('Avg. cum. num. tweets')\n",
    "# ax.set_ylim([1.5, 9.8])\n",
    "\n",
    "fig.text(0.5, -0.02, 'Months after publication', ha='center', fontsize=12)\n",
    "fig.text(-0.01, 0.5, 'Average cumulative number of mentions', va='center', rotation='vertical', fontsize=12)\n",
    "\n",
    "legend = axes[0, 2].legend(loc=[0.05, 0.75], numpoints=2, labelspacing = 0.5, fontsize=10, shadow=False, frameon = True)\n",
    "\n",
    "plt.tight_layout()\n",
    "plt.show()\n",
    "\n",
    "fig.savefig('after_pub_mentions.pdf', bbox_inches='tight', pad_inches=0.01)"
   ]
  },
  {
   "cell_type": "code",
   "execution_count": 81,
   "metadata": {
    "scrolled": false
   },
   "outputs": [
    {
     "name": "stdout",
     "output_type": "stream",
     "text": [
      "avg. total mentions (Retract vs. Control): 7.385 vs. 3.818 (p = 0.000); U-test: p = 0.000 (Social Media)\n",
      "avg. total mentions (Retract vs. Control): 0.137 vs. 0.063 (p = 0.000); U-test: p = 0.014 (Blogs)\n",
      "avg. total mentions (Retract vs. Control): 0.085 vs. 0.020 (p = 0.000); U-test: p = 0.000 (Knowledge Repositories)\n",
      "avg. total mentions (Retract vs. Control): 0.839 vs. 0.314 (p = 0.000); U-test: p = 0.277 (News Media)\n",
      "avg. total mentions (Retract vs. Control): 0.046 vs. 0.011 (p = 0.000); U-test: p = 0.000 (Top News)\n"
     ]
    },
    {
     "data": {
      "image/png": "[encoded data removed]",
      "text/plain": [
       "<Figure size 720x432 with 6 Axes>"
      ]
     },
     "metadata": {
      "needs_background": "light"
     },
     "output_type": "display_data"
    }
   ],
   "source": [
    "fig, axes = plt.subplots(figsize = (10, 6), nrows=2, ncols=3)\n",
    "\n",
    "for i, cate in enumerate(cates_names):\n",
    "    ax = axes[i//3, i%3]\n",
    "    series_data_control = np.array([ts[i] for ts in series_control_early])\n",
    "    series_data_retract = np.array([ts[i] for ts in series_retract_early])\n",
    "    U_test(cate, series_data_control, series_data_retract)\n",
    "    plot(ax, cate, series_data_control, series_data_retract, how='cumulative', time_type='early')\n",
    "    if i == 2 or i == 1:\n",
    "        ax.yaxis.set_major_formatter(FormatStrFormatter('%.2f'))\n",
    "\n",
    "# get uncertainty data\n",
    "ax = axes[1, 2]\n",
    "cates = ['uncertainty', 'tw_date_sort']\n",
    "keys_2, series_retract_early_ = process_df(retract_df, key_col='doi', sliding=slide, length=length)\n",
    "# exclude control papers for excluded retracted ones.\n",
    "control_tem = control_df.loc[control_df['matched_retract_doi'].isin(keys_2)]\n",
    "control_tem.index = range(len(control_tem))\n",
    "keys_1, series_control_early_ = process_df(control_tem, key_col='altid', sliding=slide, length=length)\n",
    "ixx = []\n",
    "for i, doi in enumerate(keys_2):\n",
    "    keep = False\n",
    "    for altid in doi_control_aids[doi]:\n",
    "        if altid in keys_1:\n",
    "            keep = True\n",
    "            break\n",
    "    if keep:\n",
    "        ixx.append(i)\n",
    "keys_2 = [keys_2[i] for i in ixx]\n",
    "series_retract_early_ = series_retract_early_[ixx]\n",
    "series_data_control = cal_exc_uncertain(series_control_early_)\n",
    "series_data_retract = cal_exc_uncertain(series_retract_early_)\n",
    "# data is already cumulative.\n",
    "plot(ax, 'Excluding critical tweets', series_data_control, series_data_retract, how='normal', time_type='early')\n",
    "ax.set_ylabel('Avg. cum. num. tweets')\n",
    "# ax.set_ylim([1.5, 9.8])\n",
    "\n",
    "fig.text(0.5, -0.02, 'Months after publication', ha='center', fontsize=12)\n",
    "fig.text(-0.01, 0.5, 'Average cumulative number of mentions', va='center', rotation='vertical', fontsize=12)\n",
    "\n",
    "legend = axes[0, 2].legend(loc=[0.05, 0.75], numpoints=2, labelspacing = 0.5, fontsize=10, shadow=False, frameon = True)\n",
    "\n",
    "plt.tight_layout()\n",
    "plt.show()\n",
    "fig.savefig('after_pub_mentions_3m.pdf', bbox_inches='tight', pad_inches=0.01)"
   ]
  },
  {
   "cell_type": "markdown",
   "metadata": {},
   "source": [
    "### After publication - critical tweets"
   ]
  },
  {
   "cell_type": "code",
   "execution_count": 85,
   "metadata": {},
   "outputs": [],
   "source": [
    "cates = ['uncertainty', 'tw_date_sort']"
   ]
  },
  {
   "cell_type": "code",
   "execution_count": 86,
   "metadata": {},
   "outputs": [],
   "source": [
    "slide = 30\n",
    "length = 180"
   ]
  },
  {
   "cell_type": "code",
   "execution_count": 87,
   "metadata": {
    "scrolled": true
   },
   "outputs": [],
   "source": [
    "keys_2, series_retract_early = process_df(retract_df, key_col='doi', sliding=slide, length=length)\n",
    "# exclude control papers for excluded retracted ones.\n",
    "control_tem = control_df.loc[control_df['matched_retract_doi'].isin(keys_2)]\n",
    "control_tem.index = range(len(control_tem))\n",
    "keys_1, series_control_early = process_df(control_tem, key_col='altid', sliding=slide, length=length)\n",
    "\n",
    "ixx = []\n",
    "for i, doi in enumerate(keys_2):\n",
    "    keep = False\n",
    "    for altid in doi_control_aids[doi]:\n",
    "        if altid in keys_1:\n",
    "            keep = True\n",
    "            break\n",
    "    if keep:\n",
    "        ixx.append(i)\n",
    "        \n",
    "keys_2 = [keys_2[i] for i in ixx]\n",
    "series_retract_early = series_retract_early[ixx]"
   ]
  },
  {
   "cell_type": "code",
   "execution_count": 625,
   "metadata": {},
   "outputs": [
    {
     "data": {
      "image/png": "[encoded data removed]",
      "text/plain": [
       "<Figure size 216x180 with 1 Axes>"
      ]
     },
     "metadata": {
      "needs_background": "light"
     },
     "output_type": "display_data"
    }
   ],
   "source": [
    "fig, ax = plt.subplots(figsize = (3, 2.5), nrows=1, ncols=1)\n",
    "\n",
    "# this func calculates cumulative\n",
    "series_data_control = cal_frac(series_control_early)\n",
    "series_data_retract = cal_frac(series_retract_early)\n",
    "# plot(ax, '', series_data_control, series_data_retract, how='normal', time_type='early')\n",
    "\n",
    "ys_1 = [np.mean(frac) for frac in series_data_control]\n",
    "stds_1 = [np.std(frac) for frac in series_data_control]\n",
    "ns_1 = [len(frac) for frac in series_data_control]\n",
    "\n",
    "ys_2 = [np.mean(frac) for frac in series_data_retract]\n",
    "stds_2 = [np.std(frac) for frac in series_data_retract]\n",
    "ns_2 = [len(frac) for frac in series_data_retract]\n",
    "\n",
    "col1 = 'k' #'#0057e7'\n",
    "col2 = '#ffa500' #'#d62d20'\n",
    "xs = np.arange(len(ys_1)) + 1\n",
    "ax.errorbar(xs, ys_1, yerr=CIs['95']*(stds_1/np.sqrt(ns_1)), color=col1, fmt='-o', markersize=4, capsize=3, label='control')\n",
    "ax.errorbar(xs, ys_2, yerr=CIs['95']*(stds_2/np.sqrt(ns_2)), color=col2, fmt='-o', markersize=4, capsize=3, label='retracted')\n",
    "\n",
    "ax.set_xticks([1, 2, 3, 4, 5, 6])\n",
    "ax.set_xlabel('Months after publication')\n",
    "ax.set_ylabel('Avg. frac. critical tweets')\n",
    "# ax.ticklabel_format(axis='y', style='sci', scilimits=(0,0), useMathText=True)\n",
    "ax.set_ylim(0, 0.022)\n",
    "legend = ax.legend(loc=[0.05, 0.73], numpoints=2, labelspacing = 0.2, shadow=False, frameon = True)\n",
    "# plt.tight_layout()\n",
    "plt.show()\n",
    "\n",
    "fig.savefig('after_pub_uncertain_tw.pdf', bbox_inches='tight', pad_inches=0.02)\n"
   ]
  },
  {
   "cell_type": "code",
   "execution_count": 504,
   "metadata": {},
   "outputs": [
    {
     "data": {
      "image/png": "[encoded data removed]",
      "text/plain": [
       "<Figure size 216x180 with 1 Axes>"
      ]
     },
     "metadata": {
      "needs_background": "light"
     },
     "output_type": "display_data"
    }
   ],
   "source": [
    "fig, ax = plt.subplots(figsize = (3, 2.5), nrows=1, ncols=1)\n",
    "\n",
    "# this func calculates cumulative\n",
    "series_data_control = cal_frac(series_control_early)\n",
    "series_data_retract = cal_frac(series_retract_early)\n",
    "# plot(ax, '', series_data_control, series_data_retract, how='normal', time_type='early')\n",
    "\n",
    "ys_1 = [np.mean(frac) for frac in series_data_control]\n",
    "stds_1 = [np.std(frac) for frac in series_data_control]\n",
    "ns_1 = [len(frac) for frac in series_data_control]\n",
    "\n",
    "ys_2 = [np.mean(frac) for frac in series_data_retract]\n",
    "stds_2 = [np.std(frac) for frac in series_data_retract]\n",
    "ns_2 = [len(frac) for frac in series_data_retract]\n",
    "\n",
    "col1 = 'k' #'#0057e7'\n",
    "col2 = '#ffa500' #'#d62d20'\n",
    "xs = np.arange(len(ys_1)) + 1\n",
    "ax.errorbar(xs, ys_1, yerr=CIs['95']*(stds_1/np.sqrt(ns_1)), color=col1, fmt='-o', markersize=4, capsize=3, label='control')\n",
    "ax.errorbar(xs, ys_2, yerr=CIs['95']*(stds_2/np.sqrt(ns_2)), color=col2, fmt='-o', markersize=4, capsize=3, label='retracted')\n",
    "\n",
    "ax.set_xticks([1, 2, 3, 4, 5, 6])\n",
    "ax.set_xlabel('Months after publication')\n",
    "ax.set_ylabel('Avg. frac. critical tweets')\n",
    "# ax.ticklabel_format(axis='y', style='sci', scilimits=(0,0), useMathText=True)\n",
    "ax.set_ylim(0, 0.035)\n",
    "legend = ax.legend(loc=[0.05, 0.73], numpoints=2, labelspacing = 0.2, shadow=False, frameon = True)\n",
    "# plt.tight_layout()\n",
    "plt.show()\n",
    "\n",
    "fig.savefig('after_pub_uncertain_tw_SI.pdf', bbox_inches='tight', pad_inches=0.02)\n"
   ]
  },
  {
   "cell_type": "markdown",
   "metadata": {},
   "source": [
    "### After publication - correlation between critical tweets (fraction) and mention counts in different platforms"
   ]
  },
  {
   "cell_type": "code",
   "execution_count": 459,
   "metadata": {},
   "outputs": [],
   "source": [
    "slide = 30 # 7 \n",
    "length = 180\n",
    "num_ = length//slide"
   ]
  },
  {
   "cell_type": "code",
   "execution_count": 460,
   "metadata": {},
   "outputs": [],
   "source": [
    "cates = ['uncertainty', 'tw_date_sort']"
   ]
  },
  {
   "cell_type": "code",
   "execution_count": 461,
   "metadata": {},
   "outputs": [],
   "source": [
    "keys_2, series_retract_early = process_df(retract_df, key_col='doi', sliding=slide, length=length)"
   ]
  },
  {
   "cell_type": "code",
   "execution_count": 462,
   "metadata": {},
   "outputs": [],
   "source": [
    "nume = np.array([ts[0] for ts in series_retract_early])\n",
    "deno = np.array([ts[1] for ts in series_retract_early])\n",
    "nume = np.sum(nume, axis = 1)\n",
    "deno = np.sum(deno, axis = 1)\n",
    "dois_, fracs = [], []\n",
    "tots = []\n",
    "for doi, a, b in zip(keys_2, nume, deno):\n",
    "    if b > 0:\n",
    "        dois_.append(doi)\n",
    "        fracs.append(a/b)\n",
    "        tots.append(b)"
   ]
  },
  {
   "cell_type": "code",
   "execution_count": 463,
   "metadata": {
    "scrolled": true
   },
   "outputs": [
    {
     "data": {
      "text/plain": [
       "1126"
      ]
     },
     "execution_count": 463,
     "metadata": {},
     "output_type": "execute_result"
    }
   ],
   "source": [
    "len(dois_)"
   ]
  },
  {
   "cell_type": "code",
   "execution_count": 465,
   "metadata": {},
   "outputs": [],
   "source": [
    "cates = ['social_media', 'blog', 'knowledge_repo', 'news_media', 'top_news']\n",
    "cates_names = ['Social Media', 'Blogs', 'Knowledge Repositories', 'News Media', 'Top News']"
   ]
  },
  {
   "cell_type": "code",
   "execution_count": 466,
   "metadata": {
    "scrolled": true
   },
   "outputs": [],
   "source": [
    "retract_df_tem = retract_df.loc[retract_df.OriginalPaperDOI.isin(dois_)]\n",
    "retract_df_tem.index = range(len(retract_df_tem))\n",
    "_, series_retract_early = process_df(retract_df_tem, key_col='doi', sliding=slide, length=length)"
   ]
  },
  {
   "cell_type": "code",
   "execution_count": 467,
   "metadata": {},
   "outputs": [],
   "source": [
    "series_retract_early = np.sum(series_retract_early, axis=2)"
   ]
  },
  {
   "cell_type": "code",
   "execution_count": 468,
   "metadata": {},
   "outputs": [
    {
     "data": {
      "text/plain": [
       "(1126, 5)"
      ]
     },
     "execution_count": 468,
     "metadata": {},
     "output_type": "execute_result"
    }
   ],
   "source": [
    "series_retract_early.shape"
   ]
  },
  {
   "cell_type": "markdown",
   "metadata": {},
   "source": [
    "Correlation"
   ]
  },
  {
   "cell_type": "code",
   "execution_count": 319,
   "metadata": {},
   "outputs": [
    {
     "name": "stdout",
     "output_type": "stream",
     "text": [
      "(0.03108649614154023, 0.2973053505590005) \t Social Media\n",
      "(0.0190245450159277, 0.5236463014342305) \t Blogs\n",
      "(0.005325736129285633, 0.8583202946853636) \t Knowledge Repositories\n",
      "(-0.003544299558749926, 0.905433396058191) \t News Media\n",
      "(0.001818707306281672, 0.9513905316795767) \t Top News\n"
     ]
    }
   ],
   "source": [
    "for i, cate in enumerate(cates_names):\n",
    "    print(pearsonr(fracs, series_retract_early[:, i]), '\\t', cate)"
   ]
  },
  {
   "cell_type": "markdown",
   "metadata": {},
   "source": [
    "### After publication - tw mentions and follower count"
   ]
  },
  {
   "cell_type": "code",
   "execution_count": 117,
   "metadata": {},
   "outputs": [],
   "source": [
    "def fw_cn_time_freq_helper(row, sdate, sliding, length, time_type):\n",
    "    date_li, fcn_li = row[['tw_date_sort', 'fcn_date_sort']]\n",
    "    date_li = [datetime.strptime(dtt, '%Y-%m-%dT%H:%M:%S') for dtt in date_li]\n",
    "    if time_type == 'early' or time_type == 'after_retract':\n",
    "        time_segments = get_time_seg(sdate, sdate + dt.timedelta(days = length), sliding)\n",
    "    if time_type == 'late':\n",
    "        time_segments = get_time_seg(sdate - dt.timedelta(days = length), sdate, sliding)\n",
    "    fcn_sum = [0] * len(time_segments)\n",
    "    men_cn = [0] * len(time_segments)\n",
    "    date_index = 0\n",
    "    begin, stop = time_segments[date_index]\n",
    "    for dtt, fcn in zip(date_li, fcn_li):\n",
    "        if date_index < len(time_segments):\n",
    "            arrived = False\n",
    "            while not arrived:\n",
    "                if (dtt - begin).total_seconds() >= 0:\n",
    "                    if (stop - dtt).total_seconds() > 0:\n",
    "                        arrived = True\n",
    "                    else:\n",
    "                        date_index += 1\n",
    "                        if date_index == len(time_segments):\n",
    "                            break\n",
    "                        begin, stop = time_segments[date_index]\n",
    "                else:\n",
    "                    break\n",
    "            if arrived and date_index < len(time_segments):\n",
    "                fcn_sum[date_index] += fcn\n",
    "                men_cn[date_index] += 1\n",
    "    return [fcn_sum, men_cn]\n",
    "            \n",
    "def get_time_freq_fw_cn(row, key_col, sliding, length, time_type):\n",
    "    # first x months after pub_date\n",
    "    if time_type == 'early':\n",
    "        if key_col == 'doi':\n",
    "            # retract usable_days is from pub_date to min(retract_date, alt_end_date).\n",
    "            pub_date, usable_days = row[['pub_date_corrected', 'usable_days']]\n",
    "        else:\n",
    "            # control usable_days is from pub_date to alt_end_date.\n",
    "            pub_date, usable_days = row[['altmetric_pub_date', 'usable_days']]\n",
    "        if usable_days >= length:\n",
    "            return fw_cn_time_freq_helper(row, pub_date, sliding, length, time_type)\n",
    "        else:\n",
    "            return []\n",
    "    # last x months before retract_date\n",
    "    if time_type == 'late':\n",
    "        if key_col == 'doi':\n",
    "            retract_date, usable_days = row[['RetractionDate', 'usable_days']]\n",
    "            # retract_date has to be before alt_end_date\n",
    "            if retract_date <= altmetric_end_date and usable_days >= length:\n",
    "                return fw_cn_time_freq_helper(row, retract_date, sliding, length, time_type)\n",
    "            else:\n",
    "                return []\n",
    "        else:\n",
    "            alt_id, pub_date, retract_doi = row[['altmetric_id', 'altmetric_pub_date', 'matched_retract_doi']]\n",
    "            fake_retract_date = doi_ret_date[retract_doi]\n",
    "            if fake_retract_date <= altmetric_end_date and int((fake_retract_date - pub_date).total_seconds()/day) >= length:\n",
    "                return fw_cn_time_freq_helper(row, fake_retract_date, sliding, length, time_type)\n",
    "            else:\n",
    "                return []\n",
    "    if time_type == 'after_retract':\n",
    "        if key_col == 'doi':\n",
    "            retract_date = row['RetractionDate']\n",
    "            if int((altmetric_end_date - retract_date).total_seconds()/day) >= length:\n",
    "                return fw_cn_time_freq_helper(row, retract_date, sliding, length, time_type)\n",
    "            else:\n",
    "                return []\n",
    "        else:\n",
    "            alt_id, retract_doi = row[['altmetric_id', 'matched_retract_doi']]\n",
    "            fake_retract_date = doi_ret_date[retract_doi]\n",
    "            if int((altmetric_end_date - fake_retract_date).total_seconds()/day) >= length:\n",
    "                return fw_cn_time_freq_helper(row, fake_retract_date, sliding, length, time_type)\n",
    "            else:\n",
    "                return []\n",
    "\n",
    "def process_df_fw_cn(df, key_col, sliding = 30, length = 180, time_type = 'early'):\n",
    "    series_data = []\n",
    "    keys = []\n",
    "    for ix, row in df.iterrows():\n",
    "        if key_col == 'doi':\n",
    "            key = row['OriginalPaperDOI']\n",
    "        if key_col == 'altid':\n",
    "            key = row['altmetric_id']\n",
    "        fcns = get_time_freq_fw_cn(row, key_col, sliding, length, time_type)\n",
    "        if fcns != []:\n",
    "            series_data.append(fcns)\n",
    "            keys.append(key)\n",
    "    return keys, np.array(series_data)"
   ]
  },
  {
   "cell_type": "code",
   "execution_count": 118,
   "metadata": {},
   "outputs": [],
   "source": [
    "slide = 30 # 7 \n",
    "length = 180"
   ]
  },
  {
   "cell_type": "code",
   "execution_count": 119,
   "metadata": {},
   "outputs": [],
   "source": [
    "keys_2, series_retract_early = process_df_fw_cn(retract_df, key_col='doi', sliding=slide, length=length)\n",
    "control_tem = control_df.loc[control_df['matched_retract_doi'].isin(keys_2)]\n",
    "control_tem.index = range(len(control_tem))\n",
    "keys_1, series_control_early = process_df_fw_cn(control_tem, key_col='altid', sliding=slide, length=length)\n",
    "\n",
    "ixx = []\n",
    "for i, doi in enumerate(keys_2):\n",
    "    keep = False\n",
    "    for altid in doi_control_aids[doi]:\n",
    "        if altid in keys_1:\n",
    "            keep = True\n",
    "            break\n",
    "    if keep:\n",
    "        ixx.append(i)\n",
    "        \n",
    "keys_2 = [keys_2[i] for i in ixx]\n",
    "series_retract_early = series_retract_early[ixx]"
   ]
  },
  {
   "cell_type": "code",
   "execution_count": 120,
   "metadata": {
    "scrolled": true
   },
   "outputs": [
    {
     "data": {
      "text/plain": [
       "2830"
      ]
     },
     "execution_count": 120,
     "metadata": {},
     "output_type": "execute_result"
    }
   ],
   "source": [
    "len(series_retract_early)"
   ]
  },
  {
   "cell_type": "code",
   "execution_count": 121,
   "metadata": {},
   "outputs": [
    {
     "data": {
      "text/plain": [
       "13599"
      ]
     },
     "execution_count": 121,
     "metadata": {},
     "output_type": "execute_result"
    }
   ],
   "source": [
    "len(series_control_early)"
   ]
  },
  {
   "cell_type": "code",
   "execution_count": 123,
   "metadata": {
    "scrolled": true
   },
   "outputs": [
    {
     "data": {
      "image/png": "[encoded data removed]",
      "text/plain": [
       "<Figure size 504x180 with 2 Axes>"
      ]
     },
     "metadata": {
      "needs_background": "light"
     },
     "output_type": "display_data"
    }
   ],
   "source": [
    "fig, axes = plt.subplots(figsize = (7, 2.5), nrows=1, ncols=2)\n",
    "\n",
    "series_data_control = np.array([ts[1] for ts in series_control_early])\n",
    "series_data_retract = np.array([ts[1] for ts in series_retract_early])\n",
    "    \n",
    "ax = axes[0]\n",
    "plot(ax, '', series_data_control, series_data_retract, how='cumulative', time_type='early')\n",
    "# ax.ticklabel_format(axis='y', style='sci', scilimits=(0,0), useMathText=True)\n",
    "ax.set_xlabel('Months after publication')\n",
    "ax.set_ylabel('Avg. cum. num. tweets')\n",
    "ax.set_xticks([1, 2, 3, 4, 5, 6])\n",
    "ax.set_ylim([1.5, 11])\n",
    "legend = ax.legend(loc=[0.05, 0.75], numpoints=2, labelspacing = 0.2, shadow=False, frameon = True)\n",
    "\n",
    "series_data_control = np.array([ts[0] for ts in series_control_early])\n",
    "series_data_retract = np.array([ts[0] for ts in series_retract_early])\n",
    "\n",
    "ax = axes[1]\n",
    "plot(ax, '', series_data_control, series_data_retract, how='cumulative', time_type='early')\n",
    "ax.ticklabel_format(axis='y', style='sci', scilimits=(0,0), useMathText=True)\n",
    "ax.set_xlabel('Months after publication')\n",
    "ax.set_ylabel('Avg. cum. num. followers')\n",
    "ax.set_xticks([1, 2, 3, 4, 5, 6])\n",
    "ax.set_ylim([2e4, 8e4])\n",
    "\n",
    "plt.subplots_adjust(wspace=0.3)\n",
    "plt.show()\n",
    "fig.savefig('after_pub_tw_follower.pdf', bbox_inches='tight', pad_inches=0.01)"
   ]
  },
  {
   "cell_type": "markdown",
   "metadata": {},
   "source": [
    "### Before retraction - all platforms"
   ]
  },
  {
   "cell_type": "markdown",
   "metadata": {},
   "source": [
    "(1) Fraction of papers that are dead before retraction (no filtering)"
   ]
  },
  {
   "cell_type": "code",
   "execution_count": 124,
   "metadata": {},
   "outputs": [],
   "source": [
    "slide = 30\n",
    "length = 180"
   ]
  },
  {
   "cell_type": "code",
   "execution_count": 125,
   "metadata": {},
   "outputs": [],
   "source": [
    "cates = ['social_media', 'blog', 'knowledge_repo', 'news_media', 'top_news']\n",
    "cates_names = ['Social Media', 'Blogs', 'Knowledge Repositories', 'News Media', 'Top News']"
   ]
  },
  {
   "cell_type": "code",
   "execution_count": 126,
   "metadata": {},
   "outputs": [],
   "source": [
    "keys_2, series_retract_late = process_df(retract_df, key_col='doi', sliding=slide, length=length, time_type='late')"
   ]
  },
  {
   "cell_type": "code",
   "execution_count": 127,
   "metadata": {},
   "outputs": [],
   "source": [
    "cn = 0\n",
    "for tss in series_retract_late:\n",
    "    if np.sum(tss[:4, :]) == 0:\n",
    "        cn += 1"
   ]
  },
  {
   "cell_type": "code",
   "execution_count": 128,
   "metadata": {
    "scrolled": true
   },
   "outputs": [
    {
     "data": {
      "text/plain": [
       "0.8019607843137255"
      ]
     },
     "execution_count": 128,
     "metadata": {},
     "output_type": "execute_result"
    }
   ],
   "source": [
    "cn/len(series_retract_late)"
   ]
  },
  {
   "cell_type": "code",
   "execution_count": 129,
   "metadata": {},
   "outputs": [],
   "source": [
    "cn = 0\n",
    "for tss in series_retract_late:\n",
    "    if np.sum(tss[:4, -1:]) == 0:\n",
    "        cn += 1"
   ]
  },
  {
   "cell_type": "code",
   "execution_count": 130,
   "metadata": {
    "scrolled": false
   },
   "outputs": [
    {
     "data": {
      "text/plain": [
       "0.9356862745098039"
      ]
     },
     "execution_count": 130,
     "metadata": {},
     "output_type": "execute_result"
    }
   ],
   "source": [
    "cn/len(series_retract_late)"
   ]
  },
  {
   "cell_type": "markdown",
   "metadata": {},
   "source": [
    "(2) Fraction of last month mentions over all mentions from pub to ret (no filtering of uncertainty)"
   ]
  },
  {
   "cell_type": "code",
   "execution_count": 131,
   "metadata": {},
   "outputs": [],
   "source": [
    "slide = 30\n",
    "cates = ['social_media', 'blog', 'knowledge_repo', 'news_media', 'top_news']\n",
    "cates_names = ['Social Media', 'Blogs', 'Knowledge Repositories', 'News Media', 'Top News']"
   ]
  },
  {
   "cell_type": "code",
   "execution_count": 132,
   "metadata": {},
   "outputs": [],
   "source": [
    "totals = {}\n",
    "for ix, row in retract_df.iterrows():\n",
    "    tot = 0\n",
    "    doi, retract_date, usable_days = row[['OriginalPaperDOI', 'RetractionDate', 'usable_days']].values.flatten()\n",
    "    for date_li in row[cates[:4]].values.flatten():\n",
    "        date_li = [datetime.strptime(dtt, '%Y-%m-%dT%H:%M:%S') for dtt in date_li]\n",
    "        for dtt in date_li:\n",
    "            if dtt <= retract_date:\n",
    "                tot += 1\n",
    "    totals[doi] = tot"
   ]
  },
  {
   "cell_type": "code",
   "execution_count": 133,
   "metadata": {
    "scrolled": false
   },
   "outputs": [
    {
     "data": {
      "text/plain": [
       "3659"
      ]
     },
     "execution_count": 133,
     "metadata": {},
     "output_type": "execute_result"
    }
   ],
   "source": [
    "len(totals)"
   ]
  },
  {
   "cell_type": "code",
   "execution_count": 134,
   "metadata": {},
   "outputs": [],
   "source": [
    "fracs_ = []\n",
    "# don't use np.arange here\n",
    "for i in range(0, 60, 6):\n",
    "    length = slide * (i+1)\n",
    "    keys_2, series_retract_late = process_df(retract_df, key_col='doi', sliding=slide, length=length, length_type='exact_months', time_type='late')\n",
    "    # mentions in the last month\n",
    "    series_retract_late = [np.sum(tss[:4, -1:]) for tss in series_retract_late]\n",
    "    tots = [totals[doi] for doi in keys_2]\n",
    "    frac = []\n",
    "    for tss, tot in zip(series_retract_late, tots):\n",
    "        # focus on papers with at least 1 total mention between pub to retraction.\n",
    "        if tot > 0:\n",
    "            frac.append(tss/tot)\n",
    "    fracs_.append(frac)\n",
    "    "
   ]
  },
  {
   "cell_type": "code",
   "execution_count": 135,
   "metadata": {
    "scrolled": true
   },
   "outputs": [
    {
     "data": {
      "image/png": "[encoded data removed]",
      "text/plain": [
       "<Figure size 288x180 with 2 Axes>"
      ]
     },
     "metadata": {
      "needs_background": "light"
     },
     "output_type": "display_data"
    }
   ],
   "source": [
    "fig, ax = plt.subplots(figsize = (4, 2.5), nrows=1, ncols=1)\n",
    "\n",
    "ys = [np.mean(frac) for frac in fracs_]\n",
    "stds = [np.std(frac) for frac in fracs_]\n",
    "ns = [len(frac) for frac in fracs_]\n",
    "xs = np.arange(len(ys)) + 1\n",
    "col1 = 'k' #'#0057e7'\n",
    "# col2 = '#ffa500' #'#d62d20'\n",
    "\n",
    "\n",
    "ax.bar(xs, ns, color='g', alpha=0.5)\n",
    "ax.set_ylabel('Number of papers', color='green')\n",
    "ax.tick_params(axis='y', labelcolor = 'green')\n",
    "ax.set_xticks([1, 2, 3, 4, 5, 6, 7, 8, 9, 10])\n",
    "ax.set_xticklabels(['[1, 7)', '[7, 13)', '[13, 19)', '[19, 25)', '[25, 31)', '[31, 37)', '[37, 43)', '[43, 49)', \\\n",
    "                    '[49, 55)', '55+'])\n",
    "for tick in ax.get_xticklabels():\n",
    "    tick.set_ha('right')\n",
    "    tick.set_fontsize(8)\n",
    "    tick.set_rotation(30)\n",
    "ax.set_title('Overall attention')\n",
    "ax.set_xlabel('Months between publication and retraction')\n",
    "\n",
    "ax2 = ax.twinx()\n",
    "ax2.errorbar(xs, ys, yerr=CIs['95']*(stds/np.sqrt(ns)), color=col1, fmt='-o', markersize=4, capsize=3)\n",
    "ax2.set_ylim([-0.05, 0.55])\n",
    "ax2.set_ylabel('Frac. of ment. in last month')\n",
    "\n",
    "# ys = [np.mean(frac) for frac in fracs]\n",
    "# stds = [np.std(frac) for frac in fracs]\n",
    "# ns = [len(frac) for frac in fracs]\n",
    "# xs = np.arange(len(ys)) + 1\n",
    "# # col2 = '#0057e7'\n",
    "# ax2.errorbar(xs, ys, yerr=CIs['95']*(stds/np.sqrt(ns)), color=col1, fmt='-v', markersize=5, capsize=3, label='Twitter attention w/o uncertainty')\n",
    "\n",
    "# legend = ax2.legend(loc=[0.2, 0.75], numpoints=2, labelspacing = 0.2, shadow=False, frameon = True)\n",
    "plt.show()\n",
    "fig.savefig('last_month_fraction.pdf', bbox_inches='tight', pad_inches=0.02)"
   ]
  },
  {
   "cell_type": "code",
   "execution_count": 136,
   "metadata": {
    "scrolled": true
   },
   "outputs": [
    {
     "data": {
      "text/plain": [
       "[429, 336, 281, 206, 152, 134, 101, 77, 58, 211]"
      ]
     },
     "execution_count": 136,
     "metadata": {},
     "output_type": "execute_result"
    }
   ],
   "source": [
    "ns"
   ]
  },
  {
   "cell_type": "markdown",
   "metadata": {},
   "source": [
    "(3) Remove posts with \"retract\" (will be combined with the post retraction period)"
   ]
  },
  {
   "cell_type": "code",
   "execution_count": 940,
   "metadata": {},
   "outputs": [],
   "source": [
    "# slide = 30\n",
    "# length = 180"
   ]
  },
  {
   "cell_type": "code",
   "execution_count": 137,
   "metadata": {},
   "outputs": [],
   "source": [
    "slide = 7\n",
    "length = 60"
   ]
  },
  {
   "cell_type": "code",
   "execution_count": 559,
   "metadata": {},
   "outputs": [],
   "source": [
    "slide = 7\n",
    "length = 30"
   ]
  },
  {
   "cell_type": "code",
   "execution_count": 560,
   "metadata": {},
   "outputs": [],
   "source": [
    "cates = ['social_media', 'blog', 'knowledge_repo', 'news_media', 'top_news']\n",
    "cates_names = ['Social Media', 'Blogs', 'Knowledge Repositories', 'News Media', 'Top News']"
   ]
  },
  {
   "cell_type": "code",
   "execution_count": 561,
   "metadata": {},
   "outputs": [],
   "source": [
    "keys_2, series_retract_late = process_df(retract_df_filter, key_col='doi', sliding=slide, length=length, time_type='late')\n",
    "control_tem = control_df_filter.loc[control_df_filter['matched_retract_doi'].isin(keys_2)]\n",
    "control_tem.index = range(len(control_tem))\n",
    "keys_1, series_control_late = process_df(control_tem, key_col='altid', sliding=slide, length=length, time_type='late')\n",
    "\n",
    "ixx = []\n",
    "for i, doi in enumerate(keys_2):\n",
    "    keep = False\n",
    "    for altid in doi_control_aids[doi]:\n",
    "        if altid in keys_1:\n",
    "            keep = True\n",
    "            break\n",
    "    if keep:\n",
    "        ixx.append(i)\n",
    "        \n",
    "keys_2 = [keys_2[i] for i in ixx]\n",
    "series_retract_late = series_retract_late[ixx]"
   ]
  },
  {
   "cell_type": "code",
   "execution_count": 140,
   "metadata": {
    "scrolled": true
   },
   "outputs": [
    {
     "data": {
      "text/plain": [
       "11352"
      ]
     },
     "execution_count": 140,
     "metadata": {},
     "output_type": "execute_result"
    }
   ],
   "source": [
    "len(series_control_late)"
   ]
  },
  {
   "cell_type": "code",
   "execution_count": 141,
   "metadata": {
    "scrolled": false
   },
   "outputs": [
    {
     "data": {
      "text/plain": [
       "2973"
      ]
     },
     "execution_count": 141,
     "metadata": {},
     "output_type": "execute_result"
    }
   ],
   "source": [
    "len(series_retract_late)"
   ]
  },
  {
   "cell_type": "markdown",
   "metadata": {},
   "source": [
    "### After retraction"
   ]
  },
  {
   "cell_type": "markdown",
   "metadata": {},
   "source": [
    "All platform (exclude \"retract\" and manually labeled retraction discussion posts)"
   ]
  },
  {
   "cell_type": "code",
   "execution_count": 206,
   "metadata": {},
   "outputs": [],
   "source": [
    "# slide = 30\n",
    "# length = 180"
   ]
  },
  {
   "cell_type": "code",
   "execution_count": 142,
   "metadata": {},
   "outputs": [],
   "source": [
    "slide = 7\n",
    "length = 60"
   ]
  },
  {
   "cell_type": "code",
   "execution_count": 553,
   "metadata": {},
   "outputs": [],
   "source": [
    "# slide = 7\n",
    "# length = 30"
   ]
  },
  {
   "cell_type": "code",
   "execution_count": 554,
   "metadata": {},
   "outputs": [],
   "source": [
    "cates = ['social_media', 'blog', 'knowledge_repo', 'news_media', 'top_news']\n",
    "cates_names = ['Social Media', 'Blogs', 'Knowledge Repositories', 'News Media', 'Top News']"
   ]
  },
  {
   "cell_type": "code",
   "execution_count": 555,
   "metadata": {},
   "outputs": [],
   "source": [
    "keys_2_, series_retract_after = process_df(retract_df, key_col='doi', sliding=slide, length=length, time_type='after_retract')\n",
    "# excluding retraction notification posts\n",
    "keys_3_, series_retract_after_filter = process_df(retract_df_filter, key_col='doi', sliding=slide, length=length, time_type='after_retract')\n",
    "control_tem = control_df_filter.loc[control_df_filter['matched_retract_doi'].isin(keys_3_)]\n",
    "control_tem.index = range(len(control_tem))\n",
    "keys_1_, series_control_after_filter = process_df(control_tem, key_col='altid', sliding=slide, length=length, time_type='after_retract')\n",
    "\n",
    "ixx = []\n",
    "for i, doi in enumerate(keys_3_):\n",
    "    keep = False\n",
    "    for altid in doi_control_aids[doi]:\n",
    "        if altid in keys_1_:\n",
    "            keep = True\n",
    "            break\n",
    "    if keep:\n",
    "        ixx.append(i)\n",
    "        \n",
    "keys_3_ = [keys_3_[i] for i in ixx]\n",
    "series_retract_after_filter = series_retract_after_filter[ixx]\n",
    "\n",
    "\n",
    "ixx = []\n",
    "for i, doi in enumerate(keys_2_):\n",
    "    keep = False\n",
    "    for altid in doi_control_aids[doi]:\n",
    "        if altid in keys_1_:\n",
    "            keep = True\n",
    "            break\n",
    "    if keep:\n",
    "        ixx.append(i)\n",
    "        \n",
    "keys_2_ = [keys_2_[i] for i in ixx]\n",
    "series_retract_after = series_retract_after[ixx]"
   ]
  },
  {
   "cell_type": "code",
   "execution_count": 145,
   "metadata": {
    "scrolled": false
   },
   "outputs": [
    {
     "data": {
      "text/plain": [
       "3225"
      ]
     },
     "execution_count": 145,
     "metadata": {},
     "output_type": "execute_result"
    }
   ],
   "source": [
    "len(series_retract_after)"
   ]
  },
  {
   "cell_type": "code",
   "execution_count": 146,
   "metadata": {
    "scrolled": true
   },
   "outputs": [
    {
     "data": {
      "text/plain": [
       "3225"
      ]
     },
     "execution_count": 146,
     "metadata": {},
     "output_type": "execute_result"
    }
   ],
   "source": [
    "len(series_retract_after_filter)"
   ]
  },
  {
   "cell_type": "code",
   "execution_count": 147,
   "metadata": {},
   "outputs": [
    {
     "data": {
      "text/plain": [
       "15659"
      ]
     },
     "execution_count": 147,
     "metadata": {},
     "output_type": "execute_result"
    }
   ],
   "source": [
    "len(series_control_after_filter)"
   ]
  },
  {
   "cell_type": "code",
   "execution_count": 209,
   "metadata": {
    "scrolled": false
   },
   "outputs": [
    {
     "name": "stdout",
     "output_type": "stream",
     "text": [
      "avg. total mentions (Retract vs. Control): 2.850 vs. 0.583 (p = 0.000); U-test: p = 0.000 (Social Media)\n",
      "avg. total mentions (Retract vs. Control): 0.388 vs. 0.583 (p = 0.406); U-test: p = 0.040 (Social Media)\n",
      "\n",
      "avg. total mentions (Retract vs. Control): 0.365 vs. 0.010 (p = 0.000); U-test: p = 0.000 (Blogs)\n",
      "avg. total mentions (Retract vs. Control): 0.012 vs. 0.010 (p = 0.726); U-test: p = 0.934 (Blogs)\n",
      "\n",
      "avg. total mentions (Retract vs. Control): 0.165 vs. 0.013 (p = 0.000); U-test: p = 0.000 (Knowledge Repositories)\n",
      "avg. total mentions (Retract vs. Control): 0.011 vs. 0.013 (p = 0.533); U-test: p = 0.104 (Knowledge Repositories)\n",
      "\n",
      "avg. total mentions (Retract vs. Control): 0.200 vs. 0.032 (p = 0.000); U-test: p = 0.000 (News Media)\n",
      "avg. total mentions (Retract vs. Control): 0.032 vs. 0.032 (p = 0.977); U-test: p = 0.614 (News Media)\n",
      "\n",
      "avg. total mentions (Retract vs. Control): 0.018 vs. 0.001 (p = 0.000); U-test: p = 0.000 (Top News)\n",
      "avg. total mentions (Retract vs. Control): 0.003 vs. 0.001 (p = 0.250); U-test: p = 0.033 (Top News)\n",
      "\n"
     ]
    },
    {
     "data": {
      "image/png": "[encoded data removed]",
      "text/plain": [
       "<Figure size 1296x180 with 5 Axes>"
      ]
     },
     "metadata": {
      "needs_background": "light"
     },
     "output_type": "display_data"
    }
   ],
   "source": [
    "# this is a 6-month time window after retraction\n",
    "\n",
    "fig, axes = plt.subplots(figsize = (18, 2.5), nrows=1, ncols=5)\n",
    "\n",
    "for i, cate in enumerate(cates_names):\n",
    "    ax = axes[i]\n",
    "    series_data_control_filter = np.array([ts[i] for ts in series_control_after_filter])\n",
    "    series_data_retract = np.array([ts[i] for ts in series_retract_after])\n",
    "    series_data_retract_filter = np.array([ts[i] for ts in series_retract_after_filter])\n",
    "    U_test(cate, series_data_control_filter, series_data_retract)\n",
    "    U_test(cate, series_data_control_filter, series_data_retract_filter)\n",
    "    print()\n",
    "    plot_after(ax, cate, series_data_control_filter, series_data_retract, series_data_retract_filter)\n",
    "    if i == 4:\n",
    "        ax.yaxis.set_major_formatter(FormatStrFormatter('%.2f'))\n",
    "axes[0].set_ylabel('Avg. cum. num. mentions')\n",
    "axes[2].set_xlabel('Months after retraction', fontsize=12)\n",
    "\n",
    "legend = axes[1].legend(loc=[0.1, 0.18], numpoints=2, labelspacing = 0.2, shadow=False, frameon = True)\n",
    "plt.show()\n",
    "fig.savefig('after_ret_mentions_6m.pdf', bbox_inches='tight', pad_inches=0.01)"
   ]
  },
  {
   "cell_type": "markdown",
   "metadata": {},
   "source": [
    "### Combine before and after retraction trajectory"
   ]
  },
  {
   "cell_type": "code",
   "execution_count": 564,
   "metadata": {},
   "outputs": [],
   "source": [
    "late_control_dict = {}\n",
    "for aid, lli in zip(keys_1, series_control_late):\n",
    "    late_control_dict[aid] = lli\n",
    "    \n",
    "late_retract_dict = {}\n",
    "for doi, lli in zip(keys_2, series_retract_late):\n",
    "    late_retract_dict[doi] = lli"
   ]
  },
  {
   "cell_type": "code",
   "execution_count": 565,
   "metadata": {},
   "outputs": [],
   "source": [
    "after_filter_control_dict = {}\n",
    "for aid, lli in zip(keys_1_, series_control_after_filter):\n",
    "    after_filter_control_dict[aid] = lli\n",
    "    \n",
    "after_filter_retract_dict = {}\n",
    "for doi, lli in zip(keys_3_, series_retract_after_filter):\n",
    "    after_filter_retract_dict[doi] = lli"
   ]
  },
  {
   "cell_type": "code",
   "execution_count": 151,
   "metadata": {
    "scrolled": true
   },
   "outputs": [
    {
     "data": {
      "text/plain": [
       "11352"
      ]
     },
     "execution_count": 151,
     "metadata": {},
     "output_type": "execute_result"
    }
   ],
   "source": [
    "len(late_control_dict)"
   ]
  },
  {
   "cell_type": "code",
   "execution_count": 152,
   "metadata": {},
   "outputs": [
    {
     "data": {
      "text/plain": [
       "2973"
      ]
     },
     "execution_count": 152,
     "metadata": {},
     "output_type": "execute_result"
    }
   ],
   "source": [
    "len(late_retract_dict)"
   ]
  },
  {
   "cell_type": "code",
   "execution_count": 153,
   "metadata": {
    "scrolled": true
   },
   "outputs": [
    {
     "data": {
      "text/plain": [
       "15659"
      ]
     },
     "execution_count": 153,
     "metadata": {},
     "output_type": "execute_result"
    }
   ],
   "source": [
    "len(after_filter_control_dict)"
   ]
  },
  {
   "cell_type": "code",
   "execution_count": 154,
   "metadata": {
    "scrolled": true
   },
   "outputs": [
    {
     "data": {
      "text/plain": [
       "3225"
      ]
     },
     "execution_count": 154,
     "metadata": {},
     "output_type": "execute_result"
    }
   ],
   "source": [
    "len(after_filter_retract_dict)"
   ]
  },
  {
   "cell_type": "code",
   "execution_count": 570,
   "metadata": {},
   "outputs": [],
   "source": [
    "comb_series_control_filter = []\n",
    "comb_series_retract_filter = []\n",
    "\n",
    "for aid in late_control_dict:\n",
    "    if aid in after_filter_control_dict:\n",
    "        pre_li = late_control_dict[aid]\n",
    "        pos_li = after_filter_control_dict[aid]\n",
    "        res = np.concatenate((pre_li, pos_li), axis = 1)\n",
    "        comb_series_control_filter.append(res)\n",
    "        \n",
    "for doi in late_retract_dict:\n",
    "    if doi in after_filter_retract_dict:\n",
    "        pre_li = late_retract_dict[doi]\n",
    "        pos_li = after_filter_retract_dict[doi]\n",
    "        res = np.concatenate((pre_li, pos_li), axis = 1)\n",
    "        comb_series_retract_filter.append(res)"
   ]
  },
  {
   "cell_type": "code",
   "execution_count": 156,
   "metadata": {
    "scrolled": true
   },
   "outputs": [
    {
     "data": {
      "text/plain": [
       "10969"
      ]
     },
     "execution_count": 156,
     "metadata": {},
     "output_type": "execute_result"
    }
   ],
   "source": [
    "len(comb_series_control_filter)"
   ]
  },
  {
   "cell_type": "code",
   "execution_count": 157,
   "metadata": {},
   "outputs": [
    {
     "data": {
      "text/plain": [
       "2894"
      ]
     },
     "execution_count": 157,
     "metadata": {},
     "output_type": "execute_result"
    }
   ],
   "source": [
    "len(comb_series_retract_filter)"
   ]
  },
  {
   "cell_type": "code",
   "execution_count": 167,
   "metadata": {
    "scrolled": false
   },
   "outputs": [
    {
     "data": {
      "image/png": "[encoded data removed]",
      "text/plain": [
       "<Figure size 1296x180 with 5 Axes>"
      ]
     },
     "metadata": {
      "needs_background": "light"
     },
     "output_type": "display_data"
    }
   ],
   "source": [
    "### 2-month prior and post retraction version for monthly count.\n",
    "\n",
    "fig, axes = plt.subplots(figsize = (18, 2.5), nrows=1, ncols=5)\n",
    "\n",
    "for i, cate in enumerate(cates_names):\n",
    "    ax = axes[i]\n",
    "    series_data_control = np.array([ts[i] for ts in comb_series_control_filter])\n",
    "    # series_data_retract = np.array([ts[i] for ts in comb_series_retract])\n",
    "    series_data_retract_filter = np.array([ts[i] for ts in comb_series_retract_filter])\n",
    "    col1 = 'k' #'#0057e7'\n",
    "    col2 = '#ffa500' #'#d62d20'\n",
    "    ys_1 = np.mean(series_data_control[:, 1:9], axis=0)\n",
    "    std_1 = np.std(series_data_control[:, 1:9], axis=0)\n",
    "    ys_3 = np.mean(series_data_retract_filter[:, 1:9], axis=0)\n",
    "    std_3 = np.std(series_data_retract_filter[:, 1:9], axis=0)\n",
    "    xs = [-8, -7, -6, -5, -4, -3, -2, -1]\n",
    "    ax.errorbar(xs, ys_1, yerr=CIs['95']*(std_1/np.sqrt(len(series_data_control))), color=col1, fmt='--o', markersize=4, capsize=3)\n",
    "    # ax.errorbar(xs, ys_2, yerr=CIs['95']*(std_2/np.sqrt(len(series_data_retract))), color=col2, fmt='-o', markersize=4, capsize=3)\n",
    "    ax.errorbar(xs, ys_3, yerr=CIs['95']*(std_3/np.sqrt(len(series_data_retract_filter))), color=col2, fmt='--o', markersize=4, capsize=3)\n",
    "\n",
    "    ys_1 = np.mean(series_data_control[:, 9:-1], axis=0)\n",
    "    std_1 = np.std(series_data_control[:, 9:-1], axis=0)\n",
    "    ys_3 = np.mean(series_data_retract_filter[:, 9:-1], axis=0)\n",
    "    std_3 = np.std(series_data_retract_filter[:, 9:-1], axis=0)\n",
    "    xs = [1, 2, 3, 4, 5, 6, 7, 8]\n",
    "    ax.errorbar(xs, ys_1, yerr=CIs['95']*(std_1/np.sqrt(len(series_data_control))), color=col1, fmt='--o', markersize=4, capsize=3, label='control (filtered)')\n",
    "    # ax.errorbar(xs, ys_2, yerr=CIs['95']*(std_2/np.sqrt(len(series_data_retract))), color=col2, fmt='-o', markersize=4, capsize=3, label='retracted')\n",
    "    ax.errorbar(xs, ys_3, yerr=CIs['95']*(std_3/np.sqrt(len(series_data_retract_filter))), color=col2, fmt='--o', markersize=4, capsize=3, label='retracted (filtered)')  \n",
    "    ax.axvline(0, color='k', linestyle='--', linewidth = 1)\n",
    "    ax.set_title(cate)\n",
    "    if i == 0:\n",
    "        ax.set_ylim(-0.05, 0.4)\n",
    "    if i == 1:\n",
    "        ax.set_ylim(-0.005, 0.03)\n",
    "    if i == 2:\n",
    "        ax.set_ylim(-0.004, 0.04)\n",
    "    if i == 3:\n",
    "        ax.set_ylim(-0.006, 0.05)\n",
    "    if i == 4:\n",
    "        ax.yaxis.set_major_formatter(FormatStrFormatter('%.3f'))\n",
    "        ax.set_ylim(-0.0005, 0.004)\n",
    "    # ax.set_xticks([-8, -7, -6, -5, -4, -3, -2, -1, 0, 1, 2, 3, 4, 5, 6, 7, 8])\n",
    "    ax.set_xticks([-8, -6, -4, -2, 0, 2, 4, 6, 8])\n",
    "    for tick in ax.get_xticklabels():\n",
    "        tick.set_ha('right')\n",
    "        # tick.set_fontsize(8)\n",
    "        tick.set_rotation(30)\n",
    "axes[0].set_ylabel('Avg. num. mentions')\n",
    "axes[2].set_xlabel('Weeks before and after retraction', fontsize=12)\n",
    "\n",
    "legend = axes[4].legend(loc=[0.15, 0.65], numpoints=2, labelspacing = 0.2, shadow=True, frameon = True)\n",
    "plt.subplots_adjust(wspace=0.25)\n",
    "plt.show()\n",
    "fig.savefig('before_after_ret_mentions_2m_weekly.pdf', bbox_inches='tight', pad_inches=0.01)"
   ]
  },
  {
   "cell_type": "code",
   "execution_count": 580,
   "metadata": {
    "scrolled": false
   },
   "outputs": [
    {
     "data": {
      "image/png": "[encoded data removed]",
      "text/plain": [
       "<Figure size 1296x180 with 5 Axes>"
      ]
     },
     "metadata": {
      "needs_background": "light"
     },
     "output_type": "display_data"
    }
   ],
   "source": [
    "## 1 month prior and post retraction version for weekly count.\n",
    "\n",
    "fig, axes = plt.subplots(figsize = (18, 2.5), nrows=1, ncols=5)\n",
    "\n",
    "for i, cate in enumerate(cates_names):\n",
    "    ax = axes[i]\n",
    "    series_data_control = np.array([ts[i] for ts in comb_series_control_filter])\n",
    "    # series_data_retract = np.array([ts[i] for ts in comb_series_retract])\n",
    "    series_data_retract_filter = np.array([ts[i] for ts in comb_series_retract_filter])\n",
    "    col1 = 'k' #'#0057e7'\n",
    "    col2 = '#ffa500' #'#d62d20'\n",
    "    ys_1 = np.mean(series_data_control[:, 1:5], axis=0)\n",
    "    std_1 = np.std(series_data_control[:, 1:5], axis=0)\n",
    "    ys_3 = np.mean(series_data_retract_filter[:, 1:5], axis=0)\n",
    "    std_3 = np.std(series_data_retract_filter[:, 1:5], axis=0)\n",
    "    xs = [-4, -3, -2, -1]\n",
    "    ax.errorbar(xs, ys_1, yerr=CIs['95']*(std_1/np.sqrt(len(series_data_control))), color=col1, fmt='--o', markersize=4, capsize=3)\n",
    "    # ax.errorbar(xs, ys_2, yerr=CIs['95']*(std_2/np.sqrt(len(series_data_retract))), color=col2, fmt='-o', markersize=4, capsize=3)\n",
    "    ax.errorbar(xs, ys_3, yerr=CIs['95']*(std_3/np.sqrt(len(series_data_retract_filter))), color=col2, fmt='--o', markersize=4, capsize=3)\n",
    "\n",
    "    ys_1 = np.mean(series_data_control[:, 5:-1], axis=0)\n",
    "    std_1 = np.std(series_data_control[:, 5:-1], axis=0)\n",
    "    ys_3 = np.mean(series_data_retract_filter[:, 5:-1], axis=0)\n",
    "    std_3 = np.std(series_data_retract_filter[:, 5:-1], axis=0)\n",
    "    xs = [1, 2, 3, 4]\n",
    "    ax.errorbar(xs, ys_1, yerr=CIs['95']*(std_1/np.sqrt(len(series_data_control))), color=col1, fmt='--o', markersize=4, capsize=3, label='control (filtered)')\n",
    "    # ax.errorbar(xs, ys_2, yerr=CIs['95']*(std_2/np.sqrt(len(series_data_retract))), color=col2, fmt='-o', markersize=4, capsize=3, label='retracted')\n",
    "    ax.errorbar(xs, ys_3, yerr=CIs['95']*(std_3/np.sqrt(len(series_data_retract_filter))), color=col2, fmt='--o', markersize=4, capsize=3, label='retracted (filtered)')  \n",
    "    ax.axvline(0, color='k', linestyle='--', linewidth = 1)\n",
    "    ax.set_title(cate)\n",
    "    if i == 0:\n",
    "        ax.set_ylim(-0.2, 0.7)\n",
    "    if i == 1:\n",
    "        ax.set_ylim(-0.005, 0.02)\n",
    "    if i == 2:\n",
    "        ax.set_ylim(-0.01, 0.04)\n",
    "    if i == 3:\n",
    "        ax.set_ylim(-0.02, 0.08)\n",
    "    if i == 4:\n",
    "        ax.yaxis.set_major_formatter(FormatStrFormatter('%.3f'))\n",
    "        ax.set_ylim(-0.001, 0.005)\n",
    "    # ax.set_xticks([-8, -7, -6, -5, -4, -3, -2, -1, 0, 1, 2, 3, 4, 5, 6, 7, 8])\n",
    "    ax.set_xticks([-4, -3, -2, -1, 0, 1, 2, 3, 4])\n",
    "    for tick in ax.get_xticklabels():\n",
    "        tick.set_ha('right')\n",
    "        # tick.set_fontsize(8)\n",
    "        tick.set_rotation(30)\n",
    "axes[0].set_ylabel('Avg. num. mentions')\n",
    "axes[2].set_xlabel('Weeks before and after retraction', fontsize=12)\n",
    "\n",
    "legend = axes[4].legend(loc=[0.15, 0.65], numpoints=2, labelspacing = 0.2, shadow=True, frameon = True)\n",
    "plt.subplots_adjust(wspace=0.25)\n",
    "plt.show()\n",
    "fig.savefig('before_after_ret_mentions_1m_weekly.pdf', bbox_inches='tight', pad_inches=0.01)"
   ]
  },
  {
   "cell_type": "markdown",
   "metadata": {},
   "source": [
    "#### Four broad disciplines"
   ]
  },
  {
   "cell_type": "code",
   "execution_count": 168,
   "metadata": {},
   "outputs": [],
   "source": [
    "discs_broad = ['Social Sciences', 'Life Sciences', 'Health Sciences', 'Physical Sciences']"
   ]
  },
  {
   "cell_type": "code",
   "execution_count": 169,
   "metadata": {
    "scrolled": true
   },
   "outputs": [
    {
     "data": {
      "text/plain": [
       "['Physical Sciences', 'Computer Science']"
      ]
     },
     "execution_count": 169,
     "metadata": {},
     "output_type": "execute_result"
    }
   ],
   "source": [
    "altid_data['1100736']['citation']['scopus_subjects']"
   ]
  },
  {
   "cell_type": "code",
   "execution_count": 170,
   "metadata": {
    "scrolled": true
   },
   "outputs": [
    {
     "data": {
      "text/plain": [
       "['Medicine', 'Health Sciences']"
      ]
     },
     "execution_count": 170,
     "metadata": {},
     "output_type": "execute_result"
    }
   ],
   "source": [
    "doi_alt_data['10.1001/jama.2014.1404']['citation']['scopus_subjects']"
   ]
  },
  {
   "cell_type": "code",
   "execution_count": 171,
   "metadata": {},
   "outputs": [],
   "source": [
    "def return_disc_data(disc):\n",
    "    comb_series_control_filter = []\n",
    "    comb_series_retract_filter = []\n",
    "\n",
    "    for aid in late_control_dict:\n",
    "        if aid in after_filter_control_dict:\n",
    "            if 'scopus_subjects' in altid_data[aid]['citation']:\n",
    "                discs = altid_data[aid]['citation']['scopus_subjects']\n",
    "                if disc in discs:\n",
    "                    pre_li = late_control_dict[aid]\n",
    "                    pos_li = after_filter_control_dict[aid]\n",
    "                    res = np.concatenate((pre_li, pos_li), axis = 1)\n",
    "                    comb_series_control_filter.append(res)\n",
    "\n",
    "    for doi in late_retract_dict:\n",
    "        if doi in after_filter_retract_dict:\n",
    "            if 'scopus_subjects' in doi_alt_data[doi]['citation']:\n",
    "                discs = doi_alt_data[doi]['citation']['scopus_subjects']\n",
    "                if disc in discs:\n",
    "                    pre_li = late_retract_dict[doi]\n",
    "                    pos_li = after_filter_retract_dict[doi]\n",
    "                    res = np.concatenate((pre_li, pos_li), axis = 1)\n",
    "                    comb_series_retract_filter.append(res)\n",
    "    return comb_series_retract_filter, comb_series_control_filter"
   ]
  },
  {
   "cell_type": "markdown",
   "metadata": {},
   "source": [
    "Social Sciences"
   ]
  },
  {
   "cell_type": "code",
   "execution_count": 172,
   "metadata": {},
   "outputs": [],
   "source": [
    "disc = discs_broad[0]"
   ]
  },
  {
   "cell_type": "code",
   "execution_count": 173,
   "metadata": {},
   "outputs": [],
   "source": [
    "comb_series_retract_filter, comb_series_control_filter = return_disc_data(disc)"
   ]
  },
  {
   "cell_type": "code",
   "execution_count": 174,
   "metadata": {},
   "outputs": [
    {
     "data": {
      "text/plain": [
       "131"
      ]
     },
     "execution_count": 174,
     "metadata": {},
     "output_type": "execute_result"
    }
   ],
   "source": [
    "len(comb_series_retract_filter)"
   ]
  },
  {
   "cell_type": "code",
   "execution_count": 175,
   "metadata": {
    "scrolled": true
   },
   "outputs": [
    {
     "data": {
      "text/plain": [
       "470"
      ]
     },
     "execution_count": 175,
     "metadata": {},
     "output_type": "execute_result"
    }
   ],
   "source": [
    "len(comb_series_control_filter)"
   ]
  },
  {
   "cell_type": "code",
   "execution_count": 178,
   "metadata": {
    "scrolled": false
   },
   "outputs": [
    {
     "data": {
      "image/png": "[encoded data removed]",
      "text/plain": [
       "<Figure size 1296x180 with 5 Axes>"
      ]
     },
     "metadata": {
      "needs_background": "light"
     },
     "output_type": "display_data"
    }
   ],
   "source": [
    "fig, axes = plt.subplots(figsize = (18, 2.5), nrows=1, ncols=5)\n",
    "\n",
    "for i, cate in enumerate(cates_names):\n",
    "    ax = axes[i]\n",
    "    series_data_control = np.array([ts[i] for ts in comb_series_control_filter])\n",
    "    # series_data_retract = np.array([ts[i] for ts in comb_series_retract])\n",
    "    series_data_retract_filter = np.array([ts[i] for ts in comb_series_retract_filter])\n",
    "    col1 = 'k' #'#0057e7'\n",
    "    col2 = '#ffa500' #'#d62d20'\n",
    "    ys_1 = np.mean(series_data_control[:, 1:9], axis=0)\n",
    "    std_1 = np.std(series_data_control[:, 1:9], axis=0)\n",
    "    ys_3 = np.mean(series_data_retract_filter[:, 1:9], axis=0)\n",
    "    std_3 = np.std(series_data_retract_filter[:, 1:9], axis=0)\n",
    "    xs = [-8, -7, -6, -5, -4, -3, -2, -1]\n",
    "    ax.errorbar(xs, ys_1, yerr=CIs['95']*(std_1/np.sqrt(len(series_data_control))), color=col1, fmt='--o', markersize=4, capsize=3)\n",
    "    # ax.errorbar(xs, ys_2, yerr=CIs['95']*(std_2/np.sqrt(len(series_data_retract))), color=col2, fmt='-o', markersize=4, capsize=3)\n",
    "    ax.errorbar(xs, ys_3, yerr=CIs['95']*(std_3/np.sqrt(len(series_data_retract_filter))), color=col2, fmt='--o', markersize=4, capsize=3)\n",
    "\n",
    "    ys_1 = np.mean(series_data_control[:, 9:-1], axis=0)\n",
    "    std_1 = np.std(series_data_control[:, 9:-1], axis=0)\n",
    "    ys_3 = np.mean(series_data_retract_filter[:, 9:-1], axis=0)\n",
    "    std_3 = np.std(series_data_retract_filter[:, 9:-1], axis=0)\n",
    "    xs = [1, 2, 3, 4, 5, 6, 7, 8]\n",
    "    ax.errorbar(xs, ys_1, yerr=CIs['95']*(std_1/np.sqrt(len(series_data_control))), color=col1, fmt='--o', markersize=4, capsize=3, label='control (filtered)')\n",
    "    # ax.errorbar(xs, ys_2, yerr=CIs['95']*(std_2/np.sqrt(len(series_data_retract))), color=col2, fmt='-o', markersize=4, capsize=3, label='retracted')\n",
    "    ax.errorbar(xs, ys_3, yerr=CIs['95']*(std_3/np.sqrt(len(series_data_retract_filter))), color=col2, fmt='--o', markersize=4, capsize=3, label='retracted (filtered)')  \n",
    "    ax.axvline(0, color='k', linestyle='--', linewidth = 1)\n",
    "    ax.set_title(cate)\n",
    "    if i == 0:\n",
    "        ax.set_ylim(-2, 6)\n",
    "    if i == 1:\n",
    "        ax.set_ylim(-0.02, 0.06)\n",
    "    if i == 2:\n",
    "        ax.set_ylim(-0.1, 0.3)\n",
    "    if i == 3:\n",
    "        ax.set_ylim(-0.15, 0.5)\n",
    "    if i == 4:\n",
    "#         ax.yaxis.set_major_formatter(FormatStrFormatter('%.3f'))\n",
    "        ax.set_ylim(-0.01, 0.03)\n",
    "    ax.set_xticks([-8, -6, -4, -2, 0, 2, 4, 6, 8])\n",
    "    for tick in ax.get_xticklabels():\n",
    "        tick.set_ha('right')\n",
    "        # tick.set_fontsize(8)\n",
    "        tick.set_rotation(30)\n",
    "axes[0].set_ylabel('Avg. num. mentions')\n",
    "axes[2].set_xlabel('Weeks before and after retraction', fontsize=12)\n",
    "\n",
    "legend = axes[4].legend(loc=[0.15, 0.65], numpoints=2, labelspacing = 0.2, shadow=True, frameon = True)\n",
    "plt.subplots_adjust(wspace=0.25)\n",
    "plt.show()\n",
    "fig.savefig('before_after_ret_mentions_2m_weekly_social.pdf', bbox_inches='tight', pad_inches=0.01)"
   ]
  },
  {
   "cell_type": "markdown",
   "metadata": {},
   "source": [
    "Life Sciences"
   ]
  },
  {
   "cell_type": "code",
   "execution_count": 179,
   "metadata": {},
   "outputs": [],
   "source": [
    "disc = discs_broad[1]"
   ]
  },
  {
   "cell_type": "code",
   "execution_count": 180,
   "metadata": {},
   "outputs": [],
   "source": [
    "comb_series_retract_filter, comb_series_control_filter = return_disc_data(disc)"
   ]
  },
  {
   "cell_type": "code",
   "execution_count": 181,
   "metadata": {},
   "outputs": [
    {
     "data": {
      "text/plain": [
       "1137"
      ]
     },
     "execution_count": 181,
     "metadata": {},
     "output_type": "execute_result"
    }
   ],
   "source": [
    "len(comb_series_retract_filter)"
   ]
  },
  {
   "cell_type": "code",
   "execution_count": 182,
   "metadata": {
    "scrolled": true
   },
   "outputs": [
    {
     "data": {
      "text/plain": [
       "4423"
      ]
     },
     "execution_count": 182,
     "metadata": {},
     "output_type": "execute_result"
    }
   ],
   "source": [
    "len(comb_series_control_filter)"
   ]
  },
  {
   "cell_type": "code",
   "execution_count": 185,
   "metadata": {
    "scrolled": false
   },
   "outputs": [
    {
     "data": {
      "image/png": "[encoded data removed]",
      "text/plain": [
       "<Figure size 1296x180 with 5 Axes>"
      ]
     },
     "metadata": {
      "needs_background": "light"
     },
     "output_type": "display_data"
    }
   ],
   "source": [
    "fig, axes = plt.subplots(figsize = (18, 2.5), nrows=1, ncols=5)\n",
    "\n",
    "for i, cate in enumerate(cates_names):\n",
    "    ax = axes[i]\n",
    "    series_data_control = np.array([ts[i] for ts in comb_series_control_filter])\n",
    "    # series_data_retract = np.array([ts[i] for ts in comb_series_retract])\n",
    "    series_data_retract_filter = np.array([ts[i] for ts in comb_series_retract_filter])\n",
    "    col1 = 'k' #'#0057e7'\n",
    "    col2 = '#ffa500' #'#d62d20'\n",
    "    ys_1 = np.mean(series_data_control[:, 1:9], axis=0)\n",
    "    std_1 = np.std(series_data_control[:, 1:9], axis=0)\n",
    "    ys_3 = np.mean(series_data_retract_filter[:, 1:9], axis=0)\n",
    "    std_3 = np.std(series_data_retract_filter[:, 1:9], axis=0)\n",
    "    xs = [-8, -7, -6, -5, -4, -3, -2, -1]\n",
    "    ax.errorbar(xs, ys_1, yerr=CIs['95']*(std_1/np.sqrt(len(series_data_control))), color=col1, fmt='--o', markersize=4, capsize=3)\n",
    "    # ax.errorbar(xs, ys_2, yerr=CIs['95']*(std_2/np.sqrt(len(series_data_retract))), color=col2, fmt='-o', markersize=4, capsize=3)\n",
    "    ax.errorbar(xs, ys_3, yerr=CIs['95']*(std_3/np.sqrt(len(series_data_retract_filter))), color=col2, fmt='--o', markersize=4, capsize=3)\n",
    "\n",
    "    ys_1 = np.mean(series_data_control[:, 9:-1], axis=0)\n",
    "    std_1 = np.std(series_data_control[:, 9:-1], axis=0)\n",
    "    ys_3 = np.mean(series_data_retract_filter[:, 9:-1], axis=0)\n",
    "    std_3 = np.std(series_data_retract_filter[:, 9:-1], axis=0)\n",
    "    xs = [1, 2, 3, 4, 5, 6, 7, 8]\n",
    "    ax.errorbar(xs, ys_1, yerr=CIs['95']*(std_1/np.sqrt(len(series_data_control))), color=col1, fmt='--o', markersize=4, capsize=3, label='control (filtered)')\n",
    "    # ax.errorbar(xs, ys_2, yerr=CIs['95']*(std_2/np.sqrt(len(series_data_retract))), color=col2, fmt='-o', markersize=4, capsize=3, label='retracted')\n",
    "    ax.errorbar(xs, ys_3, yerr=CIs['95']*(std_3/np.sqrt(len(series_data_retract_filter))), color=col2, fmt='--o', markersize=4, capsize=3, label='retracted (filtered)')  \n",
    "    ax.axvline(0, color='k', linestyle='--', linewidth = 1)\n",
    "    ax.set_title(cate)\n",
    "    if i == 0:\n",
    "        ax.set_ylim(-0.1, 0.6)\n",
    "    if i == 1:\n",
    "        ax.set_ylim(-0.01, 0.06)\n",
    "    if i == 2:\n",
    "        ax.set_ylim(-0.01, 0.09)\n",
    "    if i == 3:\n",
    "        ax.set_ylim(-0.01, 0.06)\n",
    "    if i == 4:\n",
    "        ax.yaxis.set_major_formatter(FormatStrFormatter('%.3f'))\n",
    "        ax.set_ylim(-0.001, 0.005)\n",
    "    ax.set_xticks([-8, -6, -4, -2, 0, 2, 4, 6, 8])\n",
    "    for tick in ax.get_xticklabels():\n",
    "        tick.set_ha('right')\n",
    "        # tick.set_fontsize(8)\n",
    "        tick.set_rotation(30)\n",
    "axes[0].set_ylabel('Avg. num. mentions')\n",
    "axes[2].set_xlabel('Weeks before and after retraction', fontsize=12)\n",
    "\n",
    "legend = axes[0].legend(loc=[0.18, 0.72], numpoints=2, labelspacing = 0.2, shadow=True, frameon = True)\n",
    "plt.subplots_adjust(wspace=0.25)\n",
    "plt.show()\n",
    "fig.savefig('before_after_ret_mentions_2m_weekly_life.pdf', bbox_inches='tight', pad_inches=0.01)"
   ]
  },
  {
   "cell_type": "markdown",
   "metadata": {},
   "source": [
    "Health Sciences"
   ]
  },
  {
   "cell_type": "code",
   "execution_count": 186,
   "metadata": {},
   "outputs": [],
   "source": [
    "disc = discs_broad[2]"
   ]
  },
  {
   "cell_type": "code",
   "execution_count": 187,
   "metadata": {},
   "outputs": [],
   "source": [
    "comb_series_retract_filter, comb_series_control_filter = return_disc_data(disc)"
   ]
  },
  {
   "cell_type": "code",
   "execution_count": 188,
   "metadata": {
    "scrolled": true
   },
   "outputs": [
    {
     "data": {
      "text/plain": [
       "993"
      ]
     },
     "execution_count": 188,
     "metadata": {},
     "output_type": "execute_result"
    }
   ],
   "source": [
    "len(comb_series_retract_filter)"
   ]
  },
  {
   "cell_type": "code",
   "execution_count": 189,
   "metadata": {
    "scrolled": true
   },
   "outputs": [
    {
     "data": {
      "text/plain": [
       "3780"
      ]
     },
     "execution_count": 189,
     "metadata": {},
     "output_type": "execute_result"
    }
   ],
   "source": [
    "len(comb_series_control_filter)"
   ]
  },
  {
   "cell_type": "code",
   "execution_count": 192,
   "metadata": {
    "scrolled": true
   },
   "outputs": [
    {
     "data": {
      "image/png": "[encoded data removed]",
      "text/plain": [
       "<Figure size 1296x180 with 5 Axes>"
      ]
     },
     "metadata": {
      "needs_background": "light"
     },
     "output_type": "display_data"
    }
   ],
   "source": [
    "fig, axes = plt.subplots(figsize = (18, 2.5), nrows=1, ncols=5)\n",
    "\n",
    "for i, cate in enumerate(cates_names):\n",
    "    ax = axes[i]\n",
    "    series_data_control = np.array([ts[i] for ts in comb_series_control_filter])\n",
    "    # series_data_retract = np.array([ts[i] for ts in comb_series_retract])\n",
    "    series_data_retract_filter = np.array([ts[i] for ts in comb_series_retract_filter])\n",
    "    col1 = 'k' #'#0057e7'\n",
    "    col2 = '#ffa500' #'#d62d20'\n",
    "    ys_1 = np.mean(series_data_control[:, 1:9], axis=0)\n",
    "    std_1 = np.std(series_data_control[:, 1:9], axis=0)\n",
    "    ys_3 = np.mean(series_data_retract_filter[:, 1:9], axis=0)\n",
    "    std_3 = np.std(series_data_retract_filter[:, 1:9], axis=0)\n",
    "    xs = [-8, -7, -6, -5, -4, -3, -2, -1]\n",
    "    ax.errorbar(xs, ys_1, yerr=CIs['95']*(std_1/np.sqrt(len(series_data_control))), color=col1, fmt='--o', markersize=4, capsize=3)\n",
    "    # ax.errorbar(xs, ys_2, yerr=CIs['95']*(std_2/np.sqrt(len(series_data_retract))), color=col2, fmt='-o', markersize=4, capsize=3)\n",
    "    ax.errorbar(xs, ys_3, yerr=CIs['95']*(std_3/np.sqrt(len(series_data_retract_filter))), color=col2, fmt='--o', markersize=4, capsize=3)\n",
    "\n",
    "    ys_1 = np.mean(series_data_control[:, 9:-1], axis=0)\n",
    "    std_1 = np.std(series_data_control[:, 9:-1], axis=0)\n",
    "    ys_3 = np.mean(series_data_retract_filter[:, 9:-1], axis=0)\n",
    "    std_3 = np.std(series_data_retract_filter[:, 9:-1], axis=0)\n",
    "    xs = [1, 2, 3, 4, 5, 6, 7, 8]\n",
    "    ax.errorbar(xs, ys_1, yerr=CIs['95']*(std_1/np.sqrt(len(series_data_control))), color=col1, fmt='--o', markersize=4, capsize=3, label='control (filtered)')\n",
    "    # ax.errorbar(xs, ys_2, yerr=CIs['95']*(std_2/np.sqrt(len(series_data_retract))), color=col2, fmt='-o', markersize=4, capsize=3, label='retracted')\n",
    "    ax.errorbar(xs, ys_3, yerr=CIs['95']*(std_3/np.sqrt(len(series_data_retract_filter))), color=col2, fmt='--o', markersize=4, capsize=3, label='retracted (filtered)')  \n",
    "    ax.axvline(0, color='k', linestyle='--', linewidth = 1)\n",
    "    ax.set_title(cate)\n",
    "    if i == 0:\n",
    "        ax.set_ylim(-0.05, 0.35)\n",
    "    if i == 1:\n",
    "        ax.set_ylim(-0.005, 0.02)\n",
    "    if i == 2:\n",
    "        ax.set_ylim(-0.004, 0.02)\n",
    "    if i == 3:\n",
    "        ax.set_ylim(-0.004, 0.02)\n",
    "    if i == 4:\n",
    "        ax.yaxis.set_major_formatter(FormatStrFormatter('%.3f'))\n",
    "        ax.set_ylim(-0.002, 0.008)\n",
    "    ax.set_xticks([-8, -6, -4, -2, 0, 2, 4, 6, 8])\n",
    "    for tick in ax.get_xticklabels():\n",
    "        tick.set_ha('right')\n",
    "        # tick.set_fontsize(8)\n",
    "        tick.set_rotation(30)\n",
    "axes[0].set_ylabel('Avg. num. mentions')\n",
    "axes[2].set_xlabel('Weeks before and after retraction', fontsize=12)\n",
    "\n",
    "legend = axes[4].legend(loc=[0.15, 0.7], numpoints=2, labelspacing = 0.2, shadow=True, frameon = True)\n",
    "plt.subplots_adjust(wspace=0.25)\n",
    "plt.show()\n",
    "fig.savefig('before_after_ret_mentions_2m_weekly_health.pdf', bbox_inches='tight', pad_inches=0.01)"
   ]
  },
  {
   "cell_type": "markdown",
   "metadata": {},
   "source": [
    "Physical Sciences"
   ]
  },
  {
   "cell_type": "code",
   "execution_count": 193,
   "metadata": {},
   "outputs": [],
   "source": [
    "disc = discs_broad[3]"
   ]
  },
  {
   "cell_type": "code",
   "execution_count": 194,
   "metadata": {},
   "outputs": [],
   "source": [
    "comb_series_retract_filter, comb_series_control_filter = return_disc_data(disc)"
   ]
  },
  {
   "cell_type": "code",
   "execution_count": 195,
   "metadata": {},
   "outputs": [
    {
     "data": {
      "text/plain": [
       "669"
      ]
     },
     "execution_count": 195,
     "metadata": {},
     "output_type": "execute_result"
    }
   ],
   "source": [
    "len(comb_series_retract_filter)"
   ]
  },
  {
   "cell_type": "code",
   "execution_count": 196,
   "metadata": {
    "scrolled": true
   },
   "outputs": [
    {
     "data": {
      "text/plain": [
       "2524"
      ]
     },
     "execution_count": 196,
     "metadata": {},
     "output_type": "execute_result"
    }
   ],
   "source": [
    "len(comb_series_control_filter)"
   ]
  },
  {
   "cell_type": "code",
   "execution_count": 199,
   "metadata": {
    "scrolled": false
   },
   "outputs": [
    {
     "data": {
      "image/png": "[encoded data removed]",
      "text/plain": [
       "<Figure size 1296x180 with 5 Axes>"
      ]
     },
     "metadata": {
      "needs_background": "light"
     },
     "output_type": "display_data"
    }
   ],
   "source": [
    "fig, axes = plt.subplots(figsize = (18, 2.5), nrows=1, ncols=5)\n",
    "\n",
    "for i, cate in enumerate(cates_names):\n",
    "    ax = axes[i]\n",
    "    series_data_control = np.array([ts[i] for ts in comb_series_control_filter])\n",
    "    # series_data_retract = np.array([ts[i] for ts in comb_series_retract])\n",
    "    series_data_retract_filter = np.array([ts[i] for ts in comb_series_retract_filter])\n",
    "    col1 = 'k' #'#0057e7'\n",
    "    col2 = '#ffa500' #'#d62d20'\n",
    "    ys_1 = np.mean(series_data_control[:, 1:9], axis=0)\n",
    "    std_1 = np.std(series_data_control[:, 1:9], axis=0)\n",
    "    ys_3 = np.mean(series_data_retract_filter[:, 1:9], axis=0)\n",
    "    std_3 = np.std(series_data_retract_filter[:, 1:9], axis=0)\n",
    "    xs = [-8, -7, -6, -5, -4, -3, -2, -1]\n",
    "    ax.errorbar(xs, ys_1, yerr=CIs['95']*(std_1/np.sqrt(len(series_data_control))), color=col1, fmt='--o', markersize=4, capsize=3)\n",
    "    # ax.errorbar(xs, ys_2, yerr=CIs['95']*(std_2/np.sqrt(len(series_data_retract))), color=col2, fmt='-o', markersize=4, capsize=3)\n",
    "    ax.errorbar(xs, ys_3, yerr=CIs['95']*(std_3/np.sqrt(len(series_data_retract_filter))), color=col2, fmt='--o', markersize=4, capsize=3)\n",
    "\n",
    "    ys_1 = np.mean(series_data_control[:, 9:-1], axis=0)\n",
    "    std_1 = np.std(series_data_control[:, 9:-1], axis=0)\n",
    "    ys_3 = np.mean(series_data_retract_filter[:, 9:-1], axis=0)\n",
    "    std_3 = np.std(series_data_retract_filter[:, 9:-1], axis=0)\n",
    "    xs = [1, 2, 3, 4, 5, 6, 7, 8]\n",
    "    ax.errorbar(xs, ys_1, yerr=CIs['95']*(std_1/np.sqrt(len(series_data_control))), color=col1, fmt='--o', markersize=4, capsize=3, label='control (filtered)')\n",
    "    # ax.errorbar(xs, ys_2, yerr=CIs['95']*(std_2/np.sqrt(len(series_data_retract))), color=col2, fmt='-o', markersize=4, capsize=3, label='retracted')\n",
    "    ax.errorbar(xs, ys_3, yerr=CIs['95']*(std_3/np.sqrt(len(series_data_retract_filter))), color=col2, fmt='--o', markersize=4, capsize=3, label='retracted (filtered)')  \n",
    "    ax.axvline(0, color='k', linestyle='--', linewidth = 1)\n",
    "    ax.set_title(cate)\n",
    "    if i == 0:\n",
    "        ax.set_ylim(-0.3, 1)\n",
    "    if i == 1:\n",
    "        ax.set_ylim(-0.02, 0.08)\n",
    "    if i == 2:\n",
    "        ax.set_ylim(-0.008, 0.03)\n",
    "    if i == 3:\n",
    "        ax.set_ylim(-0.01, 0.04)\n",
    "    if i == 4:\n",
    "        ax.yaxis.set_major_formatter(FormatStrFormatter('%.3f'))\n",
    "        ax.set_ylim(-0.001, 0.004)\n",
    "    ax.set_xticks([-8, -6, -4, -2, 0, 2, 4, 6, 8])\n",
    "    for tick in ax.get_xticklabels():\n",
    "        tick.set_ha('right')\n",
    "        # tick.set_fontsize(8)\n",
    "        tick.set_rotation(30)\n",
    "axes[0].set_ylabel('Avg. num. mentions')\n",
    "axes[2].set_xlabel('Weeks before and after retraction', fontsize=12)\n",
    "\n",
    "legend = axes[4].legend(loc=[0.15, 0.65], numpoints=2, labelspacing = 0.2, shadow=True, frameon = True)\n",
    "plt.subplots_adjust(wspace=0.25)\n",
    "plt.show()\n",
    "fig.savefig('before_after_ret_mentions_2m_weekly_physical.pdf', bbox_inches='tight', pad_inches=0.01)"
   ]
  },
  {
   "cell_type": "markdown",
   "metadata": {},
   "source": [
    "### Before retraction - tw mentions"
   ]
  },
  {
   "cell_type": "markdown",
   "metadata": {},
   "source": [
    "Fraction of last month tweets over all tweets from pub to ret (exclude only critical tweets)"
   ]
  },
  {
   "cell_type": "code",
   "execution_count": 656,
   "metadata": {},
   "outputs": [],
   "source": [
    "slide = 30\n",
    "cates = ['uncertainty', 'tw_date_sort']"
   ]
  },
  {
   "cell_type": "code",
   "execution_count": 657,
   "metadata": {},
   "outputs": [],
   "source": [
    "for doi in retract_df_filter['OriginalPaperDOI']:\n",
    "    retract_date = doi_ret_date[doi]\n",
    "    paper = doi_alt_data[doi]\n",
    "    tot = 0\n",
    "    if 'posts' in paper and 'twitter' in paper['posts']:\n",
    "        for item in paper['posts']['twitter']:\n",
    "            tid = item['tweet_id']\n",
    "            if tid in tid_date and tid not in uncertain_tids:\n",
    "                dtt = tid_date[tid]\n",
    "                dtt = datetime.strptime(dtt, '%Y-%m-%dT%H:%M:%S')\n",
    "                if dtt <= retract_date:\n",
    "                    tot += 1\n",
    "    totals[doi] = tot"
   ]
  },
  {
   "cell_type": "code",
   "execution_count": 658,
   "metadata": {
    "scrolled": false
   },
   "outputs": [
    {
     "data": {
      "text/plain": [
       "3659"
      ]
     },
     "execution_count": 658,
     "metadata": {},
     "output_type": "execute_result"
    }
   ],
   "source": [
    "len(totals)"
   ]
  },
  {
   "cell_type": "code",
   "execution_count": 659,
   "metadata": {},
   "outputs": [],
   "source": [
    "fracs = []\n",
    "for i in range(0, 60, 6):\n",
    "    length = slide * (i+1)\n",
    "    keys_2, series_retract_late = process_df(retract_df, key_col='doi', sliding=slide, length=length, length_type='exact_months', time_type='late')\n",
    "    series_retract_late = cal_exc_uncertain(series_retract_late, how='per_window')\n",
    "    # mentions in the last month\n",
    "    series_retract_late = [tss[-1] for tss in series_retract_late]\n",
    "    tots = [totals[doi] for doi in keys_2]\n",
    "    frac = []\n",
    "    for tss, tot in zip(series_retract_late, tots):\n",
    "        # focus on papers with at least 1 total mention between pub to retraction.\n",
    "        if tot > 0:\n",
    "            frac.append(tss/tot)\n",
    "    fracs.append(frac)"
   ]
  },
  {
   "cell_type": "code",
   "execution_count": 660,
   "metadata": {
    "scrolled": false
   },
   "outputs": [
    {
     "data": {
      "image/png": "[encoded data removed]",
      "text/plain": [
       "<Figure size 288x180 with 2 Axes>"
      ]
     },
     "metadata": {
      "needs_background": "light"
     },
     "output_type": "display_data"
    }
   ],
   "source": [
    "fig, ax = plt.subplots(figsize = (4, 2.5), nrows=1, ncols=1)\n",
    "\n",
    "ys = [np.mean(frac) for frac in fracs]\n",
    "stds = [np.std(frac) for frac in fracs]\n",
    "ns = [len(frac) for frac in fracs]\n",
    "xs = np.arange(len(ys)) + 1\n",
    "\n",
    "ax.bar(xs, ns, color='g', alpha=0.5)\n",
    "ax.set_ylabel('Number of papers', color='green')\n",
    "ax.tick_params(axis='y', labelcolor = 'green')\n",
    "ax.set_xticks([1, 2, 3, 4, 5, 6, 7, 8, 9, 10])\n",
    "ax.set_xticklabels(['[1, 7)', '[7, 13)', '[13, 19)', '[19, 25)', '[25, 31)', '[31, 37)', '[37, 43)', '[43, 49)', \\\n",
    "                    '[49, 55)', '55+'])\n",
    "for tick in ax.get_xticklabels():\n",
    "    tick.set_ha('right')\n",
    "    tick.set_fontsize(8)\n",
    "    tick.set_rotation(30)\n",
    "ax.set_title('Uncritical attention on Twitter')\n",
    "ax.set_xlabel('Months between publication and retraction')\n",
    "\n",
    "ax2 = ax.twinx()\n",
    "ax2.errorbar(xs, ys, yerr=CIs['95']*(stds/np.sqrt(ns)), color=col1, fmt='-o', markersize=4, capsize=3)\n",
    "ax2.set_ylim([-0.05, 0.55])\n",
    "ax2.set_ylabel('Frac. of ment. in last month')\n",
    "\n",
    "# legend = ax2.legend(loc=[0.2, 0.75], numpoints=2, labelspacing = 0.2, shadow=False, frameon = True)\n",
    "plt.show()\n",
    "fig.savefig('last_month_fraction_tw.pdf', bbox_inches='tight', pad_inches=0.02)"
   ]
  },
  {
   "cell_type": "code",
   "execution_count": 205,
   "metadata": {
    "scrolled": false
   },
   "outputs": [
    {
     "data": {
      "text/plain": [
       "[368, 295, 252, 177, 128, 111, 76, 57, 42, 142]"
      ]
     },
     "execution_count": 205,
     "metadata": {},
     "output_type": "execute_result"
    }
   ],
   "source": [
    "ns"
   ]
  },
  {
   "cell_type": "markdown",
   "metadata": {},
   "source": [
    "Exclude posts with the \"retract\" keyword and critical tweets (will be combined with after-retraction for ITS analysis)"
   ]
  },
  {
   "cell_type": "code",
   "execution_count": 210,
   "metadata": {},
   "outputs": [],
   "source": [
    "slide = 7 \n",
    "length = 60"
   ]
  },
  {
   "cell_type": "code",
   "execution_count": 1423,
   "metadata": {},
   "outputs": [],
   "source": [
    "# slide = 30\n",
    "# length = 180"
   ]
  },
  {
   "cell_type": "code",
   "execution_count": 211,
   "metadata": {},
   "outputs": [],
   "source": [
    "cates = ['uncertainty', 'tw_date_sort']"
   ]
  },
  {
   "cell_type": "code",
   "execution_count": 212,
   "metadata": {
    "scrolled": true
   },
   "outputs": [],
   "source": [
    "keys_2, series_retract_late = process_df(retract_df_filter, key_col='doi', sliding=slide, length=length, time_type='late')\n",
    "control_tem = control_df_filter.loc[control_df_filter['matched_retract_doi'].isin(keys_2)]\n",
    "control_tem.index = range(len(control_tem))\n",
    "keys_1, series_control_late = process_df(control_tem, key_col='altid', sliding=slide, length=length, time_type='late')\n",
    "\n",
    "ixx = []\n",
    "for i, doi in enumerate(keys_2):\n",
    "    keep = False\n",
    "    for altid in doi_control_aids[doi]:\n",
    "        if altid in keys_1:\n",
    "            keep = True\n",
    "            break\n",
    "    if keep:\n",
    "        ixx.append(i)\n",
    "        \n",
    "keys_2 = [keys_2[i] for i in ixx]\n",
    "series_retract_late = series_retract_late[ixx]"
   ]
  },
  {
   "cell_type": "code",
   "execution_count": 213,
   "metadata": {},
   "outputs": [],
   "source": [
    "series_control_late = cal_exc_uncertain(series_control_late, how='per_window')\n",
    "series_retract_late = cal_exc_uncertain(series_retract_late, how='per_window')"
   ]
  },
  {
   "cell_type": "code",
   "execution_count": 214,
   "metadata": {},
   "outputs": [
    {
     "data": {
      "text/plain": [
       "2973"
      ]
     },
     "execution_count": 214,
     "metadata": {},
     "output_type": "execute_result"
    }
   ],
   "source": [
    "len(keys_2)"
   ]
  },
  {
   "cell_type": "code",
   "execution_count": 215,
   "metadata": {
    "scrolled": false
   },
   "outputs": [
    {
     "data": {
      "text/plain": [
       "array([0, 0, 0, 0, 0, 0, 0, 0, 0])"
      ]
     },
     "execution_count": 215,
     "metadata": {},
     "output_type": "execute_result"
    }
   ],
   "source": [
    "series_retract_late[0]"
   ]
  },
  {
   "cell_type": "markdown",
   "metadata": {},
   "source": [
    "### After retraction - tw mentions"
   ]
  },
  {
   "cell_type": "markdown",
   "metadata": {},
   "source": [
    "Exclude posts with \"retract\" keyword and manually labeled retraction-dicussion posts"
   ]
  },
  {
   "cell_type": "code",
   "execution_count": 216,
   "metadata": {},
   "outputs": [],
   "source": [
    "slide = 7 \n",
    "length = 60"
   ]
  },
  {
   "cell_type": "code",
   "execution_count": 217,
   "metadata": {},
   "outputs": [],
   "source": [
    "# slide = 30\n",
    "# length = 180"
   ]
  },
  {
   "cell_type": "code",
   "execution_count": 218,
   "metadata": {},
   "outputs": [],
   "source": [
    "keys_3_, series_retract_after_filter = process_df_fw_cn(retract_df_filter, key_col='doi', sliding=slide, length=length, time_type='after_retract')\n",
    "control_tem = control_df_filter.loc[control_df_filter['matched_retract_doi'].isin(keys_3_)]\n",
    "control_tem.index = range(len(control_tem))\n",
    "keys_1_, series_control_after = process_df_fw_cn(control_tem, key_col='altid', sliding=slide, length=length, time_type='after_retract')\n",
    "\n",
    "ixx = []\n",
    "for i, doi in enumerate(keys_3_):\n",
    "    keep = False\n",
    "    for altid in doi_control_aids[doi]:\n",
    "        if altid in keys_1_:\n",
    "            keep = True\n",
    "            break\n",
    "    if keep:\n",
    "        ixx.append(i)\n",
    "        \n",
    "keys_3_ = [keys_3_[i] for i in ixx]\n",
    "series_retract_after_filter = series_retract_after_filter[ixx]"
   ]
  },
  {
   "cell_type": "code",
   "execution_count": 219,
   "metadata": {},
   "outputs": [
    {
     "data": {
      "text/plain": [
       "array([[0, 0, 0, 0, 0, 0, 0, 0, 0],\n",
       "       [0, 0, 0, 0, 0, 0, 0, 0, 0]])"
      ]
     },
     "execution_count": 219,
     "metadata": {},
     "output_type": "execute_result"
    }
   ],
   "source": [
    "series_retract_after_filter[0]"
   ]
  },
  {
   "cell_type": "markdown",
   "metadata": {},
   "source": [
    "### Interrupted time series analysis (twitter)"
   ]
  },
  {
   "cell_type": "code",
   "execution_count": 220,
   "metadata": {},
   "outputs": [],
   "source": [
    "series_control_after = np.array([ts[1] for ts in series_control_after])\n",
    "series_retract_after_filter = np.array([ts[1] for ts in series_retract_after_filter])"
   ]
  },
  {
   "cell_type": "code",
   "execution_count": 221,
   "metadata": {},
   "outputs": [],
   "source": [
    "after_control_dict = {}\n",
    "for aid, lli in zip(keys_1_, series_control_after):\n",
    "    after_control_dict[aid] = lli\n",
    "    \n",
    "after_filter_retract_dict = {}\n",
    "for doi, lli in zip(keys_3_, series_retract_after_filter):\n",
    "    after_filter_retract_dict[doi] = lli"
   ]
  },
  {
   "cell_type": "code",
   "execution_count": 222,
   "metadata": {},
   "outputs": [],
   "source": [
    "late_control_dict = {}\n",
    "for aid, lli in zip(keys_1, series_control_late):\n",
    "#     if np.sum(lli) > 0:\n",
    "    late_control_dict[aid] = lli\n",
    "    \n",
    "late_retract_dict = {}\n",
    "for doi, lli in zip(keys_2, series_retract_late):\n",
    "#     if np.sum(lli) > 0:\n",
    "    late_retract_dict[doi] = lli"
   ]
  },
  {
   "cell_type": "code",
   "execution_count": 223,
   "metadata": {
    "scrolled": false
   },
   "outputs": [
    {
     "data": {
      "text/plain": [
       "11352"
      ]
     },
     "execution_count": 223,
     "metadata": {},
     "output_type": "execute_result"
    }
   ],
   "source": [
    "len(late_control_dict)"
   ]
  },
  {
   "cell_type": "code",
   "execution_count": 224,
   "metadata": {
    "scrolled": true
   },
   "outputs": [
    {
     "data": {
      "text/plain": [
       "2973"
      ]
     },
     "execution_count": 224,
     "metadata": {},
     "output_type": "execute_result"
    }
   ],
   "source": [
    "len(late_retract_dict)"
   ]
  },
  {
   "cell_type": "code",
   "execution_count": 225,
   "metadata": {
    "scrolled": true
   },
   "outputs": [
    {
     "data": {
      "text/plain": [
       "15659"
      ]
     },
     "execution_count": 225,
     "metadata": {},
     "output_type": "execute_result"
    }
   ],
   "source": [
    "len(after_control_dict)"
   ]
  },
  {
   "cell_type": "code",
   "execution_count": 226,
   "metadata": {
    "scrolled": true
   },
   "outputs": [
    {
     "data": {
      "text/plain": [
       "3225"
      ]
     },
     "execution_count": 226,
     "metadata": {},
     "output_type": "execute_result"
    }
   ],
   "source": [
    "len(after_filter_retract_dict)"
   ]
  },
  {
   "cell_type": "code",
   "execution_count": 227,
   "metadata": {},
   "outputs": [],
   "source": [
    "comb_series_control = []\n",
    "comb_series_retract = []\n",
    "\n",
    "for aid in late_control_dict:\n",
    "    if aid in after_control_dict:\n",
    "        pre_li = late_control_dict[aid]\n",
    "        pos_li = after_control_dict[aid]\n",
    "        res = np.concatenate([pre_li, pos_li])\n",
    "        comb_series_control.append(res)\n",
    "\n",
    "for doi in late_retract_dict:\n",
    "    if doi in after_filter_retract_dict:\n",
    "        pre_li = late_retract_dict[doi]\n",
    "        pos_li = after_filter_retract_dict[doi]\n",
    "        res = np.concatenate([pre_li, pos_li])\n",
    "        comb_series_retract.append(res)"
   ]
  },
  {
   "cell_type": "code",
   "execution_count": 228,
   "metadata": {
    "scrolled": false
   },
   "outputs": [
    {
     "data": {
      "text/plain": [
       "2894"
      ]
     },
     "execution_count": 228,
     "metadata": {},
     "output_type": "execute_result"
    }
   ],
   "source": [
    "len(comb_series_retract)"
   ]
  },
  {
   "cell_type": "code",
   "execution_count": 229,
   "metadata": {},
   "outputs": [],
   "source": [
    "comb_series_control = np.array(comb_series_control)\n",
    "comb_series_retract = np.array(comb_series_retract)"
   ]
  },
  {
   "cell_type": "code",
   "execution_count": 230,
   "metadata": {},
   "outputs": [
    {
     "data": {
      "text/plain": [
       "array([0, 0, 0, 0, 0, 0, 0, 0, 0, 0, 0, 0, 0, 0, 0, 0, 0, 0])"
      ]
     },
     "execution_count": 230,
     "metadata": {},
     "output_type": "execute_result"
    }
   ],
   "source": [
    "comb_series_control[0]"
   ]
  },
  {
   "cell_type": "code",
   "execution_count": 238,
   "metadata": {
    "scrolled": false
   },
   "outputs": [
    {
     "data": {
      "image/png": "[encoded data removed]",
      "text/plain": [
       "<Figure size 252x180 with 1 Axes>"
      ]
     },
     "metadata": {
      "needs_background": "light"
     },
     "output_type": "display_data"
    }
   ],
   "source": [
    "fig, ax = plt.subplots(figsize = (3.5, 2.5), nrows=1, ncols=1)\n",
    "\n",
    "col1 = 'k'\n",
    "col2 = '#ffa500'\n",
    "\n",
    "ys_1 = np.mean(comb_series_control[:, 1:9], axis=0)\n",
    "std_1 = np.std(comb_series_control[:, 1:9], axis=0)\n",
    "ys_2 = np.mean(comb_series_retract[:, 1:9], axis=0)\n",
    "std_2 = np.std(comb_series_retract[:, 1:9], axis=0)\n",
    "xs = [-8, -7, -6, -5, -4, -3, -2, -1]\n",
    "ax.errorbar(xs, ys_1, yerr=CIs['95']*(std_1/np.sqrt(len(comb_series_control))), color=col1, fmt='--o', markersize=4, capsize=3)\n",
    "ax.errorbar(xs, ys_2, yerr=CIs['95']*(std_2/np.sqrt(len(comb_series_retract))), color=col2, fmt='--o', markersize=4, capsize=3)\n",
    "\n",
    "ys_1 = np.mean(comb_series_control[:, 9:-1], axis=0)\n",
    "std_1 = np.std(comb_series_control[:, 9:-1], axis=0)\n",
    "ys_2 = np.mean(comb_series_retract[:, 9:-1], axis=0)\n",
    "std_2 = np.std(comb_series_retract[:, 9:-1], axis=0)\n",
    "xs = [1, 2, 3, 4, 5, 6, 7, 8]\n",
    "ax.errorbar(xs, ys_1, yerr=CIs['95']*(std_1/np.sqrt(len(comb_series_control))), color=col1, fmt='--o', markersize=4, capsize=3, label=\"control (filtered)\")\n",
    "ax.errorbar(xs, ys_2, yerr=CIs['95']*(std_2/np.sqrt(len(comb_series_retract))), color=col2, fmt='--o', markersize=4, capsize=3, label=\"retracted (filtered)\")\n",
    "\n",
    "# ax.set_xticks([1, 2, 3, 4, 5, 6, 7, 8, 9, 10, 11, 12])\n",
    "ax.set_xticks([-8, -6, -4, -2, 0, 2, 4, 6, 8])\n",
    "# ax.ticklabel_format(axis='y', style='sci', scilimits=(0,0), useMathText=True)\n",
    "ax.set_xlabel('Weeks before and after retraction')\n",
    "ax.set_ylabel('Average num. tweets')\n",
    "ax.set_ylim([-0.1, 0.4])\n",
    "ax.set_title('Excluding critical tweets')\n",
    "for tick in ax.get_xticklabels():\n",
    "    tick.set_ha('right')\n",
    "    # tick.set_fontsize(8)\n",
    "    tick.set_rotation(30)\n",
    "legend = ax.legend(loc=[0.25, 0.65], numpoints=2, labelspacing = 0.2, shadow=False, frameon = True)\n",
    "plt.show()\n",
    "fig.savefig('ITS_tw.pdf', bbox_inches='tight', pad_inches=0.01)"
   ]
  },
  {
   "cell_type": "markdown",
   "metadata": {},
   "source": [
    "Avg time series for retracted papers (without control) - weekly count for 2-month pre/post retraction time window"
   ]
  },
  {
   "cell_type": "code",
   "execution_count": 239,
   "metadata": {},
   "outputs": [],
   "source": [
    "# it has 9 weeks before/after, we exclude the first and the last week to focus on the 2-month before/after window\n",
    "y = np.mean(comb_series_retract[:, 1:-1], axis=0)"
   ]
  },
  {
   "cell_type": "code",
   "execution_count": 240,
   "metadata": {},
   "outputs": [],
   "source": [
    "X = np.array([[1, 2, 3, 4, 5, 6, 7, 8, 9, 10, 11, 12, 13, 14, 15, 16],\n",
    "             [0, 0, 0, 0, 0, 0, 0, 0, 1, 1, 1, 1, 1, 1, 1, 1],\n",
    "             [0, 0, 0, 0, 0, 0, 0, 0, 1, 2, 3, 4, 5, 6, 7, 8]]).T"
   ]
  },
  {
   "cell_type": "code",
   "execution_count": 241,
   "metadata": {
    "scrolled": true
   },
   "outputs": [
    {
     "data": {
      "text/plain": [
       "array([[ 1,  0,  0],\n",
       "       [ 2,  0,  0],\n",
       "       [ 3,  0,  0],\n",
       "       [ 4,  0,  0],\n",
       "       [ 5,  0,  0],\n",
       "       [ 6,  0,  0],\n",
       "       [ 7,  0,  0],\n",
       "       [ 8,  0,  0],\n",
       "       [ 9,  1,  1],\n",
       "       [10,  1,  2],\n",
       "       [11,  1,  3],\n",
       "       [12,  1,  4],\n",
       "       [13,  1,  5],\n",
       "       [14,  1,  6],\n",
       "       [15,  1,  7],\n",
       "       [16,  1,  8]])"
      ]
     },
     "execution_count": 241,
     "metadata": {},
     "output_type": "execute_result"
    }
   ],
   "source": [
    "X"
   ]
  },
  {
   "cell_type": "code",
   "execution_count": 242,
   "metadata": {},
   "outputs": [],
   "source": [
    "X = sm.add_constant(X)"
   ]
  },
  {
   "cell_type": "code",
   "execution_count": 243,
   "metadata": {},
   "outputs": [],
   "source": [
    "model = sm.OLS(y, X).fit()"
   ]
  },
  {
   "cell_type": "code",
   "execution_count": 244,
   "metadata": {},
   "outputs": [
    {
     "name": "stderr",
     "output_type": "stream",
     "text": [
      "/home/haopeng/miniconda3/lib/python3.7/site-packages/scipy/stats/stats.py:1542: UserWarning: kurtosistest only valid for n>=20 ... continuing anyway, n=16\n",
      "  \"anyway, n=%i\" % int(n))\n"
     ]
    },
    {
     "data": {
      "text/html": [
       "<table class=\"simpletable\">\n",
       "<caption>OLS Regression Results</caption>\n",
       "<tr>\n",
       "  <th>Dep. Variable:</th>            <td>y</td>        <th>  R-squared:         </th> <td>   0.873</td>\n",
       "</tr>\n",
       "<tr>\n",
       "  <th>Model:</th>                   <td>OLS</td>       <th>  Adj. R-squared:    </th> <td>   0.841</td>\n",
       "</tr>\n",
       "<tr>\n",
       "  <th>Method:</th>             <td>Least Squares</td>  <th>  F-statistic:       </th> <td>   27.46</td>\n",
       "</tr>\n",
       "<tr>\n",
       "  <th>Date:</th>             <td>Thu, 10 Mar 2022</td> <th>  Prob (F-statistic):</th> <td>1.17e-05</td>\n",
       "</tr>\n",
       "<tr>\n",
       "  <th>Time:</th>                 <td>22:01:57</td>     <th>  Log-Likelihood:    </th> <td>  51.513</td>\n",
       "</tr>\n",
       "<tr>\n",
       "  <th>No. Observations:</th>      <td>    16</td>      <th>  AIC:               </th> <td>  -95.03</td>\n",
       "</tr>\n",
       "<tr>\n",
       "  <th>Df Residuals:</th>          <td>    12</td>      <th>  BIC:               </th> <td>  -91.94</td>\n",
       "</tr>\n",
       "<tr>\n",
       "  <th>Df Model:</th>              <td>     3</td>      <th>                     </th>     <td> </td>   \n",
       "</tr>\n",
       "<tr>\n",
       "  <th>Covariance Type:</th>      <td>nonrobust</td>    <th>                     </th>     <td> </td>   \n",
       "</tr>\n",
       "</table>\n",
       "<table class=\"simpletable\">\n",
       "<tr>\n",
       "    <td></td>       <th>coef</th>     <th>std err</th>      <th>t</th>      <th>P>|t|</th>  <th>[0.025</th>    <th>0.975]</th>  \n",
       "</tr>\n",
       "<tr>\n",
       "  <th>const</th> <td>    0.0959</td> <td>    0.009</td> <td>   11.016</td> <td> 0.000</td> <td>    0.077</td> <td>    0.115</td>\n",
       "</tr>\n",
       "<tr>\n",
       "  <th>x1</th>    <td>   -0.0097</td> <td>    0.002</td> <td>   -5.650</td> <td> 0.000</td> <td>   -0.013</td> <td>   -0.006</td>\n",
       "</tr>\n",
       "<tr>\n",
       "  <th>x2</th>    <td>    0.0044</td> <td>    0.011</td> <td>    0.385</td> <td> 0.707</td> <td>   -0.020</td> <td>    0.029</td>\n",
       "</tr>\n",
       "<tr>\n",
       "  <th>x3</th>    <td>    0.0077</td> <td>    0.002</td> <td>    3.141</td> <td> 0.009</td> <td>    0.002</td> <td>    0.013</td>\n",
       "</tr>\n",
       "</table>\n",
       "<table class=\"simpletable\">\n",
       "<tr>\n",
       "  <th>Omnibus:</th>       <td> 2.629</td> <th>  Durbin-Watson:     </th> <td>   1.760</td>\n",
       "</tr>\n",
       "<tr>\n",
       "  <th>Prob(Omnibus):</th> <td> 0.269</td> <th>  Jarque-Bera (JB):  </th> <td>   1.344</td>\n",
       "</tr>\n",
       "<tr>\n",
       "  <th>Skew:</th>          <td>-0.708</td> <th>  Prob(JB):          </th> <td>   0.511</td>\n",
       "</tr>\n",
       "<tr>\n",
       "  <th>Kurtosis:</th>      <td> 3.106</td> <th>  Cond. No.          </th> <td>    44.1</td>\n",
       "</tr>\n",
       "</table><br/><br/>Notes:<br/>[1] Standard Errors assume that the covariance matrix of the errors is correctly specified."
      ],
      "text/plain": [
       "<class 'statsmodels.iolib.summary.Summary'>\n",
       "\"\"\"\n",
       "                            OLS Regression Results                            \n",
       "==============================================================================\n",
       "Dep. Variable:                      y   R-squared:                       0.873\n",
       "Model:                            OLS   Adj. R-squared:                  0.841\n",
       "Method:                 Least Squares   F-statistic:                     27.46\n",
       "Date:                Thu, 10 Mar 2022   Prob (F-statistic):           1.17e-05\n",
       "Time:                        22:01:57   Log-Likelihood:                 51.513\n",
       "No. Observations:                  16   AIC:                            -95.03\n",
       "Df Residuals:                      12   BIC:                            -91.94\n",
       "Df Model:                           3                                         \n",
       "Covariance Type:            nonrobust                                         \n",
       "==============================================================================\n",
       "                 coef    std err          t      P>|t|      [0.025      0.975]\n",
       "------------------------------------------------------------------------------\n",
       "const          0.0959      0.009     11.016      0.000       0.077       0.115\n",
       "x1            -0.0097      0.002     -5.650      0.000      -0.013      -0.006\n",
       "x2             0.0044      0.011      0.385      0.707      -0.020       0.029\n",
       "x3             0.0077      0.002      3.141      0.009       0.002       0.013\n",
       "==============================================================================\n",
       "Omnibus:                        2.629   Durbin-Watson:                   1.760\n",
       "Prob(Omnibus):                  0.269   Jarque-Bera (JB):                1.344\n",
       "Skew:                          -0.708   Prob(JB):                        0.511\n",
       "Kurtosis:                       3.106   Cond. No.                         44.1\n",
       "==============================================================================\n",
       "\n",
       "Notes:\n",
       "[1] Standard Errors assume that the covariance matrix of the errors is correctly specified.\n",
       "\"\"\""
      ]
     },
     "execution_count": 244,
     "metadata": {},
     "output_type": "execute_result"
    }
   ],
   "source": [
    "model.summary()"
   ]
  },
  {
   "cell_type": "markdown",
   "metadata": {},
   "source": [
    "## Regression"
   ]
  },
  {
   "cell_type": "markdown",
   "metadata": {},
   "source": [
    "### After publication - negative binomial model"
   ]
  },
  {
   "cell_type": "code",
   "execution_count": 245,
   "metadata": {},
   "outputs": [],
   "source": [
    "cates = ['social_media', 'blog', 'knowledge_repo', 'news_media', 'top_news']\n",
    "cates_names = ['Social Media', 'Blogs', 'Knowledge Repositories', 'News Media', 'Top News']"
   ]
  },
  {
   "cell_type": "code",
   "execution_count": 246,
   "metadata": {},
   "outputs": [],
   "source": [
    "slide = 30 # 7 \n",
    "length = 180\n",
    "num_ = length//slide"
   ]
  },
  {
   "cell_type": "code",
   "execution_count": 247,
   "metadata": {},
   "outputs": [],
   "source": [
    "cate_feats = [cate + '_%dM'%(ix+1) for cate in cates for ix in range(num_)]"
   ]
  },
  {
   "cell_type": "code",
   "execution_count": 248,
   "metadata": {},
   "outputs": [],
   "source": [
    "keys_2, series_retract_early = process_df(retract_df, key_col='doi', sliding=slide, length=length)\n",
    "# exclude control papers for excluded retracted ones.\n",
    "control_tem = control_df.loc[control_df['matched_retract_doi'].isin(keys_2)]\n",
    "control_tem.index = range(len(control_tem))\n",
    "keys_1, series_control_early = process_df(control_tem, key_col='altid', sliding=slide, length=length)\n",
    "\n",
    "ixx = []\n",
    "for i, doi in enumerate(keys_2):\n",
    "    keep = False\n",
    "    for altid in doi_control_aids[doi]:\n",
    "        if altid in keys_1:\n",
    "            keep = True\n",
    "            break\n",
    "    if keep:\n",
    "        ixx.append(i)\n",
    "        \n",
    "keys_2 = [keys_2[i] for i in ixx]\n",
    "series_retract_early = series_retract_early[ixx]"
   ]
  },
  {
   "cell_type": "code",
   "execution_count": 249,
   "metadata": {},
   "outputs": [],
   "source": [
    "ret_reg = retract_df.loc[retract_df.OriginalPaperDOI.isin(keys_2)]\n",
    "ret_reg.index = range(len(ret_reg))\n",
    "ctrl_reg = control_df.loc[control_df.altmetric_id.isin(keys_1)]\n",
    "ctrl_reg.index = range(len(ctrl_reg))"
   ]
  },
  {
   "cell_type": "code",
   "execution_count": 250,
   "metadata": {},
   "outputs": [
    {
     "data": {
      "text/plain": [
       "2830"
      ]
     },
     "execution_count": 250,
     "metadata": {},
     "output_type": "execute_result"
    }
   ],
   "source": [
    "len(ret_reg)"
   ]
  },
  {
   "cell_type": "code",
   "execution_count": 251,
   "metadata": {
    "scrolled": true
   },
   "outputs": [
    {
     "data": {
      "text/plain": [
       "13599"
      ]
     },
     "execution_count": 251,
     "metadata": {},
     "output_type": "execute_result"
    }
   ],
   "source": [
    "len(ctrl_reg)"
   ]
  },
  {
   "cell_type": "code",
   "execution_count": 252,
   "metadata": {},
   "outputs": [],
   "source": [
    "series_control_early = np.cumsum(series_control_early, axis = 2)\n",
    "series_retract_early = np.cumsum(series_retract_early, axis = 2)\n",
    "\n",
    "series_control_early = np.reshape(series_control_early, (len(series_control_early), len(cates)*num_))\n",
    "series_retract_early = np.reshape(series_retract_early, (len(series_retract_early), len(cates)*num_))"
   ]
  },
  {
   "cell_type": "code",
   "execution_count": 253,
   "metadata": {},
   "outputs": [],
   "source": [
    "ctrl_reg[cate_feats] = pd.DataFrame(series_control_early)\n",
    "ret_reg[cate_feats] = pd.DataFrame(series_retract_early)"
   ]
  },
  {
   "cell_type": "code",
   "execution_count": 254,
   "metadata": {},
   "outputs": [],
   "source": [
    "ctrl_reg['pub_year'] = ctrl_reg['altmetric_pub_date'].apply(lambda x: x.year)\n",
    "ctrl_reg['num_authors'] = ctrl_reg['authors'].apply(lambda x: len(x.split(\";\")))\n",
    "ctrl_reg['status'] = 0"
   ]
  },
  {
   "cell_type": "code",
   "execution_count": 255,
   "metadata": {
    "scrolled": false
   },
   "outputs": [
    {
     "data": {
      "text/html": [
       "<div>\n",
       "<style scoped>\n",
       "    .dataframe tbody tr th:only-of-type {\n",
       "        vertical-align: middle;\n",
       "    }\n",
       "\n",
       "    .dataframe tbody tr th {\n",
       "        vertical-align: top;\n",
       "    }\n",
       "\n",
       "    .dataframe thead th {\n",
       "        text-align: right;\n",
       "    }\n",
       "</style>\n",
       "<table border=\"1\" class=\"dataframe\">\n",
       "  <thead>\n",
       "    <tr style=\"text-align: right;\">\n",
       "      <th></th>\n",
       "      <th>altmetric_id</th>\n",
       "      <th>matched_retract_doi</th>\n",
       "      <th>doi</th>\n",
       "      <th>title</th>\n",
       "      <th>abstract</th>\n",
       "      <th>altmetric_pub_date</th>\n",
       "      <th>journal</th>\n",
       "      <th>authors</th>\n",
       "      <th>scopus_subjects</th>\n",
       "      <th>altmetric_score</th>\n",
       "      <th>usable_days</th>\n",
       "      <th>news_media</th>\n",
       "      <th>social_media</th>\n",
       "      <th>blog</th>\n",
       "      <th>knowledge_repo</th>\n",
       "      <th>top_news</th>\n",
       "      <th>tweet_ids</th>\n",
       "      <th>tw_date_sort</th>\n",
       "      <th>fcn_date_sort</th>\n",
       "      <th>uncertainty</th>\n",
       "      <th>social_media_1M</th>\n",
       "      <th>social_media_2M</th>\n",
       "      <th>social_media_3M</th>\n",
       "      <th>social_media_4M</th>\n",
       "      <th>social_media_5M</th>\n",
       "      <th>social_media_6M</th>\n",
       "      <th>blog_1M</th>\n",
       "      <th>blog_2M</th>\n",
       "      <th>blog_3M</th>\n",
       "      <th>blog_4M</th>\n",
       "      <th>blog_5M</th>\n",
       "      <th>blog_6M</th>\n",
       "      <th>knowledge_repo_1M</th>\n",
       "      <th>knowledge_repo_2M</th>\n",
       "      <th>knowledge_repo_3M</th>\n",
       "      <th>knowledge_repo_4M</th>\n",
       "      <th>knowledge_repo_5M</th>\n",
       "      <th>knowledge_repo_6M</th>\n",
       "      <th>news_media_1M</th>\n",
       "      <th>news_media_2M</th>\n",
       "      <th>news_media_3M</th>\n",
       "      <th>news_media_4M</th>\n",
       "      <th>news_media_5M</th>\n",
       "      <th>news_media_6M</th>\n",
       "      <th>top_news_1M</th>\n",
       "      <th>top_news_2M</th>\n",
       "      <th>top_news_3M</th>\n",
       "      <th>top_news_4M</th>\n",
       "      <th>top_news_5M</th>\n",
       "      <th>top_news_6M</th>\n",
       "      <th>pub_year</th>\n",
       "      <th>num_authors</th>\n",
       "      <th>status</th>\n",
       "    </tr>\n",
       "  </thead>\n",
       "  <tbody>\n",
       "    <tr>\n",
       "      <th>0</th>\n",
       "      <td>4471406</td>\n",
       "      <td>10.1186/s40478-016-0393-5</td>\n",
       "      <td>10.1186/s40478-015-0232-0</td>\n",
       "      <td>Post-mortem brain analyses of the Lothian Birt...</td>\n",
       "      <td>Non-pathological, age-related cognitive declin...</td>\n",
       "      <td>2015-09-04</td>\n",
       "      <td>Acta Neuropathologica Communications</td>\n",
       "      <td>Christopher M. Henstridge;Rosemary J. Jackson;...</td>\n",
       "      <td></td>\n",
       "      <td>12.55</td>\n",
       "      <td>1495</td>\n",
       "      <td>[]</td>\n",
       "      <td>[2015-09-04T08:14:19, 2015-09-04T08:32:30, 201...</td>\n",
       "      <td>[]</td>\n",
       "      <td>[]</td>\n",
       "      <td>[]</td>\n",
       "      <td>[639713083842281472, 639717660931043328, 63972...</td>\n",
       "      <td>[2015-09-04T08:14:19, 2015-09-04T08:32:30, 201...</td>\n",
       "      <td>[4392, 1237, 4336, 4334, 1265, 7, 3190, 467, 1...</td>\n",
       "      <td>[]</td>\n",
       "      <td>21</td>\n",
       "      <td>21</td>\n",
       "      <td>21</td>\n",
       "      <td>21</td>\n",
       "      <td>21</td>\n",
       "      <td>21</td>\n",
       "      <td>0</td>\n",
       "      <td>0</td>\n",
       "      <td>0</td>\n",
       "      <td>0</td>\n",
       "      <td>0</td>\n",
       "      <td>0</td>\n",
       "      <td>0</td>\n",
       "      <td>0</td>\n",
       "      <td>0</td>\n",
       "      <td>0</td>\n",
       "      <td>0</td>\n",
       "      <td>0</td>\n",
       "      <td>0</td>\n",
       "      <td>0</td>\n",
       "      <td>0</td>\n",
       "      <td>0</td>\n",
       "      <td>0</td>\n",
       "      <td>0</td>\n",
       "      <td>0</td>\n",
       "      <td>0</td>\n",
       "      <td>0</td>\n",
       "      <td>0</td>\n",
       "      <td>0</td>\n",
       "      <td>0</td>\n",
       "      <td>2015</td>\n",
       "      <td>15</td>\n",
       "      <td>0</td>\n",
       "    </tr>\n",
       "  </tbody>\n",
       "</table>\n",
       "</div>"
      ],
      "text/plain": [
       "  altmetric_id        matched_retract_doi                        doi  \\\n",
       "0      4471406  10.1186/s40478-016-0393-5  10.1186/s40478-015-0232-0   \n",
       "\n",
       "                                               title  \\\n",
       "0  Post-mortem brain analyses of the Lothian Birt...   \n",
       "\n",
       "                                            abstract altmetric_pub_date  \\\n",
       "0  Non-pathological, age-related cognitive declin...         2015-09-04   \n",
       "\n",
       "                                journal  \\\n",
       "0  Acta Neuropathologica Communications   \n",
       "\n",
       "                                             authors scopus_subjects  \\\n",
       "0  Christopher M. Henstridge;Rosemary J. Jackson;...                   \n",
       "\n",
       "   altmetric_score  usable_days news_media  \\\n",
       "0            12.55         1495         []   \n",
       "\n",
       "                                        social_media blog knowledge_repo  \\\n",
       "0  [2015-09-04T08:14:19, 2015-09-04T08:32:30, 201...   []             []   \n",
       "\n",
       "  top_news                                          tweet_ids  \\\n",
       "0       []  [639713083842281472, 639717660931043328, 63972...   \n",
       "\n",
       "                                        tw_date_sort  \\\n",
       "0  [2015-09-04T08:14:19, 2015-09-04T08:32:30, 201...   \n",
       "\n",
       "                                       fcn_date_sort uncertainty  \\\n",
       "0  [4392, 1237, 4336, 4334, 1265, 7, 3190, 467, 1...          []   \n",
       "\n",
       "   social_media_1M  social_media_2M  social_media_3M  social_media_4M  \\\n",
       "0               21               21               21               21   \n",
       "\n",
       "   social_media_5M  social_media_6M  blog_1M  blog_2M  blog_3M  blog_4M  \\\n",
       "0               21               21        0        0        0        0   \n",
       "\n",
       "   blog_5M  blog_6M  knowledge_repo_1M  knowledge_repo_2M  knowledge_repo_3M  \\\n",
       "0        0        0                  0                  0                  0   \n",
       "\n",
       "   knowledge_repo_4M  knowledge_repo_5M  knowledge_repo_6M  news_media_1M  \\\n",
       "0                  0                  0                  0              0   \n",
       "\n",
       "   news_media_2M  news_media_3M  news_media_4M  news_media_5M  news_media_6M  \\\n",
       "0              0              0              0              0              0   \n",
       "\n",
       "   top_news_1M  top_news_2M  top_news_3M  top_news_4M  top_news_5M  \\\n",
       "0            0            0            0            0            0   \n",
       "\n",
       "   top_news_6M  pub_year  num_authors  status  \n",
       "0            0      2015           15       0  "
      ]
     },
     "execution_count": 255,
     "metadata": {},
     "output_type": "execute_result"
    }
   ],
   "source": [
    "ctrl_reg.head(1)"
   ]
  },
  {
   "cell_type": "code",
   "execution_count": 256,
   "metadata": {},
   "outputs": [],
   "source": [
    "good_mat_df = []\n",
    "\n",
    "# Use journal, aut info in Alt data for retracted papers.\n",
    "for doi in keys_2:\n",
    "    paper = doi_alt_data[doi]\n",
    "    # exclude non articles.\n",
    "    if paper['citation']['type'] == 'article':\n",
    "        pubdate, aut, watch_j = retract_df.loc[retract_df.OriginalPaperDOI == doi][['pub_date_corrected', 'Author', 'Journal']].values.flatten()\n",
    "        pub_year = int(str(pubdate)[:4])\n",
    "        num_authors = 0\n",
    "        if 'authors' in paper['citation']:\n",
    "            num_authors = len(paper['citation']['authors'])\n",
    "        if num_authors == 0 and type(aut) == str:\n",
    "            num_authors = len(aut.split(';'))\n",
    "        journal = ''\n",
    "        if 'journal' in paper['citation']:\n",
    "            journal = paper['citation']['journal']\n",
    "        # use info in Watch if missing in Alt.\n",
    "        if journal == '' and watch_j != '':\n",
    "            journal = watch_j\n",
    "        if journal != '' and num_authors > 0:\n",
    "            good_mat_df.append([pub_year, journal, num_authors])"
   ]
  },
  {
   "cell_type": "code",
   "execution_count": 257,
   "metadata": {},
   "outputs": [],
   "source": [
    "ret_reg[['pub_year', 'journal', 'num_authors']] = pd.DataFrame(good_mat_df)\n",
    "ret_reg['status'] = 1"
   ]
  },
  {
   "cell_type": "code",
   "execution_count": 258,
   "metadata": {},
   "outputs": [],
   "source": [
    "doi_top_author_cite_upon_pub = {}\n",
    "\n",
    "with open(data_root+'revision/doi_top_author_cite_upon_pub.json', 'r') as ifile:\n",
    "    for line in ifile:\n",
    "        line = json.loads(line)\n",
    "        doi, cite = line['doi'], line['top_author_cite']\n",
    "        doi_top_author_cite_upon_pub[doi] = cite"
   ]
  },
  {
   "cell_type": "code",
   "execution_count": 259,
   "metadata": {
    "scrolled": true
   },
   "outputs": [
    {
     "data": {
      "text/plain": [
       "23105"
      ]
     },
     "execution_count": 259,
     "metadata": {},
     "output_type": "execute_result"
    }
   ],
   "source": [
    "len(doi_top_author_cite_upon_pub)"
   ]
  },
  {
   "cell_type": "code",
   "execution_count": 260,
   "metadata": {},
   "outputs": [],
   "source": [
    "ret_reg['top_author_cite'] = ret_reg.OriginalPaperDOI.map(doi_top_author_cite_upon_pub)\n",
    "ctrl_reg['top_author_cite'] = ctrl_reg.doi.map(doi_top_author_cite_upon_pub)\n",
    "\n",
    "ret_reg['top_author_cite_log'] = np.log2(ret_reg['top_author_cite']+1)\n",
    "ctrl_reg['top_author_cite_log'] = np.log2(ctrl_reg['top_author_cite']+1)"
   ]
  },
  {
   "cell_type": "code",
   "execution_count": 262,
   "metadata": {},
   "outputs": [],
   "source": [
    "def coeff_star(coeff, pval):\n",
    "    if pval < 0.001:\n",
    "        star = '***'\n",
    "    elif pval < 0.01:\n",
    "        star = '**'\n",
    "    elif pval < 0.05:\n",
    "        star = '*'\n",
    "    else:\n",
    "        star = ''\n",
    "    return '%.3f%s'%(coeff, star)"
   ]
  },
  {
   "cell_type": "code",
   "execution_count": 263,
   "metadata": {
    "scrolled": false
   },
   "outputs": [
    {
     "name": "stdout",
     "output_type": "stream",
     "text": [
      "Social Media  &  1  &  0.583***  &  0.310***  &  0.039***  &  0.178***  \\\\ \\hline\n",
      "Social Media  &  2  &  0.607***  &  0.309***  &  0.036***  &  0.178***  \\\\ \\hline\n",
      "Social Media  &  3  &  0.583***  &  0.300***  &  0.032***  &  0.180***  \\\\ \\hline\n",
      "Social Media  &  4  &  0.581***  &  0.297***  &  0.031***  &  0.177***  \\\\ \\hline\n",
      "Social Media  &  5  &  0.572***  &  0.296***  &  0.032***  &  0.175***  \\\\ \\hline\n",
      "Social Media  &  6  &  0.568***  &  0.295***  &  0.032***  &  0.171***  \\\\ \\hline\n",
      "Blogs  &  1  &  0.735***  &  0.125***  &  0.050***  &  0.306***  \\\\ \\hline\n",
      "Blogs  &  2  &  0.776***  &  0.121***  &  0.054***  &  0.287***  \\\\ \\hline\n",
      "Blogs  &  3  &  0.803***  &  0.115***  &  0.052***  &  0.279***  \\\\ \\hline\n",
      "Blogs  &  4  &  0.835***  &  0.120***  &  0.051***  &  0.269***  \\\\ \\hline\n",
      "Blogs  &  5  &  0.840***  &  0.113***  &  0.051***  &  0.259***  \\\\ \\hline\n",
      "Blogs  &  6  &  0.856***  &  0.110***  &  0.051***  &  0.253***  \\\\ \\hline\n",
      "Knowledge Repositories  &  1  &  1.175***  &  -0.071  &  0.086***  &  0.215***  \\\\ \\hline\n",
      "Knowledge Repositories  &  2  &  1.079***  &  -0.105***  &  0.081***  &  0.189***  \\\\ \\hline\n",
      "Knowledge Repositories  &  3  &  1.066***  &  -0.118***  &  0.089***  &  0.169***  \\\\ \\hline\n",
      "Knowledge Repositories  &  4  &  1.092***  &  -0.113***  &  0.095***  &  0.161***  \\\\ \\hline\n",
      "Knowledge Repositories  &  5  &  1.127***  &  -0.117***  &  0.090***  &  0.159***  \\\\ \\hline\n",
      "Knowledge Repositories  &  6  &  1.166***  &  -0.099***  &  0.085***  &  0.161***  \\\\ \\hline\n",
      "News Media  &  1  &  1.002***  &  0.388***  &  0.050***  &  0.372***  \\\\ \\hline\n",
      "News Media  &  2  &  0.988***  &  0.387***  &  0.050***  &  0.354***  \\\\ \\hline\n",
      "News Media  &  3  &  0.930***  &  0.389***  &  0.048***  &  0.346***  \\\\ \\hline\n",
      "News Media  &  4  &  0.904***  &  0.389***  &  0.046***  &  0.348***  \\\\ \\hline\n",
      "News Media  &  5  &  0.896***  &  0.394***  &  0.045***  &  0.347***  \\\\ \\hline\n",
      "News Media  &  6  &  0.875***  &  0.395***  &  0.046***  &  0.339***  \\\\ \\hline\n",
      "Top News  &  1  &  1.469***  &  0.283***  &  0.027*  &  0.416***  \\\\ \\hline\n",
      "Top News  &  2  &  1.497***  &  0.292***  &  0.030*  &  0.397***  \\\\ \\hline\n",
      "Top News  &  3  &  1.458***  &  0.279***  &  0.029*  &  0.397***  \\\\ \\hline\n",
      "Top News  &  4  &  1.463***  &  0.283***  &  0.025*  &  0.399***  \\\\ \\hline\n",
      "Top News  &  5  &  1.452***  &  0.285***  &  0.022  &  0.400***  \\\\ \\hline\n",
      "Top News  &  6  &  1.464***  &  0.282***  &  0.024*  &  0.398***  \\\\ \\hline\n"
     ]
    }
   ],
   "source": [
    "for cate, cname in zip(cates, cates_names):\n",
    "    for ix in range(num_):\n",
    "        cate_feat = '%s_%dM'%(cate, ix+1)\n",
    "        reg_cols = [\"pub_year\", \"num_authors\", \"top_author_cite_log\", \"status\", cate_feat]\n",
    "        eq = \"%s ~ pub_year + num_authors + top_author_cite_log + status\"%cate_feat\n",
    "        reg_data = pd.concat([ret_reg[reg_cols], ctrl_reg[reg_cols]], ignore_index=True, sort=False)\n",
    "        reg_data = reg_data.sample(frac=1, random_state=10).reset_index(drop=True)\n",
    "        model = smf.glm(formula = eq, data=reg_data, family=sm.families.NegativeBinomial()).fit()\n",
    "        s1 = coeff_star(model.params['status'], model.pvalues['status'])\n",
    "        s2 = coeff_star(model.params['pub_year'], model.pvalues['pub_year'])\n",
    "        s3 = coeff_star(model.params['num_authors'], model.pvalues['num_authors'])\n",
    "        s4 = coeff_star(model.params['top_author_cite_log'], model.pvalues['top_author_cite_log'])\n",
    "        print(cname, ' & ', ix+1, ' & ', s1, ' & ', s2, ' & ', s3, ' & ', s4, ' \\\\\\\\ \\hline')"
   ]
  },
  {
   "cell_type": "markdown",
   "metadata": {},
   "source": [
    "### After publication - critical tweets"
   ]
  },
  {
   "cell_type": "code",
   "execution_count": 264,
   "metadata": {},
   "outputs": [],
   "source": [
    "cates = ['uncertainty', 'tw_date_sort']"
   ]
  },
  {
   "cell_type": "code",
   "execution_count": 265,
   "metadata": {},
   "outputs": [],
   "source": [
    "slide = 30 # 7 \n",
    "length = 180\n",
    "num_ = length//slide"
   ]
  },
  {
   "cell_type": "code",
   "execution_count": 266,
   "metadata": {},
   "outputs": [],
   "source": [
    "keys_2, series_retract_early = process_df(retract_df, key_col='doi', sliding=slide, length=length)\n",
    "# exclude control papers for excluded retracted ones.\n",
    "control_tem = control_df.loc[control_df['matched_retract_doi'].isin(keys_2)]\n",
    "control_tem.index = range(len(control_tem))\n",
    "keys_1, series_control_early = process_df(control_tem, key_col='altid', sliding=slide, length=length)\n",
    "\n",
    "ixx = []\n",
    "for i, doi in enumerate(keys_2):\n",
    "    keep = False\n",
    "    for altid in doi_control_aids[doi]:\n",
    "        if altid in keys_1:\n",
    "            keep = True\n",
    "            break\n",
    "    if keep:\n",
    "        ixx.append(i)\n",
    "        \n",
    "keys_2 = [keys_2[i] for i in ixx]\n",
    "series_retract_early = series_retract_early[ixx]"
   ]
  },
  {
   "cell_type": "code",
   "execution_count": 267,
   "metadata": {},
   "outputs": [],
   "source": [
    "ret_reg = retract_df.loc[retract_df.OriginalPaperDOI.isin(keys_2)]\n",
    "ret_reg.index = range(len(ret_reg))\n",
    "ctrl_reg = control_df.loc[control_df.altmetric_id.isin(keys_1)]\n",
    "ctrl_reg.index = range(len(ctrl_reg))"
   ]
  },
  {
   "cell_type": "code",
   "execution_count": 268,
   "metadata": {
    "scrolled": true
   },
   "outputs": [
    {
     "data": {
      "text/plain": [
       "2830"
      ]
     },
     "execution_count": 268,
     "metadata": {},
     "output_type": "execute_result"
    }
   ],
   "source": [
    "len(ret_reg)"
   ]
  },
  {
   "cell_type": "code",
   "execution_count": 269,
   "metadata": {
    "scrolled": true
   },
   "outputs": [
    {
     "data": {
      "text/plain": [
       "13599"
      ]
     },
     "execution_count": 269,
     "metadata": {},
     "output_type": "execute_result"
    }
   ],
   "source": [
    "len(ctrl_reg)"
   ]
  },
  {
   "cell_type": "code",
   "execution_count": 270,
   "metadata": {},
   "outputs": [],
   "source": [
    "ctrl_reg['pub_year'] = ctrl_reg['altmetric_pub_date'].apply(lambda x: x.year)\n",
    "ctrl_reg['num_authors'] = ctrl_reg['authors'].apply(lambda x: len(x.split(\";\")))\n",
    "ctrl_reg['status'] = 0"
   ]
  },
  {
   "cell_type": "code",
   "execution_count": 271,
   "metadata": {},
   "outputs": [],
   "source": [
    "good_mat_df = []\n",
    "\n",
    "# Use journal, aut info in Alt data for retracted papers.\n",
    "for doi in keys_2:\n",
    "    paper = doi_alt_data[doi]\n",
    "    # exclude non articles.\n",
    "    if paper['citation']['type'] == 'article':\n",
    "        pubdate, aut, watch_j = retract_df.loc[retract_df.OriginalPaperDOI == doi][['pub_date_corrected', 'Author', 'Journal']].values.flatten()\n",
    "        pub_year = int(str(pubdate)[:4])\n",
    "        num_authors = 0\n",
    "        if 'authors' in paper['citation']:\n",
    "            num_authors = len(paper['citation']['authors'])\n",
    "        if num_authors == 0 and type(aut) == str:\n",
    "            num_authors = len(aut.split(';'))\n",
    "        journal = ''\n",
    "        if 'journal' in paper['citation']:\n",
    "            journal = paper['citation']['journal']\n",
    "        # use info in Watch if missing in Alt.\n",
    "        if journal == '' and watch_j != '':\n",
    "            journal = watch_j\n",
    "        if journal != '' and num_authors > 0:\n",
    "            good_mat_df.append([pub_year, journal, num_authors])"
   ]
  },
  {
   "cell_type": "code",
   "execution_count": 272,
   "metadata": {},
   "outputs": [],
   "source": [
    "ret_reg[['pub_year', 'journal', 'num_authors']] = pd.DataFrame(good_mat_df)\n",
    "ret_reg['status'] = 1"
   ]
  },
  {
   "cell_type": "code",
   "execution_count": 273,
   "metadata": {},
   "outputs": [],
   "source": [
    "ret_reg['top_author_cite'] = ret_reg.OriginalPaperDOI.map(doi_top_author_cite_upon_pub)\n",
    "ctrl_reg['top_author_cite'] = ctrl_reg.doi.map(doi_top_author_cite_upon_pub)\n",
    "\n",
    "ret_reg['top_author_cite_log'] = np.log2(ret_reg['top_author_cite']+1)\n",
    "ctrl_reg['top_author_cite_log'] = np.log2(ctrl_reg['top_author_cite']+1)"
   ]
  },
  {
   "cell_type": "markdown",
   "metadata": {},
   "source": [
    "Start"
   ]
  },
  {
   "cell_type": "markdown",
   "metadata": {},
   "source": [
    "(Block 1) Exclude critical tweets"
   ]
  },
  {
   "cell_type": "code",
   "execution_count": 274,
   "metadata": {
    "scrolled": false
   },
   "outputs": [],
   "source": [
    "series_data_control = cal_exc_uncertain(series_control_early)\n",
    "series_data_retract = cal_exc_uncertain(series_retract_early)"
   ]
  },
  {
   "cell_type": "code",
   "execution_count": 275,
   "metadata": {
    "scrolled": true
   },
   "outputs": [
    {
     "data": {
      "text/plain": [
       "13599"
      ]
     },
     "execution_count": 275,
     "metadata": {},
     "output_type": "execute_result"
    }
   ],
   "source": [
    "len(series_data_control)"
   ]
  },
  {
   "cell_type": "code",
   "execution_count": 276,
   "metadata": {},
   "outputs": [
    {
     "data": {
      "text/plain": [
       "2830"
      ]
     },
     "execution_count": 276,
     "metadata": {},
     "output_type": "execute_result"
    }
   ],
   "source": [
    "len(series_data_retract)"
   ]
  },
  {
   "cell_type": "markdown",
   "metadata": {},
   "source": [
    "(Block 2) Fraction of critical tweets"
   ]
  },
  {
   "cell_type": "code",
   "execution_count": 280,
   "metadata": {},
   "outputs": [],
   "source": [
    "def cal_frac_bar(series_control_early, how = 'cumulative'):\n",
    "    nume = np.array([ts[0] for ts in series_control_early])\n",
    "    deno = np.array([ts[1] for ts in series_control_early])\n",
    "    if how == 'cumulative':\n",
    "        nume = np.cumsum(nume, axis = 1)\n",
    "        deno = np.cumsum(deno, axis = 1)\n",
    "    fracs = nume/deno\n",
    "    fracs[np.isnan(fracs)] = 0\n",
    "    return fracs"
   ]
  },
  {
   "cell_type": "code",
   "execution_count": 289,
   "metadata": {
    "scrolled": false
   },
   "outputs": [],
   "source": [
    "series_data_control = cal_frac_bar(series_control_early)\n",
    "series_data_retract = cal_frac_bar(series_retract_early)"
   ]
  },
  {
   "cell_type": "code",
   "execution_count": 282,
   "metadata": {
    "scrolled": false
   },
   "outputs": [
    {
     "data": {
      "text/plain": [
       "13599"
      ]
     },
     "execution_count": 282,
     "metadata": {},
     "output_type": "execute_result"
    }
   ],
   "source": [
    "len(series_data_control)"
   ]
  },
  {
   "cell_type": "code",
   "execution_count": 283,
   "metadata": {
    "scrolled": true
   },
   "outputs": [
    {
     "data": {
      "text/plain": [
       "2830"
      ]
     },
     "execution_count": 283,
     "metadata": {},
     "output_type": "execute_result"
    }
   ],
   "source": [
    "len(series_data_retract)"
   ]
  },
  {
   "cell_type": "markdown",
   "metadata": {},
   "source": [
    "End"
   ]
  },
  {
   "cell_type": "code",
   "execution_count": 285,
   "metadata": {},
   "outputs": [],
   "source": [
    "cate_feats = ['uncrtn_%dM'%(ix+1) for ix in range(num_)]"
   ]
  },
  {
   "cell_type": "code",
   "execution_count": 286,
   "metadata": {},
   "outputs": [],
   "source": [
    "ctrl_reg[cate_feats] = pd.DataFrame(series_data_control)\n",
    "ret_reg[cate_feats] = pd.DataFrame(series_data_retract)"
   ]
  },
  {
   "cell_type": "markdown",
   "metadata": {},
   "source": [
    "(Block 1) Exclude critical tweets"
   ]
  },
  {
   "cell_type": "code",
   "execution_count": 279,
   "metadata": {},
   "outputs": [
    {
     "name": "stdout",
     "output_type": "stream",
     "text": [
      "Twitter  &  1  &  0.546***  &  0.333***  &  0.038***  &  0.185***  \\\\ \\hline\n",
      "Twitter  &  2  &  0.560***  &  0.333***  &  0.034***  &  0.185***  \\\\ \\hline\n",
      "Twitter  &  3  &  0.542***  &  0.328***  &  0.032***  &  0.185***  \\\\ \\hline\n",
      "Twitter  &  4  &  0.543***  &  0.324***  &  0.032***  &  0.181***  \\\\ \\hline\n",
      "Twitter  &  5  &  0.536***  &  0.324***  &  0.032***  &  0.178***  \\\\ \\hline\n",
      "Twitter  &  6  &  0.536***  &  0.322***  &  0.032***  &  0.176***  \\\\ \\hline\n"
     ]
    }
   ],
   "source": [
    "for ix in range(num_):\n",
    "    cate_feat = 'uncrtn_%dM'%(ix+1)\n",
    "    reg_cols = [\"pub_year\", \"num_authors\", \"top_author_cite_log\", \"status\", cate_feat]\n",
    "    eq = \"%s ~ pub_year + num_authors + top_author_cite_log + status\"%cate_feat\n",
    "    reg_data = pd.concat([ret_reg[reg_cols], ctrl_reg[reg_cols]], ignore_index=True, sort=False)\n",
    "    reg_data = reg_data.sample(frac=1, random_state=10).reset_index(drop=True)\n",
    "    model = smf.glm(formula = eq, data=reg_data, family=sm.families.NegativeBinomial()).fit()\n",
    "    s1 = coeff_star(model.params['status'], model.pvalues['status'])\n",
    "    s2 = coeff_star(model.params['pub_year'], model.pvalues['pub_year'])\n",
    "    s3 = coeff_star(model.params['num_authors'], model.pvalues['num_authors'])\n",
    "    s4 = coeff_star(model.params['top_author_cite_log'], model.pvalues['top_author_cite_log'])\n",
    "    print('Twitter', ' & ', ix+1, ' & ', s1, ' & ', s2, ' & ', s3, ' & ', s4, ' \\\\\\\\ \\hline')"
   ]
  },
  {
   "cell_type": "markdown",
   "metadata": {},
   "source": [
    "(Block 2) Fraction of critical tweets"
   ]
  },
  {
   "cell_type": "code",
   "execution_count": 287,
   "metadata": {},
   "outputs": [
    {
     "name": "stdout",
     "output_type": "stream",
     "text": [
      "Twitter  &  1  &  0.002**  &  0.000  &  0.000  &  0.000  \\\\ \\hline\n",
      "Twitter  &  2  &  0.002**  &  0.000*  &  0.000  &  -0.000  \\\\ \\hline\n",
      "Twitter  &  3  &  0.002**  &  0.000  &  0.000  &  -0.000  \\\\ \\hline\n",
      "Twitter  &  4  &  0.002**  &  0.000  &  0.000  &  -0.000  \\\\ \\hline\n",
      "Twitter  &  5  &  0.003***  &  0.000*  &  0.000  &  0.000  \\\\ \\hline\n",
      "Twitter  &  6  &  0.004***  &  0.000**  &  0.000  &  -0.000  \\\\ \\hline\n"
     ]
    }
   ],
   "source": [
    "for ix in range(num_):\n",
    "    cate_feat = 'uncrtn_%dM'%(ix+1)\n",
    "    reg_cols = [\"pub_year\", \"num_authors\", \"top_author_cite_log\", \"status\", cate_feat]\n",
    "    eq = \"%s ~ pub_year + num_authors + top_author_cite_log + status\"%cate_feat\n",
    "    reg_data = pd.concat([ret_reg[reg_cols], ctrl_reg[reg_cols]], ignore_index=True, sort=False)\n",
    "    reg_data = reg_data.sample(frac=1, random_state=10).reset_index(drop=True)\n",
    "    # model = smf.glm(formula = eq, data=reg_data, family=sm.families.NegativeBinomial()).fit()\n",
    "    model = smf.ols(formula = eq, data=reg_data).fit()\n",
    "    s1 = coeff_star(model.params['status'], model.pvalues['status'])\n",
    "    s2 = coeff_star(model.params['pub_year'], model.pvalues['pub_year'])\n",
    "    s3 = coeff_star(model.params['num_authors'], model.pvalues['num_authors'])\n",
    "    s4 = coeff_star(model.params['top_author_cite_log'], model.pvalues['top_author_cite_log'])\n",
    "    print('Twitter', ' & ', ix+1, ' & ', s1, ' & ', s2, ' & ', s3, ' & ', s4, ' \\\\\\\\ \\hline')"
   ]
  },
  {
   "cell_type": "markdown",
   "metadata": {},
   "source": [
    "### Figure 1"
   ]
  },
  {
   "cell_type": "code",
   "execution_count": 291,
   "metadata": {},
   "outputs": [],
   "source": [
    "def process_df_fig1(df, key_col, key, sliding, length, fname, legend):\n",
    "    if key_col == 'retract':\n",
    "        doi = key\n",
    "        row = df.loc[df.OriginalPaperDOI == key]\n",
    "        pub_date, retract_date = row[['pub_date_corrected', 'RetractionDate']].values.flatten()\n",
    "    if key_col == 'control':\n",
    "        row = df.loc[df.altmetric_id == key]\n",
    "        pub_date, doi, ret_doi = row[['altmetric_pub_date', 'doi', 'matched_retract_doi']].values.flatten()\n",
    "        retract_date = doi_ret_date[ret_doi]\n",
    "    time_segments = get_time_seg(pub_date, pub_date + dt.timedelta(days = length), sliding)\n",
    "    matrix = []\n",
    "    for date_li in row[cates].values.flatten():\n",
    "        date_li = [datetime.strptime(dtt, '%Y-%m-%dT%H:%M:%S') for dtt in date_li]\n",
    "        freqs = time_freq_helper(date_li, pub_date, sliding, length, time_type='early')\n",
    "        matrix.append(freqs)\n",
    "        \n",
    "    fig, ax = plt.subplots(figsize = (3, 2.25))\n",
    "    # cols = ['r', 'b', 'g', 'k', 'm']\n",
    "    cols = ['#e41a1c', '#377eb8', '#4daf4a', '#984ea3', '#ff7f00']\n",
    "    # ax.axvline(pub_date, color='g', linestyle='--', linewidth = 1)\n",
    "    ax.axvline(retract_date, color='k', linestyle='--', linewidth = 1)\n",
    "    date_x = [seg[0] for seg in time_segments]\n",
    "    for i, cname in enumerate(cates_names):\n",
    "        if cname == 'Knowledge Repositories':\n",
    "            cname = 'Knowledge Repo.'\n",
    "        ax.plot(date_x, matrix[i], color=cols[i], alpha=1, linestyle='-', marker='o', markersize=3, linewidth=1.5, label=cname)\n",
    "    ax.set_ylabel('Number of mentions')\n",
    "    # ax.set_title(doi)\n",
    "    # ax.set_yscale('log')\n",
    "    if legend:\n",
    "        legend = ax.legend(loc=[0.1, 0.45], numpoints=2, labelspacing = 0.1, shadow=False, frameon = False)\n",
    "    ax.xaxis.set_major_formatter(DateFormatter('%Y-%m'))\n",
    "    for tick in ax.get_xticklabels():\n",
    "        tick.set_ha('right')\n",
    "        tick.set_fontsize(8)\n",
    "        tick.set_rotation(30)\n",
    "    plt.show()\n",
    "    fig.savefig(fname, bbox_inches='tight', pad_inches=0.01)"
   ]
  },
  {
   "cell_type": "code",
   "execution_count": 292,
   "metadata": {},
   "outputs": [],
   "source": [
    "cates = ['social_media', 'blog', 'knowledge_repo', 'news_media', 'top_news']\n",
    "cates_names = ['Social Media', 'Blogs', 'Knowledge Repositories', 'News Media', 'Top News']"
   ]
  },
  {
   "cell_type": "code",
   "execution_count": 293,
   "metadata": {},
   "outputs": [],
   "source": [
    "slide = 30\n",
    "length = 400"
   ]
  },
  {
   "cell_type": "code",
   "execution_count": 294,
   "metadata": {
    "scrolled": true
   },
   "outputs": [
    {
     "data": {
      "text/plain": [
       "['10.1001/jamainternmed.2018.3713',\n",
       " '10.1371/journal.pbio.1002593',\n",
       " '10.1080/15287394.2018.1477640',\n",
       " '10.1038/s41591-019-0459-6',\n",
       " '10.1038/s41586-018-0651-8',\n",
       " '10.1016/j.cub.2015.09.056',\n",
       " '10.1016/s2213-8587(16)30085-7',\n",
       " '10.1177/2047487317723212',\n",
       " '10.1001/jama.2018.12615',\n",
       " '10.1158/1055-9965.epi-17-0221',\n",
       " '10.1001/jama.2016.20036',\n",
       " '10.1056/nejmoa1200303',\n",
       " '10.1038/nmeth.4293',\n",
       " '10.1093/biosci/bix133',\n",
       " '10.1126/science.aad8828',\n",
       " '10.1016/s0140-6736(16)30002-2',\n",
       " '10.1371/journal.pone.0146193',\n",
       " '10.1126/science.1256151',\n",
       " '10.1186/2047-9158-3-16',\n",
       " '10.1038/nature12969',\n",
       " '10.1038/nature12968',\n",
       " '10.1016/j.fct.2012.08.005']"
      ]
     },
     "execution_count": 294,
     "metadata": {},
     "output_type": "execute_result"
    }
   ],
   "source": [
    "retract_df.loc[retract_df.altmetric_score > 1000]['OriginalPaperDOI'].tolist()"
   ]
  },
  {
   "cell_type": "code",
   "execution_count": 295,
   "metadata": {},
   "outputs": [
    {
     "data": {
      "image/png": "[encoded data removed]",
      "text/plain": [
       "<Figure size 216x162 with 1 Axes>"
      ]
     },
     "metadata": {
      "needs_background": "light"
     },
     "output_type": "display_data"
    }
   ],
   "source": [
    "doi = \"10.1001/jama.2018.17933\"\n",
    "process_df_fig1(retract_df, 'retract', doi, slide, length, 'fig_1_ret.pdf', legend = False)"
   ]
  },
  {
   "cell_type": "code",
   "execution_count": 296,
   "metadata": {},
   "outputs": [
    {
     "data": {
      "text/plain": [
       "['46217397', '16404672', '15547291', '37856120', '15761320']"
      ]
     },
     "execution_count": 296,
     "metadata": {},
     "output_type": "execute_result"
    }
   ],
   "source": [
    "doi_control_aids[doi]"
   ]
  },
  {
   "cell_type": "code",
   "execution_count": 297,
   "metadata": {},
   "outputs": [
    {
     "data": {
      "image/png": "[encoded data removed]",
      "text/plain": [
       "<Figure size 216x162 with 1 Axes>"
      ]
     },
     "metadata": {
      "needs_background": "light"
     },
     "output_type": "display_data"
    }
   ],
   "source": [
    "process_df_fig1(control_df, 'control', \"37856120\", sliding = 30, length = 600, fname = 'fig_1_control.pdf', legend=True)\n"
   ]
  },
  {
   "cell_type": "code",
   "execution_count": 535,
   "metadata": {},
   "outputs": [
    {
     "data": {
      "text/html": [
       "<div>\n",
       "<style scoped>\n",
       "    .dataframe tbody tr th:only-of-type {\n",
       "        vertical-align: middle;\n",
       "    }\n",
       "\n",
       "    .dataframe tbody tr th {\n",
       "        vertical-align: top;\n",
       "    }\n",
       "\n",
       "    .dataframe thead th {\n",
       "        text-align: right;\n",
       "    }\n",
       "</style>\n",
       "<table border=\"1\" class=\"dataframe\">\n",
       "  <thead>\n",
       "    <tr style=\"text-align: right;\">\n",
       "      <th></th>\n",
       "      <th>altmetric_id</th>\n",
       "      <th>matched_retract_doi</th>\n",
       "      <th>doi</th>\n",
       "      <th>title</th>\n",
       "      <th>abstract</th>\n",
       "      <th>altmetric_pub_date</th>\n",
       "      <th>journal</th>\n",
       "      <th>authors</th>\n",
       "      <th>scopus_subjects</th>\n",
       "      <th>altmetric_score</th>\n",
       "      <th>usable_days</th>\n",
       "      <th>news_media</th>\n",
       "      <th>social_media</th>\n",
       "      <th>blog</th>\n",
       "      <th>knowledge_repo</th>\n",
       "      <th>top_news</th>\n",
       "      <th>tweet_ids</th>\n",
       "      <th>tw_date_sort</th>\n",
       "      <th>fcn_date_sort</th>\n",
       "      <th>uncertainty</th>\n",
       "    </tr>\n",
       "  </thead>\n",
       "  <tbody>\n",
       "    <tr>\n",
       "      <th>15094</th>\n",
       "      <td>37856120</td>\n",
       "      <td>10.1001/jama.2018.17933</td>\n",
       "      <td>10.1001/jama.2018.3185</td>\n",
       "      <td>Vitamin D, Calcium, or Combined Supplementatio...</td>\n",
       "      <td>Because of the aging population, osteoporotic ...</td>\n",
       "      <td>2018-04-17</td>\n",
       "      <td>JAMA: Journal of the American Medical Association</td>\n",
       "      <td>David C. Grossman;Susan J. Curry;Douglas K. Ow...</td>\n",
       "      <td>Medicine;Health Sciences</td>\n",
       "      <td>688.536</td>\n",
       "      <td>539</td>\n",
       "      <td>[2018-04-17T04:00:00, 2018-04-17T15:02:00, 201...</td>\n",
       "      <td>[2018-04-17T15:21:21, 2018-04-17T19:35:03, 201...</td>\n",
       "      <td>[2018-04-17T15:00:00]</td>\n",
       "      <td>[]</td>\n",
       "      <td>[2018-04-17T15:51:41, 2018-05-08T15:01:08, 201...</td>\n",
       "      <td>[987815594279030784, 988370194132361216, 98848...</td>\n",
       "      <td>[2018-04-17T19:35:03, 2018-04-17T23:58:42, 201...</td>\n",
       "      <td>[3311, 78, 326, 108, 3281, 9590, 4330, 409, 66...</td>\n",
       "      <td>[]</td>\n",
       "    </tr>\n",
       "  </tbody>\n",
       "</table>\n",
       "</div>"
      ],
      "text/plain": [
       "      altmetric_id      matched_retract_doi                     doi  \\\n",
       "15094     37856120  10.1001/jama.2018.17933  10.1001/jama.2018.3185   \n",
       "\n",
       "                                                   title  \\\n",
       "15094  Vitamin D, Calcium, or Combined Supplementatio...   \n",
       "\n",
       "                                                abstract altmetric_pub_date  \\\n",
       "15094  Because of the aging population, osteoporotic ...         2018-04-17   \n",
       "\n",
       "                                                 journal  \\\n",
       "15094  JAMA: Journal of the American Medical Association   \n",
       "\n",
       "                                                 authors  \\\n",
       "15094  David C. Grossman;Susan J. Curry;Douglas K. Ow...   \n",
       "\n",
       "                scopus_subjects  altmetric_score  usable_days  \\\n",
       "15094  Medicine;Health Sciences          688.536          539   \n",
       "\n",
       "                                              news_media  \\\n",
       "15094  [2018-04-17T04:00:00, 2018-04-17T15:02:00, 201...   \n",
       "\n",
       "                                            social_media  \\\n",
       "15094  [2018-04-17T15:21:21, 2018-04-17T19:35:03, 201...   \n",
       "\n",
       "                        blog knowledge_repo  \\\n",
       "15094  [2018-04-17T15:00:00]             []   \n",
       "\n",
       "                                                top_news  \\\n",
       "15094  [2018-04-17T15:51:41, 2018-05-08T15:01:08, 201...   \n",
       "\n",
       "                                               tweet_ids  \\\n",
       "15094  [987815594279030784, 988370194132361216, 98848...   \n",
       "\n",
       "                                            tw_date_sort  \\\n",
       "15094  [2018-04-17T19:35:03, 2018-04-17T23:58:42, 201...   \n",
       "\n",
       "                                           fcn_date_sort uncertainty  \n",
       "15094  [3311, 78, 326, 108, 3281, 9590, 4330, 409, 66...          []  "
      ]
     },
     "execution_count": 535,
     "metadata": {},
     "output_type": "execute_result"
    }
   ],
   "source": [
    "control_df.loc[control_df.altmetric_id=='37856120']"
   ]
  },
  {
   "cell_type": "markdown",
   "metadata": {},
   "source": [
    "Right - after publication"
   ]
  },
  {
   "cell_type": "code",
   "execution_count": 298,
   "metadata": {},
   "outputs": [],
   "source": [
    "slide = 30\n",
    "length = 180"
   ]
  },
  {
   "cell_type": "code",
   "execution_count": 299,
   "metadata": {},
   "outputs": [],
   "source": [
    "keys_2, series_retract_early = process_df(retract_df, key_col='doi', sliding=slide, length=length)\n",
    "# exclude control papers for excluded retracted ones.\n",
    "control_tem = control_df.loc[control_df['matched_retract_doi'].isin(keys_2)]\n",
    "control_tem.index = range(len(control_tem))\n",
    "keys_1, series_control_early = process_df(control_tem, key_col='altid', sliding=slide, length=length)\n",
    "\n",
    "ixx = []\n",
    "for i, doi in enumerate(keys_2):\n",
    "    keep = False\n",
    "    for altid in doi_control_aids[doi]:\n",
    "        if altid in keys_1:\n",
    "            keep = True\n",
    "            break\n",
    "    if keep:\n",
    "        ixx.append(i)\n",
    "        \n",
    "keys_2 = [keys_2[i] for i in ixx]\n",
    "series_retract_early = series_retract_early[ixx]"
   ]
  },
  {
   "cell_type": "code",
   "execution_count": 306,
   "metadata": {
    "scrolled": true
   },
   "outputs": [
    {
     "data": {
      "image/png": "[encoded data removed]",
      "text/plain": [
       "<Figure size 216x180 with 1 Axes>"
      ]
     },
     "metadata": {
      "needs_background": "light"
     },
     "output_type": "display_data"
    }
   ],
   "source": [
    "fig, ax = plt.subplots(figsize = (3, 2.5), nrows=1, ncols=1)\n",
    "\n",
    "# exclude top news counts.\n",
    "series_data_control = np.array([np.sum(ts[:4, :], axis = 0) for ts in series_control_early])\n",
    "series_data_control = np.cumsum(series_data_control, axis = 1)\n",
    "series_data_retract = np.array([np.sum(ts[:4, :], axis = 0) for ts in series_retract_early])\n",
    "series_data_retract = np.cumsum(series_data_retract, axis = 1)\n",
    "\n",
    "col1 = 'k'\n",
    "col2 = '#ffa500'\n",
    "ys_1 = np.mean(series_data_control, axis=0)\n",
    "std_1 = np.std(series_data_control, axis=0)\n",
    "xs = np.arange(len(ys_1)) + 1\n",
    "ax.errorbar(xs, ys_1, yerr=CIs['95']*(std_1/np.sqrt(len(series_data_control))), color=col1, fmt='-o', markersize=4, capsize=3, label='control')\n",
    "ys_2 = np.mean(series_data_retract, axis=0)\n",
    "std_2 = np.std(series_data_retract, axis=0)\n",
    "ax.errorbar(xs, ys_2, yerr=CIs['95']*(std_2/np.sqrt(len(series_data_retract))), color=col2, fmt='-o', markersize=4, capsize=3, label='retracted')\n",
    "\n",
    "# ax.plot(xs, series_data_control, color=col1, linestyle='-', marker='o', markersize=3, linewidth=1.5, label='control')\n",
    "# ax.plot(xs, series_data_retract, color=col2, linestyle='-', marker='o', markersize=3, linewidth=1.5, label='retracted')\n",
    "\n",
    "ax.set_xlabel('Months after publication')\n",
    "ax.set_ylabel('Avg. cum. num. mentions')\n",
    "ax.set_xticks([1, 2, 3, 4, 5, 6])\n",
    "ax.set_ylim([0, 16])\n",
    "legend = ax.legend(loc=[0.1, 0.72], numpoints=2, labelspacing = 0.2, shadow=False, frameon = True)\n",
    "plt.show()\n",
    "fig.savefig('fig_1_after_pub.pdf', bbox_inches='tight', pad_inches=0.01)"
   ]
  },
  {
   "cell_type": "markdown",
   "metadata": {},
   "source": [
    "Right - after retraction"
   ]
  },
  {
   "cell_type": "code",
   "execution_count": 301,
   "metadata": {},
   "outputs": [],
   "source": [
    "keys_2_, series_retract_after = process_df(retract_df, key_col='doi', sliding=slide, length=length, time_type='after_retract')\n",
    "control_tem = control_df.loc[control_df['matched_retract_doi'].isin(keys_2_)]\n",
    "control_tem.index = range(len(control_tem))\n",
    "keys_1_, series_control_after = process_df(control_tem, key_col='altid', sliding=slide, length=length, time_type='after_retract')\n",
    "\n",
    "ixx = []\n",
    "for i, doi in enumerate(keys_2_):\n",
    "    keep = False\n",
    "    for altid in doi_control_aids[doi]:\n",
    "        if altid in keys_1_:\n",
    "            keep = True\n",
    "            break\n",
    "    if keep:\n",
    "        ixx.append(i)\n",
    "        \n",
    "keys_2_ = [keys_2_[i] for i in ixx]\n",
    "series_retract_after = series_retract_after[ixx]"
   ]
  },
  {
   "cell_type": "code",
   "execution_count": 302,
   "metadata": {
    "scrolled": true
   },
   "outputs": [
    {
     "data": {
      "image/png": "[encoded data removed]",
      "text/plain": [
       "<Figure size 216x180 with 1 Axes>"
      ]
     },
     "metadata": {
      "needs_background": "light"
     },
     "output_type": "display_data"
    }
   ],
   "source": [
    "fig, ax = plt.subplots(figsize = (3, 2.5), nrows=1, ncols=1)\n",
    "\n",
    "# series_data_control = np.cumsum(np.sum(series_control_after[0], axis=0))\n",
    "# series_data_retract = np.cumsum(np.sum(series_retract_after[0], axis=0))\n",
    "# xs = np.arange(len(series_data_control)) + 1\n",
    "\n",
    "col1 = 'k'\n",
    "col2 = '#ffa500'\n",
    "series_data_control = np.array([np.sum(ts[:4, :], axis = 0) for ts in series_control_after])\n",
    "series_data_control = np.cumsum(series_data_control, axis = 1)\n",
    "series_data_retract = np.array([np.sum(ts[:4, :], axis = 0) for ts in series_retract_after])\n",
    "series_data_retract = np.cumsum(series_data_retract, axis = 1)\n",
    "\n",
    "# ax.plot(xs, series_data_control, color=col1, linestyle='-', marker='o', markersize=3, linewidth=1.5, label='control')\n",
    "# ax.plot(xs, series_data_retract, color=col2, linestyle='-', marker='o', markersize=3, linewidth=1.5, label='retracted')\n",
    "\n",
    "ys_1 = np.mean(series_data_control, axis=0)\n",
    "std_1 = np.std(series_data_control, axis=0)\n",
    "xs = np.arange(len(ys_1)) + 1\n",
    "ax.errorbar(xs, ys_1, yerr=CIs['95']*(std_1/np.sqrt(len(series_data_control))), color=col1, fmt='-o', markersize=4, capsize=3, label='control')\n",
    "ys_2 = np.mean(series_data_retract, axis=0)\n",
    "std_2 = np.std(series_data_retract, axis=0)\n",
    "ax.errorbar(xs, ys_2, yerr=CIs['95']*(std_2/np.sqrt(len(series_data_retract))), color=col2, fmt='-o', markersize=4, capsize=3, label='retracted')\n",
    "\n",
    "ax.set_xlabel('Months after retraction')\n",
    "ax.set_ylabel('Avg. cum. num. mentions')\n",
    "ax.set_xticks([1, 2, 3, 4, 5, 6])\n",
    "# ax.set_ylim([-50, 400])\n",
    "# legend = ax.legend(loc=[0.15, 0.7], numpoints=2, labelspacing = 0.2, shadow=False, frameon = True)\n",
    "plt.show()\n",
    "fig.savefig('fig_1_after_ret.pdf', bbox_inches='tight', pad_inches=0.01)"
   ]
  },
  {
   "cell_type": "code",
   "execution_count": null,
   "metadata": {},
   "outputs": [],
   "source": []
  }
 ],
 "metadata": {
  "kernelspec": {
   "display_name": "Python 3 (ipykernel)",
   "language": "python",
   "name": "python3"
  },
  "language_info": {
   "codemirror_mode": {
    "name": "ipython",
    "version": 3
   },
   "file_extension": ".py",
   "mimetype": "text/x-python",
   "name": "python",
   "nbconvert_exporter": "python",
   "pygments_lexer": "ipython3",
   "version": "3.7.10"
  }
 },
 "nbformat": 4,
 "nbformat_minor": 2
}
