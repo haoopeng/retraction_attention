{
 "cells": [
  {
   "cell_type": "code",
   "execution_count": 1,
   "metadata": {},
   "outputs": [],
   "source": [
    "import re\n",
    "import math\n",
    "import time\n",
    "import json\n",
    "import csv\n",
    "import pickle\n",
    "# import tweepy\n",
    "import requests\n",
    "import pprint\n",
    "import numpy as np\n",
    "import pandas as pd\n",
    "from langdetect import detect\n",
    "import matplotlib.pyplot as plt\n",
    "import datetime as dt\n",
    "from datetime import datetime\n",
    "import matplotlib.ticker as mtick\n",
    "import matplotlib.dates as mdates\n",
    "from matplotlib.dates import DateFormatter\n",
    "from scipy.stats import chisquare\n",
    "from collections import defaultdict, Counter"
   ]
  },
  {
   "cell_type": "code",
   "execution_count": 2,
   "metadata": {},
   "outputs": [],
   "source": [
    "pd.set_option('mode.chained_assignment', None)\n",
    "pd.set_option('display.max_columns', 50)\n",
    "pd.set_option('display.max_rows', 1000)"
   ]
  },
  {
   "cell_type": "code",
   "execution_count": 3,
   "metadata": {},
   "outputs": [],
   "source": [
    "# data_root = '/shared/0/datasets/mag/Cell/Retraction/'\n",
    "data_root = '/home/haopeng/Data/Retraction/'\n",
    "altmetric_start_date = datetime.strptime('2011-06-10', '%Y-%m-%d')\n",
    "altmetric_end_date = datetime.strptime('2019-10-08', '%Y-%m-%d')\n",
    "day = 24*3600"
   ]
  },
  {
   "cell_type": "code",
   "execution_count": 4,
   "metadata": {},
   "outputs": [],
   "source": [
    "# this correction is done manually\n",
    "\n",
    "blog_df = pd.read_csv(data_root + 'blog_mentions_correction.csv', header = 0)\n",
    "blog_set = set(blog_df.loc[~blog_df.maybe_news.isnull(), 'blog_name'])\n",
    "\n",
    "def correct_blogs(data, error_blogs):\n",
    "    for xid, paper in data.items():\n",
    "        if 'blogs' in paper['posts']:\n",
    "            blogs_li = paper['posts']['blogs']\n",
    "            news_li = []\n",
    "            if 'news' in paper['posts']:\n",
    "                news_li = paper['posts']['news']\n",
    "            blogs_li_new = []\n",
    "            for item in blogs_li:\n",
    "                try:\n",
    "                    if item['author']['name'] in error_blogs:\n",
    "                        news_li.append(item)\n",
    "                    else:\n",
    "                        blogs_li_new.append(item)\n",
    "                except:\n",
    "                    pass\n",
    "            paper['posts']['news'] = news_li\n",
    "            paper['posts']['blogs'] = blogs_li_new\n",
    "    return data"
   ]
  },
  {
   "cell_type": "code",
   "execution_count": 169,
   "metadata": {},
   "outputs": [],
   "source": [
    "outlets = pd.read_csv(data_root+'all_news_sources.csv', header=0)\n",
    "top_outlets = set(outlets.loc[outlets.Include == 'y', 'Mention source'])"
   ]
  },
  {
   "cell_type": "code",
   "execution_count": 170,
   "metadata": {
    "scrolled": true
   },
   "outputs": [
    {
     "data": {
      "text/plain": [
       "27"
      ]
     },
     "execution_count": 170,
     "metadata": {},
     "output_type": "execute_result"
    }
   ],
   "source": [
    "len(top_outlets)"
   ]
  },
  {
   "cell_type": "markdown",
   "metadata": {},
   "source": [
    "### Load tweets"
   ]
  },
  {
   "cell_type": "code",
   "execution_count": 272,
   "metadata": {},
   "outputs": [],
   "source": [
    "# this file is produced at the beginning part of `5_critical_tweet_label.ipynb`, which processes tweets for \n",
    "# both retracted and control papers. At this point, we haven't matched control papers yet, but you can still run \n",
    "# that code first to get processed tweets for retracted papers.\n",
    "\n",
    "with open(data_root + 'tweets_processed.pickle', 'rb') as ofile:\n",
    "    tid_date, tid_text, tid_author, tid_follow_cn, retweet_org_ids = pickle.load(ofile)\n",
    "    \n",
    "for tid, tdate in tid_date.items():\n",
    "    tdate = tdate.strftime(\"%Y-%m-%dT%H:%M:%S\")\n",
    "    tid_date[tid] = tdate"
   ]
  },
  {
   "cell_type": "code",
   "execution_count": 273,
   "metadata": {
    "scrolled": true
   },
   "outputs": [
    {
     "data": {
      "text/plain": [
       "159408"
      ]
     },
     "execution_count": 273,
     "metadata": {},
     "output_type": "execute_result"
    }
   ],
   "source": [
    "len(tid_text)"
   ]
  },
  {
   "cell_type": "code",
   "execution_count": 534,
   "metadata": {},
   "outputs": [
    {
     "data": {
      "text/plain": [
       "159408"
      ]
     },
     "execution_count": 534,
     "metadata": {},
     "output_type": "execute_result"
    }
   ],
   "source": [
    "len(tid_follow_cn)"
   ]
  },
  {
   "cell_type": "code",
   "execution_count": 274,
   "metadata": {
    "scrolled": true
   },
   "outputs": [
    {
     "data": {
      "text/plain": [
       "87670"
      ]
     },
     "execution_count": 274,
     "metadata": {},
     "output_type": "execute_result"
    }
   ],
   "source": [
    "len(retweet_org_ids)"
   ]
  },
  {
   "cell_type": "markdown",
   "metadata": {},
   "source": [
    "### Load uncertainty tweets"
   ]
  },
  {
   "cell_type": "code",
   "execution_count": 493,
   "metadata": {},
   "outputs": [],
   "source": [
    "# this file is produced in `5_critical_tweet_label.ipynb`. You can skip this block first to create the retract dataframe,\n",
    "# which will be used in `5_critical_tweet_label.ipynb`. Then you can go back here to run this code block and recreate retract dataframe.\n",
    "\n",
    "cand_tweets_df = pd.read_csv(data_root + 'cand_uncertain_tweets_mvotes.csv', quoting=csv.QUOTE_ALL, header=0, dtype={'tid': 'str'})"
   ]
  },
  {
   "cell_type": "code",
   "execution_count": 487,
   "metadata": {},
   "outputs": [],
   "source": [
    "# treating ambiguous tweets as positive ones.\n",
    "# cand_tweets_df = pd.read_csv(data_root + 'cand_uncertain_tweets_mvotes_bar.csv', quoting=csv.QUOTE_ALL, header=0, dtype={'tid': 'str'})"
   ]
  },
  {
   "cell_type": "code",
   "execution_count": 494,
   "metadata": {},
   "outputs": [],
   "source": [
    "uncertain_tids = cand_tweets_df.loc[cand_tweets_df.majority_vote == 1, 'tid'].tolist()"
   ]
  },
  {
   "cell_type": "code",
   "execution_count": 495,
   "metadata": {
    "scrolled": true
   },
   "outputs": [
    {
     "data": {
      "text/plain": [
       "1203"
      ]
     },
     "execution_count": 495,
     "metadata": {},
     "output_type": "execute_result"
    }
   ],
   "source": [
    "len(uncertain_tids)"
   ]
  },
  {
   "cell_type": "code",
   "execution_count": 490,
   "metadata": {
    "scrolled": true
   },
   "outputs": [
    {
     "data": {
      "text/plain": [
       "1747"
      ]
     },
     "execution_count": 490,
     "metadata": {},
     "output_type": "execute_result"
    }
   ],
   "source": [
    "len(uncertain_tids)"
   ]
  },
  {
   "cell_type": "markdown",
   "metadata": {},
   "source": [
    "### For data description only "
   ]
  },
  {
   "cell_type": "code",
   "execution_count": 450,
   "metadata": {},
   "outputs": [],
   "source": [
    "df = pd.read_excel(data_root+'RetractionWatchData2020.xlsx', sheet_name='GridViewExport (22)', header=0, index_col = None)\n",
    "df['pub_year_rw'] = df.OriginalPaperDate.apply(lambda dtt: dtt.year if isinstance(dtt, dt.date) else -1)"
   ]
  },
  {
   "cell_type": "code",
   "execution_count": 451,
   "metadata": {},
   "outputs": [
    {
     "data": {
      "text/plain": [
       "21850"
      ]
     },
     "execution_count": 451,
     "metadata": {},
     "output_type": "execute_result"
    }
   ],
   "source": [
    "len(df)"
   ]
  },
  {
   "cell_type": "code",
   "execution_count": 452,
   "metadata": {
    "scrolled": false
   },
   "outputs": [
    {
     "data": {
      "text/plain": [
       "unavailable                         777\n",
       "Unavailable                           9\n",
       "10.1007/s11042-017-5385-3             3\n",
       "10.1093/carcin/bgt251                 2\n",
       "10.1677/JOE-07-0195                   2\n",
       "                                   ... \n",
       "10.1109/ICIECS.2010.5677772           1\n",
       "10.1016/j.surfcoat.2012.07.049        1\n",
       "10.1109/ICIECS.2010.5678123           1\n",
       "10.1152/ajpcell.00349.2001            1\n",
       "10.1111/j.1467-8535.2009.01033.x      1\n",
       "Name: OriginalPaperDOI, Length: 16462, dtype: int64"
      ]
     },
     "execution_count": 452,
     "metadata": {},
     "output_type": "execute_result"
    }
   ],
   "source": [
    "df.OriginalPaperDOI.value_counts()"
   ]
  },
  {
   "cell_type": "code",
   "execution_count": 453,
   "metadata": {},
   "outputs": [],
   "source": [
    "df_doi_miss = df.loc[(df.OriginalPaperDOI.isnull()) | (df.OriginalPaperDOI == 'unavailable') | (df.OriginalPaperDOI == 'Unavailable')]"
   ]
  },
  {
   "cell_type": "code",
   "execution_count": 454,
   "metadata": {
    "scrolled": true
   },
   "outputs": [
    {
     "data": {
      "text/plain": [
       "5341"
      ]
     },
     "execution_count": 454,
     "metadata": {},
     "output_type": "execute_result"
    }
   ],
   "source": [
    "len(df_doi_miss)"
   ]
  },
  {
   "cell_type": "code",
   "execution_count": 455,
   "metadata": {
    "scrolled": true
   },
   "outputs": [
    {
     "data": {
      "text/plain": [
       "Conference Abstract/Paper;                     4063\n",
       "Research Article;                               818\n",
       "Review Article;                                 162\n",
       "Clinical Study;                                 146\n",
       "Case Report;                                     59\n",
       "Book Chapter/Reference Work;                     16\n",
       "Commentary/Editorial;                            13\n",
       "Letter;                                           9\n",
       "Newspaper/Magazine Article;                       8\n",
       "Case Report;Conference Abstract/Paper;            6\n",
       "Meta-Analysis;                                    6\n",
       "Clinical Study;Research Article;                  6\n",
       "Article in Press;Research Article;                4\n",
       "Article in Press;                                 4\n",
       "Clinical Study;Conference Abstract/Paper;         3\n",
       "Case Report;Review Article;                       3\n",
       "Guideline;                                        3\n",
       "Technical Report/White Paper;                     2\n",
       "Conference Abstract/Paper;Meta-Analysis;          1\n",
       "Retracted Article;                                1\n",
       "Retraction Notice;                                1\n",
       "Conference Abstract/Paper;Review Article;         1\n",
       "Conference Abstract/Paper;Research Article;       1\n",
       "Meta-Analysis;Research Article;                   1\n",
       "Case Report;Research Article;                     1\n",
       "Case Report;Clinical Study;                       1\n",
       "Other;                                            1\n",
       "Dissertation/Thesis;                              1\n",
       "Name: ArticleType, dtype: int64"
      ]
     },
     "execution_count": 455,
     "metadata": {},
     "output_type": "execute_result"
    }
   ],
   "source": [
    "df_doi_miss.ArticleType.value_counts()"
   ]
  },
  {
   "cell_type": "code",
   "execution_count": 457,
   "metadata": {
    "scrolled": true
   },
   "outputs": [
    {
     "data": {
      "text/plain": [
       " 2010    2355\n",
       " 2011    1209\n",
       " 2009     612\n",
       " 2015     107\n",
       " 2008      89\n",
       " 2014      76\n",
       " 2018      67\n",
       " 2013      62\n",
       " 2012      58\n",
       " 2005      56\n",
       " 2006      55\n",
       " 2016      47\n",
       " 2007      45\n",
       " 2017      38\n",
       " 2004      36\n",
       " 2003      34\n",
       " 2001      32\n",
       " 1998      32\n",
       " 1997      26\n",
       " 2002      26\n",
       " 1999      25\n",
       " 2000      24\n",
       " 1990      23\n",
       " 1994      22\n",
       " 2019      21\n",
       " 1992      20\n",
       " 1991      20\n",
       " 1996      18\n",
       " 1993      13\n",
       " 2020      12\n",
       " 1989      10\n",
       " 1995       9\n",
       "-1          8\n",
       " 1987       8\n",
       " 1988       7\n",
       " 1983       6\n",
       " 1981       6\n",
       " 1985       5\n",
       " 1986       5\n",
       " 1984       4\n",
       " 1982       2\n",
       " 1978       2\n",
       " 1923       2\n",
       " 1979       2\n",
       " 1926       1\n",
       " 1955       1\n",
       " 1971       1\n",
       " 1980       1\n",
       " 1976       1\n",
       "Name: pub_year_rw, dtype: int64"
      ]
     },
     "execution_count": 457,
     "metadata": {},
     "output_type": "execute_result"
    }
   ],
   "source": [
    "df_doi_miss.pub_year_rw.value_counts()"
   ]
  },
  {
   "cell_type": "code",
   "execution_count": 466,
   "metadata": {
    "scrolled": true
   },
   "outputs": [],
   "source": [
    "df = df.loc[df.OriginalPaperDate.apply(lambda dtt: True if isinstance(dtt, dt.date) else False)]"
   ]
  },
  {
   "cell_type": "code",
   "execution_count": 468,
   "metadata": {},
   "outputs": [
    {
     "data": {
      "text/plain": [
       "21800"
      ]
     },
     "execution_count": 468,
     "metadata": {},
     "output_type": "execute_result"
    }
   ],
   "source": [
    "len(df)"
   ]
  },
  {
   "cell_type": "code",
   "execution_count": 469,
   "metadata": {},
   "outputs": [],
   "source": [
    "df = df.loc[df.OriginalPaperDate.apply(lambda dttt: (dttt-altmetric_start_date).total_seconds() > 0)]"
   ]
  },
  {
   "cell_type": "code",
   "execution_count": 470,
   "metadata": {},
   "outputs": [
    {
     "data": {
      "text/plain": [
       "9201"
      ]
     },
     "execution_count": 470,
     "metadata": {},
     "output_type": "execute_result"
    }
   ],
   "source": [
    "len(df)"
   ]
  },
  {
   "cell_type": "code",
   "execution_count": 472,
   "metadata": {},
   "outputs": [
    {
     "data": {
      "text/plain": [
       "0        2020-04-05 00:00:00\n",
       "1        2020-05-01 00:00:00\n",
       "2        2019-05-24 00:00:00\n",
       "3        2020-05-22 00:00:00\n",
       "4        2020-02-06 00:00:00\n",
       "                ...         \n",
       "20800    2015-04-01 00:00:00\n",
       "21131    2014-02-14 00:00:00\n",
       "21181    2013-01-15 00:00:00\n",
       "21265    2014-05-03 00:00:00\n",
       "21657    2013-12-01 00:00:00\n",
       "Name: OriginalPaperDate, Length: 9201, dtype: object"
      ]
     },
     "execution_count": 472,
     "metadata": {},
     "output_type": "execute_result"
    }
   ],
   "source": [
    "df.OriginalPaperDate"
   ]
  },
  {
   "cell_type": "code",
   "execution_count": 473,
   "metadata": {},
   "outputs": [],
   "source": [
    "df = df.loc[~df['OriginalPaperDOI'].isna()]\n",
    "df = df.loc[~df['OriginalPaperDOI'].isin(['Unavailable', 'unavailable'])]\n",
    "df.index = range(len(df))\n",
    "df.OriginalPaperDOI = df['OriginalPaperDOI'].apply(lambda x: x.lower())"
   ]
  },
  {
   "cell_type": "code",
   "execution_count": 474,
   "metadata": {
    "scrolled": true
   },
   "outputs": [
    {
     "data": {
      "text/plain": [
       "8434"
      ]
     },
     "execution_count": 474,
     "metadata": {},
     "output_type": "execute_result"
    }
   ],
   "source": [
    "len(df)"
   ]
  },
  {
   "cell_type": "markdown",
   "metadata": {},
   "source": [
    "### Clean dup dois in Watch data"
   ]
  },
  {
   "cell_type": "code",
   "execution_count": 506,
   "metadata": {},
   "outputs": [],
   "source": [
    "df = pd.read_excel(data_root+'RetractionWatchData2020.xlsx', sheet_name='GridViewExport (22)', header=0, index_col = None)\n"
   ]
  },
  {
   "cell_type": "code",
   "execution_count": 507,
   "metadata": {
    "scrolled": true
   },
   "outputs": [
    {
     "data": {
      "text/plain": [
       "21850"
      ]
     },
     "execution_count": 507,
     "metadata": {},
     "output_type": "execute_result"
    }
   ],
   "source": [
    "len(df)"
   ]
  },
  {
   "cell_type": "code",
   "execution_count": 508,
   "metadata": {},
   "outputs": [],
   "source": [
    "df = df.loc[~df['OriginalPaperDOI'].isna()]\n",
    "df = df.loc[~df['OriginalPaperDOI'].isin(['Unavailable', 'unavailable'])]\n",
    "df.index = range(len(df))\n",
    "df.OriginalPaperDOI = df['OriginalPaperDOI'].apply(lambda x: x.lower())"
   ]
  },
  {
   "cell_type": "code",
   "execution_count": 509,
   "metadata": {
    "scrolled": false
   },
   "outputs": [
    {
     "data": {
      "text/plain": [
       "16509"
      ]
     },
     "execution_count": 509,
     "metadata": {},
     "output_type": "execute_result"
    }
   ],
   "source": [
    "len(df)"
   ]
  },
  {
   "cell_type": "code",
   "execution_count": 510,
   "metadata": {
    "scrolled": true
   },
   "outputs": [],
   "source": [
    "dup_dois = [doi for doi, cn in df.OriginalPaperDOI.value_counts().items() if cn > 1]"
   ]
  },
  {
   "cell_type": "code",
   "execution_count": 511,
   "metadata": {},
   "outputs": [
    {
     "data": {
      "text/plain": [
       "48"
      ]
     },
     "execution_count": 511,
     "metadata": {},
     "output_type": "execute_result"
    }
   ],
   "source": [
    "len(dup_dois)"
   ]
  },
  {
   "cell_type": "code",
   "execution_count": 56,
   "metadata": {},
   "outputs": [],
   "source": [
    "dup_df = df.loc[df.OriginalPaperDOI.isin(dup_dois)]"
   ]
  },
  {
   "cell_type": "code",
   "execution_count": 57,
   "metadata": {
    "scrolled": true
   },
   "outputs": [],
   "source": [
    "dup_df = dup_df.sort_values(by=['OriginalPaperDOI'])"
   ]
  },
  {
   "cell_type": "code",
   "execution_count": 58,
   "metadata": {},
   "outputs": [
    {
     "data": {
      "text/plain": [
       "97"
      ]
     },
     "execution_count": 58,
     "metadata": {},
     "output_type": "execute_result"
    }
   ],
   "source": [
    "len(dup_df)"
   ]
  },
  {
   "cell_type": "code",
   "execution_count": 59,
   "metadata": {},
   "outputs": [],
   "source": [
    "dup_df.to_csv(data_root+'dup_data.csv', index=False, header=True)"
   ]
  },
  {
   "cell_type": "markdown",
   "metadata": {},
   "source": [
    "Only keep the first dup"
   ]
  },
  {
   "cell_type": "code",
   "execution_count": 512,
   "metadata": {},
   "outputs": [],
   "source": [
    "df = df.drop_duplicates(subset=['OriginalPaperDOI'], keep = 'first')\n",
    "df.index = range(len(df))"
   ]
  },
  {
   "cell_type": "code",
   "execution_count": 513,
   "metadata": {
    "scrolled": false
   },
   "outputs": [
    {
     "data": {
      "text/plain": [
       "16460"
      ]
     },
     "execution_count": 513,
     "metadata": {},
     "output_type": "execute_result"
    }
   ],
   "source": [
    "len(df)"
   ]
  },
  {
   "cell_type": "markdown",
   "metadata": {},
   "source": [
    "### Merge (and clean) Alt and RW data for retracted papers"
   ]
  },
  {
   "cell_type": "code",
   "execution_count": 501,
   "metadata": {},
   "outputs": [],
   "source": [
    "doi_alt_data = {}\n",
    "\n",
    "with open(data_root+\"retraction_altmetric.json\", 'r') as ffile:\n",
    "    for row in ffile:\n",
    "        record = json.loads(row)\n",
    "        doi = record['citation']['doi'].lower()\n",
    "        doi_alt_data[doi] = record\n",
    "        \n",
    "doi_alt_data = correct_blogs(doi_alt_data, blog_set)"
   ]
  },
  {
   "cell_type": "code",
   "execution_count": 514,
   "metadata": {
    "scrolled": false
   },
   "outputs": [
    {
     "data": {
      "text/plain": [
       "6838"
      ]
     },
     "execution_count": 514,
     "metadata": {},
     "output_type": "execute_result"
    }
   ],
   "source": [
    "len(doi_alt_data)"
   ]
  },
  {
   "cell_type": "code",
   "execution_count": 515,
   "metadata": {},
   "outputs": [],
   "source": [
    "df_match = df.loc[df.OriginalPaperDOI.isin(doi_alt_data)]\n",
    "df_match.index = range(len(df_match))"
   ]
  },
  {
   "cell_type": "code",
   "execution_count": 517,
   "metadata": {
    "scrolled": false
   },
   "outputs": [
    {
     "data": {
      "text/plain": [
       "6838"
      ]
     },
     "execution_count": 517,
     "metadata": {},
     "output_type": "execute_result"
    }
   ],
   "source": [
    "len(df_match)"
   ]
  },
  {
   "cell_type": "code",
   "execution_count": 518,
   "metadata": {},
   "outputs": [],
   "source": [
    "def get_pub_date_alt(doi):\n",
    "    paper = doi_alt_data[doi]\n",
    "    dt_li = []\n",
    "    if 'pubdate' in paper['citation']:\n",
    "        dt_li.append(datetime.strptime(paper['citation']['pubdate'][:10], '%Y-%m-%d'))\n",
    "    if 'epubdate' in paper['citation']:\n",
    "        dt_li.append(datetime.strptime(paper['citation']['epubdate'][:10], '%Y-%m-%d'))\n",
    "    if 'first_seen_on' in paper['citation']:\n",
    "        dt_li.append(datetime.strptime(paper['citation']['first_seen_on'][:10], '%Y-%m-%d'))\n",
    "    return min(dt_li)\n",
    "\n",
    "def correct_pub_date(doi):\n",
    "    # no missing value for `altmetric_pub_date`.\n",
    "    pub_date_watch, pub_date_alt, retract_date = df_match.loc[df_match.OriginalPaperDOI == doi][['OriginalPaperDate', 'altmetric_pub_date', 'RetractionDate']].values.flatten()\n",
    "    pub_date = datetime.strptime('3000-01-01', '%Y-%m-%d')\n",
    "    if not isinstance(pub_date_watch, dt.date):\n",
    "        pub_date = min(pub_date, pub_date_alt)\n",
    "    else:\n",
    "        pub_date = min(pub_date, pub_date_watch, pub_date_alt)\n",
    "    if pub_date < retract_date:\n",
    "        return pub_date\n",
    "    else:\n",
    "        return 'pass'\n",
    "    \n",
    "def check_usable_days(doi):\n",
    "    pub_date, retract_date = df_match.loc[df_match.OriginalPaperDOI == doi][['pub_date_corrected', 'RetractionDate']].values.flatten()\n",
    "    if retract_date < altmetric_end_date:\n",
    "        return int((retract_date - pub_date).total_seconds()/day)\n",
    "    else:\n",
    "        return int((altmetric_end_date - pub_date).total_seconds()/day)"
   ]
  },
  {
   "cell_type": "code",
   "execution_count": 519,
   "metadata": {
    "scrolled": true
   },
   "outputs": [],
   "source": [
    "df_match['altmetric_score'] = df_match.OriginalPaperDOI.apply(lambda doi: doi_alt_data[doi]['altmetric_score']['score'])\n",
    "df_match['altmetric_pub_date'] = df_match.OriginalPaperDOI.apply(get_pub_date_alt)"
   ]
  },
  {
   "cell_type": "code",
   "execution_count": 520,
   "metadata": {},
   "outputs": [],
   "source": [
    "df_match['pub_date_corrected'] = df_match.OriginalPaperDOI.apply(correct_pub_date)"
   ]
  },
  {
   "cell_type": "markdown",
   "metadata": {},
   "source": [
    "Remove bad records"
   ]
  },
  {
   "cell_type": "code",
   "execution_count": 521,
   "metadata": {},
   "outputs": [],
   "source": [
    "# 158 invalid records (pub date after or on retraction date)\n",
    "bad_df = df_match.loc[df_match.pub_date_corrected == 'pass']\n",
    "# get their original data in Watch\n",
    "df.loc[df.OriginalPaperDOI.isin(bad_df.OriginalPaperDOI.tolist())].to_csv(data_root+'bad_data.csv', index=False, header=True)"
   ]
  },
  {
   "cell_type": "code",
   "execution_count": 522,
   "metadata": {},
   "outputs": [
    {
     "data": {
      "text/plain": [
       "158"
      ]
     },
     "execution_count": 522,
     "metadata": {},
     "output_type": "execute_result"
    }
   ],
   "source": [
    "len(bad_df)"
   ]
  },
  {
   "cell_type": "code",
   "execution_count": 523,
   "metadata": {},
   "outputs": [],
   "source": [
    "df_match = df_match.loc[df_match.pub_date_corrected != 'pass']\n",
    "df_match.index = range(len(df_match))"
   ]
  },
  {
   "cell_type": "code",
   "execution_count": 524,
   "metadata": {
    "scrolled": false
   },
   "outputs": [
    {
     "data": {
      "text/plain": [
       "6680"
      ]
     },
     "execution_count": 524,
     "metadata": {},
     "output_type": "execute_result"
    }
   ],
   "source": [
    "# the num of retracted papers found in Alt if we don't first filter based on pub date.\n",
    "len(df_match)"
   ]
  },
  {
   "cell_type": "markdown",
   "metadata": {},
   "source": [
    "Get usable days"
   ]
  },
  {
   "cell_type": "code",
   "execution_count": 527,
   "metadata": {},
   "outputs": [],
   "source": [
    "df_match['usable_days'] = df_match.OriginalPaperDOI.apply(check_usable_days)"
   ]
  },
  {
   "cell_type": "markdown",
   "metadata": {},
   "source": [
    "Correct retraction date"
   ]
  },
  {
   "cell_type": "code",
   "execution_count": 528,
   "metadata": {},
   "outputs": [],
   "source": [
    "# correct retraction date\n",
    "# We realized this issue in the process of labelling critical tweets (go to `5_critical_tweet_label.ipynb` first)\n",
    "gaps = pd.read_csv(data_root+'dois_correct_retract_date.csv', header=0, dtype={'tid': 'str'})\n",
    "doi_ret_update = dict(zip(gaps.doi, gaps.tweet_date))"
   ]
  },
  {
   "cell_type": "code",
   "execution_count": 529,
   "metadata": {},
   "outputs": [],
   "source": [
    "for doi, dstr in doi_ret_update.items():\n",
    "    df_match.loc[df_match['OriginalPaperDOI'] == doi, 'RetractionDate'] = datetime.strptime(dstr, '%Y-%m-%d %H:%M:%S')\n",
    "    "
   ]
  },
  {
   "cell_type": "markdown",
   "metadata": {},
   "source": [
    "### For data description only "
   ]
  },
  {
   "cell_type": "code",
   "execution_count": 530,
   "metadata": {
    "scrolled": true
   },
   "outputs": [],
   "source": [
    "# this is for data description in the paper.\n",
    "# the num of retracted papers found in Alt if we first filter based on pub date.\n",
    "df_match_tem = df_match.loc[df_match.OriginalPaperDate.apply(lambda dttt: isinstance(dttt, dt.date) and (dttt-altmetric_start_date).total_seconds() > 0)]"
   ]
  },
  {
   "cell_type": "code",
   "execution_count": 531,
   "metadata": {},
   "outputs": [
    {
     "data": {
      "text/plain": [
       "4210"
      ]
     },
     "execution_count": 531,
     "metadata": {},
     "output_type": "execute_result"
    }
   ],
   "source": [
    "len(df_match_tem)"
   ]
  },
  {
   "cell_type": "markdown",
   "metadata": {},
   "source": [
    "### Alt score distribution"
   ]
  },
  {
   "cell_type": "code",
   "execution_count": 322,
   "metadata": {
    "scrolled": false
   },
   "outputs": [
    {
     "name": "stdout",
     "output_type": "stream",
     "text": [
      "700 papers have an attention score of 0.\n"
     ]
    }
   ],
   "source": [
    "print('%d papers have an attention score of 0.'%np.sum(df_match.altmetric_score == 0))"
   ]
  },
  {
   "cell_type": "code",
   "execution_count": 257,
   "metadata": {
    "scrolled": false
   },
   "outputs": [
    {
     "data": {
      "image/png": "[encoded data removed]",
      "text/plain": [
       "<Figure size 288x216 with 1 Axes>"
      ]
     },
     "metadata": {
      "needs_background": "light"
     },
     "output_type": "display_data"
    }
   ],
   "source": [
    "fig, ax = plt.subplots(figsize=(4, 3))\n",
    "ax.hist(df_match.altmetric_score.tolist(), bins = 500, facecolor='blue', alpha=0.6)\n",
    "ax.set_yscale('log')\n",
    "ax.set_xscale('log')\n",
    "# ax.set_xlim(0, 2000)\n",
    "ax.set_xlabel('Altmetric Attention Score')\n",
    "ax.set_ylabel('num. of papers')\n",
    "plt.show()\n",
    "fig.savefig(data_root+'score_dist.pdf', bbox_inches='tight', pad_inches=0.01)"
   ]
  },
  {
   "cell_type": "markdown",
   "metadata": {},
   "source": [
    "Platform Weights:\n",
    "    https://help.altmetric.com/support/solutions/articles/6000060969-how-is-the-altmetric-attention-score-calculated-"
   ]
  },
  {
   "cell_type": "code",
   "execution_count": 323,
   "metadata": {},
   "outputs": [],
   "source": [
    "platform_stat = defaultdict(int)\n",
    "\n",
    "for doi in doi_alt_data:\n",
    "    paper = doi_alt_data[doi]\n",
    "    for platform in paper['posts']:\n",
    "        if paper['posts'][platform] != []:\n",
    "            platform_stat[platform] += 1"
   ]
  },
  {
   "cell_type": "code",
   "execution_count": 324,
   "metadata": {
    "scrolled": false
   },
   "outputs": [
    {
     "data": {
      "text/plain": [
       "[('twitter', 3969),\n",
       " ('blogs', 2587),\n",
       " ('peer_reviews', 1051),\n",
       " ('facebook', 736),\n",
       " ('patent', 665),\n",
       " ('news', 571),\n",
       " ('wikipedia', 316),\n",
       " ('f1000', 213),\n",
       " ('googleplus', 209),\n",
       " ('policy', 145),\n",
       " ('reddit', 100),\n",
       " ('video', 96),\n",
       " ('q&a', 18),\n",
       " ('misc', 14),\n",
       " ('weibo', 13),\n",
       " ('pinterest', 4),\n",
       " ('linkedin', 1)]"
      ]
     },
     "execution_count": 324,
     "metadata": {},
     "output_type": "execute_result"
    }
   ],
   "source": [
    "sorted(platform_stat.items(), key=lambda x: -x[1])"
   ]
  },
  {
   "cell_type": "code",
   "execution_count": 204,
   "metadata": {
    "scrolled": true
   },
   "outputs": [
    {
     "data": {
      "text/html": [
       "<div>\n",
       "<style scoped>\n",
       "    .dataframe tbody tr th:only-of-type {\n",
       "        vertical-align: middle;\n",
       "    }\n",
       "\n",
       "    .dataframe tbody tr th {\n",
       "        vertical-align: top;\n",
       "    }\n",
       "\n",
       "    .dataframe thead th {\n",
       "        text-align: right;\n",
       "    }\n",
       "</style>\n",
       "<table border=\"1\" class=\"dataframe\">\n",
       "  <thead>\n",
       "    <tr style=\"text-align: right;\">\n",
       "      <th></th>\n",
       "      <th>OriginalPaperDOI</th>\n",
       "      <th>Title</th>\n",
       "      <th>Subject</th>\n",
       "    </tr>\n",
       "  </thead>\n",
       "  <tbody>\n",
       "    <tr>\n",
       "      <th>21</th>\n",
       "      <td>10.1001/jamainternmed.2018.3713</td>\n",
       "      <td>Association Between Physician Burnout and Pati...</td>\n",
       "      <td>(HSC) Medicine - General;(HSC) Occupational He...</td>\n",
       "    </tr>\n",
       "    <tr>\n",
       "      <th>306</th>\n",
       "      <td>10.1371/journal.pbio.1002593</td>\n",
       "      <td>Brain–Computer Interface–Based Communication i...</td>\n",
       "      <td>(B/T) Computer Science;(B/T) Technology;(BLS) ...</td>\n",
       "    </tr>\n",
       "    <tr>\n",
       "      <th>315</th>\n",
       "      <td>10.1080/15287394.2018.1477640</td>\n",
       "      <td>A lowered probability of pregnancy in females ...</td>\n",
       "      <td>(HSC) Medicine - Immunology;(HSC) Medicine - I...</td>\n",
       "    </tr>\n",
       "    <tr>\n",
       "      <th>420</th>\n",
       "      <td>10.1038/s41591-019-0459-6</td>\n",
       "      <td>CCR5-delta32 is deleterious in the homozygous ...</td>\n",
       "      <td>(BLS) Biology - Cellular;(BLS) Genetics;</td>\n",
       "    </tr>\n",
       "    <tr>\n",
       "      <th>448</th>\n",
       "      <td>10.1038/s41586-018-0651-8</td>\n",
       "      <td>Quantification of ocean heat uptake from chang...</td>\n",
       "      <td>(ENV) Climate Change;(ENV) Ground/Surface Water;</td>\n",
       "    </tr>\n",
       "    <tr>\n",
       "      <th>558</th>\n",
       "      <td>10.1016/j.cub.2015.09.056</td>\n",
       "      <td>The Negative Association between Religiousness...</td>\n",
       "      <td>(HUM) Religion;(SOC) Philosophy;(SOC) Psychology;</td>\n",
       "    </tr>\n",
       "    <tr>\n",
       "      <th>828</th>\n",
       "      <td>10.1016/s2213-8587(16)30085-7</td>\n",
       "      <td>Effect of a high-fat Mediterranean diet on bod...</td>\n",
       "      <td>(HSC) Medicine - General;(HSC) Nutrition;(HSC)...</td>\n",
       "    </tr>\n",
       "    <tr>\n",
       "      <th>855</th>\n",
       "      <td>10.1177/2047487317723212</td>\n",
       "      <td>Effect of marijuana use on cardiovascular and ...</td>\n",
       "      <td>(BLS) Toxicology;(HSC) Biostatistics/Epidemiol...</td>\n",
       "    </tr>\n",
       "    <tr>\n",
       "      <th>911</th>\n",
       "      <td>10.1001/jama.2018.12615</td>\n",
       "      <td>Association of Clinical Specialty With Symptom...</td>\n",
       "      <td>(HSC) Medicine - General;(HSC) Occupational He...</td>\n",
       "    </tr>\n",
       "    <tr>\n",
       "      <th>1023</th>\n",
       "      <td>10.1158/1055-9965.epi-17-0221</td>\n",
       "      <td>Night Shift Work Increases the Risks of Multip...</td>\n",
       "      <td>(HSC) Biostatistics/Epidemiology;(HSC) Medicin...</td>\n",
       "    </tr>\n",
       "    <tr>\n",
       "      <th>1143</th>\n",
       "      <td>10.1001/jama.2016.20036</td>\n",
       "      <td>Change in percentages of adults with overweigh...</td>\n",
       "      <td>(HSC) Biostatistics/Epidemiology;(HSC) Medicin...</td>\n",
       "    </tr>\n",
       "    <tr>\n",
       "      <th>1264</th>\n",
       "      <td>10.15585/mmwr.ss6706a1</td>\n",
       "      <td>Prevalence and Characteristics of Autism Spect...</td>\n",
       "      <td>(HSC) Medicine - Neurology;(HSC) Medicine - Pe...</td>\n",
       "    </tr>\n",
       "    <tr>\n",
       "      <th>1565</th>\n",
       "      <td>10.1056/nejmoa1200303</td>\n",
       "      <td>Primary Prevention of Cardiovascular Disease w...</td>\n",
       "      <td>(HSC) Medicine - Cardiology;(HSC) Medicine - C...</td>\n",
       "    </tr>\n",
       "    <tr>\n",
       "      <th>1776</th>\n",
       "      <td>10.1038/nmeth.4293</td>\n",
       "      <td>Unexpected mutations after CRISPR–Cas9 editing...</td>\n",
       "      <td>(BLS) Biochemistry;(BLS) Biology - Cellular;(B...</td>\n",
       "    </tr>\n",
       "    <tr>\n",
       "      <th>1788</th>\n",
       "      <td>10.1093/biosci/bix133</td>\n",
       "      <td>Internet Blogs, Polar Bears, and Climate-Chang...</td>\n",
       "      <td>(ENV) Climate Change;(ENV) Climatology;(ENV) E...</td>\n",
       "    </tr>\n",
       "    <tr>\n",
       "      <th>2013</th>\n",
       "      <td>10.1126/science.aad8828</td>\n",
       "      <td>Environmentally relevant concentrations of mic...</td>\n",
       "      <td>(BLS) Zoology;(ENV) Ecology;(ENV) Environmenta...</td>\n",
       "    </tr>\n",
       "    <tr>\n",
       "      <th>2139</th>\n",
       "      <td>10.1080/01436597.2017.1369037</td>\n",
       "      <td>The case for colonialism</td>\n",
       "      <td>(B/T) Business - Economics;(SOC) Political Sci...</td>\n",
       "    </tr>\n",
       "    <tr>\n",
       "      <th>2311</th>\n",
       "      <td>10.1016/s0140-6736(16)30002-2</td>\n",
       "      <td>Effectiveness of non-steroidal anti-inflammato...</td>\n",
       "      <td>(HSC) Medicine - Geriatric;(HSC) Medicine - Im...</td>\n",
       "    </tr>\n",
       "    <tr>\n",
       "      <th>3388</th>\n",
       "      <td>10.1371/journal.pone.0146193</td>\n",
       "      <td>Biomechanical Characteristics of Hand Coordina...</td>\n",
       "      <td>(BLS) Anatomy/Physiology;</td>\n",
       "    </tr>\n",
       "    <tr>\n",
       "      <th>3936</th>\n",
       "      <td>10.1126/science.1256151</td>\n",
       "      <td>When Contact Changes Minds: An Experiment on T...</td>\n",
       "      <td>(SOC) Political Science;</td>\n",
       "    </tr>\n",
       "    <tr>\n",
       "      <th>4376</th>\n",
       "      <td>10.1186/2047-9158-3-16</td>\n",
       "      <td>Measles-mumps-rubella Vaccination Timing and A...</td>\n",
       "      <td>(BLS) Neuroscience;(HSC) Medicine - Pediatrics...</td>\n",
       "    </tr>\n",
       "    <tr>\n",
       "      <th>4489</th>\n",
       "      <td>10.1038/nature12969</td>\n",
       "      <td>Bidirectional Developmental Potential in Repro...</td>\n",
       "      <td>(BLS) Biology - Cellular;(BLS) Biology - Molec...</td>\n",
       "    </tr>\n",
       "    <tr>\n",
       "      <th>4491</th>\n",
       "      <td>10.1038/nature12968</td>\n",
       "      <td>Stimulus-triggered Fate Conversion of Somatic ...</td>\n",
       "      <td>(BLS) Biology - Cellular;(BLS) Biology - Molec...</td>\n",
       "    </tr>\n",
       "    <tr>\n",
       "      <th>4739</th>\n",
       "      <td>10.1016/j.fct.2012.08.005</td>\n",
       "      <td>Long term toxicity of a Roundup herbicide and ...</td>\n",
       "      <td>(BLS) Biology - Cancer;(BLS) Biology - Molecul...</td>\n",
       "    </tr>\n",
       "    <tr>\n",
       "      <th>6059</th>\n",
       "      <td>10.1016/s0140-6736(97)11096-0</td>\n",
       "      <td>Ileal-lymphoid-nodular Hyperplasia, Non-specif...</td>\n",
       "      <td>(BLS) Biology - Cancer;(BLS) Biology - Cellula...</td>\n",
       "    </tr>\n",
       "  </tbody>\n",
       "</table>\n",
       "</div>"
      ],
      "text/plain": [
       "                     OriginalPaperDOI  \\\n",
       "21    10.1001/jamainternmed.2018.3713   \n",
       "306      10.1371/journal.pbio.1002593   \n",
       "315     10.1080/15287394.2018.1477640   \n",
       "420         10.1038/s41591-019-0459-6   \n",
       "448         10.1038/s41586-018-0651-8   \n",
       "558         10.1016/j.cub.2015.09.056   \n",
       "828     10.1016/s2213-8587(16)30085-7   \n",
       "855          10.1177/2047487317723212   \n",
       "911           10.1001/jama.2018.12615   \n",
       "1023    10.1158/1055-9965.epi-17-0221   \n",
       "1143          10.1001/jama.2016.20036   \n",
       "1264           10.15585/mmwr.ss6706a1   \n",
       "1565            10.1056/nejmoa1200303   \n",
       "1776               10.1038/nmeth.4293   \n",
       "1788            10.1093/biosci/bix133   \n",
       "2013          10.1126/science.aad8828   \n",
       "2139    10.1080/01436597.2017.1369037   \n",
       "2311    10.1016/s0140-6736(16)30002-2   \n",
       "3388     10.1371/journal.pone.0146193   \n",
       "3936          10.1126/science.1256151   \n",
       "4376           10.1186/2047-9158-3-16   \n",
       "4489              10.1038/nature12969   \n",
       "4491              10.1038/nature12968   \n",
       "4739        10.1016/j.fct.2012.08.005   \n",
       "6059    10.1016/s0140-6736(97)11096-0   \n",
       "\n",
       "                                                  Title  \\\n",
       "21    Association Between Physician Burnout and Pati...   \n",
       "306   Brain–Computer Interface–Based Communication i...   \n",
       "315   A lowered probability of pregnancy in females ...   \n",
       "420   CCR5-delta32 is deleterious in the homozygous ...   \n",
       "448   Quantification of ocean heat uptake from chang...   \n",
       "558   The Negative Association between Religiousness...   \n",
       "828   Effect of a high-fat Mediterranean diet on bod...   \n",
       "855   Effect of marijuana use on cardiovascular and ...   \n",
       "911   Association of Clinical Specialty With Symptom...   \n",
       "1023  Night Shift Work Increases the Risks of Multip...   \n",
       "1143  Change in percentages of adults with overweigh...   \n",
       "1264  Prevalence and Characteristics of Autism Spect...   \n",
       "1565  Primary Prevention of Cardiovascular Disease w...   \n",
       "1776  Unexpected mutations after CRISPR–Cas9 editing...   \n",
       "1788  Internet Blogs, Polar Bears, and Climate-Chang...   \n",
       "2013  Environmentally relevant concentrations of mic...   \n",
       "2139                           The case for colonialism   \n",
       "2311  Effectiveness of non-steroidal anti-inflammato...   \n",
       "3388  Biomechanical Characteristics of Hand Coordina...   \n",
       "3936  When Contact Changes Minds: An Experiment on T...   \n",
       "4376  Measles-mumps-rubella Vaccination Timing and A...   \n",
       "4489  Bidirectional Developmental Potential in Repro...   \n",
       "4491  Stimulus-triggered Fate Conversion of Somatic ...   \n",
       "4739  Long term toxicity of a Roundup herbicide and ...   \n",
       "6059  Ileal-lymphoid-nodular Hyperplasia, Non-specif...   \n",
       "\n",
       "                                                Subject  \n",
       "21    (HSC) Medicine - General;(HSC) Occupational He...  \n",
       "306   (B/T) Computer Science;(B/T) Technology;(BLS) ...  \n",
       "315   (HSC) Medicine - Immunology;(HSC) Medicine - I...  \n",
       "420            (BLS) Biology - Cellular;(BLS) Genetics;  \n",
       "448    (ENV) Climate Change;(ENV) Ground/Surface Water;  \n",
       "558   (HUM) Religion;(SOC) Philosophy;(SOC) Psychology;  \n",
       "828   (HSC) Medicine - General;(HSC) Nutrition;(HSC)...  \n",
       "855   (BLS) Toxicology;(HSC) Biostatistics/Epidemiol...  \n",
       "911   (HSC) Medicine - General;(HSC) Occupational He...  \n",
       "1023  (HSC) Biostatistics/Epidemiology;(HSC) Medicin...  \n",
       "1143  (HSC) Biostatistics/Epidemiology;(HSC) Medicin...  \n",
       "1264  (HSC) Medicine - Neurology;(HSC) Medicine - Pe...  \n",
       "1565  (HSC) Medicine - Cardiology;(HSC) Medicine - C...  \n",
       "1776  (BLS) Biochemistry;(BLS) Biology - Cellular;(B...  \n",
       "1788  (ENV) Climate Change;(ENV) Climatology;(ENV) E...  \n",
       "2013  (BLS) Zoology;(ENV) Ecology;(ENV) Environmenta...  \n",
       "2139  (B/T) Business - Economics;(SOC) Political Sci...  \n",
       "2311  (HSC) Medicine - Geriatric;(HSC) Medicine - Im...  \n",
       "3388                          (BLS) Anatomy/Physiology;  \n",
       "3936                           (SOC) Political Science;  \n",
       "4376  (BLS) Neuroscience;(HSC) Medicine - Pediatrics...  \n",
       "4489  (BLS) Biology - Cellular;(BLS) Biology - Molec...  \n",
       "4491  (BLS) Biology - Cellular;(BLS) Biology - Molec...  \n",
       "4739  (BLS) Biology - Cancer;(BLS) Biology - Molecul...  \n",
       "6059  (BLS) Biology - Cancer;(BLS) Biology - Cellula...  "
      ]
     },
     "execution_count": 204,
     "metadata": {},
     "output_type": "execute_result"
    }
   ],
   "source": [
    "df_match.loc[df_match.altmetric_score > 1000][['OriginalPaperDOI', 'Title', 'Subject']]"
   ]
  },
  {
   "cell_type": "markdown",
   "metadata": {},
   "source": [
    "### Build time series data (use only English posts)"
   ]
  },
  {
   "cell_type": "code",
   "execution_count": 350,
   "metadata": {},
   "outputs": [],
   "source": [
    "plat_cate = {\n",
    " 'blogs': 'blog',\n",
    " 'news': 'news_media',\n",
    " 'patent': 'knowledge_repo',\n",
    " 'f1000': 'knowledge_repo',\n",
    " 'peer_reviews': 'knowledge_repo',\n",
    " 'wikipedia': 'knowledge_repo',\n",
    " 'q&a': 'knowledge_repo',\n",
    " 'facebook': 'social_media',\n",
    " 'googleplus': 'social_media',\n",
    " 'linkedin': 'social_media',\n",
    " 'pinterest': 'social_media',\n",
    " 'reddit': 'social_media',\n",
    " 'twitter': 'social_media',\n",
    " 'video': 'social_media'\n",
    "}\n",
    "\n",
    "cates = ['social_media', 'blog', 'knowledge_repo', 'news_media', 'top_news']"
   ]
  },
  {
   "cell_type": "code",
   "execution_count": 550,
   "metadata": {},
   "outputs": [],
   "source": [
    "def get_time_series_list(doi, category):\n",
    "    paper = doi_alt_data[doi]\n",
    "    time_li = []\n",
    "    if 'posts' in paper:\n",
    "        for plat in paper['posts']:\n",
    "            # ignore misc.\n",
    "            if plat in plat_cate:\n",
    "                cate = plat_cate[plat]\n",
    "                if cate == category:\n",
    "                    for item in paper['posts'][plat]:\n",
    "                        if plat == 'twitter':\n",
    "                            tid = item['tweet_id']\n",
    "                            # English tweets\n",
    "                            if tid in tid_date:\n",
    "                                time_li.append(tid_date[tid])\n",
    "                        else:\n",
    "                            if 'posted_on' in item:\n",
    "                                tdate = item['posted_on'][:19]\n",
    "                                text = ''\n",
    "                                if 'title' in item and item['title']:\n",
    "                                    text += item['title']\n",
    "                                if 'summary' in item and item['summary']:\n",
    "                                    text = text + ' ' + item['summary']\n",
    "                                try:\n",
    "                                    if detect(text) == 'en':\n",
    "                                        time_li.append(tdate)\n",
    "                                except:\n",
    "                                    pass                   \n",
    "    return sorted(time_li)\n",
    "\n",
    "def get_top_news_time_series_list(doi):\n",
    "    paper = doi_alt_data[doi]\n",
    "    time_li = []\n",
    "    if 'posts' in paper and 'news' in paper['posts']:\n",
    "        for item in paper['posts']['news']:\n",
    "            if 'posted_on' in item:\n",
    "                tdate = item['posted_on'][:19]\n",
    "                name = item['author']['name']\n",
    "                # these top outlets are English language outlets, so we don't need to filter here.\n",
    "                if name in top_outlets:\n",
    "                    time_li.append(tdate)\n",
    "    return sorted(time_li)\n",
    "\n",
    "def get_uncertain_time_series_list(doi):\n",
    "    paper = doi_alt_data[doi]\n",
    "    time_li = []\n",
    "    if 'posts' in paper and 'twitter' in paper['posts']:\n",
    "        for item in paper['posts']['twitter']:\n",
    "            tid = item['tweet_id']\n",
    "            if tid in uncertain_tids: # non retweet\n",
    "                if tid in tid_date:\n",
    "                    time_li.append(tid_date[tid])\n",
    "            else: # might be retweet or original tweet but is normal tweet\n",
    "                if tid in retweet_org_ids:\n",
    "                    org_id = retweet_org_ids[tid]\n",
    "                    if org_id in uncertain_tids and tid in tid_date:\n",
    "                        time_li.append(tid_date[tid])\n",
    "    return sorted(time_li)\n",
    "\n",
    "def get_tweet_ids(doi):\n",
    "    paper = doi_alt_data[doi]\n",
    "    tids_li = []\n",
    "    if 'posts' in paper and 'twitter' in paper['posts']:\n",
    "        for item in paper['posts']['twitter']:\n",
    "            tid = item['tweet_id']\n",
    "            if tid in tid_date:\n",
    "                tids_li.append(tid)\n",
    "    return tids_li\n",
    "\n",
    "def get_tw_follow_sort_date(tids):\n",
    "    lii = []\n",
    "    for tid in tids:\n",
    "        lii.append((tid_date[tid], tid_follow_cn[tid]))\n",
    "    return sorted(lii, key=lambda x: x[0])\n",
    "\n",
    "def get_tw_date_sort(lli):\n",
    "    return [dtt for (dtt, fcn) in lli]\n",
    "\n",
    "def get_tw_fcn_date_sort(lli):\n",
    "    return [fcn for (dtt, fcn) in lli]"
   ]
  },
  {
   "cell_type": "code",
   "execution_count": 546,
   "metadata": {},
   "outputs": [],
   "source": [
    "df_match['news_media'] = df_match.OriginalPaperDOI.apply(get_time_series_list, args=['news_media'])\n",
    "df_match['social_media'] = df_match.OriginalPaperDOI.apply(get_time_series_list, args=['social_media'])\n",
    "df_match['blog'] = df_match.OriginalPaperDOI.apply(get_time_series_list, args=['blog'])\n",
    "df_match['knowledge_repo'] = df_match.OriginalPaperDOI.apply(get_time_series_list, args=['knowledge_repo'])\n",
    "df_match['top_news'] = df_match.OriginalPaperDOI.apply(get_top_news_time_series_list)"
   ]
  },
  {
   "cell_type": "code",
   "execution_count": 537,
   "metadata": {},
   "outputs": [],
   "source": [
    "df_match['tweet_ids'] = df_match.OriginalPaperDOI.apply(get_tweet_ids)\n",
    "df_match['date_tweet_fcn'] = df_match.tweet_ids.apply(get_tw_follow_sort_date)\n",
    "df_match['tw_date_sort'] = df_match.date_tweet_fcn.apply(get_tw_date_sort)\n",
    "df_match['fcn_date_sort'] = df_match.date_tweet_fcn.apply(get_tw_fcn_date_sort)\n",
    "df_match = df_match.drop(columns=['date_tweet_fcn'])"
   ]
  },
  {
   "cell_type": "code",
   "execution_count": 552,
   "metadata": {},
   "outputs": [],
   "source": [
    "df_match['uncertainty'] = df_match.OriginalPaperDOI.apply(get_uncertain_time_series_list)"
   ]
  },
  {
   "cell_type": "code",
   "execution_count": 551,
   "metadata": {
    "scrolled": true
   },
   "outputs": [
    {
     "data": {
      "text/plain": [
       "6680"
      ]
     },
     "execution_count": 551,
     "metadata": {},
     "output_type": "execute_result"
    }
   ],
   "source": [
    "len(df_match)"
   ]
  },
  {
   "cell_type": "code",
   "execution_count": 547,
   "metadata": {
    "scrolled": true
   },
   "outputs": [
    {
     "data": {
      "text/html": [
       "<div>\n",
       "<style scoped>\n",
       "    .dataframe tbody tr th:only-of-type {\n",
       "        vertical-align: middle;\n",
       "    }\n",
       "\n",
       "    .dataframe tbody tr th {\n",
       "        vertical-align: top;\n",
       "    }\n",
       "\n",
       "    .dataframe thead th {\n",
       "        text-align: right;\n",
       "    }\n",
       "</style>\n",
       "<table border=\"1\" class=\"dataframe\">\n",
       "  <thead>\n",
       "    <tr style=\"text-align: right;\">\n",
       "      <th></th>\n",
       "      <th>Record ID</th>\n",
       "      <th>Title</th>\n",
       "      <th>Subject</th>\n",
       "      <th>Institution</th>\n",
       "      <th>Journal</th>\n",
       "      <th>Publisher</th>\n",
       "      <th>Country</th>\n",
       "      <th>Author</th>\n",
       "      <th>URLS</th>\n",
       "      <th>ArticleType</th>\n",
       "      <th>RetractionDate</th>\n",
       "      <th>RetractionDOI</th>\n",
       "      <th>RetractionPubMedID</th>\n",
       "      <th>OriginalPaperDate</th>\n",
       "      <th>OriginalPaperDOI</th>\n",
       "      <th>OriginalPaperPubMedID</th>\n",
       "      <th>RetractionNature</th>\n",
       "      <th>Reason</th>\n",
       "      <th>Paywalled</th>\n",
       "      <th>Notes</th>\n",
       "      <th>altmetric_score</th>\n",
       "      <th>altmetric_pub_date</th>\n",
       "      <th>pub_date_corrected</th>\n",
       "      <th>usable_days</th>\n",
       "      <th>tweet_ids</th>\n",
       "      <th>tw_date_sort</th>\n",
       "      <th>fcn_date_sort</th>\n",
       "      <th>uncertainty</th>\n",
       "      <th>news_media</th>\n",
       "      <th>social_media</th>\n",
       "      <th>blog</th>\n",
       "      <th>knowledge_repo</th>\n",
       "      <th>top_news</th>\n",
       "    </tr>\n",
       "  </thead>\n",
       "  <tbody>\n",
       "    <tr>\n",
       "      <th>0</th>\n",
       "      <td>23542</td>\n",
       "      <td>Hospital Admission and Readmission Among Homel...</td>\n",
       "      <td>(HSC) Medicine - Neurology;(SOC) Psychology;</td>\n",
       "      <td>Department of Neurology and Weill Institute fo...</td>\n",
       "      <td>Neurology</td>\n",
       "      <td>American Academy of Neurology</td>\n",
       "      <td>United States</td>\n",
       "      <td>Nicole Rosendale;Elan L Guterman;John P Betjem...</td>\n",
       "      <td>NaN</td>\n",
       "      <td>Research Article;</td>\n",
       "      <td>2020-06-04 00:00:00</td>\n",
       "      <td>10.1212/WNL.0000000000009565</td>\n",
       "      <td>32499376</td>\n",
       "      <td>2019-05-24 00:00:00</td>\n",
       "      <td>10.1212/wnl.0000000000007645</td>\n",
       "      <td>31127074</td>\n",
       "      <td>Retraction</td>\n",
       "      <td>+Concerns/Issues About Data;+Retract and Replace;</td>\n",
       "      <td>No</td>\n",
       "      <td>see: https://n.neurology.org/content/92/24/e2822</td>\n",
       "      <td>29.75</td>\n",
       "      <td>2019-05-24</td>\n",
       "      <td>2019-05-24 00:00:00</td>\n",
       "      <td>137</td>\n",
       "      <td>[1133693569737187329, 1133763571790127106, 113...</td>\n",
       "      <td>[2019-05-29T11:16:24, 2019-05-29T15:54:34, 201...</td>\n",
       "      <td>[506, 273, 4836, 1845, 48163, 181, 935, 1322, ...</td>\n",
       "      <td>[]</td>\n",
       "      <td>[2019-05-28T15:33:34, 2019-05-28T18:38:39]</td>\n",
       "      <td>[2019-05-29T11:16:24, 2019-05-29T15:54:34, 201...</td>\n",
       "      <td>[]</td>\n",
       "      <td>[]</td>\n",
       "      <td>[]</td>\n",
       "    </tr>\n",
       "    <tr>\n",
       "      <th>1</th>\n",
       "      <td>23522</td>\n",
       "      <td>DMA, a Bisbenzimidazole, Offers Radioprotectio...</td>\n",
       "      <td>(BLS) Biochemistry;(BLS) Biology - Cancer;(BLS...</td>\n",
       "      <td>Dr B. R. Ambedkar Center for Biomedical Resear...</td>\n",
       "      <td>PLoS One</td>\n",
       "      <td>PLoS</td>\n",
       "      <td>India;United States</td>\n",
       "      <td>Navrinder Kaur;Atul Ranjan;Vinod Tiwari;Ritu A...</td>\n",
       "      <td>NaN</td>\n",
       "      <td>Research Article;</td>\n",
       "      <td>2020-06-03 00:00:00</td>\n",
       "      <td>10.1371/journal.pone.0234365</td>\n",
       "      <td>32492047</td>\n",
       "      <td>2012-06-22 00:00:00</td>\n",
       "      <td>10.1371/journal.pone.0039426</td>\n",
       "      <td>22745752</td>\n",
       "      <td>Retraction</td>\n",
       "      <td>+Concerns/Issues About Data;+Concerns/Issues A...</td>\n",
       "      <td>No</td>\n",
       "      <td>NaN</td>\n",
       "      <td>0.50</td>\n",
       "      <td>2012-06-22</td>\n",
       "      <td>2012-06-22 00:00:00</td>\n",
       "      <td>2664</td>\n",
       "      <td>[219269442599784449]</td>\n",
       "      <td>[2012-07-01T03:21:23]</td>\n",
       "      <td>[803]</td>\n",
       "      <td>[]</td>\n",
       "      <td>[]</td>\n",
       "      <td>[2012-07-01T03:21:23]</td>\n",
       "      <td>[]</td>\n",
       "      <td>[]</td>\n",
       "      <td>[]</td>\n",
       "    </tr>\n",
       "  </tbody>\n",
       "</table>\n",
       "</div>"
      ],
      "text/plain": [
       "   Record ID                                              Title  \\\n",
       "0      23542  Hospital Admission and Readmission Among Homel...   \n",
       "1      23522  DMA, a Bisbenzimidazole, Offers Radioprotectio...   \n",
       "\n",
       "                                             Subject  \\\n",
       "0       (HSC) Medicine - Neurology;(SOC) Psychology;   \n",
       "1  (BLS) Biochemistry;(BLS) Biology - Cancer;(BLS...   \n",
       "\n",
       "                                         Institution    Journal  \\\n",
       "0  Department of Neurology and Weill Institute fo...  Neurology   \n",
       "1  Dr B. R. Ambedkar Center for Biomedical Resear...   PLoS One   \n",
       "\n",
       "                       Publisher              Country  \\\n",
       "0  American Academy of Neurology        United States   \n",
       "1                           PLoS  India;United States   \n",
       "\n",
       "                                              Author URLS        ArticleType  \\\n",
       "0  Nicole Rosendale;Elan L Guterman;John P Betjem...  NaN  Research Article;   \n",
       "1  Navrinder Kaur;Atul Ranjan;Vinod Tiwari;Ritu A...  NaN  Research Article;   \n",
       "\n",
       "        RetractionDate                 RetractionDOI RetractionPubMedID  \\\n",
       "0  2020-06-04 00:00:00  10.1212/WNL.0000000000009565           32499376   \n",
       "1  2020-06-03 00:00:00  10.1371/journal.pone.0234365           32492047   \n",
       "\n",
       "     OriginalPaperDate              OriginalPaperDOI OriginalPaperPubMedID  \\\n",
       "0  2019-05-24 00:00:00  10.1212/wnl.0000000000007645              31127074   \n",
       "1  2012-06-22 00:00:00  10.1371/journal.pone.0039426              22745752   \n",
       "\n",
       "  RetractionNature                                             Reason  \\\n",
       "0       Retraction  +Concerns/Issues About Data;+Retract and Replace;   \n",
       "1       Retraction  +Concerns/Issues About Data;+Concerns/Issues A...   \n",
       "\n",
       "  Paywalled                                             Notes  \\\n",
       "0        No  see: https://n.neurology.org/content/92/24/e2822   \n",
       "1        No                                               NaN   \n",
       "\n",
       "   altmetric_score altmetric_pub_date   pub_date_corrected  usable_days  \\\n",
       "0            29.75         2019-05-24  2019-05-24 00:00:00          137   \n",
       "1             0.50         2012-06-22  2012-06-22 00:00:00         2664   \n",
       "\n",
       "                                           tweet_ids  \\\n",
       "0  [1133693569737187329, 1133763571790127106, 113...   \n",
       "1                               [219269442599784449]   \n",
       "\n",
       "                                        tw_date_sort  \\\n",
       "0  [2019-05-29T11:16:24, 2019-05-29T15:54:34, 201...   \n",
       "1                              [2012-07-01T03:21:23]   \n",
       "\n",
       "                                       fcn_date_sort uncertainty  \\\n",
       "0  [506, 273, 4836, 1845, 48163, 181, 935, 1322, ...          []   \n",
       "1                                              [803]          []   \n",
       "\n",
       "                                   news_media  \\\n",
       "0  [2019-05-28T15:33:34, 2019-05-28T18:38:39]   \n",
       "1                                          []   \n",
       "\n",
       "                                        social_media blog knowledge_repo  \\\n",
       "0  [2019-05-29T11:16:24, 2019-05-29T15:54:34, 201...   []             []   \n",
       "1                              [2012-07-01T03:21:23]   []             []   \n",
       "\n",
       "  top_news  \n",
       "0       []  \n",
       "1       []  "
      ]
     },
     "execution_count": 547,
     "metadata": {},
     "output_type": "execute_result"
    }
   ],
   "source": [
    "df_match.head(2)"
   ]
  },
  {
   "cell_type": "code",
   "execution_count": 553,
   "metadata": {},
   "outputs": [],
   "source": [
    "with open(data_root+'df_retract_clean.pickle', 'wb') as file:\n",
    "    pickle.dump(df_match, file)"
   ]
  },
  {
   "cell_type": "code",
   "execution_count": 554,
   "metadata": {},
   "outputs": [],
   "source": [
    "with open(data_root+'df_retract_clean.pickle', 'rb') as file:\n",
    "    df_match = pickle.load(file)"
   ]
  },
  {
   "cell_type": "code",
   "execution_count": 555,
   "metadata": {
    "scrolled": true
   },
   "outputs": [
    {
     "data": {
      "text/plain": [
       "5464"
      ]
     },
     "execution_count": 555,
     "metadata": {},
     "output_type": "execute_result"
    }
   ],
   "source": [
    "# 6 months\n",
    "np.sum(df_match.usable_days >= 180)"
   ]
  },
  {
   "cell_type": "code",
   "execution_count": 389,
   "metadata": {},
   "outputs": [
    {
     "data": {
      "text/plain": [
       "datetime.datetime(1967, 6, 1, 0, 0)"
      ]
     },
     "execution_count": 389,
     "metadata": {},
     "output_type": "execute_result"
    }
   ],
   "source": [
    "min(df_match.RetractionDate)"
   ]
  },
  {
   "cell_type": "code",
   "execution_count": 360,
   "metadata": {},
   "outputs": [
    {
     "data": {
      "text/plain": [
       "1965-09-01    1\n",
       "1967-06-01    1\n",
       "1974-05-11    1\n",
       "1980-10-01    1\n",
       "1984-01-01    1\n",
       "             ..\n",
       "2011-11-13    1\n",
       "2011-11-14    4\n",
       "2011-11-15    2\n",
       "2011-11-16    1\n",
       "2011-11-18    1\n",
       "Name: OriginalPaperDate, Length: 1571, dtype: int64"
      ]
     },
     "execution_count": 360,
     "metadata": {},
     "output_type": "execute_result"
    }
   ],
   "source": [
    "df_match.OriginalPaperDate.value_counts().sort_index().head(1571)"
   ]
  },
  {
   "cell_type": "code",
   "execution_count": null,
   "metadata": {},
   "outputs": [],
   "source": []
  }
 ],
 "metadata": {
  "kernelspec": {
   "display_name": "Python 3 (ipykernel)",
   "language": "python",
   "name": "python3"
  },
  "language_info": {
   "codemirror_mode": {
    "name": "ipython",
    "version": 3
   },
   "file_extension": ".py",
   "mimetype": "text/x-python",
   "name": "python",
   "nbconvert_exporter": "python",
   "pygments_lexer": "ipython3",
   "version": "3.7.10"
  }
 },
 "nbformat": 4,
 "nbformat_minor": 2
}
