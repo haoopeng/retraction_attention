{
 "cells": [
  {
   "cell_type": "code",
   "execution_count": 1,
   "metadata": {},
   "outputs": [],
   "source": [
    "import re\n",
    "import json\n",
    "import csv\n",
    "import requests\n",
    "import pprint\n",
    "import numpy as np\n",
    "import pandas as pd\n",
    "import matplotlib.pyplot as plt\n",
    "from scipy.stats import chisquare\n",
    "from collections import Counter, defaultdict"
   ]
  },
  {
   "cell_type": "code",
   "execution_count": 2,
   "metadata": {},
   "outputs": [],
   "source": [
    "data_root = '/home/haopeng/Data/Retraction/'"
   ]
  },
  {
   "cell_type": "markdown",
   "metadata": {},
   "source": [
    "### Link based on doi"
   ]
  },
  {
   "cell_type": "code",
   "execution_count": 3,
   "metadata": {
    "scrolled": true
   },
   "outputs": [],
   "source": [
    "data = pd.read_excel(data_root+'RetractionWatchData2020.xlsx', sheet_name='GridViewExport (22)', header=0, index_col = None)\n"
   ]
  },
  {
   "cell_type": "code",
   "execution_count": 4,
   "metadata": {},
   "outputs": [
    {
     "data": {
      "text/html": [
       "<div>\n",
       "<style scoped>\n",
       "    .dataframe tbody tr th:only-of-type {\n",
       "        vertical-align: middle;\n",
       "    }\n",
       "\n",
       "    .dataframe tbody tr th {\n",
       "        vertical-align: top;\n",
       "    }\n",
       "\n",
       "    .dataframe thead th {\n",
       "        text-align: right;\n",
       "    }\n",
       "</style>\n",
       "<table border=\"1\" class=\"dataframe\">\n",
       "  <thead>\n",
       "    <tr style=\"text-align: right;\">\n",
       "      <th></th>\n",
       "      <th>Record ID</th>\n",
       "      <th>Title</th>\n",
       "      <th>Subject</th>\n",
       "      <th>Institution</th>\n",
       "      <th>Journal</th>\n",
       "      <th>Publisher</th>\n",
       "      <th>Country</th>\n",
       "      <th>Author</th>\n",
       "      <th>URLS</th>\n",
       "      <th>ArticleType</th>\n",
       "      <th>RetractionDate</th>\n",
       "      <th>RetractionDOI</th>\n",
       "      <th>RetractionPubMedID</th>\n",
       "      <th>OriginalPaperDate</th>\n",
       "      <th>OriginalPaperDOI</th>\n",
       "      <th>OriginalPaperPubMedID</th>\n",
       "      <th>RetractionNature</th>\n",
       "      <th>Reason</th>\n",
       "      <th>Paywalled</th>\n",
       "      <th>Notes</th>\n",
       "    </tr>\n",
       "  </thead>\n",
       "  <tbody>\n",
       "    <tr>\n",
       "      <th>0</th>\n",
       "      <td>23540</td>\n",
       "      <td>Laquinimod Inhibits MMP-induced NLRP3 Inflamma...</td>\n",
       "      <td>(BLS) Biochemistry;(BLS) Biology - Cellular;(B...</td>\n",
       "      <td>department of Neurology, Affiliated Hosptial o...</td>\n",
       "      <td>Immunopharmacology and Immunotoxicology</td>\n",
       "      <td>Taylor and Francis</td>\n",
       "      <td>China</td>\n",
       "      <td>Xue Zhang;Jianjing Jin;Anmu Xie</td>\n",
       "      <td>NaN</td>\n",
       "      <td>Research Article;</td>\n",
       "      <td>2020-06-05 00:00:00</td>\n",
       "      <td>10.1080/08923973.2020.1774840</td>\n",
       "      <td>32500758</td>\n",
       "      <td>2020-04-05 00:00:00</td>\n",
       "      <td>10.1080/08923973.2020.1746967</td>\n",
       "      <td>32249647</td>\n",
       "      <td>Retraction</td>\n",
       "      <td>+Error in Analyses;</td>\n",
       "      <td>No</td>\n",
       "      <td>NaN</td>\n",
       "    </tr>\n",
       "  </tbody>\n",
       "</table>\n",
       "</div>"
      ],
      "text/plain": [
       "   Record ID                                              Title  \\\n",
       "0      23540  Laquinimod Inhibits MMP-induced NLRP3 Inflamma...   \n",
       "\n",
       "                                             Subject  \\\n",
       "0  (BLS) Biochemistry;(BLS) Biology - Cellular;(B...   \n",
       "\n",
       "                                         Institution  \\\n",
       "0  department of Neurology, Affiliated Hosptial o...   \n",
       "\n",
       "                                   Journal           Publisher Country  \\\n",
       "0  Immunopharmacology and Immunotoxicology  Taylor and Francis   China   \n",
       "\n",
       "                            Author URLS        ArticleType  \\\n",
       "0  Xue Zhang;Jianjing Jin;Anmu Xie  NaN  Research Article;   \n",
       "\n",
       "        RetractionDate                  RetractionDOI RetractionPubMedID  \\\n",
       "0  2020-06-05 00:00:00  10.1080/08923973.2020.1774840           32500758   \n",
       "\n",
       "     OriginalPaperDate               OriginalPaperDOI OriginalPaperPubMedID  \\\n",
       "0  2020-04-05 00:00:00  10.1080/08923973.2020.1746967              32249647   \n",
       "\n",
       "  RetractionNature               Reason Paywalled Notes  \n",
       "0       Retraction  +Error in Analyses;        No   NaN  "
      ]
     },
     "execution_count": 4,
     "metadata": {},
     "output_type": "execute_result"
    }
   ],
   "source": [
    "data.head(1)"
   ]
  },
  {
   "cell_type": "code",
   "execution_count": 5,
   "metadata": {
    "scrolled": true
   },
   "outputs": [
    {
     "data": {
      "text/plain": [
       "(21850, 20)"
      ]
     },
     "execution_count": 5,
     "metadata": {},
     "output_type": "execute_result"
    }
   ],
   "source": [
    "data.shape"
   ]
  },
  {
   "cell_type": "code",
   "execution_count": 11,
   "metadata": {},
   "outputs": [
    {
     "data": {
      "text/html": [
       "<div>\n",
       "<style scoped>\n",
       "    .dataframe tbody tr th:only-of-type {\n",
       "        vertical-align: middle;\n",
       "    }\n",
       "\n",
       "    .dataframe tbody tr th {\n",
       "        vertical-align: top;\n",
       "    }\n",
       "\n",
       "    .dataframe thead th {\n",
       "        text-align: right;\n",
       "    }\n",
       "</style>\n",
       "<table border=\"1\" class=\"dataframe\">\n",
       "  <thead>\n",
       "    <tr style=\"text-align: right;\">\n",
       "      <th></th>\n",
       "      <th>Record ID</th>\n",
       "      <th>Title</th>\n",
       "      <th>Subject</th>\n",
       "      <th>Institution</th>\n",
       "      <th>Journal</th>\n",
       "      <th>Publisher</th>\n",
       "      <th>Country</th>\n",
       "      <th>Author</th>\n",
       "      <th>URLS</th>\n",
       "      <th>ArticleType</th>\n",
       "      <th>RetractionDate</th>\n",
       "      <th>RetractionDOI</th>\n",
       "      <th>RetractionPubMedID</th>\n",
       "      <th>OriginalPaperDate</th>\n",
       "      <th>OriginalPaperDOI</th>\n",
       "      <th>OriginalPaperPubMedID</th>\n",
       "      <th>RetractionNature</th>\n",
       "      <th>Reason</th>\n",
       "      <th>Paywalled</th>\n",
       "      <th>Notes</th>\n",
       "    </tr>\n",
       "  </thead>\n",
       "  <tbody>\n",
       "    <tr>\n",
       "      <th>7715</th>\n",
       "      <td>2719</td>\n",
       "      <td>Probing the MicroRNA and Small Interfering RNA...</td>\n",
       "      <td>(BLS) Biology - Cellular;(BLS) Biology - Molec...</td>\n",
       "      <td>Institut de Biologie Moléculaire des Plantes d...</td>\n",
       "      <td>The Plant Cell</td>\n",
       "      <td>American Society of Plant Biologists</td>\n",
       "      <td>France</td>\n",
       "      <td>Patrice Dunoyer;Charles-Henri Lecellier;Eneida...</td>\n",
       "      <td>http://retractionwatch.com/2015/04/06/retracti...</td>\n",
       "      <td>Research Article;</td>\n",
       "      <td>2015-06-02 00:00:00</td>\n",
       "      <td>10.1105/tpc.15.00407</td>\n",
       "      <td>26036255</td>\n",
       "      <td>2004-04-14 00:00:00</td>\n",
       "      <td>10.1105/tpc.020719</td>\n",
       "      <td>15084715</td>\n",
       "      <td>Retraction</td>\n",
       "      <td>+Duplication of Image;+Investigation by Compan...</td>\n",
       "      <td>No</td>\n",
       "      <td>Patrice Dunoyer assumes responsibility for fig...</td>\n",
       "    </tr>\n",
       "  </tbody>\n",
       "</table>\n",
       "</div>"
      ],
      "text/plain": [
       "      Record ID                                              Title  \\\n",
       "7715       2719  Probing the MicroRNA and Small Interfering RNA...   \n",
       "\n",
       "                                                Subject  \\\n",
       "7715  (BLS) Biology - Cellular;(BLS) Biology - Molec...   \n",
       "\n",
       "                                            Institution         Journal  \\\n",
       "7715  Institut de Biologie Moléculaire des Plantes d...  The Plant Cell   \n",
       "\n",
       "                                 Publisher Country  \\\n",
       "7715  American Society of Plant Biologists  France   \n",
       "\n",
       "                                                 Author  \\\n",
       "7715  Patrice Dunoyer;Charles-Henri Lecellier;Eneida...   \n",
       "\n",
       "                                                   URLS        ArticleType  \\\n",
       "7715  http://retractionwatch.com/2015/04/06/retracti...  Research Article;   \n",
       "\n",
       "           RetractionDate         RetractionDOI RetractionPubMedID  \\\n",
       "7715  2015-06-02 00:00:00  10.1105/tpc.15.00407           26036255   \n",
       "\n",
       "        OriginalPaperDate    OriginalPaperDOI OriginalPaperPubMedID  \\\n",
       "7715  2004-04-14 00:00:00  10.1105/tpc.020719              15084715   \n",
       "\n",
       "     RetractionNature                                             Reason  \\\n",
       "7715       Retraction  +Duplication of Image;+Investigation by Compan...   \n",
       "\n",
       "     Paywalled                                              Notes  \n",
       "7715        No  Patrice Dunoyer assumes responsibility for fig...  "
      ]
     },
     "execution_count": 11,
     "metadata": {},
     "output_type": "execute_result"
    }
   ],
   "source": [
    "data.loc[data.OriginalPaperDOI=='10.1105/tpc.020719']"
   ]
  },
  {
   "cell_type": "code",
   "execution_count": 16,
   "metadata": {},
   "outputs": [
    {
     "data": {
      "text/html": [
       "<div>\n",
       "<style scoped>\n",
       "    .dataframe tbody tr th:only-of-type {\n",
       "        vertical-align: middle;\n",
       "    }\n",
       "\n",
       "    .dataframe tbody tr th {\n",
       "        vertical-align: top;\n",
       "    }\n",
       "\n",
       "    .dataframe thead th {\n",
       "        text-align: right;\n",
       "    }\n",
       "</style>\n",
       "<table border=\"1\" class=\"dataframe\">\n",
       "  <thead>\n",
       "    <tr style=\"text-align: right;\">\n",
       "      <th></th>\n",
       "      <th>Record ID</th>\n",
       "      <th>Title</th>\n",
       "      <th>Subject</th>\n",
       "      <th>Institution</th>\n",
       "      <th>Journal</th>\n",
       "      <th>Publisher</th>\n",
       "      <th>Country</th>\n",
       "      <th>Author</th>\n",
       "      <th>URLS</th>\n",
       "      <th>ArticleType</th>\n",
       "      <th>RetractionDate</th>\n",
       "      <th>RetractionDOI</th>\n",
       "      <th>RetractionPubMedID</th>\n",
       "      <th>OriginalPaperDate</th>\n",
       "      <th>OriginalPaperDOI</th>\n",
       "      <th>OriginalPaperPubMedID</th>\n",
       "      <th>RetractionNature</th>\n",
       "      <th>Reason</th>\n",
       "      <th>Paywalled</th>\n",
       "      <th>Notes</th>\n",
       "    </tr>\n",
       "  </thead>\n",
       "  <tbody>\n",
       "    <tr>\n",
       "      <th>4547</th>\n",
       "      <td>12734</td>\n",
       "      <td>Nrf2: a novel therapeutic target in fragile X ...</td>\n",
       "      <td>(BLS) Biochemistry;(BLS) Biology - Cellular;(B...</td>\n",
       "      <td>Biomedicine Division, Centre for Systems Biote...</td>\n",
       "      <td>Genes, Brain, and Behavior</td>\n",
       "      <td>Wiley</td>\n",
       "      <td>Argentina;Chile;United Kingdom;United States</td>\n",
       "      <td>Robert M J Deacon;M J Hurley;C M Rebolledo;M S...</td>\n",
       "      <td>http://retractionwatch.com/2017/10/11/dispute-...</td>\n",
       "      <td>Research Article;</td>\n",
       "      <td>2017-09-01 00:00:00</td>\n",
       "      <td>10.1111/gbb.12373</td>\n",
       "      <td>28211606</td>\n",
       "      <td>2017-02-17 00:00:00</td>\n",
       "      <td>10.1111/gbb.12373</td>\n",
       "      <td>28211606</td>\n",
       "      <td>Retraction</td>\n",
       "      <td>+Complaints about Author;+Concerns/Issues Abou...</td>\n",
       "      <td>No</td>\n",
       "      <td>NaN</td>\n",
       "    </tr>\n",
       "  </tbody>\n",
       "</table>\n",
       "</div>"
      ],
      "text/plain": [
       "      Record ID                                              Title  \\\n",
       "4547      12734  Nrf2: a novel therapeutic target in fragile X ...   \n",
       "\n",
       "                                                Subject  \\\n",
       "4547  (BLS) Biochemistry;(BLS) Biology - Cellular;(B...   \n",
       "\n",
       "                                            Institution  \\\n",
       "4547  Biomedicine Division, Centre for Systems Biote...   \n",
       "\n",
       "                         Journal Publisher  \\\n",
       "4547  Genes, Brain, and Behavior     Wiley   \n",
       "\n",
       "                                           Country  \\\n",
       "4547  Argentina;Chile;United Kingdom;United States   \n",
       "\n",
       "                                                 Author  \\\n",
       "4547  Robert M J Deacon;M J Hurley;C M Rebolledo;M S...   \n",
       "\n",
       "                                                   URLS        ArticleType  \\\n",
       "4547  http://retractionwatch.com/2017/10/11/dispute-...  Research Article;   \n",
       "\n",
       "           RetractionDate      RetractionDOI RetractionPubMedID  \\\n",
       "4547  2017-09-01 00:00:00  10.1111/gbb.12373           28211606   \n",
       "\n",
       "        OriginalPaperDate   OriginalPaperDOI OriginalPaperPubMedID  \\\n",
       "4547  2017-02-17 00:00:00  10.1111/gbb.12373              28211606   \n",
       "\n",
       "     RetractionNature                                             Reason  \\\n",
       "4547       Retraction  +Complaints about Author;+Concerns/Issues Abou...   \n",
       "\n",
       "     Paywalled Notes  \n",
       "4547        No   NaN  "
      ]
     },
     "execution_count": 16,
     "metadata": {},
     "output_type": "execute_result"
    }
   ],
   "source": [
    "data.loc[data.OriginalPaperDOI=='10.1111/gbb.12373']"
   ]
  },
  {
   "cell_type": "code",
   "execution_count": 56,
   "metadata": {},
   "outputs": [],
   "source": [
    "df = data.loc[~data['OriginalPaperDOI'].isna()]\n",
    "df = df.loc[~df['OriginalPaperDOI'].isin(['Unavailable', 'unavailable'])]\n",
    "df.OriginalPaperDOI = df['OriginalPaperDOI'].apply(lambda x: x.lower())\n",
    "df = df.drop_duplicates(subset=['OriginalPaperDOI'], keep = 'first')\n",
    "df.index = range(len(df))"
   ]
  },
  {
   "cell_type": "code",
   "execution_count": 57,
   "metadata": {},
   "outputs": [
    {
     "data": {
      "text/plain": [
       "16460"
      ]
     },
     "execution_count": 57,
     "metadata": {},
     "output_type": "execute_result"
    }
   ],
   "source": [
    "len(df)"
   ]
  },
  {
   "cell_type": "code",
   "execution_count": 58,
   "metadata": {},
   "outputs": [],
   "source": [
    "dois = set(df['OriginalPaperDOI'].tolist())"
   ]
  },
  {
   "cell_type": "code",
   "execution_count": 59,
   "metadata": {
    "scrolled": false
   },
   "outputs": [
    {
     "data": {
      "text/plain": [
       "16460"
      ]
     },
     "execution_count": 59,
     "metadata": {},
     "output_type": "execute_result"
    }
   ],
   "source": [
    "len(dois)"
   ]
  },
  {
   "cell_type": "markdown",
   "metadata": {},
   "source": [
    "Alt data doc: https://help.altmetric.com/support/solutions/articles/6000086844-sample-response-for-the-altmetric-details-page-api-full-access-"
   ]
  },
  {
   "cell_type": "code",
   "execution_count": null,
   "metadata": {},
   "outputs": [],
   "source": [
    "# A no_doi_field example:\n",
    "\n",
    "{\"altmetric_id\":27560509,\"citation\":{\"aggregate_citation_ids\":[],\"attribution\":\"Google Books\",\"authors_or_editors\":[\"Peter J. McGoldrick\"],\"first_seen_on\":\"2017-10-17T15:41:45+00:00\",\"isbns\":[\"9780077092504\"],\"issns\":[],\"links\":[\"https:\\/\\/books.google.com\\/books?vid=9780077092504\"],\"pubdate\":\"2002-01-01T00:00:00+00:00\",\"publisher\":\"McGraw-Hill\",\"title\":\"Retail Marketing\",\"type\":\"book\",\"uri\":\"http:\\/\\/books.google.com\\/books?id=cH52QgAACAAJ&hl=&source=gbs_api\"},\"altmetric_score\":{\"score\":0,\"score_history\":{\"1y\":0,\"6m\":0,\"3m\":0,\"1m\":0,\"1w\":0,\"6d\":0,\"5d\":0,\"4d\":0,\"3d\":0,\"2d\":0,\"1d\":0,\"at\":0},\"context_for_score\":null},\"demographics\":[],\"counts\":{\"total\":{\"posts_count\":0}},\"posts\":[]}\n",
    "\n",
    "# A bad line example:\n",
    "\n",
    "{\"altmetric_id\":11743682,\"counts\":{\"readers\":{\"mendeley\":20,\"citeulike\":0,\"connotea\":0},\"total\":{\"posts_count\":0}},\"citation\":{\"altmetric_jid\":\"4f6fa4ef3cf058f610002cc7\",\"authors\":[\"Kristina M. Cook\",\"H. Patrick McNeil\",\"Philip J. Hogg\"],\"doi\":\"10.1074\\/jbc.m113.523506\",\"endpage\":\"34929\",\"first_seen_on\":\"2016-09-05T04:54:15+00:00\",\"handles\":[],\"isbns\":[],\"issns\":[\"0021-9258\",\"1083-351X\"],\"issue\":\"48\",\"journal\":\"Journal of Biological Chemistry\",\"pmid\":\"24142694\",\"pubdate\":\"2013-11-29T00:00:00+00:00\",\"epubdate\":\"2013-10-18T00:00:00+00:00\",\"publisher_subjects\":[{\"name\":\"Biological Sciences\",\"scheme\":\"era\"},{\"name\":\"Medical And Health Sciences\",\"scheme\":\"era\"},{\"name\":\"Chemical Sciences\",\"scheme\":\"era\"}],\"scopus_subjects\":[\"Biochemistry, Genetics and Molecular Biology\",\"Life Sciences\"],\"startpage\":\"34920\",\"subjects\":[\"biochemistry\"],\"title\":\"Allosteric Control of \\u03b2II-Tryptase by a Redox Active Disulfide Bond\",\"type\":\"article\",\"volume\":\"288\",\"mendeley_url\":\"http:\\/\\/www.mendeley.com\\/research\\/allosteric-control-%CE%B2iitryptase-redox-active-disulfide-bond\"},\"altmetric_score\":{\"score\":0,\"score_history\":{\"1y\":0,\"6m\":0,\"3m\":0,\"1m\":0,\"1w\":0,\"6d\":0,\"5d\":0,\"4d\":0,\"3d\":0,\"2d\":0,\"1d\":0,\"at\":0},\"context_for_score\":null},\"demographics\":{\"users\":{\"mendeley\":{\"by_status\":{\"Unspecified\":4,\"Professor > Associate Professor\":1,\"Researcher\":6,\"Student  > Ph. D. Student\":5,\"Student  > Master\":2,\"Student  > Bachelor\":1,\"Professor\":1},\"by_discipline\":{\"Engineering\":1,\"Medicine and Dentistry\":2,\"Chemistry\":1,\"Agricultural and Biological Sciences\":7,\"Computer Science\":1,\"Biochemistry, Genetics and Molecular Biology\":2,\"Unspecified\":6}}},\"geo\":{\"mendeley\":{\"CA\":1,\"JP\":1}}},\"posts\":[]}{\"altmetric_id\":7751729,\"counts\":{\"readers\":{\"mendeley\":11,\"citeulike\":0,\"connotea\":0},\"total\":{\"posts_count\":0}},\"citation\":{\"altmetric_jid\":\"4f6fa5163cf058f610003742\",\"authors\":[\"D. M. Bolton\",\"A. Ta\",\"M. Bagnato\",\"D. Muller\",\"N. L. Lawrentschuk\",\"G. Severi\",\"R. R. Syme\",\"G. G. Giles\"],\"doi\":\"10.1007\\/s00345-013-1125-0\",\"endpage\":\"435\",\"first_seen_on\":\"2016-05-19T21:14:51+00:00\",\"handles\":[],\"isbns\":[],\"issns\":[\"0724-4983\",\"1433-8726\"],\"issue\":\"2\",\"journal\":\"World Journal of Urology\",\"pmid\":\"23824175\",\"pubdate\":\"2014-04-01T00:00:00+00:00\",\"epubdate\":\"2013-07-04T00:00:00+00:00\",\"publisher_subjects\":[{\"name\":\"Medicine & Public Health\",\"scheme\":\"springer\"},{\"name\":\"Nephrology\",\"scheme\":\"springer\"},{\"name\":\"Oncology\",\"scheme\":\"springer\"},{\"name\":\"Urology\\/Andrology\",\"scheme\":\"springer\"},{\"name\":\"Clinical Sciences\",\"scheme\":\"era\"}],\"scopus_subjects\":[\"Medicine\",\"Health Sciences\"],\"startpage\":\"431\",\"title\":\"Interval to biochemical recurrence following radical prostatectomy does not affect survival in men with low-risk prostate cancer\",\"type\":\"article\",\"uri\":\"http:\\/\\/link.springer.com\\/10.1007\\/s00345-013-1125-0\",\"volume\":\"32\",\"mendeley_url\":\"http:\\/\\/www.mendeley.com\\/research\\/interval-biochemical-recurrence-following-radical-prostatectomy-not-affect-survival-men-lowrisk-pros\"},\"altmetric_score\":{\"score\":0,\"score_history\":{\"1y\":0,\"6m\":0,\"3m\":0,\"1m\":0,\"1w\":0,\"6d\":0,\"5d\":0,\"4d\":0,\"3d\":0,\"2d\":0,\"1d\":0,\"at\":0},\"context_for_score\":null},\"demographics\":{\"users\":{\"mendeley\":{\"by_status\":{\"Unspecified\":2,\"Professor > Associate Professor\":1,\"Researcher\":2,\"Student  > Doctoral Student\":2,\"Student  > Ph. D. Student\":2,\"Student  > Master\":1,\"Student  > Bachelor\":1},\"by_discipline\":{\"Medicine and Dentistry\":9,\"Unspecified\":2}}}},\"posts\":[]}\n"
   ]
  },
  {
   "cell_type": "code",
   "execution_count": null,
   "metadata": {
    "scrolled": true
   },
   "outputs": [],
   "source": [
    "# before running this code: combine all individual files in `oct-8th-dump.tar.gz` provided by Altmetric into `merged.txt` (can use Linux command line tool).\n",
    "\n",
    "paper_li = []\n",
    "bad_lines = 0\n",
    "cn_lines = 0\n",
    "no_doi_field = 0 \n",
    "empty_doi = 0\n",
    "\n",
    "with open(data_root + 'merged.txt', 'r') as ofile:\n",
    "    for row in ofile:\n",
    "        cn_lines += 1\n",
    "        if cn_lines % 1000000 == 0:\n",
    "            print('processed %d lines...'%cn_lines)\n",
    "        if '}{\"altmetric_id\"' in row:\n",
    "            bad_lines += 1\n",
    "            row = row.replace('}{\"altmetric_id\"', '}\\n{\"altmetric_id\"')\n",
    "        # this way works for both good and bad lines.\n",
    "        records = row.split('\\n')\n",
    "        for record in records:\n",
    "            if record != '':\n",
    "                paper = json.loads(record)\n",
    "                if 'doi' in paper['citation']:\n",
    "                    doi = paper['citation']['doi']\n",
    "                    if doi != '':\n",
    "                        doi = doi.lower()\n",
    "                        if doi in dois:\n",
    "                            paper_li.append(paper)\n",
    "                    else:\n",
    "                        empty_doi += 1\n",
    "                else:\n",
    "                    no_doi_field += 1"
   ]
  },
  {
   "cell_type": "code",
   "execution_count": 229,
   "metadata": {},
   "outputs": [
    {
     "name": "stdout",
     "output_type": "stream",
     "text": [
      "514171 bad formatted json lines are successfully processed.\n",
      "4139724 records have no doi field.\n",
      "30 records have doi field, but are empty strings.\n"
     ]
    }
   ],
   "source": [
    "print('%d bad formatted json lines are successfully processed.'%bad_lines)\n",
    "print('%d records have no doi field.'%no_doi_field) # e.g., books that only have ISBN.\n",
    "print('%d records have doi field, but are empty strings.'%empty_doi)"
   ]
  },
  {
   "cell_type": "code",
   "execution_count": 209,
   "metadata": {},
   "outputs": [
    {
     "data": {
      "text/plain": [
       "6840"
      ]
     },
     "execution_count": 209,
     "metadata": {},
     "output_type": "execute_result"
    }
   ],
   "source": [
    "len(paper_li)"
   ]
  },
  {
   "cell_type": "code",
   "execution_count": 254,
   "metadata": {},
   "outputs": [],
   "source": [
    "with open(data_root+\"retraction_altmetric.json\", 'w') as ffile:\n",
    "    for paper in paper_li:\n",
    "        ffile.write(json.dumps(paper) + '\\n')"
   ]
  },
  {
   "cell_type": "markdown",
   "metadata": {},
   "source": [
    "Clean matched data from Altmetric (doi has different altids)"
   ]
  },
  {
   "cell_type": "code",
   "execution_count": 18,
   "metadata": {},
   "outputs": [],
   "source": [
    "# records = []\n",
    "# matched_dois = []\n",
    "\n",
    "# with open(data_root+\"retraction_altmetric.json\", 'r') as ffile:\n",
    "#     for row in ffile:\n",
    "#         record = json.loads(row)\n",
    "#         record['citation']['doi'] = record['citation']['doi'].lower()\n",
    "#         records.append(record)\n",
    "#         matched_dois.append(record['citation']['doi'])"
   ]
  },
  {
   "cell_type": "code",
   "execution_count": 24,
   "metadata": {
    "scrolled": true
   },
   "outputs": [],
   "source": [
    "# dup_dois = [doi for doi, count in Counter(matched_dois).items() if count > 1]"
   ]
  },
  {
   "cell_type": "code",
   "execution_count": 86,
   "metadata": {},
   "outputs": [],
   "source": [
    "# for record in paper_li:\n",
    "#     if record['citation']['doi'] in dup_dois:\n",
    "#         pprint.pprint(record, indent=2)"
   ]
  },
  {
   "cell_type": "code",
   "execution_count": 27,
   "metadata": {},
   "outputs": [],
   "source": [
    "# bad_alt_ids = [4406258, 67961220]"
   ]
  },
  {
   "cell_type": "code",
   "execution_count": 28,
   "metadata": {},
   "outputs": [],
   "source": [
    "# paper_li = []\n",
    "# for record in records:\n",
    "#     if record['altmetric_id'] not in bad_alt_ids: \n",
    "#         paper_li.append(record)"
   ]
  },
  {
   "cell_type": "code",
   "execution_count": 30,
   "metadata": {},
   "outputs": [],
   "source": [
    "# del records, matched_dois"
   ]
  },
  {
   "cell_type": "code",
   "execution_count": 254,
   "metadata": {},
   "outputs": [],
   "source": [
    "with open(data_root+\"retraction_altmetric.json\", 'w') as ffile:\n",
    "    for paper in paper_li:\n",
    "        ffile.write(json.dumps(paper) + '\\n')"
   ]
  },
  {
   "cell_type": "code",
   "execution_count": 31,
   "metadata": {},
   "outputs": [],
   "source": [
    "paper_li = []\n",
    "\n",
    "with open(data_root+\"retraction_altmetric.json\", 'r') as ffile:\n",
    "    for row in ffile:\n",
    "        record = json.loads(row)\n",
    "        record['citation']['doi'] = record['citation']['doi'].lower()\n",
    "        paper_li.append(record)"
   ]
  },
  {
   "cell_type": "code",
   "execution_count": 32,
   "metadata": {},
   "outputs": [
    {
     "data": {
      "text/plain": [
       "6838"
      ]
     },
     "execution_count": 32,
     "metadata": {},
     "output_type": "execute_result"
    }
   ],
   "source": [
    "# num. of papers found in Alt.\n",
    "len(paper_li)"
   ]
  },
  {
   "cell_type": "code",
   "execution_count": null,
   "metadata": {},
   "outputs": [],
   "source": []
  },
  {
   "cell_type": "code",
   "execution_count": null,
   "metadata": {},
   "outputs": [],
   "source": []
  }
 ],
 "metadata": {
  "kernelspec": {
   "display_name": "Python 3 (ipykernel)",
   "language": "python",
   "name": "python3"
  },
  "language_info": {
   "codemirror_mode": {
    "name": "ipython",
    "version": 3
   },
   "file_extension": ".py",
   "mimetype": "text/x-python",
   "name": "python",
   "nbconvert_exporter": "python",
   "pygments_lexer": "ipython3",
   "version": "3.7.10"
  }
 },
 "nbformat": 4,
 "nbformat_minor": 2
}
