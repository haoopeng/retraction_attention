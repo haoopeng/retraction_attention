{
 "cells": [
  {
   "cell_type": "code",
   "execution_count": 44,
   "metadata": {},
   "outputs": [],
   "source": [
    "import re\n",
    "import time\n",
    "import json\n",
    "import csv\n",
    "import random\n",
    "import tweepy\n",
    "import requests\n",
    "import pprint\n",
    "import numpy as np\n",
    "import pandas as pd\n",
    "import matplotlib.pyplot as plt\n",
    "from scipy.stats import chisquare\n",
    "from collections import defaultdict"
   ]
  },
  {
   "cell_type": "code",
   "execution_count": 45,
   "metadata": {},
   "outputs": [],
   "source": [
    "data_root = '/home/haopeng/Data/Retraction/'"
   ]
  },
  {
   "cell_type": "code",
   "execution_count": 70,
   "metadata": {},
   "outputs": [],
   "source": [
    "# Twitter API (v1) credentials\n",
    "\n",
    "consumer_key = 'xx'\n",
    "consumer_secret = 'xx'\n",
    "access_key = 'xx'\n",
    "access_secret = 'xx'\n",
    "\n",
    "\n",
    "auth = tweepy.OAuthHandler(consumer_key, consumer_secret)\n",
    "auth.set_access_token(access_key, access_secret)\n",
    "api = tweepy.API(auth, wait_on_rate_limit_notify = True)"
   ]
  },
  {
   "cell_type": "code",
   "execution_count": 71,
   "metadata": {},
   "outputs": [
    {
     "data": {
      "text/plain": [
       "Status(_api=<tweepy.api.API object at 0x7f945f9e6c50>, _json={'created_at': 'Sat Jan 13 18:52:28 +0000 2018', 'id': 952252021733842944, 'id_str': '952252021733842944', 'full_text': \"RT @tarlachmc: Let's hope the High Level Group will reach out accordingly &amp; nevertheless show a high level of appreciation of the importanc…\", 'truncated': False, 'display_text_range': [0, 144], 'entities': {'hashtags': [], 'symbols': [], 'user_mentions': [{'screen_name': 'tarlachmc', 'name': 'Tarlach McGonagle', 'id': 1292531509, 'id_str': '1292531509', 'indices': [3, 13]}], 'urls': []}, 'source': '<a href=\"http://twitter.com/download/iphone\" rel=\"nofollow\">Twitter for iPhone</a>', 'in_reply_to_status_id': None, 'in_reply_to_status_id_str': None, 'in_reply_to_user_id': None, 'in_reply_to_user_id_str': None, 'in_reply_to_screen_name': None, 'user': {'id': 306379904, 'id_str': '306379904', 'name': 'Irene Roche Laguna', 'screen_name': 'rochelag', 'location': '', 'description': 'Back to online, or digital, or information society services. In my purely personal capacity. Might retweet but not necessarily agree.', 'url': None, 'entities': {'description': {'urls': []}}, 'protected': False, 'followers_count': 380, 'friends_count': 258, 'listed_count': 22, 'created_at': 'Fri May 27 19:40:56 +0000 2011', 'favourites_count': 947, 'utc_offset': None, 'time_zone': None, 'geo_enabled': True, 'verified': False, 'statuses_count': 2001, 'lang': None, 'contributors_enabled': False, 'is_translator': False, 'is_translation_enabled': False, 'profile_background_color': 'C0DEED', 'profile_background_image_url': 'http://abs.twimg.com/images/themes/theme1/bg.png', 'profile_background_image_url_https': 'https://abs.twimg.com/images/themes/theme1/bg.png', 'profile_background_tile': False, 'profile_image_url': 'http://pbs.twimg.com/profile_images/1369551267727544320/lLj9YGRB_normal.jpg', 'profile_image_url_https': 'https://pbs.twimg.com/profile_images/1369551267727544320/lLj9YGRB_normal.jpg', 'profile_banner_url': 'https://pbs.twimg.com/profile_banners/306379904/1582203523', 'profile_link_color': '1DA1F2', 'profile_sidebar_border_color': 'C0DEED', 'profile_sidebar_fill_color': 'DDEEF6', 'profile_text_color': '333333', 'profile_use_background_image': True, 'has_extended_profile': False, 'default_profile': True, 'default_profile_image': False, 'following': False, 'follow_request_sent': False, 'notifications': False, 'translator_type': 'none'}, 'geo': None, 'coordinates': None, 'place': None, 'contributors': None, 'retweeted_status': {'created_at': 'Sat Jan 13 14:35:21 +0000 2018', 'id': 952187317724368897, 'id_str': '952187317724368897', 'full_text': \"Let's hope the High Level Group will reach out accordingly &amp; nevertheless show a high level of appreciation of the importance of the human rights dimension to #FakeNews, incl. freedom of expression issues. I've quickly sketched a few relevant issues here: https://t.co/aCbRmhHUYE https://t.co/EhHG8tIyZt\", 'truncated': False, 'display_text_range': [0, 283], 'entities': {'hashtags': [{'text': 'FakeNews', 'indices': [163, 172]}], 'symbols': [], 'user_mentions': [], 'urls': [{'url': 'https://t.co/aCbRmhHUYE', 'expanded_url': 'http://journals.sagepub.com/doi/full/10.1177/0924051917738685', 'display_url': 'journals.sagepub.com/doi/full/10.11…', 'indices': [260, 283]}, {'url': 'https://t.co/EhHG8tIyZt', 'expanded_url': 'https://twitter.com/davidakaye/status/951842927151529984', 'display_url': 'twitter.com/davidakaye/sta…', 'indices': [284, 307]}]}, 'source': '<a href=\"http://twitter.com\" rel=\"nofollow\">Twitter Web Client</a>', 'in_reply_to_status_id': None, 'in_reply_to_status_id_str': None, 'in_reply_to_user_id': None, 'in_reply_to_user_id_str': None, 'in_reply_to_screen_name': None, 'user': {'id': 1292531509, 'id_str': '1292531509', 'name': 'Tarlach McGonagle', 'screen_name': 'tarlachmc', 'location': 'Amsterdam/Leiden', 'description': 'Prof. media law & information society | human rights, freedom of expression & information, media law & policy. RTs ≠ endorsements.', 'url': 'https://t.co/gCppuSsB1p', 'entities': {'url': {'urls': [{'url': 'https://t.co/gCppuSsB1p', 'expanded_url': 'https://www.ivir.nl/employee/mcgonagle/', 'display_url': 'ivir.nl/employee/mcgon…', 'indices': [0, 23]}]}, 'description': {'urls': []}}, 'protected': False, 'followers_count': 1316, 'friends_count': 1577, 'listed_count': 32, 'created_at': 'Sat Mar 23 21:22:23 +0000 2013', 'favourites_count': 1029, 'utc_offset': None, 'time_zone': None, 'geo_enabled': False, 'verified': False, 'statuses_count': 2451, 'lang': None, 'contributors_enabled': False, 'is_translator': False, 'is_translation_enabled': False, 'profile_background_color': 'C0DEED', 'profile_background_image_url': 'http://abs.twimg.com/images/themes/theme1/bg.png', 'profile_background_image_url_https': 'https://abs.twimg.com/images/themes/theme1/bg.png', 'profile_background_tile': False, 'profile_image_url': 'http://pbs.twimg.com/profile_images/1097266173203439619/0loxJnRi_normal.png', 'profile_image_url_https': 'https://pbs.twimg.com/profile_images/1097266173203439619/0loxJnRi_normal.png', 'profile_banner_url': 'https://pbs.twimg.com/profile_banners/1292531509/1379713968', 'profile_link_color': '1DA1F2', 'profile_sidebar_border_color': 'C0DEED', 'profile_sidebar_fill_color': 'DDEEF6', 'profile_text_color': '333333', 'profile_use_background_image': True, 'has_extended_profile': False, 'default_profile': True, 'default_profile_image': False, 'following': False, 'follow_request_sent': False, 'notifications': False, 'translator_type': 'none'}, 'geo': None, 'coordinates': None, 'place': None, 'contributors': None, 'is_quote_status': True, 'retweet_count': 10, 'favorite_count': 12, 'favorited': False, 'retweeted': False, 'possibly_sensitive': False, 'possibly_sensitive_appealable': False, 'lang': 'en'}, 'is_quote_status': False, 'retweet_count': 10, 'favorite_count': 0, 'favorited': False, 'retweeted': False, 'lang': 'en'}, created_at=datetime.datetime(2018, 1, 13, 18, 52, 28), id=952252021733842944, id_str='952252021733842944', full_text=\"RT @tarlachmc: Let's hope the High Level Group will reach out accordingly &amp; nevertheless show a high level of appreciation of the importanc…\", truncated=False, display_text_range=[0, 144], entities={'hashtags': [], 'symbols': [], 'user_mentions': [{'screen_name': 'tarlachmc', 'name': 'Tarlach McGonagle', 'id': 1292531509, 'id_str': '1292531509', 'indices': [3, 13]}], 'urls': []}, source='Twitter for iPhone', source_url='http://twitter.com/download/iphone', in_reply_to_status_id=None, in_reply_to_status_id_str=None, in_reply_to_user_id=None, in_reply_to_user_id_str=None, in_reply_to_screen_name=None, author=User(_api=<tweepy.api.API object at 0x7f945f9e6c50>, _json={'id': 306379904, 'id_str': '306379904', 'name': 'Irene Roche Laguna', 'screen_name': 'rochelag', 'location': '', 'description': 'Back to online, or digital, or information society services. In my purely personal capacity. Might retweet but not necessarily agree.', 'url': None, 'entities': {'description': {'urls': []}}, 'protected': False, 'followers_count': 380, 'friends_count': 258, 'listed_count': 22, 'created_at': 'Fri May 27 19:40:56 +0000 2011', 'favourites_count': 947, 'utc_offset': None, 'time_zone': None, 'geo_enabled': True, 'verified': False, 'statuses_count': 2001, 'lang': None, 'contributors_enabled': False, 'is_translator': False, 'is_translation_enabled': False, 'profile_background_color': 'C0DEED', 'profile_background_image_url': 'http://abs.twimg.com/images/themes/theme1/bg.png', 'profile_background_image_url_https': 'https://abs.twimg.com/images/themes/theme1/bg.png', 'profile_background_tile': False, 'profile_image_url': 'http://pbs.twimg.com/profile_images/1369551267727544320/lLj9YGRB_normal.jpg', 'profile_image_url_https': 'https://pbs.twimg.com/profile_images/1369551267727544320/lLj9YGRB_normal.jpg', 'profile_banner_url': 'https://pbs.twimg.com/profile_banners/306379904/1582203523', 'profile_link_color': '1DA1F2', 'profile_sidebar_border_color': 'C0DEED', 'profile_sidebar_fill_color': 'DDEEF6', 'profile_text_color': '333333', 'profile_use_background_image': True, 'has_extended_profile': False, 'default_profile': True, 'default_profile_image': False, 'following': False, 'follow_request_sent': False, 'notifications': False, 'translator_type': 'none'}, id=306379904, id_str='306379904', name='Irene Roche Laguna', screen_name='rochelag', location='', description='Back to online, or digital, or information society services. In my purely personal capacity. Might retweet but not necessarily agree.', url=None, entities={'description': {'urls': []}}, protected=False, followers_count=380, friends_count=258, listed_count=22, created_at=datetime.datetime(2011, 5, 27, 19, 40, 56), favourites_count=947, utc_offset=None, time_zone=None, geo_enabled=True, verified=False, statuses_count=2001, lang=None, contributors_enabled=False, is_translator=False, is_translation_enabled=False, profile_background_color='C0DEED', profile_background_image_url='http://abs.twimg.com/images/themes/theme1/bg.png', profile_background_image_url_https='https://abs.twimg.com/images/themes/theme1/bg.png', profile_background_tile=False, profile_image_url='http://pbs.twimg.com/profile_images/1369551267727544320/lLj9YGRB_normal.jpg', profile_image_url_https='https://pbs.twimg.com/profile_images/1369551267727544320/lLj9YGRB_normal.jpg', profile_banner_url='https://pbs.twimg.com/profile_banners/306379904/1582203523', profile_link_color='1DA1F2', profile_sidebar_border_color='C0DEED', profile_sidebar_fill_color='DDEEF6', profile_text_color='333333', profile_use_background_image=True, has_extended_profile=False, default_profile=True, default_profile_image=False, following=False, follow_request_sent=False, notifications=False, translator_type='none'), user=User(_api=<tweepy.api.API object at 0x7f945f9e6c50>, _json={'id': 306379904, 'id_str': '306379904', 'name': 'Irene Roche Laguna', 'screen_name': 'rochelag', 'location': '', 'description': 'Back to online, or digital, or information society services. In my purely personal capacity. Might retweet but not necessarily agree.', 'url': None, 'entities': {'description': {'urls': []}}, 'protected': False, 'followers_count': 380, 'friends_count': 258, 'listed_count': 22, 'created_at': 'Fri May 27 19:40:56 +0000 2011', 'favourites_count': 947, 'utc_offset': None, 'time_zone': None, 'geo_enabled': True, 'verified': False, 'statuses_count': 2001, 'lang': None, 'contributors_enabled': False, 'is_translator': False, 'is_translation_enabled': False, 'profile_background_color': 'C0DEED', 'profile_background_image_url': 'http://abs.twimg.com/images/themes/theme1/bg.png', 'profile_background_image_url_https': 'https://abs.twimg.com/images/themes/theme1/bg.png', 'profile_background_tile': False, 'profile_image_url': 'http://pbs.twimg.com/profile_images/1369551267727544320/lLj9YGRB_normal.jpg', 'profile_image_url_https': 'https://pbs.twimg.com/profile_images/1369551267727544320/lLj9YGRB_normal.jpg', 'profile_banner_url': 'https://pbs.twimg.com/profile_banners/306379904/1582203523', 'profile_link_color': '1DA1F2', 'profile_sidebar_border_color': 'C0DEED', 'profile_sidebar_fill_color': 'DDEEF6', 'profile_text_color': '333333', 'profile_use_background_image': True, 'has_extended_profile': False, 'default_profile': True, 'default_profile_image': False, 'following': False, 'follow_request_sent': False, 'notifications': False, 'translator_type': 'none'}, id=306379904, id_str='306379904', name='Irene Roche Laguna', screen_name='rochelag', location='', description='Back to online, or digital, or information society services. In my purely personal capacity. Might retweet but not necessarily agree.', url=None, entities={'description': {'urls': []}}, protected=False, followers_count=380, friends_count=258, listed_count=22, created_at=datetime.datetime(2011, 5, 27, 19, 40, 56), favourites_count=947, utc_offset=None, time_zone=None, geo_enabled=True, verified=False, statuses_count=2001, lang=None, contributors_enabled=False, is_translator=False, is_translation_enabled=False, profile_background_color='C0DEED', profile_background_image_url='http://abs.twimg.com/images/themes/theme1/bg.png', profile_background_image_url_https='https://abs.twimg.com/images/themes/theme1/bg.png', profile_background_tile=False, profile_image_url='http://pbs.twimg.com/profile_images/1369551267727544320/lLj9YGRB_normal.jpg', profile_image_url_https='https://pbs.twimg.com/profile_images/1369551267727544320/lLj9YGRB_normal.jpg', profile_banner_url='https://pbs.twimg.com/profile_banners/306379904/1582203523', profile_link_color='1DA1F2', profile_sidebar_border_color='C0DEED', profile_sidebar_fill_color='DDEEF6', profile_text_color='333333', profile_use_background_image=True, has_extended_profile=False, default_profile=True, default_profile_image=False, following=False, follow_request_sent=False, notifications=False, translator_type='none'), geo=None, coordinates=None, place=None, contributors=None, retweeted_status=Status(_api=<tweepy.api.API object at 0x7f945f9e6c50>, _json={'created_at': 'Sat Jan 13 14:35:21 +0000 2018', 'id': 952187317724368897, 'id_str': '952187317724368897', 'full_text': \"Let's hope the High Level Group will reach out accordingly &amp; nevertheless show a high level of appreciation of the importance of the human rights dimension to #FakeNews, incl. freedom of expression issues. I've quickly sketched a few relevant issues here: https://t.co/aCbRmhHUYE https://t.co/EhHG8tIyZt\", 'truncated': False, 'display_text_range': [0, 283], 'entities': {'hashtags': [{'text': 'FakeNews', 'indices': [163, 172]}], 'symbols': [], 'user_mentions': [], 'urls': [{'url': 'https://t.co/aCbRmhHUYE', 'expanded_url': 'http://journals.sagepub.com/doi/full/10.1177/0924051917738685', 'display_url': 'journals.sagepub.com/doi/full/10.11…', 'indices': [260, 283]}, {'url': 'https://t.co/EhHG8tIyZt', 'expanded_url': 'https://twitter.com/davidakaye/status/951842927151529984', 'display_url': 'twitter.com/davidakaye/sta…', 'indices': [284, 307]}]}, 'source': '<a href=\"http://twitter.com\" rel=\"nofollow\">Twitter Web Client</a>', 'in_reply_to_status_id': None, 'in_reply_to_status_id_str': None, 'in_reply_to_user_id': None, 'in_reply_to_user_id_str': None, 'in_reply_to_screen_name': None, 'user': {'id': 1292531509, 'id_str': '1292531509', 'name': 'Tarlach McGonagle', 'screen_name': 'tarlachmc', 'location': 'Amsterdam/Leiden', 'description': 'Prof. media law & information society | human rights, freedom of expression & information, media law & policy. RTs ≠ endorsements.', 'url': 'https://t.co/gCppuSsB1p', 'entities': {'url': {'urls': [{'url': 'https://t.co/gCppuSsB1p', 'expanded_url': 'https://www.ivir.nl/employee/mcgonagle/', 'display_url': 'ivir.nl/employee/mcgon…', 'indices': [0, 23]}]}, 'description': {'urls': []}}, 'protected': False, 'followers_count': 1316, 'friends_count': 1577, 'listed_count': 32, 'created_at': 'Sat Mar 23 21:22:23 +0000 2013', 'favourites_count': 1029, 'utc_offset': None, 'time_zone': None, 'geo_enabled': False, 'verified': False, 'statuses_count': 2451, 'lang': None, 'contributors_enabled': False, 'is_translator': False, 'is_translation_enabled': False, 'profile_background_color': 'C0DEED', 'profile_background_image_url': 'http://abs.twimg.com/images/themes/theme1/bg.png', 'profile_background_image_url_https': 'https://abs.twimg.com/images/themes/theme1/bg.png', 'profile_background_tile': False, 'profile_image_url': 'http://pbs.twimg.com/profile_images/1097266173203439619/0loxJnRi_normal.png', 'profile_image_url_https': 'https://pbs.twimg.com/profile_images/1097266173203439619/0loxJnRi_normal.png', 'profile_banner_url': 'https://pbs.twimg.com/profile_banners/1292531509/1379713968', 'profile_link_color': '1DA1F2', 'profile_sidebar_border_color': 'C0DEED', 'profile_sidebar_fill_color': 'DDEEF6', 'profile_text_color': '333333', 'profile_use_background_image': True, 'has_extended_profile': False, 'default_profile': True, 'default_profile_image': False, 'following': False, 'follow_request_sent': False, 'notifications': False, 'translator_type': 'none'}, 'geo': None, 'coordinates': None, 'place': None, 'contributors': None, 'is_quote_status': True, 'retweet_count': 10, 'favorite_count': 12, 'favorited': False, 'retweeted': False, 'possibly_sensitive': False, 'possibly_sensitive_appealable': False, 'lang': 'en'}, created_at=datetime.datetime(2018, 1, 13, 14, 35, 21), id=952187317724368897, id_str='952187317724368897', full_text=\"Let's hope the High Level Group will reach out accordingly &amp; nevertheless show a high level of appreciation of the importance of the human rights dimension to #FakeNews, incl. freedom of expression issues. I've quickly sketched a few relevant issues here: https://t.co/aCbRmhHUYE https://t.co/EhHG8tIyZt\", truncated=False, display_text_range=[0, 283], entities={'hashtags': [{'text': 'FakeNews', 'indices': [163, 172]}], 'symbols': [], 'user_mentions': [], 'urls': [{'url': 'https://t.co/aCbRmhHUYE', 'expanded_url': 'http://journals.sagepub.com/doi/full/10.1177/0924051917738685', 'display_url': 'journals.sagepub.com/doi/full/10.11…', 'indices': [260, 283]}, {'url': 'https://t.co/EhHG8tIyZt', 'expanded_url': 'https://twitter.com/davidakaye/status/951842927151529984', 'display_url': 'twitter.com/davidakaye/sta…', 'indices': [284, 307]}]}, source='Twitter Web Client', source_url='http://twitter.com', in_reply_to_status_id=None, in_reply_to_status_id_str=None, in_reply_to_user_id=None, in_reply_to_user_id_str=None, in_reply_to_screen_name=None, author=User(_api=<tweepy.api.API object at 0x7f945f9e6c50>, _json={'id': 1292531509, 'id_str': '1292531509', 'name': 'Tarlach McGonagle', 'screen_name': 'tarlachmc', 'location': 'Amsterdam/Leiden', 'description': 'Prof. media law & information society | human rights, freedom of expression & information, media law & policy. RTs ≠ endorsements.', 'url': 'https://t.co/gCppuSsB1p', 'entities': {'url': {'urls': [{'url': 'https://t.co/gCppuSsB1p', 'expanded_url': 'https://www.ivir.nl/employee/mcgonagle/', 'display_url': 'ivir.nl/employee/mcgon…', 'indices': [0, 23]}]}, 'description': {'urls': []}}, 'protected': False, 'followers_count': 1316, 'friends_count': 1577, 'listed_count': 32, 'created_at': 'Sat Mar 23 21:22:23 +0000 2013', 'favourites_count': 1029, 'utc_offset': None, 'time_zone': None, 'geo_enabled': False, 'verified': False, 'statuses_count': 2451, 'lang': None, 'contributors_enabled': False, 'is_translator': False, 'is_translation_enabled': False, 'profile_background_color': 'C0DEED', 'profile_background_image_url': 'http://abs.twimg.com/images/themes/theme1/bg.png', 'profile_background_image_url_https': 'https://abs.twimg.com/images/themes/theme1/bg.png', 'profile_background_tile': False, 'profile_image_url': 'http://pbs.twimg.com/profile_images/1097266173203439619/0loxJnRi_normal.png', 'profile_image_url_https': 'https://pbs.twimg.com/profile_images/1097266173203439619/0loxJnRi_normal.png', 'profile_banner_url': 'https://pbs.twimg.com/profile_banners/1292531509/1379713968', 'profile_link_color': '1DA1F2', 'profile_sidebar_border_color': 'C0DEED', 'profile_sidebar_fill_color': 'DDEEF6', 'profile_text_color': '333333', 'profile_use_background_image': True, 'has_extended_profile': False, 'default_profile': True, 'default_profile_image': False, 'following': False, 'follow_request_sent': False, 'notifications': False, 'translator_type': 'none'}, id=1292531509, id_str='1292531509', name='Tarlach McGonagle', screen_name='tarlachmc', location='Amsterdam/Leiden', description='Prof. media law & information society | human rights, freedom of expression & information, media law & policy. RTs ≠ endorsements.', url='https://t.co/gCppuSsB1p', entities={'url': {'urls': [{'url': 'https://t.co/gCppuSsB1p', 'expanded_url': 'https://www.ivir.nl/employee/mcgonagle/', 'display_url': 'ivir.nl/employee/mcgon…', 'indices': [0, 23]}]}, 'description': {'urls': []}}, protected=False, followers_count=1316, friends_count=1577, listed_count=32, created_at=datetime.datetime(2013, 3, 23, 21, 22, 23), favourites_count=1029, utc_offset=None, time_zone=None, geo_enabled=False, verified=False, statuses_count=2451, lang=None, contributors_enabled=False, is_translator=False, is_translation_enabled=False, profile_background_color='C0DEED', profile_background_image_url='http://abs.twimg.com/images/themes/theme1/bg.png', profile_background_image_url_https='https://abs.twimg.com/images/themes/theme1/bg.png', profile_background_tile=False, profile_image_url='http://pbs.twimg.com/profile_images/1097266173203439619/0loxJnRi_normal.png', profile_image_url_https='https://pbs.twimg.com/profile_images/1097266173203439619/0loxJnRi_normal.png', profile_banner_url='https://pbs.twimg.com/profile_banners/1292531509/1379713968', profile_link_color='1DA1F2', profile_sidebar_border_color='C0DEED', profile_sidebar_fill_color='DDEEF6', profile_text_color='333333', profile_use_background_image=True, has_extended_profile=False, default_profile=True, default_profile_image=False, following=False, follow_request_sent=False, notifications=False, translator_type='none'), user=User(_api=<tweepy.api.API object at 0x7f945f9e6c50>, _json={'id': 1292531509, 'id_str': '1292531509', 'name': 'Tarlach McGonagle', 'screen_name': 'tarlachmc', 'location': 'Amsterdam/Leiden', 'description': 'Prof. media law & information society | human rights, freedom of expression & information, media law & policy. RTs ≠ endorsements.', 'url': 'https://t.co/gCppuSsB1p', 'entities': {'url': {'urls': [{'url': 'https://t.co/gCppuSsB1p', 'expanded_url': 'https://www.ivir.nl/employee/mcgonagle/', 'display_url': 'ivir.nl/employee/mcgon…', 'indices': [0, 23]}]}, 'description': {'urls': []}}, 'protected': False, 'followers_count': 1316, 'friends_count': 1577, 'listed_count': 32, 'created_at': 'Sat Mar 23 21:22:23 +0000 2013', 'favourites_count': 1029, 'utc_offset': None, 'time_zone': None, 'geo_enabled': False, 'verified': False, 'statuses_count': 2451, 'lang': None, 'contributors_enabled': False, 'is_translator': False, 'is_translation_enabled': False, 'profile_background_color': 'C0DEED', 'profile_background_image_url': 'http://abs.twimg.com/images/themes/theme1/bg.png', 'profile_background_image_url_https': 'https://abs.twimg.com/images/themes/theme1/bg.png', 'profile_background_tile': False, 'profile_image_url': 'http://pbs.twimg.com/profile_images/1097266173203439619/0loxJnRi_normal.png', 'profile_image_url_https': 'https://pbs.twimg.com/profile_images/1097266173203439619/0loxJnRi_normal.png', 'profile_banner_url': 'https://pbs.twimg.com/profile_banners/1292531509/1379713968', 'profile_link_color': '1DA1F2', 'profile_sidebar_border_color': 'C0DEED', 'profile_sidebar_fill_color': 'DDEEF6', 'profile_text_color': '333333', 'profile_use_background_image': True, 'has_extended_profile': False, 'default_profile': True, 'default_profile_image': False, 'following': False, 'follow_request_sent': False, 'notifications': False, 'translator_type': 'none'}, id=1292531509, id_str='1292531509', name='Tarlach McGonagle', screen_name='tarlachmc', location='Amsterdam/Leiden', description='Prof. media law & information society | human rights, freedom of expression & information, media law & policy. RTs ≠ endorsements.', url='https://t.co/gCppuSsB1p', entities={'url': {'urls': [{'url': 'https://t.co/gCppuSsB1p', 'expanded_url': 'https://www.ivir.nl/employee/mcgonagle/', 'display_url': 'ivir.nl/employee/mcgon…', 'indices': [0, 23]}]}, 'description': {'urls': []}}, protected=False, followers_count=1316, friends_count=1577, listed_count=32, created_at=datetime.datetime(2013, 3, 23, 21, 22, 23), favourites_count=1029, utc_offset=None, time_zone=None, geo_enabled=False, verified=False, statuses_count=2451, lang=None, contributors_enabled=False, is_translator=False, is_translation_enabled=False, profile_background_color='C0DEED', profile_background_image_url='http://abs.twimg.com/images/themes/theme1/bg.png', profile_background_image_url_https='https://abs.twimg.com/images/themes/theme1/bg.png', profile_background_tile=False, profile_image_url='http://pbs.twimg.com/profile_images/1097266173203439619/0loxJnRi_normal.png', profile_image_url_https='https://pbs.twimg.com/profile_images/1097266173203439619/0loxJnRi_normal.png', profile_banner_url='https://pbs.twimg.com/profile_banners/1292531509/1379713968', profile_link_color='1DA1F2', profile_sidebar_border_color='C0DEED', profile_sidebar_fill_color='DDEEF6', profile_text_color='333333', profile_use_background_image=True, has_extended_profile=False, default_profile=True, default_profile_image=False, following=False, follow_request_sent=False, notifications=False, translator_type='none'), geo=None, coordinates=None, place=None, contributors=None, is_quote_status=True, retweet_count=10, favorite_count=12, favorited=False, retweeted=False, possibly_sensitive=False, possibly_sensitive_appealable=False, lang='en'), is_quote_status=False, retweet_count=10, favorite_count=0, favorited=False, retweeted=False, lang='en')"
      ]
     },
     "execution_count": 71,
     "metadata": {},
     "output_type": "execute_result"
    }
   ],
   "source": [
    "api.get_status('952252021733842944', tweet_mode = \"extended\")"
   ]
  },
  {
   "cell_type": "markdown",
   "metadata": {},
   "source": [
    "## Get tweets (retract + control)"
   ]
  },
  {
   "cell_type": "code",
   "execution_count": 50,
   "metadata": {},
   "outputs": [],
   "source": [
    "tweet_ids = set()\n",
    "\n",
    "with open(data_root+\"retraction_altmetric.json\", 'r') as ffile:\n",
    "    for row in ffile:\n",
    "        paper = json.loads(row)\n",
    "        if 'posts' in paper:\n",
    "            if 'twitter' in paper['posts']:\n",
    "                for tw in paper['posts']['twitter']:\n",
    "                    tweet_ids.add(tw['tweet_id'])\n",
    "\n",
    "# Can skip the code below before getting the matched control papers.\n",
    "with open(data_root+\"control_alt_papers.json\", 'r') as ffile:\n",
    "    for row in ffile:\n",
    "        paper = json.loads(row)\n",
    "        if 'posts' in paper:\n",
    "            if 'twitter' in paper['posts']:\n",
    "                for tw in paper['posts']['twitter']:\n",
    "                    tweet_ids.add(tw['tweet_id'])"
   ]
  },
  {
   "cell_type": "code",
   "execution_count": 51,
   "metadata": {
    "scrolled": false
   },
   "outputs": [
    {
     "data": {
      "text/plain": [
       "215986"
      ]
     },
     "execution_count": 51,
     "metadata": {},
     "output_type": "execute_result"
    }
   ],
   "source": [
    "len(tweet_ids)"
   ]
  },
  {
   "cell_type": "code",
   "execution_count": 69,
   "metadata": {
    "scrolled": true
   },
   "outputs": [
    {
     "name": "stdout",
     "output_type": "stream",
     "text": [
      "processed 10000/215986 tweets\n",
      "processed 20000/215986 tweets\n",
      "processed 30000/215986 tweets\n",
      "processed 40000/215986 tweets\n",
      "processed 50000/215986 tweets\n",
      "processed 60000/215986 tweets\n",
      "processed 70000/215986 tweets\n",
      "processed 80000/215986 tweets\n",
      "processed 90000/215986 tweets\n",
      "processed 100000/215986 tweets\n",
      "processed 110000/215986 tweets\n",
      "processed 120000/215986 tweets\n",
      "processed 130000/215986 tweets\n",
      "processed 140000/215986 tweets\n",
      "processed 150000/215986 tweets\n",
      "processed 160000/215986 tweets\n",
      "processed 170000/215986 tweets\n",
      "processed 180000/215986 tweets\n",
      "processed 190000/215986 tweets\n",
      "processed 200000/215986 tweets\n",
      "processed 210000/215986 tweets\n"
     ]
    }
   ],
   "source": [
    "i = 0\n",
    "crawl_stat = {}\n",
    "\n",
    "with open(data_root+'tweets.json', 'a') as fout:\n",
    "    for tid in tweet_ids:\n",
    "        i += 1\n",
    "        try:\n",
    "            status = api.get_status(tid, tweet_mode = \"extended\")\n",
    "            fout.write(json.dumps(status._json)+'\\n')\n",
    "        except tweepy.RateLimitError:\n",
    "            time.sleep(15 * 60)\n",
    "        except tweepy.TweepError as e:\n",
    "            crawl_stat[tid] = str(e)\n",
    "            pass\n",
    "        if i%10000 == 0:\n",
    "            print('processed %d/%d tweets'%(i, len(tweet_ids)))"
   ]
  },
  {
   "cell_type": "code",
   "execution_count": 1,
   "metadata": {},
   "outputs": [
    {
     "name": "stdout",
     "output_type": "stream",
     "text": [
      "194643 /home/haopeng/Data/Retraction/tweets.json\r\n"
     ]
    }
   ],
   "source": [
    "! wc -l /home/haopeng/Data/Retraction/tweets.json"
   ]
  },
  {
   "cell_type": "code",
   "execution_count": 2,
   "metadata": {},
   "outputs": [
    {
     "data": {
      "text/plain": [
       "0.9011834100358357"
      ]
     },
     "execution_count": 2,
     "metadata": {},
     "output_type": "execute_result"
    }
   ],
   "source": [
    "194643 / 215986"
   ]
  },
  {
   "cell_type": "code",
   "execution_count": 41,
   "metadata": {},
   "outputs": [],
   "source": [
    "status = api.get_status('1058127367498010625', tweet_mode = \"extended\")"
   ]
  },
  {
   "cell_type": "code",
   "execution_count": 43,
   "metadata": {
    "scrolled": true
   },
   "outputs": [
    {
     "data": {
      "text/plain": [
       "'RT @Mark_A_Lunn: Why am I not surprised?\\n\\nIt seems every new study says \"faster than we thought\" or \"worse than we thought.\"\\n\\nFor those of…'"
      ]
     },
     "execution_count": 43,
     "metadata": {},
     "output_type": "execute_result"
    }
   ],
   "source": [
    "# still truncated ...\n",
    "status._json['full_text']"
   ]
  },
  {
   "cell_type": "code",
   "execution_count": null,
   "metadata": {},
   "outputs": [],
   "source": []
  },
  {
   "cell_type": "markdown",
   "metadata": {},
   "source": [
    "## Get all tweets indexed in Altmetric data"
   ]
  },
  {
   "cell_type": "code",
   "execution_count": 27,
   "metadata": {
    "scrolled": false
   },
   "outputs": [
    {
     "data": {
      "text/plain": [
       "85411606"
      ]
     },
     "execution_count": 27,
     "metadata": {},
     "output_type": "execute_result"
    }
   ],
   "source": [
    "# code to read all tids from Alt db is deleted.\n",
    "# \n",
    "# 85411606 tids in total, which contains 14412 tids that are not numeric string.\n",
    "# e.g., '1.5558470649316E+17', '1.5464891076012E+17', '1.6227338710274E+17'\n",
    "len(all_tids_alt)"
   ]
  },
  {
   "cell_type": "markdown",
   "metadata": {},
   "source": [
    "Collecting process omitted here (using Twitter Academic API)"
   ]
  },
  {
   "cell_type": "code",
   "execution_count": 50,
   "metadata": {},
   "outputs": [],
   "source": [
    "tid_date_all = {}\n",
    "\n",
    "with open(data_root+'second_match/tweets_clean.json', 'r') as ifile:\n",
    "    for line in ifile:\n",
    "        line = json.loads(line)\n",
    "        tid, tdate = line['id_str'], line['created_at']\n",
    "        tid_date_all[tid] = datetime.strptime(tdate, '%a %b %d %H:%M:%S +0000 %Y')#.strftime(\"%Y-%m-%d\")"
   ]
  },
  {
   "cell_type": "code",
   "execution_count": 61,
   "metadata": {},
   "outputs": [
    {
     "data": {
      "text/plain": [
       "77497304"
      ]
     },
     "execution_count": 61,
     "metadata": {},
     "output_type": "execute_result"
    }
   ],
   "source": [
    "len(tid_date_all)"
   ]
  },
  {
   "cell_type": "code",
   "execution_count": null,
   "metadata": {},
   "outputs": [],
   "source": []
  }
 ],
 "metadata": {
  "kernelspec": {
   "display_name": "Python 3 (ipykernel)",
   "language": "python",
   "name": "python3"
  },
  "language_info": {
   "codemirror_mode": {
    "name": "ipython",
    "version": 3
   },
   "file_extension": ".py",
   "mimetype": "text/x-python",
   "name": "python",
   "nbconvert_exporter": "python",
   "pygments_lexer": "ipython3",
   "version": "3.7.10"
  }
 },
 "nbformat": 4,
 "nbformat_minor": 2
}
